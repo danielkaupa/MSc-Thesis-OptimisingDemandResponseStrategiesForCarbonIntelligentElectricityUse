{
 "cells": [
  {
   "cell_type": "markdown",
   "id": "6c6a46a0",
   "metadata": {},
   "source": [
    "# Optimising Demand Response Strategies for Carbon Intelligent Load Shifting"
   ]
  },
  {
   "cell_type": "markdown",
   "id": "22e56c5d",
   "metadata": {},
   "source": [
    "# Processing ERA5 Land Data"
   ]
  },
  {
   "cell_type": "markdown",
   "id": "fbbcc925",
   "metadata": {},
   "source": [
    "**NOTEBOOK PURPOSE(S):**\n",
    "* Process ERA5 land data downloaded from the hitachi database\n",
    "\n",
    "**LIMITATIONS:**\n",
    "* This notebook is designed to work with the ERA5 land data downloaded from the hitachi database\n",
    "* It assumes the data is in the correct format and contains the necessary columns for processing\n",
    "\n",
    "**NOTEBOOK INPUT** \n",
    "* weather_20250714_1401.parquet\n",
    "\n",
    "\n",
    "**NOTEBOOK OUTPUTS:**\n",
    "* Primary output:\n",
    "    * weather_20250714_1401_processed.parquet\n",
    "* Intermediate outputs:\n",
    "    * weather_20250714_1401_step1.parquet\n",
    "    * weather_20250714_1401_step2.parquet\n",
    "    * weather_20250714_1401_step3.parquet\n",
    "    * weather_20250714_1401_step4.parquet\n",
    "    * (note that these are deleted at the end of the notebook)\n",
    "\n",
    "    "
   ]
  },
  {
   "cell_type": "markdown",
   "id": "6b3a7138",
   "metadata": {},
   "source": [
    "### Importing Libraries"
   ]
  },
  {
   "cell_type": "code",
   "execution_count": 1,
   "id": "96dc3d65",
   "metadata": {},
   "outputs": [],
   "source": [
    "%matplotlib inline\n",
    "\n",
    "# ────────────────────────────────────────────────────────────────────────────\n",
    "# Data Manipulation & Analysis\n",
    "# ─────────────────────────────────────────────────────────────────────────────\n",
    "import pandas as pd\n",
    "import polars as pl\n",
    "from functools import reduce\n",
    "from typing import List\n",
    "\n",
    "\n",
    "# ─────────────────────────────────────────────────────────────────────────────\n",
    "# Geospatial Data Handling\n",
    "# ─────────────────────────────────────────────────────────────────────────────\n",
    "from shapely.wkb import loads\n",
    "\n",
    "# ─────────────────────────────────────────────────────────────────────────────\n",
    "# Visualization\n",
    "# ─────────────────────────────────────────────────────────────────────────────\n",
    "import matplotlib.pyplot as plt\n",
    "import matplotlib.ticker as ticker\n",
    "import seaborn as sns\n",
    "\n",
    "# ─────────────────────────────────────────────────────────────────────────────\n",
    "# Notebook/Display Tools\n",
    "# ─────────────────────────────────────────────────────────────────────────────\n",
    "from IPython.display import display\n",
    "\n",
    "# ─────────────────────────────────────────────────────────────────────────────\n",
    "# System / Miscellaneous\n",
    "# ─────────────────────────────────────────────────────────────────────────────#\n",
    "import os\n",
    "import calendar\n",
    "import binascii\n",
    "import re\n",
    "from datetime import date\n",
    "from zoneinfo import ZoneInfo\n",
    "from typing import Optional, Union"
   ]
  },
  {
   "cell_type": "markdown",
   "id": "3180a566",
   "metadata": {},
   "source": [
    "## Loading Data from Local Storage"
   ]
  },
  {
   "cell_type": "code",
   "execution_count": 2,
   "id": "e880cf7a",
   "metadata": {},
   "outputs": [
    {
     "name": "stdout",
     "output_type": "stream",
     "text": [
      "------------------------------------------------------------------------------------------------------------------------\n",
      "Current Working Directory and contents:\n",
      "------------------------------------------------------------------------------------------------------------------------\n",
      "\n",
      "Directory: /Users/Daniel/Desktop/IRP_WORK_UPDATED.nosync/new_repo/MSc-Thesis-OptimisingDemandResponseStrategiesForCarbonIntelligentElectricityUse/code_and_analysis/jupyter_notebooks\n",
      "Subdirectories: []\n",
      "----------------------------------------\n",
      "-> File: .DS_Store\n",
      "-> File: marginal_emissions_data_prep.ipynb\n",
      "-> File: marginal_emissions_model_development.ipynb\n",
      "-> File: step1_hitachi_data_retrieval.ipynb\n",
      "-> File: step2_initial_data_analysis.ipynb\n",
      "-> File: step2_investigating_data_size_and_types.ipynb\n",
      "-> File: step2_investigating_era5_world_data.ipynb\n",
      "-> File: step3_combining_era5_datasets.ipynb\n",
      "-> File: step3_combining_grid_and_weather_data.ipynb\n",
      "-> File: step3_processing_era5_land_data.ipynb\n",
      "-> File: step3_processing_era5_world_data.ipynb\n",
      "-> File: step3_processing_grid_readings_data.ipynb\n",
      "-> File: step4_additional_model_development.ipynb\n",
      "-> File: step4_marginal_emissions_binning_models.ipynb\n",
      "-> File: step4_marginal_emissions_eda.ipynb\n",
      "-> File: step4_marginal_emissions_model_exploration.ipynb\n",
      "-> File: step5_dev_models_revamp.ipynb\n",
      "-> File: step5_developing_optimisation_models.ipynb\n",
      "-> File: step5_joining_customer_meter_emissions_test.ipynb\n",
      "-> File: step6_emission_factors_analysis.ipynb\n",
      "-> File: step6_optimisation_results_analysis.ipynb\n"
     ]
    }
   ],
   "source": [
    "cwd = os.getcwd()\n",
    "print(\"-\"*120)\n",
    "print(\"Current Working Directory and contents:\\n\"+\"-\"*120)\n",
    "for root, dirs, files in os.walk(cwd):\n",
    "    print(f\"\\nDirectory: {root}\")\n",
    "    print(f\"Subdirectories: {dirs}\\n\"+ \"-\"*40)\n",
    "    for file in sorted(files):\n",
    "        print(f\"-> File: {file}\")\n"
   ]
  },
  {
   "cell_type": "markdown",
   "id": "0326957d",
   "metadata": {},
   "source": [
    "### Defining File Paths"
   ]
  },
  {
   "cell_type": "code",
   "execution_count": 6,
   "id": "cb99d7af",
   "metadata": {},
   "outputs": [],
   "source": [
    "# Reminder of data directory structure and contents\n",
    "root_directory = os.path.join('..', '..')\n",
    "base_data_directory = os.path.join(root_directory, \"data\")\n",
    "hitachi_data_directory = os.path.join(base_data_directory, 'hitachi')\n"
   ]
  },
  {
   "cell_type": "code",
   "execution_count": 7,
   "id": "eef18020",
   "metadata": {},
   "outputs": [
    {
     "name": "stdout",
     "output_type": "stream",
     "text": [
      "------------------------------------------------------------------------------------------------------------------------\n",
      "[hitachi_data_directory] and contents:\n",
      "------------------------------------------------------------------------------------------------------------------------\n",
      "\n",
      "Directory: ../../data/hitachi\n",
      "Subdirectories: ['meter_primary_files']\n",
      "----------------------------------------\n",
      "-> File: .DS_Store\n",
      "-> File: customers_20250714_1401.parquet\n",
      "-> File: grid_readings_20250714_1401.parquet\n",
      "-> File: grid_readings_20250714_1401_processed.parquet\n",
      "-> File: grid_readings_20250714_1401_processed_half_hourly.parquet\n",
      "-> File: meter_readings_20250701_1318.parquet\n",
      "-> File: weather_20250714_1401.parquet\n",
      "-> File: weather_20250714_1401_processed.parquet\n",
      "-> File: weather_and_grid_data_half-hourly_20250714_1401.parquet\n",
      "-> File: weather_data_combined_20250714_1401.parquet\n",
      "\n",
      "Directory: ../../data/hitachi/meter_primary_files\n",
      "Subdirectories: []\n",
      "----------------------------------------\n",
      "-> File: .DS_Store\n",
      "-> File: meter_readings_2021_20250714_2015.parquet\n",
      "-> File: meter_readings_2021_20250714_2015_formatted.parquet\n",
      "-> File: meter_readings_2021_Q4_20250714_2015_formatted.parquet\n",
      "-> File: meter_readings_2022_20250714_2324.parquet\n",
      "-> File: meter_readings_2022_20250714_2324_formatted.parquet\n",
      "-> File: meter_readings_2022_Q1_20250714_2324_formatted.parquet\n",
      "-> File: meter_readings_2022_Q2_20250714_2324_formatted.parquet\n",
      "-> File: meter_readings_2022_Q3_20250714_2324_formatted.parquet\n",
      "-> File: meter_readings_2022_Q4_20250714_2324_formatted.parquet\n",
      "-> File: meter_readings_2023_20250714_2039.parquet\n",
      "-> File: meter_readings_2023_20250714_2039_formatted.parquet\n",
      "-> File: meter_readings_2023_Q1_20250714_2039_formatted.parquet\n",
      "-> File: meter_readings_all_years_20250714_formatted.parquet\n",
      "-> File: meter_readings_delhi_2021_20250714_2015_formatted.parquet\n",
      "-> File: meter_readings_delhi_2021_Q4_20250714_2015_formatted.parquet\n",
      "-> File: meter_readings_delhi_2022_20250714_2324_formatted.parquet\n",
      "-> File: meter_readings_delhi_2022_Q1_20250714_2324_formatted.parquet\n",
      "-> File: meter_readings_delhi_2022_Q2_20250714_2324_formatted.parquet\n",
      "-> File: meter_readings_delhi_2022_Q3_20250714_2324_formatted.parquet\n",
      "-> File: meter_readings_mumbai_2022_20250714_2324_formatted.parquet\n",
      "-> File: meter_readings_mumbai_2022_Q3_20250714_2324_formatted.parquet\n",
      "-> File: meter_readings_mumbai_2022_Q4_20250714_2324_formatted.parquet\n",
      "-> File: meter_readings_mumbai_2023_20250714_2039_formatted.parquet\n",
      "-> File: meter_readings_mumbai_2023_Q1_20250714_2039_formatted.parquet\n"
     ]
    }
   ],
   "source": [
    "print(\"-\"*120)\n",
    "print(\"[hitachi_data_directory] and contents:\\n\"+\"-\"*120)\n",
    "for root, dirs, files in os.walk(hitachi_data_directory):\n",
    "    print(f\"\\nDirectory: {root}\")\n",
    "    print(f\"Subdirectories: {dirs}\\n\"+ \"-\"*40)\n",
    "    for file in sorted(files):\n",
    "        print(f\"-> File: {file}\")\n"
   ]
  },
  {
   "cell_type": "code",
   "execution_count": 8,
   "id": "043154f4",
   "metadata": {},
   "outputs": [],
   "source": [
    "# ------------------------- Filename & Filepath -------------------------\n",
    "\n",
    "weather_filename = \"weather_20250714_1401\"\n",
    "weather_filepath = os.path.join(hitachi_data_directory, weather_filename + \".parquet\")\n",
    "\n",
    "# we'll also set up a list to store temporary filepaths for different processing steps\n",
    "weather_processing_filepaths = []"
   ]
  },
  {
   "cell_type": "code",
   "execution_count": 9,
   "id": "b58e130d",
   "metadata": {},
   "outputs": [],
   "source": [
    "weather_data_pldf = pl.read_parquet(weather_filepath)"
   ]
  },
  {
   "cell_type": "markdown",
   "id": "244b9aa2",
   "metadata": {},
   "source": [
    "## Data Processing"
   ]
  },
  {
   "cell_type": "code",
   "execution_count": 10,
   "id": "fe7f3551",
   "metadata": {},
   "outputs": [
    {
     "name": "stdout",
     "output_type": "stream",
     "text": [
      "\n",
      "------------------------------------------------------------------------------------------------------------------------\n",
      "First few rows of weather data:\n",
      "------------------------------------------------------------------------------------------------------------------------\n"
     ]
    },
    {
     "data": {
      "text/html": [
       "<div><style>\n",
       ".dataframe > thead > tr,\n",
       ".dataframe > tbody > tr {\n",
       "  text-align: right;\n",
       "  white-space: pre-wrap;\n",
       "}\n",
       "</style>\n",
       "<small>shape: (5, 9)</small><table border=\"1\" class=\"dataframe\"><thead><tr><th>timestamp</th><th>wind_speed</th><th>wind_direction</th><th>temperature</th><th>city</th><th>precipitation</th><th>location</th><th>surface_net_solar_radiation</th><th>surface_solar_radiation_downwards</th></tr><tr><td>datetime[μs]</td><td>decimal[38,18]</td><td>decimal[38,20]</td><td>decimal[38,15]</td><td>str</td><td>decimal[38,28]</td><td>str</td><td>decimal[38,17]</td><td>decimal[38,17]</td></tr></thead><tbody><tr><td>2024-12-13 13:00:00</td><td>8.013575020999754000</td><td>105.09231811866465000000</td><td>15.975219726562500</td><td>&quot;delhi&quot;</td><td>0.0000000000000000000000000000</td><td>&quot;0101000020E6100000F6285C8FC255…</td><td>12296608.00000000000000000</td><td>14926616.00000000000000000</td></tr><tr><td>2024-12-13 14:00:00</td><td>8.289883957905610000</td><td>110.72614327536141000000</td><td>14.646026611328125</td><td>&quot;delhi&quot;</td><td>0.0000000000000000000000000000</td><td>&quot;0101000020E6100000F6285C8FC235…</td><td>12108108.00000000000000000</td><td>14736050.00000000000000000</td></tr><tr><td>2024-12-13 14:00:00</td><td>8.336890954411203000</td><td>110.27725102589554000000</td><td>14.629241943359375</td><td>&quot;delhi&quot;</td><td>0.0000000000000000000000000000</td><td>&quot;0101000020E61000005C8FC2F5283C…</td><td>12149601.00000000000000000</td><td>14737817.00000000000000000</td></tr><tr><td>2024-12-13 14:00:00</td><td>8.403726468287198000</td><td>109.70666556656998000000</td><td>14.623779296875000</td><td>&quot;delhi&quot;</td><td>0.0000000000000000000000000000</td><td>&quot;0101000020E6100000C2F5285C8F42…</td><td>12240716.00000000000000000</td><td>14738703.00000000000000000</td></tr><tr><td>2024-12-13 14:00:00</td><td>8.454637190808407000</td><td>109.04352821446052000000</td><td>14.611297607421875</td><td>&quot;delhi&quot;</td><td>0.0000000000000000000000000000</td><td>&quot;0101000020E6100000285C8FC2F548…</td><td>12278334.00000000000000000</td><td>14740205.00000000000000000</td></tr></tbody></table></div>"
      ],
      "text/plain": [
       "shape: (5, 9)\n",
       "┌───────────┬───────────┬───────────┬───────────┬───┬───────────┬───────────┬───────────┬──────────┐\n",
       "│ timestamp ┆ wind_spee ┆ wind_dire ┆ temperatu ┆ … ┆ precipita ┆ location  ┆ surface_n ┆ surface_ │\n",
       "│ ---       ┆ d         ┆ ction     ┆ re        ┆   ┆ tion      ┆ ---       ┆ et_solar_ ┆ solar_ra │\n",
       "│ datetime[ ┆ ---       ┆ ---       ┆ ---       ┆   ┆ ---       ┆ str       ┆ radiation ┆ diation_ │\n",
       "│ μs]       ┆ decimal[3 ┆ decimal[3 ┆ decimal[3 ┆   ┆ decimal[3 ┆           ┆ ---       ┆ downwa…  │\n",
       "│           ┆ 8,18]     ┆ 8,20]     ┆ 8,15]     ┆   ┆ 8,28]     ┆           ┆ decimal[3 ┆ ---      │\n",
       "│           ┆           ┆           ┆           ┆   ┆           ┆           ┆ 8,17]     ┆ decimal[ │\n",
       "│           ┆           ┆           ┆           ┆   ┆           ┆           ┆           ┆ 38,17]   │\n",
       "╞═══════════╪═══════════╪═══════════╪═══════════╪═══╪═══════════╪═══════════╪═══════════╪══════════╡\n",
       "│ 2024-12-1 ┆ 8.0135750 ┆ 105.09231 ┆ 15.975219 ┆ … ┆ 0.0000000 ┆ 010100002 ┆ 12296608. ┆ 14926616 │\n",
       "│ 3         ┆ 209997540 ┆ 811866465 ┆ 726562500 ┆   ┆ 000000000 ┆ 0E6100000 ┆ 000000000 ┆ .0000000 │\n",
       "│ 13:00:00  ┆ 00        ┆ 000000    ┆           ┆   ┆ 000000000 ┆ F6285C8FC ┆ 00000000  ┆ 00000000 │\n",
       "│           ┆           ┆           ┆           ┆   ┆ 000       ┆ 255…      ┆           ┆ 00       │\n",
       "│ 2024-12-1 ┆ 8.2898839 ┆ 110.72614 ┆ 14.646026 ┆ … ┆ 0.0000000 ┆ 010100002 ┆ 12108108. ┆ 14736050 │\n",
       "│ 3         ┆ 579056100 ┆ 327536141 ┆ 611328125 ┆   ┆ 000000000 ┆ 0E6100000 ┆ 000000000 ┆ .0000000 │\n",
       "│ 14:00:00  ┆ 00        ┆ 000000    ┆           ┆   ┆ 000000000 ┆ F6285C8FC ┆ 00000000  ┆ 00000000 │\n",
       "│           ┆           ┆           ┆           ┆   ┆ 000       ┆ 235…      ┆           ┆ 00       │\n",
       "│ 2024-12-1 ┆ 8.3368909 ┆ 110.27725 ┆ 14.629241 ┆ … ┆ 0.0000000 ┆ 010100002 ┆ 12149601. ┆ 14737817 │\n",
       "│ 3         ┆ 544112030 ┆ 102589554 ┆ 943359375 ┆   ┆ 000000000 ┆ 0E6100000 ┆ 000000000 ┆ .0000000 │\n",
       "│ 14:00:00  ┆ 00        ┆ 000000    ┆           ┆   ┆ 000000000 ┆ 5C8FC2F52 ┆ 00000000  ┆ 00000000 │\n",
       "│           ┆           ┆           ┆           ┆   ┆ 000       ┆ 83C…      ┆           ┆ 00       │\n",
       "│ 2024-12-1 ┆ 8.4037264 ┆ 109.70666 ┆ 14.623779 ┆ … ┆ 0.0000000 ┆ 010100002 ┆ 12240716. ┆ 14738703 │\n",
       "│ 3         ┆ 682871980 ┆ 556656998 ┆ 296875000 ┆   ┆ 000000000 ┆ 0E6100000 ┆ 000000000 ┆ .0000000 │\n",
       "│ 14:00:00  ┆ 00        ┆ 000000    ┆           ┆   ┆ 000000000 ┆ C2F5285C8 ┆ 00000000  ┆ 00000000 │\n",
       "│           ┆           ┆           ┆           ┆   ┆ 000       ┆ F42…      ┆           ┆ 00       │\n",
       "│ 2024-12-1 ┆ 8.4546371 ┆ 109.04352 ┆ 14.611297 ┆ … ┆ 0.0000000 ┆ 010100002 ┆ 12278334. ┆ 14740205 │\n",
       "│ 3         ┆ 908084070 ┆ 821446052 ┆ 607421875 ┆   ┆ 000000000 ┆ 0E6100000 ┆ 000000000 ┆ .0000000 │\n",
       "│ 14:00:00  ┆ 00        ┆ 000000    ┆           ┆   ┆ 000000000 ┆ 285C8FC2F ┆ 00000000  ┆ 00000000 │\n",
       "│           ┆           ┆           ┆           ┆   ┆ 000       ┆ 548…      ┆           ┆ 00       │\n",
       "└───────────┴───────────┴───────────┴───────────┴───┴───────────┴───────────┴───────────┴──────────┘"
      ]
     },
     "metadata": {},
     "output_type": "display_data"
    },
    {
     "name": "stdout",
     "output_type": "stream",
     "text": [
      "\n",
      "------------------------------------------------------------------------------------------------------------------------\n",
      "Descriptive statistics of weather data:\n",
      "------------------------------------------------------------------------------------------------------------------------\n"
     ]
    },
    {
     "data": {
      "text/html": [
       "<div><style>\n",
       ".dataframe > thead > tr,\n",
       ".dataframe > tbody > tr {\n",
       "  text-align: right;\n",
       "  white-space: pre-wrap;\n",
       "}\n",
       "</style>\n",
       "<small>shape: (9, 10)</small><table border=\"1\" class=\"dataframe\"><thead><tr><th>statistic</th><th>timestamp</th><th>wind_speed</th><th>wind_direction</th><th>temperature</th><th>city</th><th>precipitation</th><th>location</th><th>surface_net_solar_radiation</th><th>surface_solar_radiation_downwards</th></tr><tr><td>str</td><td>str</td><td>f64</td><td>f64</td><td>f64</td><td>str</td><td>f64</td><td>str</td><td>f64</td><td>f64</td></tr></thead><tbody><tr><td>&quot;count&quot;</td><td>&quot;3989664&quot;</td><td>2.046285e6</td><td>2.046285e6</td><td>2.046285e6</td><td>&quot;3989664&quot;</td><td>2.046285e6</td><td>&quot;3989664&quot;</td><td>1.889953e6</td><td>1.889954e6</td></tr><tr><td>&quot;null_count&quot;</td><td>&quot;0&quot;</td><td>1.943379e6</td><td>1.943379e6</td><td>1.943379e6</td><td>&quot;0&quot;</td><td>1.943379e6</td><td>&quot;0&quot;</td><td>2.099711e6</td><td>2.09971e6</td></tr><tr><td>&quot;mean&quot;</td><td>&quot;2022-09-15 12:30:00&quot;</td><td>5.913636</td><td>167.302513</td><td>25.379801</td><td>null</td><td>0.001737</td><td>null</td><td>1.1276e7</td><td>1.3538e7</td></tr><tr><td>&quot;std&quot;</td><td>null</td><td>3.125727</td><td>88.154022</td><td>6.977661</td><td>null</td><td>0.006866</td><td>null</td><td>6.9285e6</td><td>8.3022e6</td></tr><tr><td>&quot;min&quot;</td><td>&quot;2019-12-31 01:00:00&quot;</td><td>0.005403</td><td>0.000265</td><td>0.487457</td><td>&quot;delhi&quot;</td><td>0.0</td><td>&quot;0101000020E610000014AE47E17A24…</td><td>0.0</td><td>0.0</td></tr><tr><td>&quot;25%&quot;</td><td>&quot;2021-05-08 19:00:00&quot;</td><td>3.790591</td><td>106.347651</td><td>21.677216</td><td>null</td><td>0.0</td><td>null</td><td>5.062334e6</td><td>6.017553e6</td></tr><tr><td>&quot;50%&quot;</td><td>&quot;2022-09-15 13:00:00&quot;</td><td>5.431484</td><td>145.85406</td><td>26.418579</td><td>null</td><td>0.000001</td><td>null</td><td>1.2313436e7</td><td>1.4862e7</td></tr><tr><td>&quot;75%&quot;</td><td>&quot;2024-01-23 06:00:00&quot;</td><td>7.45679</td><td>241.901807</td><td>29.746643</td><td>null</td><td>0.000466</td><td>null</td><td>1.6668687e7</td><td>1.9912196e7</td></tr><tr><td>&quot;max&quot;</td><td>&quot;2025-06-01 00:00:00&quot;</td><td>42.517314</td><td>359.999979</td><td>46.374786</td><td>&quot;mumbai&quot;</td><td>0.314005</td><td>&quot;0101000020E6100000F6285C8FC255…</td><td>2.49234e7</td><td>2.9038414e7</td></tr></tbody></table></div>"
      ],
      "text/plain": [
       "shape: (9, 10)\n",
       "┌───────────┬───────────┬───────────┬───────────┬───┬───────────┬───────────┬───────────┬──────────┐\n",
       "│ statistic ┆ timestamp ┆ wind_spee ┆ wind_dire ┆ … ┆ precipita ┆ location  ┆ surface_n ┆ surface_ │\n",
       "│ ---       ┆ ---       ┆ d         ┆ ction     ┆   ┆ tion      ┆ ---       ┆ et_solar_ ┆ solar_ra │\n",
       "│ str       ┆ str       ┆ ---       ┆ ---       ┆   ┆ ---       ┆ str       ┆ radiation ┆ diation_ │\n",
       "│           ┆           ┆ f64       ┆ f64       ┆   ┆ f64       ┆           ┆ ---       ┆ downwa…  │\n",
       "│           ┆           ┆           ┆           ┆   ┆           ┆           ┆ f64       ┆ ---      │\n",
       "│           ┆           ┆           ┆           ┆   ┆           ┆           ┆           ┆ f64      │\n",
       "╞═══════════╪═══════════╪═══════════╪═══════════╪═══╪═══════════╪═══════════╪═══════════╪══════════╡\n",
       "│ count     ┆ 3989664   ┆ 2.046285e ┆ 2.046285e ┆ … ┆ 2.046285e ┆ 3989664   ┆ 1.889953e ┆ 1.889954 │\n",
       "│           ┆           ┆ 6         ┆ 6         ┆   ┆ 6         ┆           ┆ 6         ┆ e6       │\n",
       "│ null_coun ┆ 0         ┆ 1.943379e ┆ 1.943379e ┆ … ┆ 1.943379e ┆ 0         ┆ 2.099711e ┆ 2.09971e │\n",
       "│ t         ┆           ┆ 6         ┆ 6         ┆   ┆ 6         ┆           ┆ 6         ┆ 6        │\n",
       "│ mean      ┆ 2022-09-1 ┆ 5.913636  ┆ 167.30251 ┆ … ┆ 0.001737  ┆ null      ┆ 1.1276e7  ┆ 1.3538e7 │\n",
       "│           ┆ 5         ┆           ┆ 3         ┆   ┆           ┆           ┆           ┆          │\n",
       "│           ┆ 12:30:00  ┆           ┆           ┆   ┆           ┆           ┆           ┆          │\n",
       "│ std       ┆ null      ┆ 3.125727  ┆ 88.154022 ┆ … ┆ 0.006866  ┆ null      ┆ 6.9285e6  ┆ 8.3022e6 │\n",
       "│ min       ┆ 2019-12-3 ┆ 0.005403  ┆ 0.000265  ┆ … ┆ 0.0       ┆ 010100002 ┆ 0.0       ┆ 0.0      │\n",
       "│           ┆ 1         ┆           ┆           ┆   ┆           ┆ 0E6100000 ┆           ┆          │\n",
       "│           ┆ 01:00:00  ┆           ┆           ┆   ┆           ┆ 14AE47E17 ┆           ┆          │\n",
       "│           ┆           ┆           ┆           ┆   ┆           ┆ A24…      ┆           ┆          │\n",
       "│ 25%       ┆ 2021-05-0 ┆ 3.790591  ┆ 106.34765 ┆ … ┆ 0.0       ┆ null      ┆ 5.062334e ┆ 6.017553 │\n",
       "│           ┆ 8         ┆           ┆ 1         ┆   ┆           ┆           ┆ 6         ┆ e6       │\n",
       "│           ┆ 19:00:00  ┆           ┆           ┆   ┆           ┆           ┆           ┆          │\n",
       "│ 50%       ┆ 2022-09-1 ┆ 5.431484  ┆ 145.85406 ┆ … ┆ 0.000001  ┆ null      ┆ 1.2313436 ┆ 1.4862e7 │\n",
       "│           ┆ 5         ┆           ┆           ┆   ┆           ┆           ┆ e7        ┆          │\n",
       "│           ┆ 13:00:00  ┆           ┆           ┆   ┆           ┆           ┆           ┆          │\n",
       "│ 75%       ┆ 2024-01-2 ┆ 7.45679   ┆ 241.90180 ┆ … ┆ 0.000466  ┆ null      ┆ 1.6668687 ┆ 1.991219 │\n",
       "│           ┆ 3         ┆           ┆ 7         ┆   ┆           ┆           ┆ e7        ┆ 6e7      │\n",
       "│           ┆ 06:00:00  ┆           ┆           ┆   ┆           ┆           ┆           ┆          │\n",
       "│ max       ┆ 2025-06-0 ┆ 42.517314 ┆ 359.99997 ┆ … ┆ 0.314005  ┆ 010100002 ┆ 2.49234e7 ┆ 2.903841 │\n",
       "│           ┆ 1         ┆           ┆ 9         ┆   ┆           ┆ 0E6100000 ┆           ┆ 4e7      │\n",
       "│           ┆ 00:00:00  ┆           ┆           ┆   ┆           ┆ F6285C8FC ┆           ┆          │\n",
       "│           ┆           ┆           ┆           ┆   ┆           ┆ 255…      ┆           ┆          │\n",
       "└───────────┴───────────┴───────────┴───────────┴───┴───────────┴───────────┴───────────┴──────────┘"
      ]
     },
     "metadata": {},
     "output_type": "display_data"
    }
   ],
   "source": [
    "print(\"\\n\" + \"-\" * 120)\n",
    "print(\"First few rows of weather data:\\n\" + \"-\" * 120)\n",
    "display(weather_data_pldf.head(5))\n",
    "print(\"\\n\" + \"-\" * 120)\n",
    "print(\"Descriptive statistics of weather data:\\n\" + \"-\" * 120)\n",
    "display(weather_data_pldf.describe())"
   ]
  },
  {
   "cell_type": "code",
   "execution_count": 11,
   "id": "233b5ca7",
   "metadata": {},
   "outputs": [
    {
     "data": {
      "text/plain": [
       "Schema([('timestamp', Datetime(time_unit='us', time_zone=None)),\n",
       "        ('wind_speed', Decimal(precision=38, scale=18)),\n",
       "        ('wind_direction', Decimal(precision=38, scale=20)),\n",
       "        ('temperature', Decimal(precision=38, scale=15)),\n",
       "        ('city', String),\n",
       "        ('precipitation', Decimal(precision=38, scale=28)),\n",
       "        ('location', String),\n",
       "        ('surface_net_solar_radiation', Decimal(precision=38, scale=17)),\n",
       "        ('surface_solar_radiation_downwards',\n",
       "         Decimal(precision=38, scale=17))])"
      ]
     },
     "execution_count": 11,
     "metadata": {},
     "output_type": "execute_result"
    }
   ],
   "source": [
    "weather_data_pldf.schema"
   ]
  },
  {
   "cell_type": "markdown",
   "id": "981a84ba",
   "metadata": {},
   "source": [
    "**DATA PROCESSING PLAN**\n",
    "\n",
    "The following steps will be taken to process the ERA5 land data:\n",
    "1. Data Preparation\n",
    "    * Change the data types of the columns to work better with polars\n",
    "    * Update the timezone\n",
    "\n",
    "2. Data Transformation (1)\n",
    "    * calculate radiation in kwh/m^2\n",
    "    * change precipitation to mm\n",
    "    * change wind speed to m/s\n",
    "    * change wind direction from mathematical to meteorological\n",
    "\n",
    "3. Data Transformation (2)\n",
    "    * Convert location to latitude and longitude\n",
    "\n",
    "4. Data Validation\n",
    "    * Check for missing values\n",
    "    * Check for duplicate rows\n",
    "\n",
    "5. Data Transformation (3)\n",
    "    * Remove Null Locations\n",
    "    * Filtered out locations with 0% completeness"
   ]
  },
  {
   "cell_type": "markdown",
   "id": "c70e7e5d",
   "metadata": {},
   "source": [
    "### Helper Functions"
   ]
  },
  {
   "cell_type": "markdown",
   "id": "7e290ab1",
   "metadata": {},
   "source": [
    "#### Transformation Functions"
   ]
  },
  {
   "cell_type": "code",
   "execution_count": 12,
   "id": "c4f31be5",
   "metadata": {},
   "outputs": [],
   "source": [
    "def wkb_to_coords(hex_wkb: str):\n",
    "    \"\"\"\n",
    "    Convert a hex WKB string to coordinates (x, y).\n",
    "    Uses binascii to decode the hex string and shapely's load function to convert WKB to a Point object.\n",
    "\n",
    "    Parameters:\n",
    "    ----------\n",
    "    hex_wkb : str\n",
    "        Hexadecimal string representing the WKB (Well-Known Binary) format of a point.\n",
    "\n",
    "    Returns:\n",
    "    -------\n",
    "    tuple\n",
    "        A tuple containing the x and y coordinates of the point, or (None, None)\n",
    "        if the conversion fails.\n",
    "    \"\"\"\n",
    "    try:\n",
    "        point = loads(binascii.unhexlify(hex_wkb))\n",
    "        return point.x, point.y\n",
    "    except Exception:\n",
    "        return None, None"
   ]
  },
  {
   "cell_type": "markdown",
   "id": "fcfcd3d0",
   "metadata": {},
   "source": [
    "#### Profiling Functions"
   ]
  },
  {
   "cell_type": "code",
   "execution_count": 13,
   "id": "8c232a3a",
   "metadata": {},
   "outputs": [],
   "source": [
    "def count_isolated_nulls(\n",
    "        df: pl.DataFrame,\n",
    "        colname: str,\n",
    "        grouping_cols: list = [\"weather_longitude\", \"weather_latitude\"]\n",
    ") -> pl.DataFrame:\n",
    "    \"\"\"\n",
    "    Function to count the number of isolated nulls in a specified column of a DataFrame.\n",
    "    (an isolated null is a null value that has non-null values on both sides of it)\n",
    "\n",
    "    Parameters:\n",
    "    ----------\n",
    "    df : pl.DataFrame\n",
    "        The DataFrame to process.\n",
    "    colname : str\n",
    "        The name of the column to check for isolated nulls.\n",
    "\n",
    "    Returns:\n",
    "    -------\n",
    "    pl.DataFrame\n",
    "        A DataFrame with the count of isolated nulls per location.\n",
    "    \"\"\"\n",
    "    df = df.sort(grouping_cols + [\"timestamp\"])\n",
    "\n",
    "    flagged = (df\n",
    "               .with_columns([\n",
    "                    pl.col(colname).is_null().alias(\"is_null\"),\n",
    "                    # windowed shifts so we only compare within each station\n",
    "                    pl.col(colname).shift(1).over(grouping_cols).is_null().alias(\"prev_null\"),\n",
    "                    pl.col(colname).shift(-1).over(grouping_cols).is_null().alias(\"next_null\"),\n",
    "                    ])\n",
    "                .with_columns([\n",
    "                    # isolated if current is null but neither neighbor is\n",
    "                    (pl.col(\"is_null\") & ~pl.col(\"prev_null\") & ~pl.col(\"next_null\")).alias(\"is_isolated_null\")\n",
    "                ]))\n",
    "\n",
    "    # 2) aggregate by station, summing that flag\n",
    "    return (\n",
    "        flagged\n",
    "        .group_by(grouping_cols)\n",
    "        .agg(\n",
    "            pl.col(\"is_isolated_null\")\n",
    "              .sum()\n",
    "              .cast(pl.UInt32)\n",
    "              .alias(f\"{colname}_isolated_nulls\")\n",
    "        )\n",
    "    )"
   ]
  },
  {
   "cell_type": "code",
   "execution_count": 14,
   "id": "78c0a2bc",
   "metadata": {},
   "outputs": [],
   "source": [
    "def analyze_null_patterns(\n",
    "        df: pl.DataFrame,\n",
    "        colname: str,\n",
    "        grouping_cols: list[str] = [\"weather_longitude\", \"weather_latitude\"]\n",
    ") -> pl.DataFrame:\n",
    "    \"\"\"\n",
    "    Analyze null patterns in a specified column of a DataFrame.\n",
    "\n",
    "    Parameters:\n",
    "    ----------\n",
    "    df : pl.DataFrame\n",
    "        The DataFrame to analyze.\n",
    "    colname : str\n",
    "        The name of the column to analyze for null patterns.\n",
    "    grouping_cols : list, optional\n",
    "        List of columns to group by (default is [\"weather_longitude\", \"weather_latitude\"]).\n",
    "\n",
    "    Returns:\n",
    "    -------\n",
    "    pl.DataFrame\n",
    "        A DataFrame containing the following columns:\n",
    "        - grouping_cols: The columns used for grouping.\n",
    "        - f\"{colname}_total_nulls\": Total number of nulls in the specified column.\n",
    "        - f\"{colname}_isolated_nulls\": Number of isolated nulls in the specified column.\n",
    "        - f\"{colname}_gaps\": List of structs containing start and end timestamps of gaps longer than 1 hour.\n",
    "    \"\"\"\n",
    "    # 0) sort by station + timestamp\n",
    "    df = df.sort(grouping_cols + [\"timestamp\"])\n",
    "\n",
    "    # 1) ensure every station shows up\n",
    "    all_locs = df.select(grouping_cols).unique()\n",
    "\n",
    "    # 2) basic null counts & isolated‐nulls\n",
    "\n",
    "    # flagging the entries that are null, and those that are isolated\n",
    "    flagged = (\n",
    "        df\n",
    "        .with_columns([\n",
    "            pl.col(colname).is_null().alias(\"is_null\"),\n",
    "            # windowed shifts so we only compare within each station\n",
    "            pl.col(colname).shift(1).over(grouping_cols).is_null().alias(\"previous_is_null\"),\n",
    "            pl.col(colname).shift(-1).over(grouping_cols).is_null().alias(\"next_is_null\"),\n",
    "        ])\n",
    "        .with_columns([(\n",
    "                        pl.col(\"is_null\") &\n",
    "                        ~pl.col(\"previous_is_null\") &\n",
    "                        ~pl.col(\"next_is_null\")\n",
    "                    ).alias(\"is_isolated_null\")])\n",
    "    )\n",
    "    basic_stats = (\n",
    "        flagged\n",
    "        .group_by(grouping_cols)\n",
    "        .agg([\n",
    "            pl.col(\"is_null\")\n",
    "                .sum()\n",
    "                .cast(pl.UInt32)\n",
    "                .alias(f\"{colname}_total_nulls\"),\n",
    "            pl.col(\"is_isolated_null\")\n",
    "                .sum()\n",
    "                .cast(pl.UInt32)\n",
    "                .alias(f\"{colname}_isolated_nulls\"),\n",
    "        ])\n",
    "    )\n",
    "\n",
    "    # 3) flag nulls, then number each run of (null vs non‐null) per station\n",
    "    runs = (\n",
    "        flagged\n",
    "        # first add the boolean flag\n",
    "        .with_columns(\n",
    "            pl.col(colname).is_null().alias(\"is_null\")\n",
    "        )\n",
    "        # then number runs whenever is_null flips\n",
    "        .with_columns(\n",
    "            (\n",
    "              pl.col(\"is_null\") != pl.col(\"is_null\").shift(1)\n",
    "            )\n",
    "            .cum_sum()\n",
    "            .over(grouping_cols)\n",
    "            .alias(\"run_id\")\n",
    "        )\n",
    "    )\n",
    "\n",
    "    # 4) extract only the null‐runs, get their start/end timestamps\n",
    "    #    then drop any shorter than 1h, and finally implode to a list of Structs\n",
    "    gap_intervals = (\n",
    "        runs\n",
    "        .filter(pl.col(\"is_null\"))\n",
    "        .group_by(grouping_cols + [\"run_id\"])\n",
    "        .agg([\n",
    "            pl.col(\"timestamp\").first().alias(\"gap_start\"),\n",
    "            pl.col(\"timestamp\").last().alias(\"gap_end\"),\n",
    "        ])\n",
    "        .filter(\n",
    "            (pl.col(\"gap_end\") - pl.col(\"gap_start\")) > pl.duration(hours=1)\n",
    "        )\n",
    "        .group_by(grouping_cols)\n",
    "        .agg(\n",
    "            pl.struct([\"gap_start\", \"gap_end\"])\n",
    "              .implode()\n",
    "              .alias(f\"{colname}_gaps\")\n",
    "        )\n",
    "    )\n",
    "\n",
    "    # 5) stitch it all together, filling missing gaps‐lists with empty lists\n",
    "    return (\n",
    "        all_locs\n",
    "        .join(basic_stats,   on=grouping_cols, how=\"left\")\n",
    "        .join(gap_intervals, on=grouping_cols, how=\"left\")\n",
    "        .with_columns(\n",
    "            pl.col(f\"{colname}_gaps\").fill_null([])\n",
    "        )\n",
    "    )"
   ]
  },
  {
   "cell_type": "code",
   "execution_count": 15,
   "id": "6a0a23d9",
   "metadata": {},
   "outputs": [],
   "source": [
    "# Completeness report\n",
    "def compute_completeness(\n",
    "        df: pl.DataFrame,\n",
    "        grouping_col: str,\n",
    "        columns_to_check: List[str]\n",
    ") -> pl.DataFrame:\n",
    "    \"\"\"\n",
    "    Compute per‐group completeness counts and ratios for a set of columns.\n",
    "\n",
    "    Parameters:\n",
    "    ----------\n",
    "    df : pl.DataFrame\n",
    "        The DataFrame to analyze.\n",
    "    grouping_col : str\n",
    "        The column to group by (e.g., \"location\").\n",
    "    columns_to_check : List[str]\n",
    "        List of column names to check for completeness.\n",
    "\n",
    "    Returns:\n",
    "    -------\n",
    "    pl.DataFrame\n",
    "        A DataFrame with completeness statistics for each group.\n",
    "        generated columns:\n",
    "        - total_rows: Total number of rows in each group.\n",
    "        - {col}_non_null: Count of non-null values in each specified column.\n",
    "        - {col}_completeness: Ratio of non-null values to total rows for each column.\n",
    "        - avg_completeness: Average completeness across all specified columns.\n",
    "        - min_completeness: Minimum completeness across all specified columns.\n",
    "        - max_completeness: Maximum completeness across all specified columns.\n",
    "    \"\"\"\n",
    "    # 1) basic counts\n",
    "    completeness = df.group_by(grouping_col).agg([\n",
    "        pl.len().alias(\"total_rows\"),\n",
    "        *[pl.col(col).is_not_null().sum().alias(f\"{col}_non_null\")\n",
    "          for col in columns_to_check]\n",
    "    ])\n",
    "\n",
    "    # 2) add ratios\n",
    "    for col in columns_to_check:\n",
    "        completeness = completeness.with_columns([\n",
    "            (pl.col(f\"{col}_non_null\") / pl.col(\"total_rows\"))\n",
    "              .alias(f\"{col}_completeness\")\n",
    "        ])\n",
    "\n",
    "    # 3) summary stats across completeness columns\n",
    "    comp_cols = [f\"{col}_completeness\" for col in columns_to_check]\n",
    "    completeness = completeness.with_columns([\n",
    "        pl.mean_horizontal([pl.col(c) for c in comp_cols])\n",
    "          .alias(\"avg_completeness\"),\n",
    "        pl.min_horizontal([pl.col(c) for c in comp_cols])\n",
    "          .alias(\"min_completeness\"),\n",
    "        pl.max_horizontal([pl.col(c) for c in comp_cols])\n",
    "          .alias(\"max_completeness\"),\n",
    "    ])\n",
    "\n",
    "    return completeness"
   ]
  },
  {
   "cell_type": "code",
   "execution_count": 16,
   "id": "e577dd0f",
   "metadata": {},
   "outputs": [],
   "source": [
    "def completeness_transform_long(\n",
    "        completeness_df: pl.DataFrame,\n",
    "        grouping_col: str,\n",
    "        columns_to_check: List[str]\n",
    ") -> pd.DataFrame:\n",
    "    \"\"\"\n",
    "    Take the output of compute_completeness and pivot it into long form\n",
    "    for plotting (one row per group+variable).\n",
    "\n",
    "    Parameters:\n",
    "    ----------\n",
    "    completeness_df : pl.DataFrame\n",
    "        The DataFrame containing completeness statistics.\n",
    "    grouping_col : str\n",
    "        The column used for grouping (e.g., \"location\").\n",
    "    columns_to_check : List[str]\n",
    "        List of column names to check for completeness.\n",
    "\n",
    "    Returns:\n",
    "    -------\n",
    "    pd.DataFrame\n",
    "        A Pandas DataFrame in long format with the following columns:\n",
    "        - grouping_col: The column used for grouping (e.g., \"location\").\n",
    "        - column: The name of the column for which completeness is measured.\n",
    "        - completeness: The completeness ratio (0.0–1.0).\n",
    "    \"\"\"\n",
    "    # Create expected completeness columns\n",
    "    # Handle string or list for grouping_col\n",
    "    if isinstance(grouping_col, str):\n",
    "        group_cols = [grouping_col]\n",
    "    else:\n",
    "        group_cols = grouping_col\n",
    "\n",
    "    # Construct expected completeness column names\n",
    "    comp_cols = [f\"{col}_completeness\" for col in columns_to_check]\n",
    "\n",
    "    # Validate columns exist\n",
    "    existing_cols = set(completeness_df.columns)\n",
    "    required_cols = group_cols + comp_cols\n",
    "    missing_cols = [col for col in required_cols if col not in existing_cols]\n",
    "\n",
    "    if missing_cols:\n",
    "        raise KeyError(f\"The following required columns are missing from completeness_df: {missing_cols}\")\n",
    "\n",
    "    # Convert to pandas\n",
    "    pdf = completeness_df.select(required_cols).to_pandas()\n",
    "\n",
    "    # Melt to long format\n",
    "    long = pdf.melt(\n",
    "        id_vars=group_cols,\n",
    "        value_vars=comp_cols,\n",
    "        var_name=\"column\",\n",
    "        value_name=\"completeness\"\n",
    "    )\n",
    "    long[\"completeness_pct\"] = long[\"completeness\"] * 100\n",
    "    return long"
   ]
  },
  {
   "cell_type": "code",
   "execution_count": 17,
   "id": "6f1e487d",
   "metadata": {},
   "outputs": [],
   "source": [
    "# Histogram and count annotation\n",
    "def hist_with_counts(data, **kwargs) -> None:\n",
    "    \"\"\"\n",
    "    Create a histogram of the 'completeness_pct' column in the provided DataFrame\n",
    "    and annotate it with the count of occurrences in each bin.\n",
    "\n",
    "    Parameters:\n",
    "    ----------\n",
    "    data : pd.DataFrame\n",
    "        The DataFrame containing the 'completeness_pct' column to be plotted.\n",
    "    **kwargs : dict\n",
    "        Additional keyword arguments to be passed to the matplotlib histogram function.\n",
    "\n",
    "    Returns:\n",
    "    -------\n",
    "    None\n",
    "        Displays the histogram with counts annotated on top of each bar.\n",
    "    \"\"\"\n",
    "    ax = plt.gca()\n",
    "    counts, bins, patches = ax.hist(\n",
    "        data[\"completeness_pct\"], bins=range(0, 101, 2), edgecolor='black', **kwargs\n",
    "    )\n",
    "    # Add count labels\n",
    "    for count, patch in zip(counts, patches):\n",
    "        if count > 0:\n",
    "            x = patch.get_x() + patch.get_width() / 2\n",
    "            ax.text(x, count + 0.5, f\"{int(count)}\", ha=\"center\", va=\"bottom\", fontsize=8)\n"
   ]
  },
  {
   "cell_type": "markdown",
   "id": "b2a8b2b2",
   "metadata": {},
   "source": [
    "### Converting Datatypes"
   ]
  },
  {
   "cell_type": "code",
   "execution_count": 18,
   "id": "c6e4c319",
   "metadata": {},
   "outputs": [],
   "source": [
    "weather_data_type_conversions = (\n",
    "    pl.scan_parquet(weather_filepath)\n",
    "    .with_columns(\n",
    "        # NOTE - converting to specific timezone makes downstream operations more complex,\n",
    "        # so we will not convert the timestamp to a specific timezone here.\n",
    "        # Instead, we will keep it as UTC and handle timezone conversion later\n",
    "        # converting timestamp to datetime with timezone\n",
    "        # pl.col(\"timestamp\").dt.convert_time_zone(\"Asia/Kolkata\"),\n",
    "        pl.col(\"timestamp\").dt.convert_time_zone(\"UTC\"),\n",
    "        # specifying the unit for the windspeed\n",
    "        pl.col(\"wind_speed\").cast(dtype=pl.Float32).alias(\"wind_speed_mph\"),\n",
    "        # Flagging that the wind direction was originally calculated in mathematical degrees\n",
    "        pl.col(\"wind_direction\").cast(dtype=pl.Float32).alias(\"wind_direction_mathematical\"),\n",
    "        pl.col(\"temperature\").cast(dtype=pl.Float64),\n",
    "        # specifying the unit for the precipitation\n",
    "        pl.col(\"precipitation\").cast(dtype=pl.Float64).alias(\"precipitation_meters\"),\n",
    "        # specifying the unit for the solar radiation\n",
    "        pl.col(\"surface_net_solar_radiation\").cast(dtype=pl.Float64).alias(\"surface_net_solar_radiation_joules_per_m2\"),\n",
    "        pl.col(\"surface_solar_radiation_downwards\").cast(dtype=pl.Float64).alias(\"surface_solar_radiation_downwards_joules_per_m2\"),\n",
    "        # converting categorical columns to Categorical type\n",
    "        pl.col(\"city\").cast(pl.Categorical, strict=False),\n",
    "    )\n",
    "    # dropping oldcolumns that were converted to new columns\n",
    "    .drop(\n",
    "        pl.col([\"wind_speed\",\n",
    "                \"wind_direction\",\n",
    "                \"precipitation\",\n",
    "                \"surface_net_solar_radiation\",\n",
    "                \"surface_solar_radiation_downwards\"]\n",
    "               )\n",
    "    )\n",
    ")\n",
    "\n",
    "weather_data_pldf_type_conv = weather_data_type_conversions.collect()"
   ]
  },
  {
   "cell_type": "code",
   "execution_count": 19,
   "id": "82309c07",
   "metadata": {},
   "outputs": [
    {
     "data": {
      "text/html": [
       "<div><style>\n",
       ".dataframe > thead > tr,\n",
       ".dataframe > tbody > tr {\n",
       "  text-align: right;\n",
       "  white-space: pre-wrap;\n",
       "}\n",
       "</style>\n",
       "<small>shape: (3_989_664, 9)</small><table border=\"1\" class=\"dataframe\"><thead><tr><th>timestamp</th><th>temperature</th><th>city</th><th>location</th><th>wind_speed_mph</th><th>wind_direction_mathematical</th><th>precipitation_meters</th><th>surface_net_solar_radiation_joules_per_m2</th><th>surface_solar_radiation_downwards_joules_per_m2</th></tr><tr><td>datetime[μs, UTC]</td><td>f64</td><td>cat</td><td>str</td><td>f32</td><td>f32</td><td>f64</td><td>f64</td><td>f64</td></tr></thead><tbody><tr><td>2024-12-13 13:00:00 UTC</td><td>15.97522</td><td>&quot;delhi&quot;</td><td>&quot;0101000020E6100000F6285C8FC255…</td><td>8.013575</td><td>105.092316</td><td>0.0</td><td>1.2296608e7</td><td>1.4926616e7</td></tr><tr><td>2024-12-13 14:00:00 UTC</td><td>14.646027</td><td>&quot;delhi&quot;</td><td>&quot;0101000020E6100000F6285C8FC235…</td><td>8.289884</td><td>110.726143</td><td>0.0</td><td>1.2108108e7</td><td>1.473605e7</td></tr><tr><td>2024-12-13 14:00:00 UTC</td><td>14.629242</td><td>&quot;delhi&quot;</td><td>&quot;0101000020E61000005C8FC2F5283C…</td><td>8.336891</td><td>110.277252</td><td>0.0</td><td>1.2149601e7</td><td>1.4737817e7</td></tr><tr><td>2024-12-13 14:00:00 UTC</td><td>14.623779</td><td>&quot;delhi&quot;</td><td>&quot;0101000020E6100000C2F5285C8F42…</td><td>8.403727</td><td>109.706665</td><td>0.0</td><td>1.2240716e7</td><td>1.4738703e7</td></tr><tr><td>2024-12-13 14:00:00 UTC</td><td>14.611298</td><td>&quot;delhi&quot;</td><td>&quot;0101000020E6100000285C8FC2F548…</td><td>8.454638</td><td>109.043526</td><td>0.0</td><td>1.2278334e7</td><td>1.4740205e7</td></tr><tr><td>&hellip;</td><td>&hellip;</td><td>&hellip;</td><td>&hellip;</td><td>&hellip;</td><td>&hellip;</td><td>&hellip;</td><td>&hellip;</td><td>&hellip;</td></tr><tr><td>2024-12-13 13:00:00 UTC</td><td>15.943939</td><td>&quot;delhi&quot;</td><td>&quot;0101000020E6100000F6285C8FC235…</td><td>8.199545</td><td>101.19828</td><td>0.0</td><td>1.2049435e7</td><td>1.493568e7</td></tr><tr><td>2024-12-13 13:00:00 UTC</td><td>15.922485</td><td>&quot;delhi&quot;</td><td>&quot;0101000020E61000005C8FC2F5283C…</td><td>8.211157</td><td>102.278236</td><td>0.0</td><td>1.2066213e7</td><td>1.4934367e7</td></tr><tr><td>2024-12-13 13:00:00 UTC</td><td>15.885376</td><td>&quot;delhi&quot;</td><td>&quot;0101000020E6100000C2F5285C8F42…</td><td>8.208414</td><td>103.571648</td><td>0.0</td><td>1.2133453e7</td><td>1.4929e7</td></tr><tr><td>2024-12-13 13:00:00 UTC</td><td>15.889679</td><td>&quot;delhi&quot;</td><td>&quot;0101000020E6100000285C8FC2F548…</td><td>8.178754</td><td>104.590645</td><td>0.0</td><td>1.2182153e7</td><td>1.4924818e7</td></tr><tr><td>2024-12-13 13:00:00 UTC</td><td>15.939301</td><td>&quot;delhi&quot;</td><td>&quot;0101000020E61000008EC2F5285C4F…</td><td>8.106519</td><td>105.049469</td><td>0.0</td><td>1.229079e7</td><td>1.4923282e7</td></tr></tbody></table></div>"
      ],
      "text/plain": [
       "shape: (3_989_664, 9)\n",
       "┌────────────┬────────────┬───────┬────────────┬───┬───────────┬───────────┬───────────┬───────────┐\n",
       "│ timestamp  ┆ temperatur ┆ city  ┆ location   ┆ … ┆ wind_dire ┆ precipita ┆ surface_n ┆ surface_s │\n",
       "│ ---        ┆ e          ┆ ---   ┆ ---        ┆   ┆ ction_mat ┆ tion_mete ┆ et_solar_ ┆ olar_radi │\n",
       "│ datetime[μ ┆ ---        ┆ cat   ┆ str        ┆   ┆ hematical ┆ rs        ┆ radiation ┆ ation_dow │\n",
       "│ s, UTC]    ┆ f64        ┆       ┆            ┆   ┆ ---       ┆ ---       ┆ _jo…      ┆ nwa…      │\n",
       "│            ┆            ┆       ┆            ┆   ┆ f32       ┆ f64       ┆ ---       ┆ ---       │\n",
       "│            ┆            ┆       ┆            ┆   ┆           ┆           ┆ f64       ┆ f64       │\n",
       "╞════════════╪════════════╪═══════╪════════════╪═══╪═══════════╪═══════════╪═══════════╪═══════════╡\n",
       "│ 2024-12-13 ┆ 15.97522   ┆ delhi ┆ 0101000020 ┆ … ┆ 105.09231 ┆ 0.0       ┆ 1.2296608 ┆ 1.4926616 │\n",
       "│ 13:00:00   ┆            ┆       ┆ E6100000F6 ┆   ┆ 6         ┆           ┆ e7        ┆ e7        │\n",
       "│ UTC        ┆            ┆       ┆ 285C8FC255 ┆   ┆           ┆           ┆           ┆           │\n",
       "│            ┆            ┆       ┆ …          ┆   ┆           ┆           ┆           ┆           │\n",
       "│ 2024-12-13 ┆ 14.646027  ┆ delhi ┆ 0101000020 ┆ … ┆ 110.72614 ┆ 0.0       ┆ 1.2108108 ┆ 1.473605e │\n",
       "│ 14:00:00   ┆            ┆       ┆ E6100000F6 ┆   ┆ 3         ┆           ┆ e7        ┆ 7         │\n",
       "│ UTC        ┆            ┆       ┆ 285C8FC235 ┆   ┆           ┆           ┆           ┆           │\n",
       "│            ┆            ┆       ┆ …          ┆   ┆           ┆           ┆           ┆           │\n",
       "│ 2024-12-13 ┆ 14.629242  ┆ delhi ┆ 0101000020 ┆ … ┆ 110.27725 ┆ 0.0       ┆ 1.2149601 ┆ 1.4737817 │\n",
       "│ 14:00:00   ┆            ┆       ┆ E61000005C ┆   ┆ 2         ┆           ┆ e7        ┆ e7        │\n",
       "│ UTC        ┆            ┆       ┆ 8FC2F5283C ┆   ┆           ┆           ┆           ┆           │\n",
       "│            ┆            ┆       ┆ …          ┆   ┆           ┆           ┆           ┆           │\n",
       "│ 2024-12-13 ┆ 14.623779  ┆ delhi ┆ 0101000020 ┆ … ┆ 109.70666 ┆ 0.0       ┆ 1.2240716 ┆ 1.4738703 │\n",
       "│ 14:00:00   ┆            ┆       ┆ E6100000C2 ┆   ┆ 5         ┆           ┆ e7        ┆ e7        │\n",
       "│ UTC        ┆            ┆       ┆ F5285C8F42 ┆   ┆           ┆           ┆           ┆           │\n",
       "│            ┆            ┆       ┆ …          ┆   ┆           ┆           ┆           ┆           │\n",
       "│ 2024-12-13 ┆ 14.611298  ┆ delhi ┆ 0101000020 ┆ … ┆ 109.04352 ┆ 0.0       ┆ 1.2278334 ┆ 1.4740205 │\n",
       "│ 14:00:00   ┆            ┆       ┆ E610000028 ┆   ┆ 6         ┆           ┆ e7        ┆ e7        │\n",
       "│ UTC        ┆            ┆       ┆ 5C8FC2F548 ┆   ┆           ┆           ┆           ┆           │\n",
       "│            ┆            ┆       ┆ …          ┆   ┆           ┆           ┆           ┆           │\n",
       "│ …          ┆ …          ┆ …     ┆ …          ┆ … ┆ …         ┆ …         ┆ …         ┆ …         │\n",
       "│ 2024-12-13 ┆ 15.943939  ┆ delhi ┆ 0101000020 ┆ … ┆ 101.19828 ┆ 0.0       ┆ 1.2049435 ┆ 1.493568e │\n",
       "│ 13:00:00   ┆            ┆       ┆ E6100000F6 ┆   ┆           ┆           ┆ e7        ┆ 7         │\n",
       "│ UTC        ┆            ┆       ┆ 285C8FC235 ┆   ┆           ┆           ┆           ┆           │\n",
       "│            ┆            ┆       ┆ …          ┆   ┆           ┆           ┆           ┆           │\n",
       "│ 2024-12-13 ┆ 15.922485  ┆ delhi ┆ 0101000020 ┆ … ┆ 102.27823 ┆ 0.0       ┆ 1.2066213 ┆ 1.4934367 │\n",
       "│ 13:00:00   ┆            ┆       ┆ E61000005C ┆   ┆ 6         ┆           ┆ e7        ┆ e7        │\n",
       "│ UTC        ┆            ┆       ┆ 8FC2F5283C ┆   ┆           ┆           ┆           ┆           │\n",
       "│            ┆            ┆       ┆ …          ┆   ┆           ┆           ┆           ┆           │\n",
       "│ 2024-12-13 ┆ 15.885376  ┆ delhi ┆ 0101000020 ┆ … ┆ 103.57164 ┆ 0.0       ┆ 1.2133453 ┆ 1.4929e7  │\n",
       "│ 13:00:00   ┆            ┆       ┆ E6100000C2 ┆   ┆ 8         ┆           ┆ e7        ┆           │\n",
       "│ UTC        ┆            ┆       ┆ F5285C8F42 ┆   ┆           ┆           ┆           ┆           │\n",
       "│            ┆            ┆       ┆ …          ┆   ┆           ┆           ┆           ┆           │\n",
       "│ 2024-12-13 ┆ 15.889679  ┆ delhi ┆ 0101000020 ┆ … ┆ 104.59064 ┆ 0.0       ┆ 1.2182153 ┆ 1.4924818 │\n",
       "│ 13:00:00   ┆            ┆       ┆ E610000028 ┆   ┆ 5         ┆           ┆ e7        ┆ e7        │\n",
       "│ UTC        ┆            ┆       ┆ 5C8FC2F548 ┆   ┆           ┆           ┆           ┆           │\n",
       "│            ┆            ┆       ┆ …          ┆   ┆           ┆           ┆           ┆           │\n",
       "│ 2024-12-13 ┆ 15.939301  ┆ delhi ┆ 0101000020 ┆ … ┆ 105.04946 ┆ 0.0       ┆ 1.229079e ┆ 1.4923282 │\n",
       "│ 13:00:00   ┆            ┆       ┆ E61000008E ┆   ┆ 9         ┆           ┆ 7         ┆ e7        │\n",
       "│ UTC        ┆            ┆       ┆ C2F5285C4F ┆   ┆           ┆           ┆           ┆           │\n",
       "│            ┆            ┆       ┆ …          ┆   ┆           ┆           ┆           ┆           │\n",
       "└────────────┴────────────┴───────┴────────────┴───┴───────────┴───────────┴───────────┴───────────┘"
      ]
     },
     "execution_count": 19,
     "metadata": {},
     "output_type": "execute_result"
    }
   ],
   "source": [
    "weather_data_pldf_type_conv"
   ]
  },
  {
   "cell_type": "code",
   "execution_count": 20,
   "id": "36721597",
   "metadata": {},
   "outputs": [
    {
     "data": {
      "text/html": [
       "<div><style>\n",
       ".dataframe > thead > tr,\n",
       ".dataframe > tbody > tr {\n",
       "  text-align: right;\n",
       "  white-space: pre-wrap;\n",
       "}\n",
       "</style>\n",
       "<small>shape: (84, 9)</small><table border=\"1\" class=\"dataframe\"><thead><tr><th>timestamp</th><th>temperature</th><th>city</th><th>location</th><th>wind_speed_mph</th><th>wind_direction_mathematical</th><th>precipitation_meters</th><th>surface_net_solar_radiation_joules_per_m2</th><th>surface_solar_radiation_downwards_joules_per_m2</th></tr><tr><td>datetime[μs, UTC]</td><td>f64</td><td>cat</td><td>str</td><td>f32</td><td>f32</td><td>f64</td><td>f64</td><td>f64</td></tr></thead><tbody><tr><td>2025-01-01 10:00:00 UTC</td><td>16.899231</td><td>&quot;delhi&quot;</td><td>&quot;0101000020E6100000F6285C8FC235…</td><td>5.628311</td><td>115.277016</td><td>0.000005</td><td>1.0349092e7</td><td>1.267206e7</td></tr><tr><td>2025-01-01 10:00:00 UTC</td><td>16.884796</td><td>&quot;delhi&quot;</td><td>&quot;0101000020E61000005C8FC2F5283C…</td><td>5.697296</td><td>115.703415</td><td>0.000005</td><td>1.0544676e7</td><td>1.2854797e7</td></tr><tr><td>2025-01-01 10:00:00 UTC</td><td>16.884399</td><td>&quot;delhi&quot;</td><td>&quot;0101000020E6100000C2F5285C8F42…</td><td>5.77972</td><td>116.37429</td><td>0.000005</td><td>1.0799678e7</td><td>1.303179e7</td></tr><tr><td>2025-01-01 10:00:00 UTC</td><td>16.882812</td><td>&quot;delhi&quot;</td><td>&quot;0101000020E6100000285C8FC2F548…</td><td>5.840753</td><td>116.882263</td><td>0.000004</td><td>1.0992338e7</td><td>1.3177e7</td></tr><tr><td>2025-01-01 10:00:00 UTC</td><td>16.899628</td><td>&quot;delhi&quot;</td><td>&quot;0101000020E61000008EC2F5285C4F…</td><td>5.841281</td><td>116.750023</td><td>0.000004</td><td>1.1041147e7</td><td>1.3258e7</td></tr><tr><td>&hellip;</td><td>&hellip;</td><td>&hellip;</td><td>&hellip;</td><td>&hellip;</td><td>&hellip;</td><td>&hellip;</td><td>&hellip;</td><td>&hellip;</td></tr><tr><td>2025-01-01 10:00:00 UTC</td><td>null</td><td>&quot;mumbai&quot;</td><td>&quot;0101000020E610000014AE47E17A24…</td><td>null</td><td>null</td><td>null</td><td>null</td><td>null</td></tr><tr><td>2025-01-01 10:00:00 UTC</td><td>null</td><td>&quot;mumbai&quot;</td><td>&quot;0101000020E61000007A14AE47E12A…</td><td>null</td><td>null</td><td>null</td><td>null</td><td>null</td></tr><tr><td>2025-01-01 10:00:00 UTC</td><td>null</td><td>&quot;mumbai&quot;</td><td>&quot;0101000020E6100000E07A14AE4731…</td><td>null</td><td>null</td><td>null</td><td>null</td><td>null</td></tr><tr><td>2025-01-01 10:00:00 UTC</td><td>null</td><td>&quot;mumbai&quot;</td><td>&quot;0101000020E610000046E17A14AE37…</td><td>null</td><td>null</td><td>null</td><td>null</td><td>null</td></tr><tr><td>2025-01-01 10:00:00 UTC</td><td>30.067474</td><td>&quot;mumbai&quot;</td><td>&quot;0101000020E6100000AE47E17A143E…</td><td>8.624945</td><td>132.472107</td><td>0.0</td><td>1.3954e7</td><td>1.5858e7</td></tr></tbody></table></div>"
      ],
      "text/plain": [
       "shape: (84, 9)\n",
       "┌────────────┬────────────┬────────┬───────────┬───┬───────────┬───────────┬───────────┬───────────┐\n",
       "│ timestamp  ┆ temperatur ┆ city   ┆ location  ┆ … ┆ wind_dire ┆ precipita ┆ surface_n ┆ surface_s │\n",
       "│ ---        ┆ e          ┆ ---    ┆ ---       ┆   ┆ ction_mat ┆ tion_mete ┆ et_solar_ ┆ olar_radi │\n",
       "│ datetime[μ ┆ ---        ┆ cat    ┆ str       ┆   ┆ hematical ┆ rs        ┆ radiation ┆ ation_dow │\n",
       "│ s, UTC]    ┆ f64        ┆        ┆           ┆   ┆ ---       ┆ ---       ┆ _jo…      ┆ nwa…      │\n",
       "│            ┆            ┆        ┆           ┆   ┆ f32       ┆ f64       ┆ ---       ┆ ---       │\n",
       "│            ┆            ┆        ┆           ┆   ┆           ┆           ┆ f64       ┆ f64       │\n",
       "╞════════════╪════════════╪════════╪═══════════╪═══╪═══════════╪═══════════╪═══════════╪═══════════╡\n",
       "│ 2025-01-01 ┆ 16.899231  ┆ delhi  ┆ 010100002 ┆ … ┆ 115.27701 ┆ 0.000005  ┆ 1.0349092 ┆ 1.267206e │\n",
       "│ 10:00:00   ┆            ┆        ┆ 0E6100000 ┆   ┆ 6         ┆           ┆ e7        ┆ 7         │\n",
       "│ UTC        ┆            ┆        ┆ F6285C8FC ┆   ┆           ┆           ┆           ┆           │\n",
       "│            ┆            ┆        ┆ 235…      ┆   ┆           ┆           ┆           ┆           │\n",
       "│ 2025-01-01 ┆ 16.884796  ┆ delhi  ┆ 010100002 ┆ … ┆ 115.70341 ┆ 0.000005  ┆ 1.0544676 ┆ 1.2854797 │\n",
       "│ 10:00:00   ┆            ┆        ┆ 0E6100000 ┆   ┆ 5         ┆           ┆ e7        ┆ e7        │\n",
       "│ UTC        ┆            ┆        ┆ 5C8FC2F52 ┆   ┆           ┆           ┆           ┆           │\n",
       "│            ┆            ┆        ┆ 83C…      ┆   ┆           ┆           ┆           ┆           │\n",
       "│ 2025-01-01 ┆ 16.884399  ┆ delhi  ┆ 010100002 ┆ … ┆ 116.37429 ┆ 0.000005  ┆ 1.0799678 ┆ 1.303179e │\n",
       "│ 10:00:00   ┆            ┆        ┆ 0E6100000 ┆   ┆           ┆           ┆ e7        ┆ 7         │\n",
       "│ UTC        ┆            ┆        ┆ C2F5285C8 ┆   ┆           ┆           ┆           ┆           │\n",
       "│            ┆            ┆        ┆ F42…      ┆   ┆           ┆           ┆           ┆           │\n",
       "│ 2025-01-01 ┆ 16.882812  ┆ delhi  ┆ 010100002 ┆ … ┆ 116.88226 ┆ 0.000004  ┆ 1.0992338 ┆ 1.3177e7  │\n",
       "│ 10:00:00   ┆            ┆        ┆ 0E6100000 ┆   ┆ 3         ┆           ┆ e7        ┆           │\n",
       "│ UTC        ┆            ┆        ┆ 285C8FC2F ┆   ┆           ┆           ┆           ┆           │\n",
       "│            ┆            ┆        ┆ 548…      ┆   ┆           ┆           ┆           ┆           │\n",
       "│ 2025-01-01 ┆ 16.899628  ┆ delhi  ┆ 010100002 ┆ … ┆ 116.75002 ┆ 0.000004  ┆ 1.1041147 ┆ 1.3258e7  │\n",
       "│ 10:00:00   ┆            ┆        ┆ 0E6100000 ┆   ┆ 3         ┆           ┆ e7        ┆           │\n",
       "│ UTC        ┆            ┆        ┆ 8EC2F5285 ┆   ┆           ┆           ┆           ┆           │\n",
       "│            ┆            ┆        ┆ C4F…      ┆   ┆           ┆           ┆           ┆           │\n",
       "│ …          ┆ …          ┆ …      ┆ …         ┆ … ┆ …         ┆ …         ┆ …         ┆ …         │\n",
       "│ 2025-01-01 ┆ null       ┆ mumbai ┆ 010100002 ┆ … ┆ null      ┆ null      ┆ null      ┆ null      │\n",
       "│ 10:00:00   ┆            ┆        ┆ 0E6100000 ┆   ┆           ┆           ┆           ┆           │\n",
       "│ UTC        ┆            ┆        ┆ 14AE47E17 ┆   ┆           ┆           ┆           ┆           │\n",
       "│            ┆            ┆        ┆ A24…      ┆   ┆           ┆           ┆           ┆           │\n",
       "│ 2025-01-01 ┆ null       ┆ mumbai ┆ 010100002 ┆ … ┆ null      ┆ null      ┆ null      ┆ null      │\n",
       "│ 10:00:00   ┆            ┆        ┆ 0E6100000 ┆   ┆           ┆           ┆           ┆           │\n",
       "│ UTC        ┆            ┆        ┆ 7A14AE47E ┆   ┆           ┆           ┆           ┆           │\n",
       "│            ┆            ┆        ┆ 12A…      ┆   ┆           ┆           ┆           ┆           │\n",
       "│ 2025-01-01 ┆ null       ┆ mumbai ┆ 010100002 ┆ … ┆ null      ┆ null      ┆ null      ┆ null      │\n",
       "│ 10:00:00   ┆            ┆        ┆ 0E6100000 ┆   ┆           ┆           ┆           ┆           │\n",
       "│ UTC        ┆            ┆        ┆ E07A14AE4 ┆   ┆           ┆           ┆           ┆           │\n",
       "│            ┆            ┆        ┆ 731…      ┆   ┆           ┆           ┆           ┆           │\n",
       "│ 2025-01-01 ┆ null       ┆ mumbai ┆ 010100002 ┆ … ┆ null      ┆ null      ┆ null      ┆ null      │\n",
       "│ 10:00:00   ┆            ┆        ┆ 0E6100000 ┆   ┆           ┆           ┆           ┆           │\n",
       "│ UTC        ┆            ┆        ┆ 46E17A14A ┆   ┆           ┆           ┆           ┆           │\n",
       "│            ┆            ┆        ┆ E37…      ┆   ┆           ┆           ┆           ┆           │\n",
       "│ 2025-01-01 ┆ 30.067474  ┆ mumbai ┆ 010100002 ┆ … ┆ 132.47210 ┆ 0.0       ┆ 1.3954e7  ┆ 1.5858e7  │\n",
       "│ 10:00:00   ┆            ┆        ┆ 0E6100000 ┆   ┆ 7         ┆           ┆           ┆           │\n",
       "│ UTC        ┆            ┆        ┆ AE47E17A1 ┆   ┆           ┆           ┆           ┆           │\n",
       "│            ┆            ┆        ┆ 43E…      ┆   ┆           ┆           ┆           ┆           │\n",
       "└────────────┴────────────┴────────┴───────────┴───┴───────────┴───────────┴───────────┴───────────┘"
      ]
     },
     "execution_count": 20,
     "metadata": {},
     "output_type": "execute_result"
    }
   ],
   "source": [
    "weather_data_pldf_type_conv.sort(\"timestamp\", descending=True)\n",
    "\n",
    "january1_2025 = weather_data_pldf_type_conv.filter(\n",
    "    pl.col(\"timestamp\").dt.year() == 2025\n",
    ").filter(\n",
    "    pl.col(\"timestamp\").dt.month() == 1\n",
    ").filter(\n",
    "    pl.col(\"timestamp\").dt.day() == 1\n",
    ").filter(\n",
    "    pl.col(\"timestamp\").dt.hour() == 10\n",
    ")\n",
    "january1_2025"
   ]
  },
  {
   "cell_type": "markdown",
   "id": "34ccc96d",
   "metadata": {},
   "source": [
    "Just to confirm what we're seeing above here, we can look at the weather recorded near delhi on Jan 1 2025 at 10:00 AM:\n",
    "\n",
    "https://www.timeanddate.com/weather/india/new-delhi/historic?month=1&year=2025\n",
    "\n",
    "We'll see that it about opposite what we see in the data above, confirming that the reading is in mathematical terms, not in meteorological terms."
   ]
  },
  {
   "cell_type": "code",
   "execution_count": 21,
   "id": "d0193041",
   "metadata": {},
   "outputs": [
    {
     "name": "stdout",
     "output_type": "stream",
     "text": [
      "Data successfully written to ../../data/hitachi/weather_20250714_1401_step1.parquet\n"
     ]
    }
   ],
   "source": [
    "weather_filepath_step1 = weather_filepath.replace(\".parquet\", \"_step1.parquet\")\n",
    "\n",
    "try:\n",
    "    weather_data_pldf_type_conv.write_parquet(file=weather_filepath_step1,\n",
    "                                              statistics=True,\n",
    "                                              compression=\"snappy\")\n",
    "    print(f\"Data successfully written to {weather_filepath_step1}\")\n",
    "    weather_processing_filepaths.append(weather_filepath_step1)\n",
    "except Exception as e:\n",
    "    print(f\"Error writing data to {weather_filepath_step1}: {e}\")"
   ]
  },
  {
   "cell_type": "markdown",
   "id": "dd368d8d",
   "metadata": {},
   "source": [
    "### Data Transformation (1)"
   ]
  },
  {
   "cell_type": "code",
   "execution_count": 22,
   "id": "de0404dd",
   "metadata": {},
   "outputs": [],
   "source": [
    "weather_transformations_dt1 = (\n",
    "    pl.scan_parquet(weather_filepath_step1)\n",
    "        .with_columns(\n",
    "        # convert solar radiation fields to kWh/m2\n",
    "        # 60 seconds to minutes and 60 minutes to hours to convert J to W and then divide by 1000 for W to kW\n",
    "        (pl.col(\"surface_net_solar_radiation_joules_per_m2\") / ((60*60)/1000)).alias(\"surface_net_solar_radiation_kWh_per_m2\"),\n",
    "        (pl.col(\"surface_solar_radiation_downwards_joules_per_m2\") / ((60*60)/1000)).alias(\"surface_solar_radiation_downwards_kWh_per_m2\"),\n",
    "\n",
    "        # convert precipitation to mm\n",
    "        (pl.col(\"precipitation_meters\") * 1000).alias(\"precipitation_mm\"),\n",
    "\n",
    "        # convert wind speed from mph to m/s\n",
    "        (pl.col(\"wind_speed_mph\") * 0.44704).alias(\"wind_speed_mps\"),\n",
    "\n",
    "        # resolve issue with wind direction being off by 180 degrees\n",
    "        pl.col(\"wind_direction_mathematical\").add(180).mod(360).alias(\"wind_direction_meteorological\")\n",
    "        )\n",
    "    .drop([\n",
    "        \"precipitation_meters\",\n",
    "        \"wind_speed_mph\",\n",
    "        \"wind_direction_mathematical\",\n",
    "    ])\n",
    ")\n",
    "\n",
    "weather_data_pldf_trans_1 = weather_transformations_dt1.collect()"
   ]
  },
  {
   "cell_type": "code",
   "execution_count": 23,
   "id": "58a5e5eb",
   "metadata": {},
   "outputs": [
    {
     "data": {
      "text/html": [
       "<div><style>\n",
       ".dataframe > thead > tr,\n",
       ".dataframe > tbody > tr {\n",
       "  text-align: right;\n",
       "  white-space: pre-wrap;\n",
       "}\n",
       "</style>\n",
       "<small>shape: (3_989_664, 11)</small><table border=\"1\" class=\"dataframe\"><thead><tr><th>timestamp</th><th>temperature</th><th>city</th><th>location</th><th>surface_net_solar_radiation_joules_per_m2</th><th>surface_solar_radiation_downwards_joules_per_m2</th><th>surface_net_solar_radiation_kWh_per_m2</th><th>surface_solar_radiation_downwards_kWh_per_m2</th><th>precipitation_mm</th><th>wind_speed_mps</th><th>wind_direction_meteorological</th></tr><tr><td>datetime[μs, UTC]</td><td>f64</td><td>cat</td><td>str</td><td>f64</td><td>f64</td><td>f64</td><td>f64</td><td>f64</td><td>f32</td><td>f32</td></tr></thead><tbody><tr><td>2024-12-13 13:00:00 UTC</td><td>15.97522</td><td>&quot;delhi&quot;</td><td>&quot;0101000020E6100000F6285C8FC255…</td><td>1.2296608e7</td><td>1.4926616e7</td><td>3.4157e6</td><td>4.1463e6</td><td>0.0</td><td>3.582388</td><td>285.092316</td></tr><tr><td>2024-12-13 14:00:00 UTC</td><td>14.646027</td><td>&quot;delhi&quot;</td><td>&quot;0101000020E6100000F6285C8FC235…</td><td>1.2108108e7</td><td>1.473605e7</td><td>3.3634e6</td><td>4.0933e6</td><td>0.0</td><td>3.705909</td><td>290.726135</td></tr><tr><td>2024-12-13 14:00:00 UTC</td><td>14.629242</td><td>&quot;delhi&quot;</td><td>&quot;0101000020E61000005C8FC2F5283C…</td><td>1.2149601e7</td><td>1.4737817e7</td><td>3.3749e6</td><td>4.0938e6</td><td>0.0</td><td>3.726924</td><td>290.277252</td></tr><tr><td>2024-12-13 14:00:00 UTC</td><td>14.623779</td><td>&quot;delhi&quot;</td><td>&quot;0101000020E6100000C2F5285C8F42…</td><td>1.2240716e7</td><td>1.4738703e7</td><td>3.4002e6</td><td>4.0941e6</td><td>0.0</td><td>3.756802</td><td>289.706665</td></tr><tr><td>2024-12-13 14:00:00 UTC</td><td>14.611298</td><td>&quot;delhi&quot;</td><td>&quot;0101000020E6100000285C8FC2F548…</td><td>1.2278334e7</td><td>1.4740205e7</td><td>3.4106e6</td><td>4.0945e6</td><td>0.0</td><td>3.779561</td><td>289.043518</td></tr><tr><td>&hellip;</td><td>&hellip;</td><td>&hellip;</td><td>&hellip;</td><td>&hellip;</td><td>&hellip;</td><td>&hellip;</td><td>&hellip;</td><td>&hellip;</td><td>&hellip;</td><td>&hellip;</td></tr><tr><td>2024-12-13 13:00:00 UTC</td><td>15.943939</td><td>&quot;delhi&quot;</td><td>&quot;0101000020E6100000F6285C8FC235…</td><td>1.2049435e7</td><td>1.493568e7</td><td>3.3471e6</td><td>4.1488e6</td><td>0.0</td><td>3.665524</td><td>281.198273</td></tr><tr><td>2024-12-13 13:00:00 UTC</td><td>15.922485</td><td>&quot;delhi&quot;</td><td>&quot;0101000020E61000005C8FC2F5283C…</td><td>1.2066213e7</td><td>1.4934367e7</td><td>3.3517e6</td><td>4.1484e6</td><td>0.0</td><td>3.670716</td><td>282.278229</td></tr><tr><td>2024-12-13 13:00:00 UTC</td><td>15.885376</td><td>&quot;delhi&quot;</td><td>&quot;0101000020E6100000C2F5285C8F42…</td><td>1.2133453e7</td><td>1.4929e7</td><td>3.3704e6</td><td>4.1469e6</td><td>0.0</td><td>3.669489</td><td>283.571655</td></tr><tr><td>2024-12-13 13:00:00 UTC</td><td>15.889679</td><td>&quot;delhi&quot;</td><td>&quot;0101000020E6100000285C8FC2F548…</td><td>1.2182153e7</td><td>1.4924818e7</td><td>3.3839e6</td><td>4.1458e6</td><td>0.0</td><td>3.65623</td><td>284.590637</td></tr><tr><td>2024-12-13 13:00:00 UTC</td><td>15.939301</td><td>&quot;delhi&quot;</td><td>&quot;0101000020E61000008EC2F5285C4F…</td><td>1.229079e7</td><td>1.4923282e7</td><td>3.4141e6</td><td>4.1454e6</td><td>0.0</td><td>3.623938</td><td>285.049469</td></tr></tbody></table></div>"
      ],
      "text/plain": [
       "shape: (3_989_664, 11)\n",
       "┌────────────┬────────────┬───────┬────────────┬───┬───────────┬───────────┬───────────┬───────────┐\n",
       "│ timestamp  ┆ temperatur ┆ city  ┆ location   ┆ … ┆ surface_s ┆ precipita ┆ wind_spee ┆ wind_dire │\n",
       "│ ---        ┆ e          ┆ ---   ┆ ---        ┆   ┆ olar_radi ┆ tion_mm   ┆ d_mps     ┆ ction_met │\n",
       "│ datetime[μ ┆ ---        ┆ cat   ┆ str        ┆   ┆ ation_dow ┆ ---       ┆ ---       ┆ eorologic │\n",
       "│ s, UTC]    ┆ f64        ┆       ┆            ┆   ┆ nwa…      ┆ f64       ┆ f32       ┆ al        │\n",
       "│            ┆            ┆       ┆            ┆   ┆ ---       ┆           ┆           ┆ ---       │\n",
       "│            ┆            ┆       ┆            ┆   ┆ f64       ┆           ┆           ┆ f32       │\n",
       "╞════════════╪════════════╪═══════╪════════════╪═══╪═══════════╪═══════════╪═══════════╪═══════════╡\n",
       "│ 2024-12-13 ┆ 15.97522   ┆ delhi ┆ 0101000020 ┆ … ┆ 4.1463e6  ┆ 0.0       ┆ 3.582388  ┆ 285.09231 │\n",
       "│ 13:00:00   ┆            ┆       ┆ E6100000F6 ┆   ┆           ┆           ┆           ┆ 6         │\n",
       "│ UTC        ┆            ┆       ┆ 285C8FC255 ┆   ┆           ┆           ┆           ┆           │\n",
       "│            ┆            ┆       ┆ …          ┆   ┆           ┆           ┆           ┆           │\n",
       "│ 2024-12-13 ┆ 14.646027  ┆ delhi ┆ 0101000020 ┆ … ┆ 4.0933e6  ┆ 0.0       ┆ 3.705909  ┆ 290.72613 │\n",
       "│ 14:00:00   ┆            ┆       ┆ E6100000F6 ┆   ┆           ┆           ┆           ┆ 5         │\n",
       "│ UTC        ┆            ┆       ┆ 285C8FC235 ┆   ┆           ┆           ┆           ┆           │\n",
       "│            ┆            ┆       ┆ …          ┆   ┆           ┆           ┆           ┆           │\n",
       "│ 2024-12-13 ┆ 14.629242  ┆ delhi ┆ 0101000020 ┆ … ┆ 4.0938e6  ┆ 0.0       ┆ 3.726924  ┆ 290.27725 │\n",
       "│ 14:00:00   ┆            ┆       ┆ E61000005C ┆   ┆           ┆           ┆           ┆ 2         │\n",
       "│ UTC        ┆            ┆       ┆ 8FC2F5283C ┆   ┆           ┆           ┆           ┆           │\n",
       "│            ┆            ┆       ┆ …          ┆   ┆           ┆           ┆           ┆           │\n",
       "│ 2024-12-13 ┆ 14.623779  ┆ delhi ┆ 0101000020 ┆ … ┆ 4.0941e6  ┆ 0.0       ┆ 3.756802  ┆ 289.70666 │\n",
       "│ 14:00:00   ┆            ┆       ┆ E6100000C2 ┆   ┆           ┆           ┆           ┆ 5         │\n",
       "│ UTC        ┆            ┆       ┆ F5285C8F42 ┆   ┆           ┆           ┆           ┆           │\n",
       "│            ┆            ┆       ┆ …          ┆   ┆           ┆           ┆           ┆           │\n",
       "│ 2024-12-13 ┆ 14.611298  ┆ delhi ┆ 0101000020 ┆ … ┆ 4.0945e6  ┆ 0.0       ┆ 3.779561  ┆ 289.04351 │\n",
       "│ 14:00:00   ┆            ┆       ┆ E610000028 ┆   ┆           ┆           ┆           ┆ 8         │\n",
       "│ UTC        ┆            ┆       ┆ 5C8FC2F548 ┆   ┆           ┆           ┆           ┆           │\n",
       "│            ┆            ┆       ┆ …          ┆   ┆           ┆           ┆           ┆           │\n",
       "│ …          ┆ …          ┆ …     ┆ …          ┆ … ┆ …         ┆ …         ┆ …         ┆ …         │\n",
       "│ 2024-12-13 ┆ 15.943939  ┆ delhi ┆ 0101000020 ┆ … ┆ 4.1488e6  ┆ 0.0       ┆ 3.665524  ┆ 281.19827 │\n",
       "│ 13:00:00   ┆            ┆       ┆ E6100000F6 ┆   ┆           ┆           ┆           ┆ 3         │\n",
       "│ UTC        ┆            ┆       ┆ 285C8FC235 ┆   ┆           ┆           ┆           ┆           │\n",
       "│            ┆            ┆       ┆ …          ┆   ┆           ┆           ┆           ┆           │\n",
       "│ 2024-12-13 ┆ 15.922485  ┆ delhi ┆ 0101000020 ┆ … ┆ 4.1484e6  ┆ 0.0       ┆ 3.670716  ┆ 282.27822 │\n",
       "│ 13:00:00   ┆            ┆       ┆ E61000005C ┆   ┆           ┆           ┆           ┆ 9         │\n",
       "│ UTC        ┆            ┆       ┆ 8FC2F5283C ┆   ┆           ┆           ┆           ┆           │\n",
       "│            ┆            ┆       ┆ …          ┆   ┆           ┆           ┆           ┆           │\n",
       "│ 2024-12-13 ┆ 15.885376  ┆ delhi ┆ 0101000020 ┆ … ┆ 4.1469e6  ┆ 0.0       ┆ 3.669489  ┆ 283.57165 │\n",
       "│ 13:00:00   ┆            ┆       ┆ E6100000C2 ┆   ┆           ┆           ┆           ┆ 5         │\n",
       "│ UTC        ┆            ┆       ┆ F5285C8F42 ┆   ┆           ┆           ┆           ┆           │\n",
       "│            ┆            ┆       ┆ …          ┆   ┆           ┆           ┆           ┆           │\n",
       "│ 2024-12-13 ┆ 15.889679  ┆ delhi ┆ 0101000020 ┆ … ┆ 4.1458e6  ┆ 0.0       ┆ 3.65623   ┆ 284.59063 │\n",
       "│ 13:00:00   ┆            ┆       ┆ E610000028 ┆   ┆           ┆           ┆           ┆ 7         │\n",
       "│ UTC        ┆            ┆       ┆ 5C8FC2F548 ┆   ┆           ┆           ┆           ┆           │\n",
       "│            ┆            ┆       ┆ …          ┆   ┆           ┆           ┆           ┆           │\n",
       "│ 2024-12-13 ┆ 15.939301  ┆ delhi ┆ 0101000020 ┆ … ┆ 4.1454e6  ┆ 0.0       ┆ 3.623938  ┆ 285.04946 │\n",
       "│ 13:00:00   ┆            ┆       ┆ E61000008E ┆   ┆           ┆           ┆           ┆ 9         │\n",
       "│ UTC        ┆            ┆       ┆ C2F5285C4F ┆   ┆           ┆           ┆           ┆           │\n",
       "│            ┆            ┆       ┆ …          ┆   ┆           ┆           ┆           ┆           │\n",
       "└────────────┴────────────┴───────┴────────────┴───┴───────────┴───────────┴───────────┴───────────┘"
      ]
     },
     "execution_count": 23,
     "metadata": {},
     "output_type": "execute_result"
    }
   ],
   "source": [
    "weather_data_pldf_trans_1"
   ]
  },
  {
   "cell_type": "code",
   "execution_count": 24,
   "id": "79a6cbe8",
   "metadata": {},
   "outputs": [
    {
     "name": "stdout",
     "output_type": "stream",
     "text": [
      "Data successfully written to ../../data/hitachi/weather_20250714_1401_step2.parquet\n"
     ]
    }
   ],
   "source": [
    "weather_filepath_step2 = weather_filepath_step1.replace(\"_step1.parquet\", \"_step2.parquet\")\n",
    "\n",
    "try:\n",
    "    weather_data_pldf_trans_1.write_parquet(file=weather_filepath_step2,\n",
    "                                              statistics=True,\n",
    "                                              compression=\"snappy\")\n",
    "    print(f\"Data successfully written to {weather_filepath_step2}\")\n",
    "    weather_processing_filepaths.append(weather_filepath_step2)\n",
    "except Exception as e:\n",
    "    print(f\"Error writing data to {weather_filepath_step2}: {e}\")"
   ]
  },
  {
   "cell_type": "markdown",
   "id": "a9c503e3",
   "metadata": {},
   "source": [
    "### Data Transformation (2)"
   ]
  },
  {
   "cell_type": "code",
   "execution_count": 25,
   "id": "94680786",
   "metadata": {},
   "outputs": [],
   "source": [
    "weather_transformations_dt2 = (\n",
    "    pl.scan_parquet(weather_filepath_step2)\n",
    "        .with_columns(\n",
    "            # convert location fields to latitude and longitude\n",
    "            pl.col(\"location\").map_elements(wkb_to_coords,\n",
    "                                                 return_dtype=pl.List(pl.Float64))\n",
    "                                   .alias(\"location_coords\"))\n",
    "        .drop([\n",
    "                \"location\"\n",
    "        ])\n",
    "        .with_columns([\n",
    "                pl.col(\"location_coords\").list.get(0).alias(\"land_longitude\"),\n",
    "                pl.col(\"location_coords\").list.get(1).alias(\"land_latitude\"),\n",
    "            ])\n",
    "        .drop([\"location_coords\"])\n",
    ")\n",
    "weather_data_pldf_trans_2 = weather_transformations_dt2.collect()"
   ]
  },
  {
   "cell_type": "code",
   "execution_count": 26,
   "id": "b79006fd",
   "metadata": {},
   "outputs": [
    {
     "data": {
      "text/html": [
       "<div><style>\n",
       ".dataframe > thead > tr,\n",
       ".dataframe > tbody > tr {\n",
       "  text-align: right;\n",
       "  white-space: pre-wrap;\n",
       "}\n",
       "</style>\n",
       "<small>shape: (3_989_664, 12)</small><table border=\"1\" class=\"dataframe\"><thead><tr><th>timestamp</th><th>temperature</th><th>city</th><th>surface_net_solar_radiation_joules_per_m2</th><th>surface_solar_radiation_downwards_joules_per_m2</th><th>surface_net_solar_radiation_kWh_per_m2</th><th>surface_solar_radiation_downwards_kWh_per_m2</th><th>precipitation_mm</th><th>wind_speed_mps</th><th>wind_direction_meteorological</th><th>land_longitude</th><th>land_latitude</th></tr><tr><td>datetime[μs, UTC]</td><td>f64</td><td>cat</td><td>f64</td><td>f64</td><td>f64</td><td>f64</td><td>f64</td><td>f32</td><td>f32</td><td>f64</td><td>f64</td></tr></thead><tbody><tr><td>2024-12-13 13:00:00 UTC</td><td>15.97522</td><td>&quot;delhi&quot;</td><td>1.2296608e7</td><td>1.4926616e7</td><td>3.4157e6</td><td>4.1463e6</td><td>0.0</td><td>3.582388</td><td>285.092316</td><td>77.34</td><td>28.4</td></tr><tr><td>2024-12-13 14:00:00 UTC</td><td>14.646027</td><td>&quot;delhi&quot;</td><td>1.2108108e7</td><td>1.473605e7</td><td>3.3634e6</td><td>4.0933e6</td><td>0.0</td><td>3.705909</td><td>290.726135</td><td>76.84</td><td>28.8</td></tr><tr><td>2024-12-13 14:00:00 UTC</td><td>14.629242</td><td>&quot;delhi&quot;</td><td>1.2149601e7</td><td>1.4737817e7</td><td>3.3749e6</td><td>4.0938e6</td><td>0.0</td><td>3.726924</td><td>290.277252</td><td>76.94</td><td>28.8</td></tr><tr><td>2024-12-13 14:00:00 UTC</td><td>14.623779</td><td>&quot;delhi&quot;</td><td>1.2240716e7</td><td>1.4738703e7</td><td>3.4002e6</td><td>4.0941e6</td><td>0.0</td><td>3.756802</td><td>289.706665</td><td>77.04</td><td>28.8</td></tr><tr><td>2024-12-13 14:00:00 UTC</td><td>14.611298</td><td>&quot;delhi&quot;</td><td>1.2278334e7</td><td>1.4740205e7</td><td>3.4106e6</td><td>4.0945e6</td><td>0.0</td><td>3.779561</td><td>289.043518</td><td>77.14</td><td>28.8</td></tr><tr><td>&hellip;</td><td>&hellip;</td><td>&hellip;</td><td>&hellip;</td><td>&hellip;</td><td>&hellip;</td><td>&hellip;</td><td>&hellip;</td><td>&hellip;</td><td>&hellip;</td><td>&hellip;</td><td>&hellip;</td></tr><tr><td>2024-12-13 13:00:00 UTC</td><td>15.943939</td><td>&quot;delhi&quot;</td><td>1.2049435e7</td><td>1.493568e7</td><td>3.3471e6</td><td>4.1488e6</td><td>0.0</td><td>3.665524</td><td>281.198273</td><td>76.84</td><td>28.4</td></tr><tr><td>2024-12-13 13:00:00 UTC</td><td>15.922485</td><td>&quot;delhi&quot;</td><td>1.2066213e7</td><td>1.4934367e7</td><td>3.3517e6</td><td>4.1484e6</td><td>0.0</td><td>3.670716</td><td>282.278229</td><td>76.94</td><td>28.4</td></tr><tr><td>2024-12-13 13:00:00 UTC</td><td>15.885376</td><td>&quot;delhi&quot;</td><td>1.2133453e7</td><td>1.4929e7</td><td>3.3704e6</td><td>4.1469e6</td><td>0.0</td><td>3.669489</td><td>283.571655</td><td>77.04</td><td>28.4</td></tr><tr><td>2024-12-13 13:00:00 UTC</td><td>15.889679</td><td>&quot;delhi&quot;</td><td>1.2182153e7</td><td>1.4924818e7</td><td>3.3839e6</td><td>4.1458e6</td><td>0.0</td><td>3.65623</td><td>284.590637</td><td>77.14</td><td>28.4</td></tr><tr><td>2024-12-13 13:00:00 UTC</td><td>15.939301</td><td>&quot;delhi&quot;</td><td>1.229079e7</td><td>1.4923282e7</td><td>3.4141e6</td><td>4.1454e6</td><td>0.0</td><td>3.623938</td><td>285.049469</td><td>77.24</td><td>28.4</td></tr></tbody></table></div>"
      ],
      "text/plain": [
       "shape: (3_989_664, 12)\n",
       "┌────────────┬────────────┬───────┬────────────┬───┬───────────┬───────────┬───────────┬───────────┐\n",
       "│ timestamp  ┆ temperatur ┆ city  ┆ surface_ne ┆ … ┆ wind_spee ┆ wind_dire ┆ land_long ┆ land_lati │\n",
       "│ ---        ┆ e          ┆ ---   ┆ t_solar_ra ┆   ┆ d_mps     ┆ ction_met ┆ itude     ┆ tude      │\n",
       "│ datetime[μ ┆ ---        ┆ cat   ┆ diation_jo ┆   ┆ ---       ┆ eorologic ┆ ---       ┆ ---       │\n",
       "│ s, UTC]    ┆ f64        ┆       ┆ …          ┆   ┆ f32       ┆ al        ┆ f64       ┆ f64       │\n",
       "│            ┆            ┆       ┆ ---        ┆   ┆           ┆ ---       ┆           ┆           │\n",
       "│            ┆            ┆       ┆ f64        ┆   ┆           ┆ f32       ┆           ┆           │\n",
       "╞════════════╪════════════╪═══════╪════════════╪═══╪═══════════╪═══════════╪═══════════╪═══════════╡\n",
       "│ 2024-12-13 ┆ 15.97522   ┆ delhi ┆ 1.2296608e ┆ … ┆ 3.582388  ┆ 285.09231 ┆ 77.34     ┆ 28.4      │\n",
       "│ 13:00:00   ┆            ┆       ┆ 7          ┆   ┆           ┆ 6         ┆           ┆           │\n",
       "│ UTC        ┆            ┆       ┆            ┆   ┆           ┆           ┆           ┆           │\n",
       "│ 2024-12-13 ┆ 14.646027  ┆ delhi ┆ 1.2108108e ┆ … ┆ 3.705909  ┆ 290.72613 ┆ 76.84     ┆ 28.8      │\n",
       "│ 14:00:00   ┆            ┆       ┆ 7          ┆   ┆           ┆ 5         ┆           ┆           │\n",
       "│ UTC        ┆            ┆       ┆            ┆   ┆           ┆           ┆           ┆           │\n",
       "│ 2024-12-13 ┆ 14.629242  ┆ delhi ┆ 1.2149601e ┆ … ┆ 3.726924  ┆ 290.27725 ┆ 76.94     ┆ 28.8      │\n",
       "│ 14:00:00   ┆            ┆       ┆ 7          ┆   ┆           ┆ 2         ┆           ┆           │\n",
       "│ UTC        ┆            ┆       ┆            ┆   ┆           ┆           ┆           ┆           │\n",
       "│ 2024-12-13 ┆ 14.623779  ┆ delhi ┆ 1.2240716e ┆ … ┆ 3.756802  ┆ 289.70666 ┆ 77.04     ┆ 28.8      │\n",
       "│ 14:00:00   ┆            ┆       ┆ 7          ┆   ┆           ┆ 5         ┆           ┆           │\n",
       "│ UTC        ┆            ┆       ┆            ┆   ┆           ┆           ┆           ┆           │\n",
       "│ 2024-12-13 ┆ 14.611298  ┆ delhi ┆ 1.2278334e ┆ … ┆ 3.779561  ┆ 289.04351 ┆ 77.14     ┆ 28.8      │\n",
       "│ 14:00:00   ┆            ┆       ┆ 7          ┆   ┆           ┆ 8         ┆           ┆           │\n",
       "│ UTC        ┆            ┆       ┆            ┆   ┆           ┆           ┆           ┆           │\n",
       "│ …          ┆ …          ┆ …     ┆ …          ┆ … ┆ …         ┆ …         ┆ …         ┆ …         │\n",
       "│ 2024-12-13 ┆ 15.943939  ┆ delhi ┆ 1.2049435e ┆ … ┆ 3.665524  ┆ 281.19827 ┆ 76.84     ┆ 28.4      │\n",
       "│ 13:00:00   ┆            ┆       ┆ 7          ┆   ┆           ┆ 3         ┆           ┆           │\n",
       "│ UTC        ┆            ┆       ┆            ┆   ┆           ┆           ┆           ┆           │\n",
       "│ 2024-12-13 ┆ 15.922485  ┆ delhi ┆ 1.2066213e ┆ … ┆ 3.670716  ┆ 282.27822 ┆ 76.94     ┆ 28.4      │\n",
       "│ 13:00:00   ┆            ┆       ┆ 7          ┆   ┆           ┆ 9         ┆           ┆           │\n",
       "│ UTC        ┆            ┆       ┆            ┆   ┆           ┆           ┆           ┆           │\n",
       "│ 2024-12-13 ┆ 15.885376  ┆ delhi ┆ 1.2133453e ┆ … ┆ 3.669489  ┆ 283.57165 ┆ 77.04     ┆ 28.4      │\n",
       "│ 13:00:00   ┆            ┆       ┆ 7          ┆   ┆           ┆ 5         ┆           ┆           │\n",
       "│ UTC        ┆            ┆       ┆            ┆   ┆           ┆           ┆           ┆           │\n",
       "│ 2024-12-13 ┆ 15.889679  ┆ delhi ┆ 1.2182153e ┆ … ┆ 3.65623   ┆ 284.59063 ┆ 77.14     ┆ 28.4      │\n",
       "│ 13:00:00   ┆            ┆       ┆ 7          ┆   ┆           ┆ 7         ┆           ┆           │\n",
       "│ UTC        ┆            ┆       ┆            ┆   ┆           ┆           ┆           ┆           │\n",
       "│ 2024-12-13 ┆ 15.939301  ┆ delhi ┆ 1.229079e7 ┆ … ┆ 3.623938  ┆ 285.04946 ┆ 77.24     ┆ 28.4      │\n",
       "│ 13:00:00   ┆            ┆       ┆            ┆   ┆           ┆ 9         ┆           ┆           │\n",
       "│ UTC        ┆            ┆       ┆            ┆   ┆           ┆           ┆           ┆           │\n",
       "└────────────┴────────────┴───────┴────────────┴───┴───────────┴───────────┴───────────┴───────────┘"
      ]
     },
     "execution_count": 26,
     "metadata": {},
     "output_type": "execute_result"
    }
   ],
   "source": [
    "weather_data_pldf_trans_2"
   ]
  },
  {
   "cell_type": "code",
   "execution_count": 27,
   "id": "fa8e0c78",
   "metadata": {},
   "outputs": [
    {
     "name": "stdout",
     "output_type": "stream",
     "text": [
      "Data successfully written to ../../data/hitachi/weather_20250714_1401_step3.parquet\n"
     ]
    }
   ],
   "source": [
    "weather_filepath_step3 = weather_filepath_step2.replace(\"_step2.parquet\", \"_step3.parquet\")\n",
    "\n",
    "try:\n",
    "    weather_data_pldf_trans_2.write_parquet(file=weather_filepath_step3,\n",
    "                                              statistics=True,\n",
    "                                              compression=\"snappy\")\n",
    "    print(f\"Data successfully written to {weather_filepath_step3}\")\n",
    "    weather_processing_filepaths.append(weather_filepath_step3)\n",
    "except Exception as e:\n",
    "    print(f\"Error writing data to {weather_filepath_step3}: {e}\")"
   ]
  },
  {
   "cell_type": "markdown",
   "id": "22aa0a64",
   "metadata": {},
   "source": [
    "### Data Completeness and Quality Checks (1)"
   ]
  },
  {
   "cell_type": "code",
   "execution_count": 28,
   "id": "d2f8845a",
   "metadata": {},
   "outputs": [
    {
     "data": {
      "text/html": [
       "<div><style>\n",
       ".dataframe > thead > tr,\n",
       ".dataframe > tbody > tr {\n",
       "  text-align: right;\n",
       "  white-space: pre-wrap;\n",
       "}\n",
       "</style>\n",
       "<small>shape: (5, 12)</small><table border=\"1\" class=\"dataframe\"><thead><tr><th>timestamp</th><th>temperature</th><th>city</th><th>surface_net_solar_radiation_joules_per_m2</th><th>surface_solar_radiation_downwards_joules_per_m2</th><th>surface_net_solar_radiation_kWh_per_m2</th><th>surface_solar_radiation_downwards_kWh_per_m2</th><th>precipitation_mm</th><th>wind_speed_mps</th><th>wind_direction_meteorological</th><th>land_longitude</th><th>land_latitude</th></tr><tr><td>datetime[μs, UTC]</td><td>f64</td><td>cat</td><td>f64</td><td>f64</td><td>f64</td><td>f64</td><td>f64</td><td>f32</td><td>f32</td><td>f64</td><td>f64</td></tr></thead><tbody><tr><td>2023-12-13 05:00:00 UTC</td><td>null</td><td>&quot;mumbai&quot;</td><td>null</td><td>null</td><td>null</td><td>null</td><td>null</td><td>null</td><td>null</td><td>72.67</td><td>19.3</td></tr><tr><td>2021-09-24 09:00:00 UTC</td><td>28.049896</td><td>&quot;delhi&quot;</td><td>9.404416e6</td><td>1.1820137e7</td><td>2.6123e6</td><td>3.2834e6</td><td>2.274942</td><td>2.021261</td><td>58.492371</td><td>77.04</td><td>28.4</td></tr><tr><td>2021-02-25 02:00:00 UTC</td><td>12.973358</td><td>&quot;delhi&quot;</td><td>57111.042969</td><td>70301.742188</td><td>15864.178602</td><td>19528.261719</td><td>0.0</td><td>1.956743</td><td>272.557159</td><td>76.84</td><td>28.7</td></tr><tr><td>2024-10-28 00:00:00 UTC</td><td>null</td><td>&quot;mumbai&quot;</td><td>null</td><td>null</td><td>null</td><td>null</td><td>null</td><td>null</td><td>null</td><td>72.77</td><td>18.7</td></tr><tr><td>2020-07-19 05:00:00 UTC</td><td>null</td><td>&quot;mumbai&quot;</td><td>null</td><td>null</td><td>null</td><td>null</td><td>null</td><td>null</td><td>null</td><td>72.57</td><td>19.3</td></tr></tbody></table></div>"
      ],
      "text/plain": [
       "shape: (5, 12)\n",
       "┌────────────┬────────────┬────────┬───────────┬───┬───────────┬───────────┬───────────┬───────────┐\n",
       "│ timestamp  ┆ temperatur ┆ city   ┆ surface_n ┆ … ┆ wind_spee ┆ wind_dire ┆ land_long ┆ land_lati │\n",
       "│ ---        ┆ e          ┆ ---    ┆ et_solar_ ┆   ┆ d_mps     ┆ ction_met ┆ itude     ┆ tude      │\n",
       "│ datetime[μ ┆ ---        ┆ cat    ┆ radiation ┆   ┆ ---       ┆ eorologic ┆ ---       ┆ ---       │\n",
       "│ s, UTC]    ┆ f64        ┆        ┆ _jo…      ┆   ┆ f32       ┆ al        ┆ f64       ┆ f64       │\n",
       "│            ┆            ┆        ┆ ---       ┆   ┆           ┆ ---       ┆           ┆           │\n",
       "│            ┆            ┆        ┆ f64       ┆   ┆           ┆ f32       ┆           ┆           │\n",
       "╞════════════╪════════════╪════════╪═══════════╪═══╪═══════════╪═══════════╪═══════════╪═══════════╡\n",
       "│ 2023-12-13 ┆ null       ┆ mumbai ┆ null      ┆ … ┆ null      ┆ null      ┆ 72.67     ┆ 19.3      │\n",
       "│ 05:00:00   ┆            ┆        ┆           ┆   ┆           ┆           ┆           ┆           │\n",
       "│ UTC        ┆            ┆        ┆           ┆   ┆           ┆           ┆           ┆           │\n",
       "│ 2021-09-24 ┆ 28.049896  ┆ delhi  ┆ 9.404416e ┆ … ┆ 2.021261  ┆ 58.492371 ┆ 77.04     ┆ 28.4      │\n",
       "│ 09:00:00   ┆            ┆        ┆ 6         ┆   ┆           ┆           ┆           ┆           │\n",
       "│ UTC        ┆            ┆        ┆           ┆   ┆           ┆           ┆           ┆           │\n",
       "│ 2021-02-25 ┆ 12.973358  ┆ delhi  ┆ 57111.042 ┆ … ┆ 1.956743  ┆ 272.55715 ┆ 76.84     ┆ 28.7      │\n",
       "│ 02:00:00   ┆            ┆        ┆ 969       ┆   ┆           ┆ 9         ┆           ┆           │\n",
       "│ UTC        ┆            ┆        ┆           ┆   ┆           ┆           ┆           ┆           │\n",
       "│ 2024-10-28 ┆ null       ┆ mumbai ┆ null      ┆ … ┆ null      ┆ null      ┆ 72.77     ┆ 18.7      │\n",
       "│ 00:00:00   ┆            ┆        ┆           ┆   ┆           ┆           ┆           ┆           │\n",
       "│ UTC        ┆            ┆        ┆           ┆   ┆           ┆           ┆           ┆           │\n",
       "│ 2020-07-19 ┆ null       ┆ mumbai ┆ null      ┆ … ┆ null      ┆ null      ┆ 72.57     ┆ 19.3      │\n",
       "│ 05:00:00   ┆            ┆        ┆           ┆   ┆           ┆           ┆           ┆           │\n",
       "│ UTC        ┆            ┆        ┆           ┆   ┆           ┆           ┆           ┆           │\n",
       "└────────────┴────────────┴────────┴───────────┴───┴───────────┴───────────┴───────────┴───────────┘"
      ]
     },
     "execution_count": 28,
     "metadata": {},
     "output_type": "execute_result"
    }
   ],
   "source": [
    "weather_data_pldf_trans_2.sample(5)"
   ]
  },
  {
   "cell_type": "code",
   "execution_count": 29,
   "id": "3e23fd1d",
   "metadata": {},
   "outputs": [
    {
     "data": {
      "text/html": [
       "<div><style>\n",
       ".dataframe > thead > tr,\n",
       ".dataframe > tbody > tr {\n",
       "  text-align: right;\n",
       "  white-space: pre-wrap;\n",
       "}\n",
       "</style>\n",
       "<small>shape: (9, 13)</small><table border=\"1\" class=\"dataframe\"><thead><tr><th>statistic</th><th>timestamp</th><th>temperature</th><th>city</th><th>surface_net_solar_radiation_joules_per_m2</th><th>surface_solar_radiation_downwards_joules_per_m2</th><th>surface_net_solar_radiation_kWh_per_m2</th><th>surface_solar_radiation_downwards_kWh_per_m2</th><th>precipitation_mm</th><th>wind_speed_mps</th><th>wind_direction_meteorological</th><th>land_longitude</th><th>land_latitude</th></tr><tr><td>str</td><td>str</td><td>f64</td><td>str</td><td>f64</td><td>f64</td><td>f64</td><td>f64</td><td>f64</td><td>f64</td><td>f64</td><td>f64</td><td>f64</td></tr></thead><tbody><tr><td>&quot;count&quot;</td><td>&quot;3989664&quot;</td><td>2.046285e6</td><td>&quot;3989664&quot;</td><td>1.889953e6</td><td>1.889954e6</td><td>1.889953e6</td><td>1.889954e6</td><td>2.046285e6</td><td>2.046285e6</td><td>2.046285e6</td><td>3.989664e6</td><td>3.989664e6</td></tr><tr><td>&quot;null_count&quot;</td><td>&quot;0&quot;</td><td>1.943379e6</td><td>&quot;0&quot;</td><td>2.099711e6</td><td>2.09971e6</td><td>2.099711e6</td><td>2.09971e6</td><td>1.943379e6</td><td>1.943379e6</td><td>1.943379e6</td><td>0.0</td><td>0.0</td></tr><tr><td>&quot;mean&quot;</td><td>&quot;2022-09-15 12:30:00+00:00&quot;</td><td>25.379801</td><td>null</td><td>1.1276e7</td><td>1.3538e7</td><td>3.1322e6</td><td>3.7606e6</td><td>1.737392</td><td>2.643632</td><td>210.427979</td><td>74.280714</td><td>22.364286</td></tr><tr><td>&quot;std&quot;</td><td>null</td><td>6.977661</td><td>null</td><td>6.9285e6</td><td>8.3022e6</td><td>1.9246e6</td><td>2.3062e6</td><td>6.866434</td><td>1.397325</td><td>108.77739</td><td>2.100871</td><td>4.653203</td></tr><tr><td>&quot;min&quot;</td><td>&quot;2019-12-31 01:00:00+00:00&quot;</td><td>0.487457</td><td>null</td><td>0.0</td><td>0.0</td><td>0.0</td><td>0.0</td><td>0.0</td><td>0.002416</td><td>0.0</td><td>72.47</td><td>18.5</td></tr><tr><td>&quot;25%&quot;</td><td>&quot;2021-05-08 19:00:00+00:00&quot;</td><td>21.677216</td><td>null</td><td>5.062334e6</td><td>6.017553e6</td><td>1.4062e6</td><td>1671542.5</td><td>0.0</td><td>1.694546</td><td>109.567871</td><td>72.67</td><td>18.8</td></tr><tr><td>&quot;50%&quot;</td><td>&quot;2022-09-15 13:00:00+00:00&quot;</td><td>26.418579</td><td>null</td><td>1.2313436e7</td><td>1.4862e7</td><td>3.4204e6</td><td>4.1284e6</td><td>0.001287</td><td>2.428091</td><td>245.46402</td><td>72.87</td><td>19.2</td></tr><tr><td>&quot;75%&quot;</td><td>&quot;2024-01-23 06:00:00+00:00&quot;</td><td>29.746643</td><td>null</td><td>1.6668687e7</td><td>1.9912196e7</td><td>4.6302e6</td><td>5.5312e6</td><td>0.466184</td><td>3.333483</td><td>305.416016</td><td>76.94</td><td>28.5</td></tr><tr><td>&quot;max&quot;</td><td>&quot;2025-06-01 00:00:00+00:00&quot;</td><td>46.374786</td><td>null</td><td>2.4923e7</td><td>2.9038414e7</td><td>6.9232e6</td><td>8.0662e6</td><td>314.004838</td><td>19.006941</td><td>359.999786</td><td>77.34</td><td>28.8</td></tr></tbody></table></div>"
      ],
      "text/plain": [
       "shape: (9, 13)\n",
       "┌────────────┬───────────┬───────────┬─────────┬───┬───────────┬───────────┬───────────┬───────────┐\n",
       "│ statistic  ┆ timestamp ┆ temperatu ┆ city    ┆ … ┆ wind_spee ┆ wind_dire ┆ land_long ┆ land_lati │\n",
       "│ ---        ┆ ---       ┆ re        ┆ ---     ┆   ┆ d_mps     ┆ ction_met ┆ itude     ┆ tude      │\n",
       "│ str        ┆ str       ┆ ---       ┆ str     ┆   ┆ ---       ┆ eorologic ┆ ---       ┆ ---       │\n",
       "│            ┆           ┆ f64       ┆         ┆   ┆ f64       ┆ al        ┆ f64       ┆ f64       │\n",
       "│            ┆           ┆           ┆         ┆   ┆           ┆ ---       ┆           ┆           │\n",
       "│            ┆           ┆           ┆         ┆   ┆           ┆ f64       ┆           ┆           │\n",
       "╞════════════╪═══════════╪═══════════╪═════════╪═══╪═══════════╪═══════════╪═══════════╪═══════════╡\n",
       "│ count      ┆ 3989664   ┆ 2.046285e ┆ 3989664 ┆ … ┆ 2.046285e ┆ 2.046285e ┆ 3.989664e ┆ 3.989664e │\n",
       "│            ┆           ┆ 6         ┆         ┆   ┆ 6         ┆ 6         ┆ 6         ┆ 6         │\n",
       "│ null_count ┆ 0         ┆ 1.943379e ┆ 0       ┆ … ┆ 1.943379e ┆ 1.943379e ┆ 0.0       ┆ 0.0       │\n",
       "│            ┆           ┆ 6         ┆         ┆   ┆ 6         ┆ 6         ┆           ┆           │\n",
       "│ mean       ┆ 2022-09-1 ┆ 25.379801 ┆ null    ┆ … ┆ 2.643632  ┆ 210.42797 ┆ 74.280714 ┆ 22.364286 │\n",
       "│            ┆ 5 12:30:0 ┆           ┆         ┆   ┆           ┆ 9         ┆           ┆           │\n",
       "│            ┆ 0+00:00   ┆           ┆         ┆   ┆           ┆           ┆           ┆           │\n",
       "│ std        ┆ null      ┆ 6.977661  ┆ null    ┆ … ┆ 1.397325  ┆ 108.77739 ┆ 2.100871  ┆ 4.653203  │\n",
       "│ min        ┆ 2019-12-3 ┆ 0.487457  ┆ null    ┆ … ┆ 0.002416  ┆ 0.0       ┆ 72.47     ┆ 18.5      │\n",
       "│            ┆ 1 01:00:0 ┆           ┆         ┆   ┆           ┆           ┆           ┆           │\n",
       "│            ┆ 0+00:00   ┆           ┆         ┆   ┆           ┆           ┆           ┆           │\n",
       "│ 25%        ┆ 2021-05-0 ┆ 21.677216 ┆ null    ┆ … ┆ 1.694546  ┆ 109.56787 ┆ 72.67     ┆ 18.8      │\n",
       "│            ┆ 8 19:00:0 ┆           ┆         ┆   ┆           ┆ 1         ┆           ┆           │\n",
       "│            ┆ 0+00:00   ┆           ┆         ┆   ┆           ┆           ┆           ┆           │\n",
       "│ 50%        ┆ 2022-09-1 ┆ 26.418579 ┆ null    ┆ … ┆ 2.428091  ┆ 245.46402 ┆ 72.87     ┆ 19.2      │\n",
       "│            ┆ 5 13:00:0 ┆           ┆         ┆   ┆           ┆           ┆           ┆           │\n",
       "│            ┆ 0+00:00   ┆           ┆         ┆   ┆           ┆           ┆           ┆           │\n",
       "│ 75%        ┆ 2024-01-2 ┆ 29.746643 ┆ null    ┆ … ┆ 3.333483  ┆ 305.41601 ┆ 76.94     ┆ 28.5      │\n",
       "│            ┆ 3 06:00:0 ┆           ┆         ┆   ┆           ┆ 6         ┆           ┆           │\n",
       "│            ┆ 0+00:00   ┆           ┆         ┆   ┆           ┆           ┆           ┆           │\n",
       "│ max        ┆ 2025-06-0 ┆ 46.374786 ┆ null    ┆ … ┆ 19.006941 ┆ 359.99978 ┆ 77.34     ┆ 28.8      │\n",
       "│            ┆ 1 00:00:0 ┆           ┆         ┆   ┆           ┆ 6         ┆           ┆           │\n",
       "│            ┆ 0+00:00   ┆           ┆         ┆   ┆           ┆           ┆           ┆           │\n",
       "└────────────┴───────────┴───────────┴─────────┴───┴───────────┴───────────┴───────────┴───────────┘"
      ]
     },
     "execution_count": 29,
     "metadata": {},
     "output_type": "execute_result"
    }
   ],
   "source": [
    "weather_data_pldf_trans_2.describe()"
   ]
  },
  {
   "cell_type": "code",
   "execution_count": 30,
   "id": "b6096630",
   "metadata": {},
   "outputs": [],
   "source": [
    "columns_to_check = [\n",
    "    \"precipitation_mm\",\n",
    "    \"temperature\",\n",
    "    \"wind_speed_mps\",\n",
    "    \"wind_direction_meteorological\",\n",
    "    \"surface_net_solar_radiation_joules_per_m2\",\n",
    "    \"surface_solar_radiation_downwards_joules_per_m2\",\n",
    "    \"surface_net_solar_radiation_kWh_per_m2\",\n",
    "    \"surface_solar_radiation_downwards_kWh_per_m2\",\n",
    "\n",
    "]\n",
    "grouping_cols = [\"land_latitude\", \"land_longitude\"]"
   ]
  },
  {
   "cell_type": "code",
   "execution_count": 31,
   "id": "d47fc312",
   "metadata": {},
   "outputs": [],
   "source": [
    "completeness_report = compute_completeness(\n",
    "    weather_data_pldf_trans_2,\n",
    "    grouping_col=grouping_cols,\n",
    "    columns_to_check=columns_to_check\n",
    ")\n",
    "plot_df = completeness_transform_long(\n",
    "        completeness_report,\n",
    "        grouping_col=grouping_cols,\n",
    "        columns_to_check=columns_to_check\n",
    ")"
   ]
  },
  {
   "cell_type": "code",
   "execution_count": 32,
   "id": "34741d1f",
   "metadata": {},
   "outputs": [
    {
     "data": {
      "image/png": "[encoded data removed]",
      "text/plain": [
       "<Figure size 1920x1200 with 8 Axes>"
      ]
     },
     "metadata": {},
     "output_type": "display_data"
    }
   ],
   "source": [
    "# Plot\n",
    "g = sns.FacetGrid(\n",
    "    plot_df,\n",
    "    col=\"column\",\n",
    "    col_wrap=3,\n",
    "    height=4.0,\n",
    "    aspect=1.6,\n",
    "    sharex=True,\n",
    "    sharey=True,\n",
    "    despine=False\n",
    ")\n",
    "\n",
    "g.map_dataframe(hist_with_counts)\n",
    "\n",
    "# Formatting\n",
    "g.set_titles(\"{col_name}\")\n",
    "g.set_axis_labels(\"Completeness (%)\", \"Number of Locations\")\n",
    "for ax in g.axes.flatten():\n",
    "    ax.set_xlim(-5, 105)\n",
    "    ax.set_ylim(0, 55)\n",
    "    ax.xaxis.set_major_locator(ticker.MultipleLocator(20))\n",
    "    ax.xaxis.set_major_formatter(ticker.PercentFormatter())\n",
    "    ax.tick_params(labelbottom=True)\n",
    "\n",
    "plt.subplots_adjust(top=0.9, hspace=0.25, wspace=0.15)\n",
    "g.fig.suptitle(\"Completeness of Weather dataset\", fontsize=16)\n",
    "plt.show()"
   ]
  },
  {
   "cell_type": "markdown",
   "id": "7d307ffb",
   "metadata": {},
   "source": [
    "### Data Transformation (3)\n"
   ]
  },
  {
   "cell_type": "code",
   "execution_count": 33,
   "id": "5dab5219",
   "metadata": {},
   "outputs": [],
   "source": [
    "# using the locations with 0% completeness to filter out these locations from the weather data\n",
    "zero_avg_locations = completeness_report.filter(\n",
    "    pl.col(name=\"avg_completeness\") == 0\n",
    ").select(\"land_latitude\", \"land_longitude\")\n",
    "\n",
    "weather_data_pldf_no_null_locations = weather_data_pldf_trans_2.join(\n",
    "    zero_avg_locations.select(grouping_cols),\n",
    "    on=grouping_cols,\n",
    "    how=\"anti\"\n",
    ")"
   ]
  },
  {
   "cell_type": "code",
   "execution_count": 34,
   "id": "2783376e",
   "metadata": {},
   "outputs": [
    {
     "data": {
      "text/html": [
       "<div><style>\n",
       ".dataframe > thead > tr,\n",
       ".dataframe > tbody > tr {\n",
       "  text-align: right;\n",
       "  white-space: pre-wrap;\n",
       "}\n",
       "</style>\n",
       "<small>shape: (3, 11)</small><table border=\"1\" class=\"dataframe\"><thead><tr><th>land_latitude</th><th>land_longitude</th><th>total_rows</th><th>precipitation_mm_non_null</th><th>temperature_non_null</th><th>wind_speed_mps_non_null</th><th>wind_direction_meteorological_non_null</th><th>surface_net_solar_radiation_joules_per_m2_non_null</th><th>surface_solar_radiation_downwards_joules_per_m2_non_null</th><th>surface_net_solar_radiation_kWh_per_m2_non_null</th><th>surface_solar_radiation_downwards_kWh_per_m2_non_null</th></tr><tr><td>f64</td><td>f64</td><td>u32</td><td>u32</td><td>u32</td><td>u32</td><td>u32</td><td>u32</td><td>u32</td><td>u32</td><td>u32</td></tr></thead><tbody><tr><td>28.6</td><td>77.14</td><td>47496</td><td>45473</td><td>45473</td><td>45473</td><td>45473</td><td>41999</td><td>41999</td><td>41999</td><td>41999</td></tr><tr><td>28.4</td><td>76.84</td><td>47496</td><td>45473</td><td>45473</td><td>45473</td><td>45473</td><td>41999</td><td>41999</td><td>41999</td><td>41999</td></tr><tr><td>28.7</td><td>77.04</td><td>47496</td><td>45473</td><td>45473</td><td>45473</td><td>45473</td><td>41999</td><td>41999</td><td>41999</td><td>41999</td></tr></tbody></table></div>"
      ],
      "text/plain": [
       "shape: (3, 11)\n",
       "┌───────────┬───────────┬───────────┬───────────┬───┬───────────┬───────────┬───────────┬──────────┐\n",
       "│ land_lati ┆ land_long ┆ total_row ┆ precipita ┆ … ┆ surface_n ┆ surface_s ┆ surface_n ┆ surface_ │\n",
       "│ tude      ┆ itude     ┆ s         ┆ tion_mm_n ┆   ┆ et_solar_ ┆ olar_radi ┆ et_solar_ ┆ solar_ra │\n",
       "│ ---       ┆ ---       ┆ ---       ┆ on_null   ┆   ┆ radiation ┆ ation_dow ┆ radiation ┆ diation_ │\n",
       "│ f64       ┆ f64       ┆ u32       ┆ ---       ┆   ┆ _jo…      ┆ nwa…      ┆ _kW…      ┆ downwa…  │\n",
       "│           ┆           ┆           ┆ u32       ┆   ┆ ---       ┆ ---       ┆ ---       ┆ ---      │\n",
       "│           ┆           ┆           ┆           ┆   ┆ u32       ┆ u32       ┆ u32       ┆ u32      │\n",
       "╞═══════════╪═══════════╪═══════════╪═══════════╪═══╪═══════════╪═══════════╪═══════════╪══════════╡\n",
       "│ 28.6      ┆ 77.14     ┆ 47496     ┆ 45473     ┆ … ┆ 41999     ┆ 41999     ┆ 41999     ┆ 41999    │\n",
       "│ 28.4      ┆ 76.84     ┆ 47496     ┆ 45473     ┆ … ┆ 41999     ┆ 41999     ┆ 41999     ┆ 41999    │\n",
       "│ 28.7      ┆ 77.04     ┆ 47496     ┆ 45473     ┆ … ┆ 41999     ┆ 41999     ┆ 41999     ┆ 41999    │\n",
       "└───────────┴───────────┴───────────┴───────────┴───┴───────────┴───────────┴───────────┴──────────┘"
      ]
     },
     "metadata": {},
     "output_type": "display_data"
    },
    {
     "data": {
      "text/html": [
       "<div><style>\n",
       ".dataframe > thead > tr,\n",
       ".dataframe > tbody > tr {\n",
       "  text-align: right;\n",
       "  white-space: pre-wrap;\n",
       "}\n",
       "</style>\n",
       "<small>shape: (9, 12)</small><table border=\"1\" class=\"dataframe\"><thead><tr><th>statistic</th><th>land_latitude</th><th>land_longitude</th><th>total_rows</th><th>precipitation_mm_non_null</th><th>temperature_non_null</th><th>wind_speed_mps_non_null</th><th>wind_direction_meteorological_non_null</th><th>surface_net_solar_radiation_joules_per_m2_non_null</th><th>surface_solar_radiation_downwards_joules_per_m2_non_null</th><th>surface_net_solar_radiation_kWh_per_m2_non_null</th><th>surface_solar_radiation_downwards_kWh_per_m2_non_null</th></tr><tr><td>str</td><td>f64</td><td>f64</td><td>f64</td><td>f64</td><td>f64</td><td>f64</td><td>f64</td><td>f64</td><td>f64</td><td>f64</td><td>f64</td></tr></thead><tbody><tr><td>&quot;count&quot;</td><td>45.0</td><td>45.0</td><td>45.0</td><td>45.0</td><td>45.0</td><td>45.0</td><td>45.0</td><td>45.0</td><td>45.0</td><td>45.0</td><td>45.0</td></tr><tr><td>&quot;null_count&quot;</td><td>0.0</td><td>0.0</td><td>0.0</td><td>0.0</td><td>0.0</td><td>0.0</td><td>0.0</td><td>0.0</td><td>0.0</td><td>0.0</td><td>0.0</td></tr><tr><td>&quot;mean&quot;</td><td>25.393333</td><td>75.701111</td><td>47496.0</td><td>45473.0</td><td>45473.0</td><td>45473.0</td><td>45473.0</td><td>41998.955556</td><td>41998.977778</td><td>41998.955556</td><td>41998.977778</td></tr><tr><td>&quot;std&quot;</td><td>4.58988</td><td>1.991707</td><td>0.0</td><td>0.0</td><td>0.0</td><td>0.0</td><td>0.0</td><td>0.208409</td><td>0.149071</td><td>0.208409</td><td>0.149071</td></tr><tr><td>&quot;min&quot;</td><td>18.5</td><td>72.77</td><td>47496.0</td><td>45473.0</td><td>45473.0</td><td>45473.0</td><td>45473.0</td><td>41998.0</td><td>41998.0</td><td>41998.0</td><td>41998.0</td></tr><tr><td>&quot;25%&quot;</td><td>19.2</td><td>72.97</td><td>47496.0</td><td>45473.0</td><td>45473.0</td><td>45473.0</td><td>45473.0</td><td>41999.0</td><td>41999.0</td><td>41999.0</td><td>41999.0</td></tr><tr><td>&quot;50%&quot;</td><td>28.5</td><td>76.94</td><td>47496.0</td><td>45473.0</td><td>45473.0</td><td>45473.0</td><td>45473.0</td><td>41999.0</td><td>41999.0</td><td>41999.0</td><td>41999.0</td></tr><tr><td>&quot;75%&quot;</td><td>28.7</td><td>77.14</td><td>47496.0</td><td>45473.0</td><td>45473.0</td><td>45473.0</td><td>45473.0</td><td>41999.0</td><td>41999.0</td><td>41999.0</td><td>41999.0</td></tr><tr><td>&quot;max&quot;</td><td>28.8</td><td>77.34</td><td>47496.0</td><td>45473.0</td><td>45473.0</td><td>45473.0</td><td>45473.0</td><td>41999.0</td><td>41999.0</td><td>41999.0</td><td>41999.0</td></tr></tbody></table></div>"
      ],
      "text/plain": [
       "shape: (9, 12)\n",
       "┌───────────┬───────────┬───────────┬───────────┬───┬───────────┬───────────┬───────────┬──────────┐\n",
       "│ statistic ┆ land_lati ┆ land_long ┆ total_row ┆ … ┆ surface_n ┆ surface_s ┆ surface_n ┆ surface_ │\n",
       "│ ---       ┆ tude      ┆ itude     ┆ s         ┆   ┆ et_solar_ ┆ olar_radi ┆ et_solar_ ┆ solar_ra │\n",
       "│ str       ┆ ---       ┆ ---       ┆ ---       ┆   ┆ radiation ┆ ation_dow ┆ radiation ┆ diation_ │\n",
       "│           ┆ f64       ┆ f64       ┆ f64       ┆   ┆ _jo…      ┆ nwa…      ┆ _kW…      ┆ downwa…  │\n",
       "│           ┆           ┆           ┆           ┆   ┆ ---       ┆ ---       ┆ ---       ┆ ---      │\n",
       "│           ┆           ┆           ┆           ┆   ┆ f64       ┆ f64       ┆ f64       ┆ f64      │\n",
       "╞═══════════╪═══════════╪═══════════╪═══════════╪═══╪═══════════╪═══════════╪═══════════╪══════════╡\n",
       "│ count     ┆ 45.0      ┆ 45.0      ┆ 45.0      ┆ … ┆ 45.0      ┆ 45.0      ┆ 45.0      ┆ 45.0     │\n",
       "│ null_coun ┆ 0.0       ┆ 0.0       ┆ 0.0       ┆ … ┆ 0.0       ┆ 0.0       ┆ 0.0       ┆ 0.0      │\n",
       "│ t         ┆           ┆           ┆           ┆   ┆           ┆           ┆           ┆          │\n",
       "│ mean      ┆ 25.393333 ┆ 75.701111 ┆ 47496.0   ┆ … ┆ 41998.955 ┆ 41998.977 ┆ 41998.955 ┆ 41998.97 │\n",
       "│           ┆           ┆           ┆           ┆   ┆ 556       ┆ 778       ┆ 556       ┆ 7778     │\n",
       "│ std       ┆ 4.58988   ┆ 1.991707  ┆ 0.0       ┆ … ┆ 0.208409  ┆ 0.149071  ┆ 0.208409  ┆ 0.149071 │\n",
       "│ min       ┆ 18.5      ┆ 72.77     ┆ 47496.0   ┆ … ┆ 41998.0   ┆ 41998.0   ┆ 41998.0   ┆ 41998.0  │\n",
       "│ 25%       ┆ 19.2      ┆ 72.97     ┆ 47496.0   ┆ … ┆ 41999.0   ┆ 41999.0   ┆ 41999.0   ┆ 41999.0  │\n",
       "│ 50%       ┆ 28.5      ┆ 76.94     ┆ 47496.0   ┆ … ┆ 41999.0   ┆ 41999.0   ┆ 41999.0   ┆ 41999.0  │\n",
       "│ 75%       ┆ 28.7      ┆ 77.14     ┆ 47496.0   ┆ … ┆ 41999.0   ┆ 41999.0   ┆ 41999.0   ┆ 41999.0  │\n",
       "│ max       ┆ 28.8      ┆ 77.34     ┆ 47496.0   ┆ … ┆ 41999.0   ┆ 41999.0   ┆ 41999.0   ┆ 41999.0  │\n",
       "└───────────┴───────────┴───────────┴───────────┴───┴───────────┴───────────┴───────────┴──────────┘"
      ]
     },
     "metadata": {},
     "output_type": "display_data"
    }
   ],
   "source": [
    "# Verify that the locations with 0% completeness have been removed\n",
    "completeness_report_no_null = weather_data_pldf_no_null_locations.group_by(grouping_cols).agg(\n",
    "    [\n",
    "        pl.len().alias(\"total_rows\"),\n",
    "        *[pl.col(col).is_not_null().sum().alias(f\"{col}_non_null\") for col in columns_to_check]\n",
    "    ]\n",
    ")\n",
    "# Display the updated completeness report\n",
    "display(completeness_report_no_null.head(3))\n",
    "display(completeness_report_no_null.describe())"
   ]
  },
  {
   "cell_type": "code",
   "execution_count": 35,
   "id": "0e1b510a",
   "metadata": {},
   "outputs": [
    {
     "data": {
      "text/html": [
       "<div><style>\n",
       ".dataframe > thead > tr,\n",
       ".dataframe > tbody > tr {\n",
       "  text-align: right;\n",
       "  white-space: pre-wrap;\n",
       "}\n",
       "</style>\n",
       "<small>shape: (8, 12)</small><table border=\"1\" class=\"dataframe\"><thead><tr><th>timestamp</th><th>temperature</th><th>city</th><th>surface_net_solar_radiation_joules_per_m2</th><th>surface_solar_radiation_downwards_joules_per_m2</th><th>surface_net_solar_radiation_kWh_per_m2</th><th>surface_solar_radiation_downwards_kWh_per_m2</th><th>precipitation_mm</th><th>wind_speed_mps</th><th>wind_direction_meteorological</th><th>land_longitude</th><th>land_latitude</th></tr><tr><td>datetime[μs, UTC]</td><td>f64</td><td>cat</td><td>f64</td><td>f64</td><td>f64</td><td>f64</td><td>f64</td><td>f32</td><td>f32</td><td>f64</td><td>f64</td></tr></thead><tbody><tr><td>2022-11-06 00:00:00 UTC</td><td>null</td><td>&quot;delhi&quot;</td><td>null</td><td>null</td><td>null</td><td>null</td><td>null</td><td>null</td><td>null</td><td>77.14</td><td>28.7</td></tr><tr><td>2024-07-19 09:00:00 UTC</td><td>34.120514</td><td>&quot;delhi&quot;</td><td>1.2234387e7</td><td>1.5529809e7</td><td>3.3984e6</td><td>4.3138e6</td><td>0.409899</td><td>2.244403</td><td>109.216675</td><td>76.94</td><td>28.5</td></tr><tr><td>2020-08-21 05:00:00 UTC</td><td>29.900604</td><td>&quot;delhi&quot;</td><td>3.83523e6</td><td>4944837.5</td><td>1.0653e6</td><td>1.3736e6</td><td>0.009285</td><td>5.073352</td><td>112.909973</td><td>76.94</td><td>28.4</td></tr><tr><td>2023-03-10 06:00:00 UTC</td><td>32.246765</td><td>&quot;mumbai&quot;</td><td>null</td><td>null</td><td>null</td><td>null</td><td>0.0</td><td>2.701482</td><td>44.144623</td><td>72.97</td><td>18.6</td></tr><tr><td>2024-05-05 23:00:00 UTC</td><td>25.772583</td><td>&quot;delhi&quot;</td><td>2.3256638e7</td><td>2.7830418e7</td><td>6.4602e6</td><td>7.7307e6</td><td>0.0</td><td>2.539384</td><td>320.983643</td><td>77.24</td><td>28.6</td></tr><tr><td>2023-07-16 19:00:00 UTC</td><td>27.908905</td><td>&quot;delhi&quot;</td><td>1.1329187e7</td><td>1.4309e7</td><td>3.1470e6</td><td>3.9747e6</td><td>0.526269</td><td>1.156761</td><td>153.701721</td><td>76.84</td><td>28.5</td></tr><tr><td>2022-06-03 15:00:00 UTC</td><td>33.832733</td><td>&quot;delhi&quot;</td><td>2.215717e7</td><td>2.7641942e7</td><td>6.1548e6</td><td>7.6783e6</td><td>0.000858</td><td>2.511501</td><td>47.116089</td><td>77.04</td><td>28.5</td></tr><tr><td>2024-07-30 18:00:00 UTC</td><td>25.951904</td><td>&quot;mumbai&quot;</td><td>1.0377901e7</td><td>1.1815638e7</td><td>2.8828e6</td><td>3.2821e6</td><td>9.308009</td><td>6.940135</td><td>225.565918</td><td>72.97</td><td>19.0</td></tr></tbody></table></div>"
      ],
      "text/plain": [
       "shape: (8, 12)\n",
       "┌────────────┬────────────┬────────┬───────────┬───┬───────────┬───────────┬───────────┬───────────┐\n",
       "│ timestamp  ┆ temperatur ┆ city   ┆ surface_n ┆ … ┆ wind_spee ┆ wind_dire ┆ land_long ┆ land_lati │\n",
       "│ ---        ┆ e          ┆ ---    ┆ et_solar_ ┆   ┆ d_mps     ┆ ction_met ┆ itude     ┆ tude      │\n",
       "│ datetime[μ ┆ ---        ┆ cat    ┆ radiation ┆   ┆ ---       ┆ eorologic ┆ ---       ┆ ---       │\n",
       "│ s, UTC]    ┆ f64        ┆        ┆ _jo…      ┆   ┆ f32       ┆ al        ┆ f64       ┆ f64       │\n",
       "│            ┆            ┆        ┆ ---       ┆   ┆           ┆ ---       ┆           ┆           │\n",
       "│            ┆            ┆        ┆ f64       ┆   ┆           ┆ f32       ┆           ┆           │\n",
       "╞════════════╪════════════╪════════╪═══════════╪═══╪═══════════╪═══════════╪═══════════╪═══════════╡\n",
       "│ 2022-11-06 ┆ null       ┆ delhi  ┆ null      ┆ … ┆ null      ┆ null      ┆ 77.14     ┆ 28.7      │\n",
       "│ 00:00:00   ┆            ┆        ┆           ┆   ┆           ┆           ┆           ┆           │\n",
       "│ UTC        ┆            ┆        ┆           ┆   ┆           ┆           ┆           ┆           │\n",
       "│ 2024-07-19 ┆ 34.120514  ┆ delhi  ┆ 1.2234387 ┆ … ┆ 2.244403  ┆ 109.21667 ┆ 76.94     ┆ 28.5      │\n",
       "│ 09:00:00   ┆            ┆        ┆ e7        ┆   ┆           ┆ 5         ┆           ┆           │\n",
       "│ UTC        ┆            ┆        ┆           ┆   ┆           ┆           ┆           ┆           │\n",
       "│ 2020-08-21 ┆ 29.900604  ┆ delhi  ┆ 3.83523e6 ┆ … ┆ 5.073352  ┆ 112.90997 ┆ 76.94     ┆ 28.4      │\n",
       "│ 05:00:00   ┆            ┆        ┆           ┆   ┆           ┆ 3         ┆           ┆           │\n",
       "│ UTC        ┆            ┆        ┆           ┆   ┆           ┆           ┆           ┆           │\n",
       "│ 2023-03-10 ┆ 32.246765  ┆ mumbai ┆ null      ┆ … ┆ 2.701482  ┆ 44.144623 ┆ 72.97     ┆ 18.6      │\n",
       "│ 06:00:00   ┆            ┆        ┆           ┆   ┆           ┆           ┆           ┆           │\n",
       "│ UTC        ┆            ┆        ┆           ┆   ┆           ┆           ┆           ┆           │\n",
       "│ 2024-05-05 ┆ 25.772583  ┆ delhi  ┆ 2.3256638 ┆ … ┆ 2.539384  ┆ 320.98364 ┆ 77.24     ┆ 28.6      │\n",
       "│ 23:00:00   ┆            ┆        ┆ e7        ┆   ┆           ┆ 3         ┆           ┆           │\n",
       "│ UTC        ┆            ┆        ┆           ┆   ┆           ┆           ┆           ┆           │\n",
       "│ 2023-07-16 ┆ 27.908905  ┆ delhi  ┆ 1.1329187 ┆ … ┆ 1.156761  ┆ 153.70172 ┆ 76.84     ┆ 28.5      │\n",
       "│ 19:00:00   ┆            ┆        ┆ e7        ┆   ┆           ┆ 1         ┆           ┆           │\n",
       "│ UTC        ┆            ┆        ┆           ┆   ┆           ┆           ┆           ┆           │\n",
       "│ 2022-06-03 ┆ 33.832733  ┆ delhi  ┆ 2.215717e ┆ … ┆ 2.511501  ┆ 47.116089 ┆ 77.04     ┆ 28.5      │\n",
       "│ 15:00:00   ┆            ┆        ┆ 7         ┆   ┆           ┆           ┆           ┆           │\n",
       "│ UTC        ┆            ┆        ┆           ┆   ┆           ┆           ┆           ┆           │\n",
       "│ 2024-07-30 ┆ 25.951904  ┆ mumbai ┆ 1.0377901 ┆ … ┆ 6.940135  ┆ 225.56591 ┆ 72.97     ┆ 19.0      │\n",
       "│ 18:00:00   ┆            ┆        ┆ e7        ┆   ┆           ┆ 8         ┆           ┆           │\n",
       "│ UTC        ┆            ┆        ┆           ┆   ┆           ┆           ┆           ┆           │\n",
       "└────────────┴────────────┴────────┴───────────┴───┴───────────┴───────────┴───────────┴───────────┘"
      ]
     },
     "metadata": {},
     "output_type": "display_data"
    }
   ],
   "source": [
    "display(weather_data_pldf_no_null_locations.sample(n=8, with_replacement=False))"
   ]
  },
  {
   "cell_type": "code",
   "execution_count": 36,
   "id": "d4c3c258",
   "metadata": {},
   "outputs": [
    {
     "name": "stdout",
     "output_type": "stream",
     "text": [
      "Data successfully written to ../../data/hitachi/weather_20250714_1401_step4.parquet\n"
     ]
    }
   ],
   "source": [
    "weather_filepath_step4 = weather_filepath_step3.replace(\"_step3.parquet\", \"_step4.parquet\")\n",
    "\n",
    "try:\n",
    "    weather_data_pldf_no_null_locations.write_parquet(file=weather_filepath_step4,\n",
    "                                              statistics=True,\n",
    "                                              compression=\"snappy\")\n",
    "    print(f\"Data successfully written to {weather_filepath_step4}\")\n",
    "    weather_processing_filepaths.append(weather_filepath_step4)\n",
    "except Exception as e:\n",
    "    print(f\"Error writing data to {weather_filepath_step4}: {e}\")"
   ]
  },
  {
   "cell_type": "markdown",
   "id": "09ca19a2",
   "metadata": {},
   "source": [
    "### Data Completeness and Quality Checks (2)"
   ]
  },
  {
   "cell_type": "code",
   "execution_count": 37,
   "id": "fcc43726",
   "metadata": {},
   "outputs": [],
   "source": [
    "completeness_report = compute_completeness(\n",
    "    weather_data_pldf_no_null_locations,\n",
    "    grouping_col=grouping_cols,\n",
    "    columns_to_check=columns_to_check\n",
    ")\n",
    "plot_df = completeness_transform_long(\n",
    "        completeness_report,\n",
    "        grouping_col=grouping_cols,\n",
    "        columns_to_check=columns_to_check\n",
    ")"
   ]
  },
  {
   "cell_type": "code",
   "execution_count": 38,
   "id": "358d546b",
   "metadata": {},
   "outputs": [
    {
     "data": {
      "image/png": "[encoded data removed]",
      "text/plain": [
       "<Figure size 1920x1200 with 8 Axes>"
      ]
     },
     "metadata": {},
     "output_type": "display_data"
    }
   ],
   "source": [
    "# Plot\n",
    "g = sns.FacetGrid(\n",
    "    plot_df,\n",
    "    col=\"column\",\n",
    "    col_wrap=3,\n",
    "    height=4.0,\n",
    "    aspect=1.6,\n",
    "    sharex=True,\n",
    "    sharey=True,\n",
    "    despine=False\n",
    ")\n",
    "\n",
    "g.map_dataframe(hist_with_counts)\n",
    "\n",
    "# Formatting\n",
    "g.set_titles(\"{col_name}\")\n",
    "g.set_axis_labels(\"Completeness (%)\", \"Number of Locations\")\n",
    "for ax in g.axes.flatten():\n",
    "    ax.set_xlim(-5, 105)\n",
    "    ax.set_ylim(0, 55)\n",
    "    ax.xaxis.set_major_locator(ticker.MultipleLocator(20))\n",
    "    ax.xaxis.set_major_formatter(ticker.PercentFormatter())\n",
    "    ax.tick_params(labelbottom=True)\n",
    "\n",
    "plt.subplots_adjust(top=0.9, hspace=0.25, wspace=0.15)\n",
    "g.fig.suptitle(\"Completeness of Weather dataset\", fontsize=16)\n",
    "plt.show()"
   ]
  },
  {
   "cell_type": "code",
   "execution_count": 39,
   "id": "b5102204",
   "metadata": {},
   "outputs": [
    {
     "data": {
      "text/html": [
       "<div><style>\n",
       ".dataframe > thead > tr,\n",
       ".dataframe > tbody > tr {\n",
       "  text-align: right;\n",
       "  white-space: pre-wrap;\n",
       "}\n",
       "</style>\n",
       "<small>shape: (8, 10)</small><table border=\"1\" class=\"dataframe\"><thead><tr><th>land_latitude</th><th>land_longitude</th><th>precipitation_mm_isolated_nulls</th><th>temperature_isolated_nulls</th><th>wind_speed_mps_isolated_nulls</th><th>wind_direction_meteorological_isolated_nulls</th><th>surface_net_solar_radiation_joules_per_m2_isolated_nulls</th><th>surface_solar_radiation_downwards_joules_per_m2_isolated_nulls</th><th>surface_net_solar_radiation_kWh_per_m2_isolated_nulls</th><th>surface_solar_radiation_downwards_kWh_per_m2_isolated_nulls</th></tr><tr><td>f64</td><td>f64</td><td>u32</td><td>u32</td><td>u32</td><td>u32</td><td>u32</td><td>u32</td><td>u32</td><td>u32</td></tr></thead><tbody><tr><td>28.4</td><td>77.04</td><td>1975</td><td>1975</td><td>1975</td><td>1975</td><td>1824</td><td>1824</td><td>1824</td><td>1824</td></tr><tr><td>28.5</td><td>77.14</td><td>1975</td><td>1975</td><td>1975</td><td>1975</td><td>1824</td><td>1824</td><td>1824</td><td>1824</td></tr><tr><td>28.8</td><td>76.84</td><td>1975</td><td>1975</td><td>1975</td><td>1975</td><td>1824</td><td>1824</td><td>1824</td><td>1824</td></tr><tr><td>19.1</td><td>72.97</td><td>1975</td><td>1975</td><td>1975</td><td>1975</td><td>1823</td><td>1824</td><td>1823</td><td>1824</td></tr><tr><td>28.7</td><td>76.94</td><td>1975</td><td>1975</td><td>1975</td><td>1975</td><td>1824</td><td>1824</td><td>1824</td><td>1824</td></tr><tr><td>28.8</td><td>77.04</td><td>1975</td><td>1975</td><td>1975</td><td>1975</td><td>1824</td><td>1824</td><td>1824</td><td>1824</td></tr><tr><td>28.4</td><td>77.24</td><td>1975</td><td>1975</td><td>1975</td><td>1975</td><td>1824</td><td>1825</td><td>1824</td><td>1825</td></tr><tr><td>19.3</td><td>72.87</td><td>1975</td><td>1975</td><td>1975</td><td>1975</td><td>1824</td><td>1824</td><td>1824</td><td>1824</td></tr></tbody></table></div>"
      ],
      "text/plain": [
       "shape: (8, 10)\n",
       "┌───────────┬───────────┬───────────┬───────────┬───┬───────────┬───────────┬───────────┬──────────┐\n",
       "│ land_lati ┆ land_long ┆ precipita ┆ temperatu ┆ … ┆ surface_n ┆ surface_s ┆ surface_n ┆ surface_ │\n",
       "│ tude      ┆ itude     ┆ tion_mm_i ┆ re_isolat ┆   ┆ et_solar_ ┆ olar_radi ┆ et_solar_ ┆ solar_ra │\n",
       "│ ---       ┆ ---       ┆ solated_n ┆ ed_nulls  ┆   ┆ radiation ┆ ation_dow ┆ radiation ┆ diation_ │\n",
       "│ f64       ┆ f64       ┆ ull…      ┆ ---       ┆   ┆ _jo…      ┆ nwa…      ┆ _kW…      ┆ downwa…  │\n",
       "│           ┆           ┆ ---       ┆ u32       ┆   ┆ ---       ┆ ---       ┆ ---       ┆ ---      │\n",
       "│           ┆           ┆ u32       ┆           ┆   ┆ u32       ┆ u32       ┆ u32       ┆ u32      │\n",
       "╞═══════════╪═══════════╪═══════════╪═══════════╪═══╪═══════════╪═══════════╪═══════════╪══════════╡\n",
       "│ 28.4      ┆ 77.04     ┆ 1975      ┆ 1975      ┆ … ┆ 1824      ┆ 1824      ┆ 1824      ┆ 1824     │\n",
       "│ 28.5      ┆ 77.14     ┆ 1975      ┆ 1975      ┆ … ┆ 1824      ┆ 1824      ┆ 1824      ┆ 1824     │\n",
       "│ 28.8      ┆ 76.84     ┆ 1975      ┆ 1975      ┆ … ┆ 1824      ┆ 1824      ┆ 1824      ┆ 1824     │\n",
       "│ 19.1      ┆ 72.97     ┆ 1975      ┆ 1975      ┆ … ┆ 1823      ┆ 1824      ┆ 1823      ┆ 1824     │\n",
       "│ 28.7      ┆ 76.94     ┆ 1975      ┆ 1975      ┆ … ┆ 1824      ┆ 1824      ┆ 1824      ┆ 1824     │\n",
       "│ 28.8      ┆ 77.04     ┆ 1975      ┆ 1975      ┆ … ┆ 1824      ┆ 1824      ┆ 1824      ┆ 1824     │\n",
       "│ 28.4      ┆ 77.24     ┆ 1975      ┆ 1975      ┆ … ┆ 1824      ┆ 1825      ┆ 1824      ┆ 1825     │\n",
       "│ 19.3      ┆ 72.87     ┆ 1975      ┆ 1975      ┆ … ┆ 1824      ┆ 1824      ┆ 1824      ┆ 1824     │\n",
       "└───────────┴───────────┴───────────┴───────────┴───┴───────────┴───────────┴───────────┴──────────┘"
      ]
     },
     "metadata": {},
     "output_type": "display_data"
    }
   ],
   "source": [
    "# remember that this variable has already been defined: 'columns_to_check'\n",
    "all_locations = weather_data_pldf_no_null_locations.select(grouping_cols).unique()\n",
    "\n",
    "result = all_locations\n",
    "\n",
    "# Join each column's results\n",
    "for col in columns_to_check:\n",
    "    col_result = count_isolated_nulls(weather_data_pldf_no_null_locations, col, grouping_cols)\n",
    "    result = result.join(\n",
    "        col_result,\n",
    "        on=grouping_cols,\n",
    "        how=\"left\"  # Keep all locations even if no isolated nulls\n",
    "    )\n",
    "\n",
    "# Fill null values with 0 (since no isolated nulls means count is 0)\n",
    "result = result.fill_null(0)\n",
    "display(result.sample(n=8, with_replacement=False))"
   ]
  },
  {
   "cell_type": "code",
   "execution_count": 40,
   "id": "1a26840e",
   "metadata": {},
   "outputs": [
    {
     "data": {
      "text/html": [
       "<div><style>\n",
       ".dataframe > thead > tr,\n",
       ".dataframe > tbody > tr {\n",
       "  text-align: right;\n",
       "  white-space: pre-wrap;\n",
       "}\n",
       "</style>\n",
       "<small>shape: (8, 26)</small><table border=\"1\" class=\"dataframe\"><thead><tr><th>land_latitude</th><th>land_longitude</th><th>precipitation_mm_total_nulls</th><th>precipitation_mm_isolated_nulls</th><th>precipitation_mm_gaps</th><th>temperature_total_nulls</th><th>temperature_isolated_nulls</th><th>temperature_gaps</th><th>wind_speed_mps_total_nulls</th><th>wind_speed_mps_isolated_nulls</th><th>wind_speed_mps_gaps</th><th>wind_direction_meteorological_total_nulls</th><th>wind_direction_meteorological_isolated_nulls</th><th>wind_direction_meteorological_gaps</th><th>surface_net_solar_radiation_joules_per_m2_total_nulls</th><th>surface_net_solar_radiation_joules_per_m2_isolated_nulls</th><th>surface_net_solar_radiation_joules_per_m2_gaps</th><th>surface_solar_radiation_downwards_joules_per_m2_total_nulls</th><th>surface_solar_radiation_downwards_joules_per_m2_isolated_nulls</th><th>surface_solar_radiation_downwards_joules_per_m2_gaps</th><th>surface_net_solar_radiation_kWh_per_m2_total_nulls</th><th>surface_net_solar_radiation_kWh_per_m2_isolated_nulls</th><th>surface_net_solar_radiation_kWh_per_m2_gaps</th><th>surface_solar_radiation_downwards_kWh_per_m2_total_nulls</th><th>surface_solar_radiation_downwards_kWh_per_m2_isolated_nulls</th><th>surface_solar_radiation_downwards_kWh_per_m2_gaps</th></tr><tr><td>f64</td><td>f64</td><td>u32</td><td>u32</td><td>list[struct[2]]</td><td>u32</td><td>u32</td><td>list[struct[2]]</td><td>u32</td><td>u32</td><td>list[struct[2]]</td><td>u32</td><td>u32</td><td>list[struct[2]]</td><td>u32</td><td>u32</td><td>list[struct[2]]</td><td>u32</td><td>u32</td><td>list[struct[2]]</td><td>u32</td><td>u32</td><td>list[struct[2]]</td><td>u32</td><td>u32</td><td>list[struct[2]]</td></tr></thead><tbody><tr><td>19.2</td><td>72.97</td><td>2023</td><td>1975</td><td>[{2019-12-31 02:00:00 UTC,2019-12-31 23:00:00 UTC}, {2022-10-31 00:00:00 UTC,2022-10-31 23:00:00 UTC}]</td><td>2023</td><td>1975</td><td>[{2019-12-31 02:00:00 UTC,2019-12-31 23:00:00 UTC}, {2022-10-31 00:00:00 UTC,2022-10-31 23:00:00 UTC}]</td><td>2023</td><td>1975</td><td>[{2019-12-31 02:00:00 UTC,2019-12-31 23:00:00 UTC}, {2022-10-31 00:00:00 UTC,2022-10-31 23:00:00 UTC}]</td><td>2023</td><td>1975</td><td>[{2019-12-31 02:00:00 UTC,2019-12-31 23:00:00 UTC}, {2022-10-31 00:00:00 UTC,2022-10-31 23:00:00 UTC}]</td><td>5497</td><td>1824</td><td>[{2019-12-31 02:00:00 UTC,2019-12-31 23:00:00 UTC}, {2022-10-31 00:00:00 UTC,2023-04-01 00:00:00 UTC}]</td><td>5497</td><td>1824</td><td>[{2019-12-31 02:00:00 UTC,2019-12-31 23:00:00 UTC}, {2022-10-31 00:00:00 UTC,2023-04-01 00:00:00 UTC}]</td><td>5497</td><td>1824</td><td>[{2019-12-31 02:00:00 UTC,2019-12-31 23:00:00 UTC}, {2022-10-31 00:00:00 UTC,2023-04-01 00:00:00 UTC}]</td><td>5497</td><td>1824</td><td>[{2019-12-31 02:00:00 UTC,2019-12-31 23:00:00 UTC}, {2022-10-31 00:00:00 UTC,2023-04-01 00:00:00 UTC}]</td></tr><tr><td>28.5</td><td>76.84</td><td>2023</td><td>1975</td><td>[{2019-12-31 02:00:00 UTC,2019-12-31 23:00:00 UTC}, {2022-10-31 00:00:00 UTC,2022-10-31 23:00:00 UTC}]</td><td>2023</td><td>1975</td><td>[{2019-12-31 02:00:00 UTC,2019-12-31 23:00:00 UTC}, {2022-10-31 00:00:00 UTC,2022-10-31 23:00:00 UTC}]</td><td>2023</td><td>1975</td><td>[{2019-12-31 02:00:00 UTC,2019-12-31 23:00:00 UTC}, {2022-10-31 00:00:00 UTC,2022-10-31 23:00:00 UTC}]</td><td>2023</td><td>1975</td><td>[{2019-12-31 02:00:00 UTC,2019-12-31 23:00:00 UTC}, {2022-10-31 00:00:00 UTC,2022-10-31 23:00:00 UTC}]</td><td>5497</td><td>1824</td><td>[{2019-12-31 02:00:00 UTC,2019-12-31 23:00:00 UTC}, {2022-10-31 00:00:00 UTC,2023-04-01 00:00:00 UTC}]</td><td>5497</td><td>1824</td><td>[{2019-12-31 02:00:00 UTC,2019-12-31 23:00:00 UTC}, {2022-10-31 00:00:00 UTC,2023-04-01 00:00:00 UTC}]</td><td>5497</td><td>1824</td><td>[{2019-12-31 02:00:00 UTC,2019-12-31 23:00:00 UTC}, {2022-10-31 00:00:00 UTC,2023-04-01 00:00:00 UTC}]</td><td>5497</td><td>1824</td><td>[{2019-12-31 02:00:00 UTC,2019-12-31 23:00:00 UTC}, {2022-10-31 00:00:00 UTC,2023-04-01 00:00:00 UTC}]</td></tr><tr><td>19.3</td><td>72.87</td><td>2023</td><td>1975</td><td>[{2019-12-31 02:00:00 UTC,2019-12-31 23:00:00 UTC}, {2022-10-31 00:00:00 UTC,2022-10-31 23:00:00 UTC}]</td><td>2023</td><td>1975</td><td>[{2019-12-31 02:00:00 UTC,2019-12-31 23:00:00 UTC}, {2022-10-31 00:00:00 UTC,2022-10-31 23:00:00 UTC}]</td><td>2023</td><td>1975</td><td>[{2019-12-31 02:00:00 UTC,2019-12-31 23:00:00 UTC}, {2022-10-31 00:00:00 UTC,2022-10-31 23:00:00 UTC}]</td><td>2023</td><td>1975</td><td>[{2019-12-31 02:00:00 UTC,2019-12-31 23:00:00 UTC}, {2022-10-31 00:00:00 UTC,2022-10-31 23:00:00 UTC}]</td><td>5497</td><td>1824</td><td>[{2019-12-31 02:00:00 UTC,2019-12-31 23:00:00 UTC}, {2022-10-31 00:00:00 UTC,2023-04-01 00:00:00 UTC}]</td><td>5497</td><td>1824</td><td>[{2019-12-31 02:00:00 UTC,2019-12-31 23:00:00 UTC}, {2022-10-31 00:00:00 UTC,2023-04-01 00:00:00 UTC}]</td><td>5497</td><td>1824</td><td>[{2019-12-31 02:00:00 UTC,2019-12-31 23:00:00 UTC}, {2022-10-31 00:00:00 UTC,2023-04-01 00:00:00 UTC}]</td><td>5497</td><td>1824</td><td>[{2019-12-31 02:00:00 UTC,2019-12-31 23:00:00 UTC}, {2022-10-31 00:00:00 UTC,2023-04-01 00:00:00 UTC}]</td></tr><tr><td>28.6</td><td>77.14</td><td>2023</td><td>1975</td><td>[{2019-12-31 02:00:00 UTC,2019-12-31 23:00:00 UTC}, {2022-10-31 00:00:00 UTC,2022-10-31 23:00:00 UTC}]</td><td>2023</td><td>1975</td><td>[{2019-12-31 02:00:00 UTC,2019-12-31 23:00:00 UTC}, {2022-10-31 00:00:00 UTC,2022-10-31 23:00:00 UTC}]</td><td>2023</td><td>1975</td><td>[{2019-12-31 02:00:00 UTC,2019-12-31 23:00:00 UTC}, {2022-10-31 00:00:00 UTC,2022-10-31 23:00:00 UTC}]</td><td>2023</td><td>1975</td><td>[{2019-12-31 02:00:00 UTC,2019-12-31 23:00:00 UTC}, {2022-10-31 00:00:00 UTC,2022-10-31 23:00:00 UTC}]</td><td>5497</td><td>1824</td><td>[{2019-12-31 02:00:00 UTC,2019-12-31 23:00:00 UTC}, {2022-10-31 00:00:00 UTC,2023-04-01 00:00:00 UTC}]</td><td>5497</td><td>1824</td><td>[{2019-12-31 02:00:00 UTC,2019-12-31 23:00:00 UTC}, {2022-10-31 00:00:00 UTC,2023-04-01 00:00:00 UTC}]</td><td>5497</td><td>1824</td><td>[{2019-12-31 02:00:00 UTC,2019-12-31 23:00:00 UTC}, {2022-10-31 00:00:00 UTC,2023-04-01 00:00:00 UTC}]</td><td>5497</td><td>1824</td><td>[{2019-12-31 02:00:00 UTC,2019-12-31 23:00:00 UTC}, {2022-10-31 00:00:00 UTC,2023-04-01 00:00:00 UTC}]</td></tr><tr><td>28.8</td><td>77.14</td><td>2023</td><td>1975</td><td>[{2019-12-31 02:00:00 UTC,2019-12-31 23:00:00 UTC}, {2022-10-31 00:00:00 UTC,2022-10-31 23:00:00 UTC}]</td><td>2023</td><td>1975</td><td>[{2019-12-31 02:00:00 UTC,2019-12-31 23:00:00 UTC}, {2022-10-31 00:00:00 UTC,2022-10-31 23:00:00 UTC}]</td><td>2023</td><td>1975</td><td>[{2019-12-31 02:00:00 UTC,2019-12-31 23:00:00 UTC}, {2022-10-31 00:00:00 UTC,2022-10-31 23:00:00 UTC}]</td><td>2023</td><td>1975</td><td>[{2019-12-31 02:00:00 UTC,2019-12-31 23:00:00 UTC}, {2022-10-31 00:00:00 UTC,2022-10-31 23:00:00 UTC}]</td><td>5497</td><td>1824</td><td>[{2019-12-31 02:00:00 UTC,2019-12-31 23:00:00 UTC}, {2022-10-31 00:00:00 UTC,2023-04-01 00:00:00 UTC}]</td><td>5497</td><td>1824</td><td>[{2019-12-31 02:00:00 UTC,2019-12-31 23:00:00 UTC}, {2022-10-31 00:00:00 UTC,2023-04-01 00:00:00 UTC}]</td><td>5497</td><td>1824</td><td>[{2019-12-31 02:00:00 UTC,2019-12-31 23:00:00 UTC}, {2022-10-31 00:00:00 UTC,2023-04-01 00:00:00 UTC}]</td><td>5497</td><td>1824</td><td>[{2019-12-31 02:00:00 UTC,2019-12-31 23:00:00 UTC}, {2022-10-31 00:00:00 UTC,2023-04-01 00:00:00 UTC}]</td></tr><tr><td>28.4</td><td>76.84</td><td>2023</td><td>1975</td><td>[{2019-12-31 02:00:00 UTC,2019-12-31 23:00:00 UTC}, {2022-10-31 00:00:00 UTC,2022-10-31 23:00:00 UTC}]</td><td>2023</td><td>1975</td><td>[{2019-12-31 02:00:00 UTC,2019-12-31 23:00:00 UTC}, {2022-10-31 00:00:00 UTC,2022-10-31 23:00:00 UTC}]</td><td>2023</td><td>1975</td><td>[{2019-12-31 02:00:00 UTC,2019-12-31 23:00:00 UTC}, {2022-10-31 00:00:00 UTC,2022-10-31 23:00:00 UTC}]</td><td>2023</td><td>1975</td><td>[{2019-12-31 02:00:00 UTC,2019-12-31 23:00:00 UTC}, {2022-10-31 00:00:00 UTC,2022-10-31 23:00:00 UTC}]</td><td>5497</td><td>1824</td><td>[{2019-12-31 02:00:00 UTC,2019-12-31 23:00:00 UTC}, {2022-10-31 00:00:00 UTC,2023-04-01 00:00:00 UTC}]</td><td>5497</td><td>1824</td><td>[{2019-12-31 02:00:00 UTC,2019-12-31 23:00:00 UTC}, {2022-10-31 00:00:00 UTC,2023-04-01 00:00:00 UTC}]</td><td>5497</td><td>1824</td><td>[{2019-12-31 02:00:00 UTC,2019-12-31 23:00:00 UTC}, {2022-10-31 00:00:00 UTC,2023-04-01 00:00:00 UTC}]</td><td>5497</td><td>1824</td><td>[{2019-12-31 02:00:00 UTC,2019-12-31 23:00:00 UTC}, {2022-10-31 00:00:00 UTC,2023-04-01 00:00:00 UTC}]</td></tr><tr><td>28.6</td><td>77.24</td><td>2023</td><td>1975</td><td>[{2019-12-31 02:00:00 UTC,2019-12-31 23:00:00 UTC}, {2022-10-31 00:00:00 UTC,2022-10-31 23:00:00 UTC}]</td><td>2023</td><td>1975</td><td>[{2019-12-31 02:00:00 UTC,2019-12-31 23:00:00 UTC}, {2022-10-31 00:00:00 UTC,2022-10-31 23:00:00 UTC}]</td><td>2023</td><td>1975</td><td>[{2019-12-31 02:00:00 UTC,2019-12-31 23:00:00 UTC}, {2022-10-31 00:00:00 UTC,2022-10-31 23:00:00 UTC}]</td><td>2023</td><td>1975</td><td>[{2019-12-31 02:00:00 UTC,2019-12-31 23:00:00 UTC}, {2022-10-31 00:00:00 UTC,2022-10-31 23:00:00 UTC}]</td><td>5497</td><td>1824</td><td>[{2019-12-31 02:00:00 UTC,2019-12-31 23:00:00 UTC}, {2022-10-31 00:00:00 UTC,2023-04-01 00:00:00 UTC}]</td><td>5497</td><td>1824</td><td>[{2019-12-31 02:00:00 UTC,2019-12-31 23:00:00 UTC}, {2022-10-31 00:00:00 UTC,2023-04-01 00:00:00 UTC}]</td><td>5497</td><td>1824</td><td>[{2019-12-31 02:00:00 UTC,2019-12-31 23:00:00 UTC}, {2022-10-31 00:00:00 UTC,2023-04-01 00:00:00 UTC}]</td><td>5497</td><td>1824</td><td>[{2019-12-31 02:00:00 UTC,2019-12-31 23:00:00 UTC}, {2022-10-31 00:00:00 UTC,2023-04-01 00:00:00 UTC}]</td></tr><tr><td>28.4</td><td>77.24</td><td>2023</td><td>1975</td><td>[{2019-12-31 02:00:00 UTC,2019-12-31 23:00:00 UTC}, {2022-10-31 00:00:00 UTC,2022-10-31 23:00:00 UTC}]</td><td>2023</td><td>1975</td><td>[{2019-12-31 02:00:00 UTC,2019-12-31 23:00:00 UTC}, {2022-10-31 00:00:00 UTC,2022-10-31 23:00:00 UTC}]</td><td>2023</td><td>1975</td><td>[{2019-12-31 02:00:00 UTC,2019-12-31 23:00:00 UTC}, {2022-10-31 00:00:00 UTC,2022-10-31 23:00:00 UTC}]</td><td>2023</td><td>1975</td><td>[{2019-12-31 02:00:00 UTC,2019-12-31 23:00:00 UTC}, {2022-10-31 00:00:00 UTC,2022-10-31 23:00:00 UTC}]</td><td>5497</td><td>1824</td><td>[{2019-12-31 02:00:00 UTC,2019-12-31 23:00:00 UTC}, {2022-10-31 00:00:00 UTC,2023-04-01 00:00:00 UTC}]</td><td>5498</td><td>1825</td><td>[{2019-12-31 02:00:00 UTC,2019-12-31 23:00:00 UTC}, {2022-10-31 00:00:00 UTC,2023-04-01 00:00:00 UTC}]</td><td>5497</td><td>1824</td><td>[{2019-12-31 02:00:00 UTC,2019-12-31 23:00:00 UTC}, {2022-10-31 00:00:00 UTC,2023-04-01 00:00:00 UTC}]</td><td>5498</td><td>1825</td><td>[{2019-12-31 02:00:00 UTC,2019-12-31 23:00:00 UTC}, {2022-10-31 00:00:00 UTC,2023-04-01 00:00:00 UTC}]</td></tr></tbody></table></div>"
      ],
      "text/plain": [
       "shape: (8, 26)\n",
       "┌───────────┬───────────┬───────────┬───────────┬───┬───────────┬───────────┬───────────┬──────────┐\n",
       "│ land_lati ┆ land_long ┆ precipita ┆ precipita ┆ … ┆ surface_n ┆ surface_s ┆ surface_s ┆ surface_ │\n",
       "│ tude      ┆ itude     ┆ tion_mm_t ┆ tion_mm_i ┆   ┆ et_solar_ ┆ olar_radi ┆ olar_radi ┆ solar_ra │\n",
       "│ ---       ┆ ---       ┆ otal_null ┆ solated_n ┆   ┆ radiation ┆ ation_dow ┆ ation_dow ┆ diation_ │\n",
       "│ f64       ┆ f64       ┆ s         ┆ ull…      ┆   ┆ _kW…      ┆ nwa…      ┆ nwa…      ┆ downwa…  │\n",
       "│           ┆           ┆ ---       ┆ ---       ┆   ┆ ---       ┆ ---       ┆ ---       ┆ ---      │\n",
       "│           ┆           ┆ u32       ┆ u32       ┆   ┆ list[stru ┆ u32       ┆ u32       ┆ list[str │\n",
       "│           ┆           ┆           ┆           ┆   ┆ ct[2]]    ┆           ┆           ┆ uct[2]]  │\n",
       "╞═══════════╪═══════════╪═══════════╪═══════════╪═══╪═══════════╪═══════════╪═══════════╪══════════╡\n",
       "│ 19.2      ┆ 72.97     ┆ 2023      ┆ 1975      ┆ … ┆ [{2019-12 ┆ 5497      ┆ 1824      ┆ [{2019-1 │\n",
       "│           ┆           ┆           ┆           ┆   ┆ -31       ┆           ┆           ┆ 2-31     │\n",
       "│           ┆           ┆           ┆           ┆   ┆ 02:00:00  ┆           ┆           ┆ 02:00:00 │\n",
       "│           ┆           ┆           ┆           ┆   ┆ UTC,2019… ┆           ┆           ┆ UTC,2019 │\n",
       "│           ┆           ┆           ┆           ┆   ┆           ┆           ┆           ┆ …        │\n",
       "│ 28.5      ┆ 76.84     ┆ 2023      ┆ 1975      ┆ … ┆ [{2019-12 ┆ 5497      ┆ 1824      ┆ [{2019-1 │\n",
       "│           ┆           ┆           ┆           ┆   ┆ -31       ┆           ┆           ┆ 2-31     │\n",
       "│           ┆           ┆           ┆           ┆   ┆ 02:00:00  ┆           ┆           ┆ 02:00:00 │\n",
       "│           ┆           ┆           ┆           ┆   ┆ UTC,2019… ┆           ┆           ┆ UTC,2019 │\n",
       "│           ┆           ┆           ┆           ┆   ┆           ┆           ┆           ┆ …        │\n",
       "│ 19.3      ┆ 72.87     ┆ 2023      ┆ 1975      ┆ … ┆ [{2019-12 ┆ 5497      ┆ 1824      ┆ [{2019-1 │\n",
       "│           ┆           ┆           ┆           ┆   ┆ -31       ┆           ┆           ┆ 2-31     │\n",
       "│           ┆           ┆           ┆           ┆   ┆ 02:00:00  ┆           ┆           ┆ 02:00:00 │\n",
       "│           ┆           ┆           ┆           ┆   ┆ UTC,2019… ┆           ┆           ┆ UTC,2019 │\n",
       "│           ┆           ┆           ┆           ┆   ┆           ┆           ┆           ┆ …        │\n",
       "│ 28.6      ┆ 77.14     ┆ 2023      ┆ 1975      ┆ … ┆ [{2019-12 ┆ 5497      ┆ 1824      ┆ [{2019-1 │\n",
       "│           ┆           ┆           ┆           ┆   ┆ -31       ┆           ┆           ┆ 2-31     │\n",
       "│           ┆           ┆           ┆           ┆   ┆ 02:00:00  ┆           ┆           ┆ 02:00:00 │\n",
       "│           ┆           ┆           ┆           ┆   ┆ UTC,2019… ┆           ┆           ┆ UTC,2019 │\n",
       "│           ┆           ┆           ┆           ┆   ┆           ┆           ┆           ┆ …        │\n",
       "│ 28.8      ┆ 77.14     ┆ 2023      ┆ 1975      ┆ … ┆ [{2019-12 ┆ 5497      ┆ 1824      ┆ [{2019-1 │\n",
       "│           ┆           ┆           ┆           ┆   ┆ -31       ┆           ┆           ┆ 2-31     │\n",
       "│           ┆           ┆           ┆           ┆   ┆ 02:00:00  ┆           ┆           ┆ 02:00:00 │\n",
       "│           ┆           ┆           ┆           ┆   ┆ UTC,2019… ┆           ┆           ┆ UTC,2019 │\n",
       "│           ┆           ┆           ┆           ┆   ┆           ┆           ┆           ┆ …        │\n",
       "│ 28.4      ┆ 76.84     ┆ 2023      ┆ 1975      ┆ … ┆ [{2019-12 ┆ 5497      ┆ 1824      ┆ [{2019-1 │\n",
       "│           ┆           ┆           ┆           ┆   ┆ -31       ┆           ┆           ┆ 2-31     │\n",
       "│           ┆           ┆           ┆           ┆   ┆ 02:00:00  ┆           ┆           ┆ 02:00:00 │\n",
       "│           ┆           ┆           ┆           ┆   ┆ UTC,2019… ┆           ┆           ┆ UTC,2019 │\n",
       "│           ┆           ┆           ┆           ┆   ┆           ┆           ┆           ┆ …        │\n",
       "│ 28.6      ┆ 77.24     ┆ 2023      ┆ 1975      ┆ … ┆ [{2019-12 ┆ 5497      ┆ 1824      ┆ [{2019-1 │\n",
       "│           ┆           ┆           ┆           ┆   ┆ -31       ┆           ┆           ┆ 2-31     │\n",
       "│           ┆           ┆           ┆           ┆   ┆ 02:00:00  ┆           ┆           ┆ 02:00:00 │\n",
       "│           ┆           ┆           ┆           ┆   ┆ UTC,2019… ┆           ┆           ┆ UTC,2019 │\n",
       "│           ┆           ┆           ┆           ┆   ┆           ┆           ┆           ┆ …        │\n",
       "│ 28.4      ┆ 77.24     ┆ 2023      ┆ 1975      ┆ … ┆ [{2019-12 ┆ 5498      ┆ 1825      ┆ [{2019-1 │\n",
       "│           ┆           ┆           ┆           ┆   ┆ -31       ┆           ┆           ┆ 2-31     │\n",
       "│           ┆           ┆           ┆           ┆   ┆ 02:00:00  ┆           ┆           ┆ 02:00:00 │\n",
       "│           ┆           ┆           ┆           ┆   ┆ UTC,2019… ┆           ┆           ┆ UTC,2019 │\n",
       "│           ┆           ┆           ┆           ┆   ┆           ┆           ┆           ┆ …        │\n",
       "└───────────┴───────────┴───────────┴───────────┴───┴───────────┴───────────┴───────────┴──────────┘"
      ]
     },
     "metadata": {},
     "output_type": "display_data"
    }
   ],
   "source": [
    "# build a list of DataFrames, one per variable\n",
    "stats_dfs = [\n",
    "    analyze_null_patterns(weather_data_pldf_no_null_locations, col, grouping_cols)\n",
    "    for col in columns_to_check\n",
    "]\n",
    "\n",
    "# reduce‑join them all together\n",
    "final_stats = reduce(\n",
    "    lambda left, right: left.join(\n",
    "        right.select(grouping_cols + [c for c in right.columns if c not in grouping_cols]),\n",
    "        on=grouping_cols,\n",
    "        how=\"left\"\n",
    "    ),\n",
    "    stats_dfs\n",
    ").fill_null(0)\n",
    "\n",
    "gap_cols = [f\"{c}_gaps\" for c in columns_to_check]\n",
    "\n",
    "final_stats = final_stats.with_columns([\n",
    "    # this sorts each List<Struct{gap_start, gap_end}> by gap_start (then gap_end if equal)\n",
    "    pl.col(g).list.sort().alias(g)\n",
    "    for g in gap_cols\n",
    "])\n",
    "\n",
    "display(final_stats.sample(n=8, with_replacement=False))"
   ]
  },
  {
   "cell_type": "markdown",
   "id": "e13b873b",
   "metadata": {},
   "source": [
    "Based on the sample above we see a few different patterns that we assume hold true to the rest of the dataset\n",
    "\n",
    "1. There are a significant amount of isolated nulls\n",
    "    * These can likely be solved through a simple imputation of the mean values surrounding them\n",
    "\n",
    "2. The date of 2019-12-31 is causing problems for every single variable\n",
    "    * We can probably drop this date as it is outside our analysis range anyway.\n",
    "\n",
    "3. All variables have issues (nulls) on the date 2022-10-31 into 2022-11-01.\n",
    "    * For wind_speed, wind_direction, temperature, and precipitation_mm, the nulls begin at 2022-10-31 05:30:00 IST, but end relatively soon after at 2022-11-01 04:30:00 IST. We should be able to fill this gap by imputing data from the surrounding days.\n",
    "\n",
    "    * For surface_net_solar_radiation_kwh and surface_solar_radiation_downwards_kwh, the nulls also begin at 2022-10-31 05:30:00 IST, but last until 2023-04-01 05:30:00 IST. This is a significant gap that will need to be addressed."
   ]
  },
  {
   "cell_type": "markdown",
   "id": "1bb6658e",
   "metadata": {},
   "source": [
    "### Cleanup"
   ]
  },
  {
   "cell_type": "code",
   "execution_count": 41,
   "id": "685b7f88",
   "metadata": {},
   "outputs": [
    {
     "data": {
      "text/plain": [
       "Schema([('timestamp', Datetime(time_unit='us', time_zone='UTC')),\n",
       "        ('temperature', Float64),\n",
       "        ('city', Categorical(ordering='physical')),\n",
       "        ('surface_net_solar_radiation_joules_per_m2', Float64),\n",
       "        ('surface_solar_radiation_downwards_joules_per_m2', Float64),\n",
       "        ('surface_net_solar_radiation_kWh_per_m2', Float64),\n",
       "        ('surface_solar_radiation_downwards_kWh_per_m2', Float64),\n",
       "        ('precipitation_mm', Float64),\n",
       "        ('wind_speed_mps', Float32),\n",
       "        ('wind_direction_meteorological', Float32),\n",
       "        ('land_longitude', Float64),\n",
       "        ('land_latitude', Float64)])"
      ]
     },
     "execution_count": 41,
     "metadata": {},
     "output_type": "execute_result"
    }
   ],
   "source": [
    "weather_data_pldf_no_null_locations.schema\n"
   ]
  },
  {
   "cell_type": "code",
   "execution_count": 42,
   "id": "c28690e8",
   "metadata": {},
   "outputs": [],
   "source": [
    "# Reordering columns for better readability\n",
    "weather_data_pldf_no_null_locations = weather_data_pldf_no_null_locations.select([\n",
    "    \"timestamp\",\n",
    "    \"land_latitude\",\n",
    "    \"land_longitude\",\n",
    "    \"city\",\n",
    "    \"precipitation_mm\",\n",
    "    \"temperature\",\n",
    "    \"wind_speed_mps\",\n",
    "    \"wind_direction_meteorological\",\n",
    "    \"surface_net_solar_radiation_kWh_per_m2\",\n",
    "    \"surface_solar_radiation_downwards_kWh_per_m2\",\n",
    "    \"surface_net_solar_radiation_joules_per_m2\",\n",
    "    \"surface_solar_radiation_downwards_joules_per_m2\",\n",
    "])\n"
   ]
  },
  {
   "cell_type": "code",
   "execution_count": 43,
   "id": "e6647cd4",
   "metadata": {},
   "outputs": [
    {
     "data": {
      "text/plain": [
       "Schema([('timestamp', Datetime(time_unit='us', time_zone='UTC')),\n",
       "        ('land_latitude', Float64),\n",
       "        ('land_longitude', Float64),\n",
       "        ('city', Categorical(ordering='physical')),\n",
       "        ('precipitation_mm', Float64),\n",
       "        ('temperature', Float64),\n",
       "        ('wind_speed_mps', Float32),\n",
       "        ('wind_direction_meteorological', Float32),\n",
       "        ('surface_net_solar_radiation_kWh_per_m2', Float64),\n",
       "        ('surface_solar_radiation_downwards_kWh_per_m2', Float64),\n",
       "        ('surface_net_solar_radiation_joules_per_m2', Float64),\n",
       "        ('surface_solar_radiation_downwards_joules_per_m2', Float64)])"
      ]
     },
     "execution_count": 43,
     "metadata": {},
     "output_type": "execute_result"
    }
   ],
   "source": [
    "weather_data_pldf_no_null_locations.schema"
   ]
  },
  {
   "cell_type": "code",
   "execution_count": 44,
   "id": "397d79ce",
   "metadata": {},
   "outputs": [
    {
     "name": "stdout",
     "output_type": "stream",
     "text": [
      "Data successfully written to ../../data/hitachi/weather_20250714_1401_processed.parquet\n"
     ]
    }
   ],
   "source": [
    "# Resave the file in the new column order\n",
    "weather_filepath_final = weather_filepath_step4.replace(\"_step4.parquet\", \"_processed.parquet\")\n",
    "try:\n",
    "    weather_data_pldf_no_null_locations.write_parquet(weather_filepath_final)\n",
    "    print(f\"Data successfully written to {weather_filepath_final}\")\n",
    "except Exception as e:\n",
    "    print(f\"Error writing data to {weather_filepath_final}: {e}\")"
   ]
  },
  {
   "cell_type": "code",
   "execution_count": 45,
   "id": "94aaf77b",
   "metadata": {},
   "outputs": [
    {
     "name": "stdout",
     "output_type": "stream",
     "text": [
      "Temporary file ../../data/hitachi/weather_20250714_1401_step1.parquet removed successfully.\n",
      "Temporary file ../../data/hitachi/weather_20250714_1401_step2.parquet removed successfully.\n",
      "Temporary file ../../data/hitachi/weather_20250714_1401_step3.parquet removed successfully.\n",
      "Temporary file ../../data/hitachi/weather_20250714_1401_step4.parquet removed successfully.\n",
      "\n",
      "------------------------------------------------------------------------------------------------------------------------\n",
      "Processing complete. All temporary files removed.\n",
      "------------------------------------------------------------------------------------------------------------------------\n",
      "Final processed weather data saved at: ../../data/hitachi/weather_20250714_1401_processed.parquet\n",
      "------------------------------------------------------------------------------------------------------------------------\n",
      "End of processing ERA5 Land data notebook.\n"
     ]
    }
   ],
   "source": [
    "# Remove the temporary files created during processing\n",
    "for filepath in weather_processing_filepaths:\n",
    "    try:\n",
    "        os.remove(filepath)\n",
    "        print(f\"Temporary file {filepath} removed successfully.\")\n",
    "    except Exception as e:\n",
    "        print(f\"Error removing temporary file {filepath}: {e}\")\n",
    "print(\"\\n\" + \"-\" * 120)\n",
    "print(\"Processing complete. All temporary files removed.\")\n",
    "print(\"-\" * 120)\n",
    "print(\"Final processed weather data saved at:\", weather_filepath_final)\n",
    "print(\"-\" * 120)\n",
    "print(\"End of processing ERA5 Land data notebook.\")"
   ]
  },
  {
   "cell_type": "markdown",
   "id": "711271fc",
   "metadata": {},
   "source": [
    "### Summary"
   ]
  },
  {
   "cell_type": "markdown",
   "id": "539b8719",
   "metadata": {},
   "source": [
    "**Overview**\n",
    "\n",
    "This notebook analyzes and processes ERA5-Land weather data from the Hitachi database, preparing it for use in energy demand and carbon emissions modeling. The data provides hourly weather measurements at multiple locations in Delhi and Mumbai from 2019 to 2025.\n",
    "\n",
    "\n",
    "**Key Findings**\n",
    "- **Data Structure**\n",
    "  - Original Format: Weather data contains hourly readings with 84 unique locations (30 in Delhi, 54 in Mumbai)\n",
    "  - Time Range: From 2019-12-31 01:00 to 2025-06-01 00:00 (UTC)\n",
    "  - Variables: Wind speed, wind direction, temperature, precipitation, and two solar radiation measures\n",
    "  - Geographic Coverage: Each location represents approximately a 9km grid cell\n",
    "\n",
    "**Data Quality Issues**\n",
    "- Missing Locations: Of the 84 locations, 39 have completely empty data (0% completeness)\n",
    "- Temporal Gaps: Common patterns of missing data identified:\n",
    "  - Midnight (00:00) readings are frequently missing\n",
    "  - 2022-10-31 has widespread gaps across all variables\n",
    "  - Solar radiation fields have an extended gap from 2022-10-31 to 2023-04-01\n",
    "- Data Format Issues: Several variables require unit conversion and deaccumulation\n",
    "- Wind direction needed correction (180° shift) to align with meteorological conventions\n",
    "\n",
    "\n",
    "\n",
    "**Transformations Performed**\n",
    "- Data Type Conversion:\n",
    "    - Standardized column types (Float32/Float64 for measurements)\n",
    "    - Converted categorical values to appropriate types\n",
    "- Unit Standardization:\n",
    "    - Wind speed: Converted mph to m/s\n",
    "    - Precipitation: Converted meters to millimeters\n",
    "    - Solar radiation: Converted joules/m² to kWh/m²\n",
    "    - Wind direction: Adjusted mathematical to meteorological convention (180° shift)\n",
    "- Coordinate Processing:\n",
    "    - Converted WKB location format to explicit latitude and longitude coordinates\n",
    "    - Retained UTC time zone for consistency with other datasets\n",
    "- Null Handling:\n",
    "    - Identified and quantified isolated nulls vs. extended gaps\n",
    "    - Filtered out locations with 0% completeness\n",
    "    - Created patterns analysis for future gap-filling operations\n"
   ]
  },
  {
   "cell_type": "markdown",
   "id": "136aede3",
   "metadata": {},
   "source": [
    "**Next Steps:**\n",
    "* The ERA5-Land data will require special handling for accumulated variables (precipitation, solar radiation)\n",
    "* Time Zone Alignment: Convert to IST (UTC+5:30) when joining with grid or meter data\n",
    "* Downsample to half-hourly intervals for alignment with meter readings dataset\n"
   ]
  }
 ],
 "metadata": {
  "kernelspec": {
   "display_name": "irpenv_4",
   "language": "python",
   "name": "python3"
  },
  "language_info": {
   "codemirror_mode": {
    "name": "ipython",
    "version": 3
   },
   "file_extension": ".py",
   "mimetype": "text/x-python",
   "name": "python",
   "nbconvert_exporter": "python",
   "pygments_lexer": "ipython3",
   "version": "3.10.18"
  }
 },
 "nbformat": 4,
 "nbformat_minor": 5
}
