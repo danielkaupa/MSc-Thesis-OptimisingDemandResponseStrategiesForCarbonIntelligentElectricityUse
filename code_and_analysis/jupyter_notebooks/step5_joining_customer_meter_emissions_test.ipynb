{
 "cells": [
  {
   "cell_type": "markdown",
   "id": "fef38cc5",
   "metadata": {},
   "source": [
    "OKAY SO LETS GRAB SOME SLICES OF\n",
    "- METER READINGS\n",
    "- CUSTOMER DATA\n",
    "- MARGINAL EMISSIONS\n",
    "\n",
    "Do  A Join so I have\n",
    "\n",
    "Customer ID, Timestamp, Usage, Marginal Emissions\n"
   ]
  },
  {
   "cell_type": "markdown",
   "id": "cace296d",
   "metadata": {},
   "source": [
    "# irp-dbk24 - \"Optimising Demand Response Strategies for Carbon-Intelligent Electricity Use\""
   ]
  },
  {
   "cell_type": "markdown",
   "id": "f506890b",
   "metadata": {},
   "source": [
    "# Joining Data"
   ]
  },
  {
   "cell_type": "markdown",
   "id": "acd8a71a",
   "metadata": {},
   "source": [
    "**NOTEBOOK PURPOSE(S):**\n",
    "\n",
    "**LIMITATIONS:**\n",
    "\n",
    "**NOTEBOOK OUTPUTS:**\n",
    "\n"
   ]
  },
  {
   "cell_type": "markdown",
   "id": "e75ba22b",
   "metadata": {},
   "source": [
    "### Importing Libraries"
   ]
  },
  {
   "cell_type": "code",
   "execution_count": 2,
   "id": "e3944252",
   "metadata": {},
   "outputs": [],
   "source": [
    "# ────────────────────────────────────────────────────────────────────────────\n",
    "# Future (must be first)\n",
    "# ────────────────────────────────────────────────────────────────────────────\n",
    "from __future__ import annotations\n",
    "\n",
    "# ────────────────────────────────────────────────────────────────────────────\n",
    "# Jupyter/Notebook Setup\n",
    "# ────────────────────────────────────────────────────────────────────────────\n",
    "%matplotlib inline\n",
    "from IPython.display import display\n",
    "\n",
    "# ────────────────────────────────────────────────────────────────────────────\n",
    "# Standard Library\n",
    "# ────────────────────────────────────────────────────────────────────────────\n",
    "import binascii\n",
    "import calendar\n",
    "import json\n",
    "import logging\n",
    "import math\n",
    "import os\n",
    "import random\n",
    "import re\n",
    "import hashlib\n",
    "import inspect\n",
    "import time\n",
    "from copy import deepcopy\n",
    "from contextlib import contextmanager\n",
    "from dataclasses import dataclass\n",
    "from datetime import datetime, timedelta\n",
    "from functools import partial, wraps\n",
    "from itertools import combinations, product\n",
    "from multiprocessing import Manager, Pool, Lock, cpu_count\n",
    "from multiprocessing.pool import ThreadPool\n",
    "from pathlib import Path\n",
    "from typing import (\n",
    "    Any, Callable, Dict, Iterable, List, Mapping, Optional, Sequence, Tuple, Union\n",
    ")\n",
    "from zoneinfo import ZoneInfo\n",
    "\n",
    "# ────────────────────────────────────────────────────────────────────────────\n",
    "# Core Data Handling\n",
    "# ────────────────────────────────────────────────────────────────────────────\n",
    "import numpy as np\n",
    "import pandas as pd\n",
    "import polars as pl\n",
    "\n",
    "# ────────────────────────────────────────────────────────────────────────────\n",
    "# Machine Learning & Statistics\n",
    "# ────────────────────────────────────────────────────────────────────────────\n",
    "from feature_engine.creation import CyclicalFeatures\n",
    "from scipy.stats import kurtosis, skew, zscore\n",
    "import statsmodels.api as sm\n",
    "import statsmodels.formula.api as smf\n",
    "from statsmodels.stats.outliers_influence import variance_inflation_factor\n",
    "\n",
    "from sklearn.base import BaseEstimator, TransformerMixin, clone\n",
    "from sklearn.compose import ColumnTransformer\n",
    "from sklearn.kernel_approximation import RBFSampler\n",
    "from sklearn.linear_model import LinearRegression\n",
    "from sklearn.metrics import (\n",
    "    mean_absolute_error,\n",
    "    mean_squared_error,\n",
    "    r2_score,\n",
    "    root_mean_squared_error,\n",
    ")\n",
    "from sklearn.pipeline import Pipeline\n",
    "from sklearn.preprocessing import OneHotEncoder, SplineTransformer\n",
    "from sklearn.utils.validation import check_is_fitted\n",
    "\n",
    "# ────────────────────────────────────────────────────────────────────────────\n",
    "# Visualization\n",
    "# ────────────────────────────────────────────────────────────────────────────\n",
    "import matplotlib.pyplot as plt\n",
    "import matplotlib.dates as mdates\n",
    "import matplotlib.ticker as ticker\n",
    "import seaborn as sns\n",
    "\n",
    "# ────────────────────────────────────────────────────────────────────────────\n",
    "# Geospatial\n",
    "# ────────────────────────────────────────────────────────────────────────────\n",
    "import geopandas as gpd\n",
    "from shapely.geometry import Point, Polygon\n",
    "from shapely.wkb import loads\n",
    "from pyproj import Proj, transform\n"
   ]
  },
  {
   "cell_type": "markdown",
   "id": "b3cd023a",
   "metadata": {},
   "source": [
    "## Functions"
   ]
  },
  {
   "cell_type": "code",
   "execution_count": null,
   "id": "11855405",
   "metadata": {},
   "outputs": [],
   "source": [
    "def wkb_to_coords(hex_wkb: str):\n",
    "    \"\"\"\n",
    "    Convert a hex WKB string to coordinates (x, y).\n",
    "    Uses binascii to decode the hex string and shapely's load function to convert WKB to a Point object.\n",
    "\n",
    "    Parameters:\n",
    "    ----------\n",
    "    hex_wkb : str\n",
    "        Hexadecimal string representing the WKB (Well-Known Binary) format of a point.\n",
    "\n",
    "    Returns:\n",
    "    -------\n",
    "    tuple\n",
    "        A tuple containing the x and y coordinates of the point, or (None, None)\n",
    "        if the conversion fails.\n",
    "    \"\"\"\n",
    "\n",
    "    try:\n",
    "        point = loads(binascii.unhexlify(hex_wkb))\n",
    "        return point.x, point.y\n",
    "    except Exception:\n",
    "        return None, None"
   ]
  },
  {
   "cell_type": "markdown",
   "id": "403a9722",
   "metadata": {},
   "source": [
    "## Loading Data"
   ]
  },
  {
   "cell_type": "markdown",
   "id": "a4c6e6ad",
   "metadata": {},
   "source": [
    "### Directories"
   ]
  },
  {
   "cell_type": "code",
   "execution_count": 4,
   "id": "cbadc7a8",
   "metadata": {},
   "outputs": [],
   "source": [
    "# DIRECTORIES AND PATHS\n",
    "base_data_directory = \"data\"    # Base directory where the dataframes will be saved\n",
    "hitachi_data_directory = os.path.join(base_data_directory, \"hitachi_copy\")      # Directory where the dataframes will be saved\n",
    "meter_save_directory = os.path.join(hitachi_data_directory, \"meter_primary_files\")       # Directory for meter readings\n",
    "\n",
    "marginal_emissions_development_directory = os.path.join(base_data_directory, \"marginal_emissions_development\")  # Directory for marginal emissions development data\n",
    "marginal_emissions_results_directory = os.path.join(marginal_emissions_development_directory, \"results\")\n",
    "marginal_emissions_logs_directory = os.path.join(marginal_emissions_development_directory, \"logs\")\n",
    "\n",
    "optimisation_development_directory = os.path.join(base_data_directory, \"optimisation_development\")\n"
   ]
  },
  {
   "cell_type": "code",
   "execution_count": 4,
   "id": "08b23740",
   "metadata": {},
   "outputs": [
    {
     "name": "stdout",
     "output_type": "stream",
     "text": [
      "\n",
      "------------------------------------------------------------------------------------------------------------------------\n",
      "Contents of 'data/hitachi_copy' and subdirectories:\n",
      "------------------------------------------------------------------------------------------------------------------------\n",
      "  - .DS_Store\n",
      "  - customers_20250714_1401.parquet\n",
      "  - grid_readings_20250714_1401.parquet\n",
      "  - grid_readings_20250714_1401_processed.parquet\n",
      "  - grid_readings_20250714_1401_processed_half_hourly.parquet\n",
      "  - weather_20250714_1401.parquet\n",
      "  - weather_20250714_1401_processed.parquet\n",
      "  - weather_and_grid_data_half-hourly_20250714_1401.parquet\n",
      "  - weather_data_combined_20250714_1401.parquet\n",
      "  - meter_primary_files/.DS_Store\n",
      "  - meter_primary_files/meter_readings_2021_20250714_2015.parquet\n",
      "  - meter_primary_files/meter_readings_2021_20250714_2015_formatted.parquet\n",
      "  - meter_primary_files/meter_readings_2021_Q4_20250714_2015_formatted.parquet\n",
      "  - meter_primary_files/meter_readings_2022_20250714_2324.parquet\n",
      "  - meter_primary_files/meter_readings_2022_20250714_2324_formatted.parquet\n",
      "  - meter_primary_files/meter_readings_2022_Q1_20250714_2324_formatted.parquet\n",
      "  - meter_primary_files/meter_readings_2022_Q2_20250714_2324_formatted.parquet\n",
      "  - meter_primary_files/meter_readings_2022_Q3_20250714_2324_formatted.parquet\n",
      "  - meter_primary_files/meter_readings_2022_Q4_20250714_2324_formatted.parquet\n",
      "  - meter_primary_files/meter_readings_2023_20250714_2039.parquet\n",
      "  - meter_primary_files/meter_readings_2023_20250714_2039_formatted.parquet\n",
      "  - meter_primary_files/meter_readings_2023_Q1_20250714_2039_formatted.parquet\n",
      "  - meter_primary_files/meter_readings_all_years_20250714_formatted.parquet\n",
      "  - meter_primary_files/meter_readings_delhi_2021_20250714_2015_formatted.parquet\n",
      "  - meter_primary_files/meter_readings_delhi_2021_Q4_20250714_2015_formatted.parquet\n",
      "  - meter_primary_files/meter_readings_delhi_2022_20250714_2324_formatted.parquet\n",
      "  - meter_primary_files/meter_readings_delhi_2022_Q1_20250714_2324_formatted.parquet\n",
      "  - meter_primary_files/meter_readings_delhi_2022_Q2_20250714_2324_formatted.parquet\n",
      "  - meter_primary_files/meter_readings_delhi_2022_Q3_20250714_2324_formatted.parquet\n",
      "  - meter_primary_files/meter_readings_mumbai_2022_20250714_2324_formatted.parquet\n",
      "  - meter_primary_files/meter_readings_mumbai_2022_Q3_20250714_2324_formatted.parquet\n",
      "  - meter_primary_files/meter_readings_mumbai_2022_Q4_20250714_2324_formatted.parquet\n",
      "  - meter_primary_files/meter_readings_mumbai_2023_20250714_2039_formatted.parquet\n",
      "  - meter_primary_files/meter_readings_mumbai_2023_Q1_20250714_2039_formatted.parquet\n"
     ]
    }
   ],
   "source": [
    "print(\"\\n\" + \"-\" * 120)\n",
    "print(f\"Contents of '{hitachi_data_directory}' and subdirectories:\\n\" + \"-\" * 120)\n",
    "for root, dirs, files in os.walk(hitachi_data_directory):\n",
    "    for f in sorted(files):\n",
    "        rel_dir = os.path.relpath(root, hitachi_data_directory)\n",
    "        rel_file = os.path.join(rel_dir, f) if rel_dir != \".\" else f\n",
    "        print(f\"  - {rel_file}\")"
   ]
  },
  {
   "cell_type": "code",
   "execution_count": 5,
   "id": "56ac8a22",
   "metadata": {},
   "outputs": [
    {
     "name": "stdout",
     "output_type": "stream",
     "text": [
      "\n",
      "------------------------------------------------------------------------------------------------------------------------\n",
      "Contents of 'data/marginal_emissions_development' and subdirectories:\n",
      "------------------------------------------------------------------------------------------------------------------------\n",
      "  - .DS_Store\n",
      "  - marginal_emissions_estimation_20250714_1401_test_data.parquet\n",
      "  - marginal_emissions_estimation_20250714_1401_train_data.parquet\n",
      "  - marginal_emissions_estimation_20250714_1401_validation_data.parquet\n",
      "  - qgam_smooth_weather_tuning_results.csv\n",
      "  - qgam_smooth_weather_tuning_results2.csv\n",
      "  - results/.DS_Store\n",
      "  - results/original_quantile_bins_marginal_emissions_timeseries.parquet\n",
      "  - results/pyGAM_marginal_emissions_timeseries.parquet\n",
      "  - logs/marginal_emissions_results.part000.csv\n",
      "  - logs/marginal_emissions_results_index.csv\n",
      "  - logs/marginal_emissions_results_median.part000.csv\n",
      "  - logs/marginal_emissions_results_median_index.csv\n",
      "  - logs/marginal_emissions_results_quantile.part000.csv\n",
      "  - logs/marginal_emissions_results_quantile.part001.csv\n",
      "  - logs/marginal_emissions_results_quantile.part002.csv\n",
      "  - logs/marginal_emissions_results_quantile.part003.csv\n",
      "  - logs/marginal_emissions_results_quantile.part004.csv\n",
      "  - logs/marginal_emissions_results_quantile.part005.csv\n",
      "  - logs/marginal_emissions_results_quantile.part006.csv\n",
      "  - logs/marginal_emissions_results_quantile.part007.csv\n",
      "  - logs/marginal_emissions_results_quantile.part008.csv\n",
      "  - logs/marginal_emissions_results_quantile.part009.csv\n",
      "  - logs/marginal_emissions_results_quantile.part010.csv\n",
      "  - logs/marginal_emissions_results_quantile.part011.csv\n",
      "  - logs/marginal_emissions_results_quantile.part012.csv\n",
      "  - logs/marginal_emissions_results_quantile.part013.csv\n",
      "  - logs/marginal_emissions_results_quantile.part014.csv\n",
      "  - logs/marginal_emissions_results_quantile.part015.csv\n",
      "  - logs/marginal_emissions_results_quantile.part016.csv\n",
      "  - logs/marginal_emissions_results_quantile.part017.csv\n",
      "  - logs/marginal_emissions_results_quantile.part018.csv\n",
      "  - logs/marginal_emissions_results_quantile.part019.csv\n",
      "  - logs/marginal_emissions_results_quantile.part020.csv\n",
      "  - logs/marginal_emissions_results_quantile.part021.csv\n",
      "  - logs/marginal_emissions_results_quantile.part022.csv\n",
      "  - logs/marginal_emissions_results_quantile.part023.csv\n",
      "  - logs/marginal_emissions_results_quantile.part024.csv\n",
      "  - logs/marginal_emissions_results_quantile.part025.csv\n",
      "  - logs/marginal_emissions_results_quantile.part026.csv\n",
      "  - logs/marginal_emissions_results_quantile.part027.csv\n",
      "  - logs/marginal_emissions_results_quantile.part028.csv\n",
      "  - logs/marginal_emissions_results_quantile.part029.csv\n",
      "  - logs/marginal_emissions_results_quantile.part030.csv\n",
      "  - logs/marginal_emissions_results_quantile.part031.csv\n",
      "  - logs/marginal_emissions_results_quantile.part032.csv\n",
      "  - logs/marginal_emissions_results_quantile.part033.csv\n",
      "  - logs/marginal_emissions_results_quantile.part034.csv\n",
      "  - logs/marginal_emissions_results_quantile.part035.csv\n",
      "  - logs/marginal_emissions_results_quantile.part036.csv\n",
      "  - logs/marginal_emissions_results_quantile.part037.csv\n",
      "  - logs/marginal_emissions_results_quantile.part038.csv\n",
      "  - logs/marginal_emissions_results_quantile.part039.csv\n",
      "  - logs/marginal_emissions_results_quantile.part040.csv\n",
      "  - logs/marginal_emissions_results_quantile.part041.csv\n",
      "  - logs/marginal_emissions_results_quantile.part042.csv\n",
      "  - logs/marginal_emissions_results_quantile.part043.csv\n",
      "  - logs/marginal_emissions_results_quantile.part044.csv\n",
      "  - logs/marginal_emissions_results_quantile.part045.csv\n",
      "  - logs/marginal_emissions_results_quantile.part046.csv\n",
      "  - logs/marginal_emissions_results_quantile.part047.csv\n",
      "  - logs/marginal_emissions_results_quantile.part048.csv\n",
      "  - logs/marginal_emissions_results_quantile.part049.csv\n",
      "  - logs/marginal_emissions_results_quantile.part050.csv\n",
      "  - logs/marginal_emissions_results_quantile.part051.csv\n",
      "  - logs/marginal_emissions_results_quantile.part052.csv\n",
      "  - logs/marginal_emissions_results_quantile.part053.csv\n",
      "  - logs/marginal_emissions_results_quantile.part054.csv\n",
      "  - logs/marginal_emissions_results_quantile.part055.csv\n",
      "  - logs/marginal_emissions_results_quantile.part056.csv\n",
      "  - logs/marginal_emissions_results_quantile.part057.csv\n",
      "  - logs/marginal_emissions_results_quantile.part058.csv\n",
      "  - logs/marginal_emissions_results_quantile.part059.csv\n",
      "  - logs/marginal_emissions_results_quantile.part060.csv\n",
      "  - logs/marginal_emissions_results_quantile.part061.csv\n",
      "  - logs/marginal_emissions_results_quantile.part062.csv\n",
      "  - logs/marginal_emissions_results_quantile.part063.csv\n",
      "  - logs/marginal_emissions_results_quantile.part064.csv\n",
      "  - logs/marginal_emissions_results_quantile.part065.csv\n",
      "  - logs/marginal_emissions_results_quantile.part066.csv\n",
      "  - logs/marginal_emissions_results_quantile.part067.csv\n",
      "  - logs/marginal_emissions_results_quantile.part068.csv\n",
      "  - logs/marginal_emissions_results_quantile.part069.csv\n",
      "  - logs/marginal_emissions_results_quantile.part070.csv\n",
      "  - logs/marginal_emissions_results_quantile.part071.csv\n",
      "  - logs/marginal_emissions_results_quantile.part072.csv\n",
      "  - logs/marginal_emissions_results_quantile.part073.csv\n",
      "  - logs/marginal_emissions_results_quantile.part074.csv\n",
      "  - logs/marginal_emissions_results_quantile.part075.csv\n",
      "  - logs/marginal_emissions_results_quantile.part076.csv\n",
      "  - logs/marginal_emissions_results_quantile.part077.csv\n",
      "  - logs/marginal_emissions_results_quantile.part078.csv\n",
      "  - logs/marginal_emissions_results_quantile.part079.csv\n",
      "  - logs/marginal_emissions_results_quantile.part080.csv\n",
      "  - logs/marginal_emissions_results_quantile.part081.csv\n",
      "  - logs/marginal_emissions_results_quantile.part082.csv\n",
      "  - logs/marginal_emissions_results_quantile.part083.csv\n",
      "  - logs/marginal_emissions_results_quantile.part084.csv\n",
      "  - logs/marginal_emissions_results_quantile.part085.csv\n",
      "  - logs/marginal_emissions_results_quantile.part086.csv\n",
      "  - logs/marginal_emissions_results_quantile.part087.csv\n",
      "  - logs/marginal_emissions_results_quantile.part088.csv\n",
      "  - logs/marginal_emissions_results_quantile.part089.csv\n",
      "  - logs/marginal_emissions_results_quantile.part090.csv\n",
      "  - logs/marginal_emissions_results_quantile.part091.csv\n",
      "  - logs/marginal_emissions_results_quantile.part092.csv\n",
      "  - logs/marginal_emissions_results_quantile.part093.csv\n",
      "  - logs/marginal_emissions_results_quantile.part094.csv\n",
      "  - logs/marginal_emissions_results_quantile.part095.csv\n",
      "  - logs/marginal_emissions_results_quantile.part096.csv\n",
      "  - logs/marginal_emissions_results_quantile.part097.csv\n",
      "  - logs/marginal_emissions_results_quantile.part098.csv\n",
      "  - logs/marginal_emissions_results_quantile.part099.csv\n",
      "  - logs/marginal_emissions_results_quantile.part100.csv\n",
      "  - logs/marginal_emissions_results_quantile.part101.csv\n",
      "  - logs/marginal_emissions_results_quantile.part102.csv\n",
      "  - logs/marginal_emissions_results_quantile.part103.csv\n",
      "  - logs/marginal_emissions_results_quantile.part104.csv\n",
      "  - logs/marginal_emissions_results_quantile.part105.csv\n",
      "  - logs/marginal_emissions_results_quantile.part106.csv\n",
      "  - logs/marginal_emissions_results_quantile.part107.csv\n",
      "  - logs/marginal_emissions_results_quantile.part108.csv\n",
      "  - logs/marginal_emissions_results_quantile.part109.csv\n",
      "  - logs/marginal_emissions_results_quantile.part110.csv\n",
      "  - logs/marginal_emissions_results_quantile.part111.csv\n",
      "  - logs/marginal_emissions_results_quantile.part112.csv\n",
      "  - logs/marginal_emissions_results_quantile.part113.csv\n",
      "  - logs/marginal_emissions_results_quantile.part114.csv\n",
      "  - logs/marginal_emissions_results_quantile.part115.csv\n",
      "  - logs/marginal_emissions_results_quantile.part116.csv\n",
      "  - logs/marginal_emissions_results_quantile.part117.csv\n",
      "  - logs/marginal_emissions_results_quantile.part118.csv\n",
      "  - logs/marginal_emissions_results_quantile.part119.csv\n",
      "  - logs/marginal_emissions_results_quantile.part120.csv\n",
      "  - logs/marginal_emissions_results_quantile.part121.csv\n",
      "  - logs/marginal_emissions_results_quantile.part122.csv\n",
      "  - logs/marginal_emissions_results_quantile.part123.csv\n",
      "  - logs/marginal_emissions_results_quantile.part124.csv\n",
      "  - logs/marginal_emissions_results_quantile.part125.csv\n",
      "  - logs/marginal_emissions_results_quantile.part126.csv\n",
      "  - logs/marginal_emissions_results_quantile.part127.csv\n",
      "  - logs/marginal_emissions_results_quantile.part128.csv\n",
      "  - logs/marginal_emissions_results_quantile.part129.csv\n",
      "  - logs/marginal_emissions_results_quantile.part130.csv\n",
      "  - logs/marginal_emissions_results_quantile.part131.csv\n",
      "  - logs/marginal_emissions_results_quantile.part132.csv\n",
      "  - logs/marginal_emissions_results_quantile.part133.csv\n",
      "  - logs/marginal_emissions_results_quantile.part134.csv\n",
      "  - logs/marginal_emissions_results_quantile.part135.csv\n",
      "  - logs/marginal_emissions_results_quantile.part136.csv\n",
      "  - logs/marginal_emissions_results_quantile.part137.csv\n",
      "  - logs/marginal_emissions_results_quantile.part138.csv\n",
      "  - logs/marginal_emissions_results_quantile.part139.csv\n",
      "  - logs/marginal_emissions_results_quantile.part140.csv\n",
      "  - logs/marginal_emissions_results_quantile.part141.csv\n",
      "  - logs/marginal_emissions_results_quantile.part142.csv\n",
      "  - logs/marginal_emissions_results_quantile.part143.csv\n",
      "  - logs/marginal_emissions_results_quantile.part144.csv\n",
      "  - logs/marginal_emissions_results_quantile.part145.csv\n",
      "  - logs/marginal_emissions_results_quantile.part146.csv\n",
      "  - logs/marginal_emissions_results_quantile.part147.csv\n",
      "  - logs/marginal_emissions_results_quantile.part148.csv\n",
      "  - logs/marginal_emissions_results_quantile.part149.csv\n",
      "  - logs/marginal_emissions_results_quantile.part150.csv\n",
      "  - logs/marginal_emissions_results_quantile.part151.csv\n",
      "  - logs/marginal_emissions_results_quantile.part152.csv\n",
      "  - logs/marginal_emissions_results_quantile.part153.csv\n",
      "  - logs/marginal_emissions_results_quantile.part154.csv\n",
      "  - logs/marginal_emissions_results_quantile.part155.csv\n",
      "  - logs/marginal_emissions_results_quantile.part156.csv\n",
      "  - logs/marginal_emissions_results_quantile.part157.csv\n",
      "  - logs/marginal_emissions_results_quantile.part158.csv\n",
      "  - logs/marginal_emissions_results_quantile.part159.csv\n",
      "  - logs/marginal_emissions_results_quantile.part160.csv\n",
      "  - logs/marginal_emissions_results_quantile.part161.csv\n",
      "  - logs/marginal_emissions_results_quantile.part162.csv\n",
      "  - logs/marginal_emissions_results_quantile.part163.csv\n",
      "  - logs/marginal_emissions_results_quantile.part164.csv\n",
      "  - logs/marginal_emissions_results_quantile.part165.csv\n",
      "  - logs/marginal_emissions_results_quantile.part166.csv\n",
      "  - logs/marginal_emissions_results_quantile.part167.csv\n",
      "  - logs/marginal_emissions_results_quantile.part168.csv\n",
      "  - logs/marginal_emissions_results_quantile.part169.csv\n",
      "  - logs/marginal_emissions_results_quantile.part170.csv\n",
      "  - logs/marginal_emissions_results_quantile.part171.csv\n",
      "  - logs/marginal_emissions_results_quantile.part172.csv\n",
      "  - logs/marginal_emissions_results_quantile.part173.csv\n",
      "  - logs/marginal_emissions_results_quantile.part174.csv\n",
      "  - logs/marginal_emissions_results_quantile.part175.csv\n",
      "  - logs/marginal_emissions_results_quantile.part176.csv\n",
      "  - logs/marginal_emissions_results_quantile.part177.csv\n",
      "  - logs/marginal_emissions_results_quantile.part178.csv\n",
      "  - logs/marginal_emissions_results_quantile.part179.csv\n",
      "  - logs/marginal_emissions_results_quantile.part180.csv\n",
      "  - logs/marginal_emissions_results_quantile.part181.csv\n",
      "  - logs/marginal_emissions_results_quantile.part182.csv\n",
      "  - logs/marginal_emissions_results_quantile.part183.csv\n",
      "  - logs/marginal_emissions_results_quantile.part184.csv\n",
      "  - logs/marginal_emissions_results_quantile.part185.csv\n",
      "  - logs/marginal_emissions_results_quantile.part186.csv\n",
      "  - logs/marginal_emissions_results_quantile.part187.csv\n",
      "  - logs/marginal_emissions_results_quantile.part188.csv\n",
      "  - logs/marginal_emissions_results_quantile.part189.csv\n",
      "  - logs/marginal_emissions_results_quantile.part190.csv\n",
      "  - logs/marginal_emissions_results_quantile.part191.csv\n",
      "  - logs/marginal_emissions_results_quantile.part192.csv\n",
      "  - logs/marginal_emissions_results_quantile.part193.csv\n",
      "  - logs/marginal_emissions_results_quantile.part194.csv\n",
      "  - logs/marginal_emissions_results_quantile.part195.csv\n",
      "  - logs/marginal_emissions_results_quantile.part196.csv\n",
      "  - logs/marginal_emissions_results_quantile.part197.csv\n",
      "  - logs/marginal_emissions_results_quantile.part198.csv\n",
      "  - logs/marginal_emissions_results_quantile.part199.csv\n",
      "  - logs/marginal_emissions_results_quantile.part200.csv\n",
      "  - logs/marginal_emissions_results_quantile.part201.csv\n",
      "  - logs/marginal_emissions_results_quantile.part202.csv\n",
      "  - logs/marginal_emissions_results_quantile.part203.csv\n",
      "  - logs/marginal_emissions_results_quantile.part204.csv\n",
      "  - logs/marginal_emissions_results_quantile.part205.csv\n",
      "  - logs/marginal_emissions_results_quantile.part206.csv\n",
      "  - logs/marginal_emissions_results_quantile.part207.csv\n",
      "  - logs/marginal_emissions_results_quantile.part208.csv\n",
      "  - logs/marginal_emissions_results_quantile.part209.csv\n",
      "  - logs/marginal_emissions_results_quantile.part210.csv\n",
      "  - logs/marginal_emissions_results_quantile.part211.csv\n",
      "  - logs/marginal_emissions_results_quantile.part212.csv\n",
      "  - logs/marginal_emissions_results_quantile.part213.csv\n",
      "  - logs/marginal_emissions_results_quantile.part214.csv\n",
      "  - logs/marginal_emissions_results_quantile.part215.csv\n",
      "  - logs/marginal_emissions_results_quantile.part216.csv\n",
      "  - logs/marginal_emissions_results_quantile.part217.csv\n",
      "  - logs/marginal_emissions_results_quantile.part218.csv\n",
      "  - logs/marginal_emissions_results_quantile.part219.csv\n",
      "  - logs/marginal_emissions_results_quantile.part220.csv\n",
      "  - logs/marginal_emissions_results_quantile.part221.csv\n",
      "  - logs/marginal_emissions_results_quantile.part222.csv\n",
      "  - logs/marginal_emissions_results_quantile.part223.csv\n",
      "  - logs/marginal_emissions_results_quantile.part224.csv\n",
      "  - logs/marginal_emissions_results_quantile.part225.csv\n",
      "  - logs/marginal_emissions_results_quantile.part226.csv\n",
      "  - logs/marginal_emissions_results_quantile.part227.csv\n",
      "  - logs/marginal_emissions_results_quantile.part228.csv\n",
      "  - logs/marginal_emissions_results_quantile.part229.csv\n",
      "  - logs/marginal_emissions_results_quantile.part230.csv\n",
      "  - logs/marginal_emissions_results_quantile.part231.csv\n",
      "  - logs/marginal_emissions_results_quantile.part232.csv\n",
      "  - logs/marginal_emissions_results_quantile.part233.csv\n",
      "  - logs/marginal_emissions_results_quantile.part234.csv\n",
      "  - logs/marginal_emissions_results_quantile.part235.csv\n",
      "  - logs/marginal_emissions_results_quantile.part236.csv\n",
      "  - logs/marginal_emissions_results_quantile.part237.csv\n",
      "  - logs/marginal_emissions_results_quantile.part238.csv\n",
      "  - logs/marginal_emissions_results_quantile.part239.csv\n",
      "  - logs/marginal_emissions_results_quantile.part240.csv\n",
      "  - logs/marginal_emissions_results_quantile.part241.csv\n",
      "  - logs/marginal_emissions_results_quantile.part242.csv\n",
      "  - logs/marginal_emissions_results_quantile.part243.csv\n",
      "  - logs/marginal_emissions_results_quantile.part244.csv\n",
      "  - logs/marginal_emissions_results_quantile.part245.csv\n",
      "  - logs/marginal_emissions_results_quantile.part246.csv\n",
      "  - logs/marginal_emissions_results_quantile.part247.csv\n",
      "  - logs/marginal_emissions_results_quantile.part248.csv\n",
      "  - logs/marginal_emissions_results_quantile.part249.csv\n",
      "  - logs/marginal_emissions_results_quantile.part250.csv\n",
      "  - logs/marginal_emissions_results_quantile.part251.csv\n",
      "  - logs/marginal_emissions_results_quantile.part252.csv\n",
      "  - logs/marginal_emissions_results_quantile.part253.csv\n",
      "  - logs/marginal_emissions_results_quantile.part254.csv\n",
      "  - logs/marginal_emissions_results_quantile.part255.csv\n",
      "  - logs/marginal_emissions_results_quantile.part256.csv\n",
      "  - logs/marginal_emissions_results_quantile.part257.csv\n",
      "  - logs/marginal_emissions_results_quantile.part258.csv\n",
      "  - logs/marginal_emissions_results_quantile.part259.csv\n",
      "  - logs/marginal_emissions_results_quantile.part260.csv\n",
      "  - logs/marginal_emissions_results_quantile.part261.csv\n",
      "  - logs/marginal_emissions_results_quantile.part262.csv\n",
      "  - logs/marginal_emissions_results_quantile.part263.csv\n",
      "  - logs/marginal_emissions_results_quantile.part264.csv\n",
      "  - logs/marginal_emissions_results_quantile.part265.csv\n",
      "  - logs/marginal_emissions_results_quantile.part266.csv\n",
      "  - logs/marginal_emissions_results_quantile.part267.csv\n",
      "  - logs/marginal_emissions_results_quantile.part268.csv\n",
      "  - logs/marginal_emissions_results_quantile.part269.csv\n",
      "  - logs/marginal_emissions_results_quantile.part270.csv\n",
      "  - logs/marginal_emissions_results_quantile.part271.csv\n",
      "  - logs/marginal_emissions_results_quantile.part272.csv\n",
      "  - logs/marginal_emissions_results_quantile.part273.csv\n",
      "  - logs/marginal_emissions_results_quantile.part274.csv\n",
      "  - logs/marginal_emissions_results_quantile.part275.csv\n",
      "  - logs/marginal_emissions_results_quantile.part276.csv\n",
      "  - logs/marginal_emissions_results_quantile.part277.csv\n",
      "  - logs/marginal_emissions_results_quantile.part278.csv\n",
      "  - logs/marginal_emissions_results_quantile.part279.csv\n",
      "  - logs/marginal_emissions_results_quantile.part280.csv\n",
      "  - logs/marginal_emissions_results_quantile.part281.csv\n",
      "  - logs/marginal_emissions_results_quantile.part282.csv\n",
      "  - logs/marginal_emissions_results_quantile.part283.csv\n",
      "  - logs/marginal_emissions_results_quantile.part284.csv\n",
      "  - logs/marginal_emissions_results_quantile.part285.csv\n",
      "  - logs/marginal_emissions_results_quantile.part286.csv\n",
      "  - logs/marginal_emissions_results_quantile.part287.csv\n",
      "  - logs/marginal_emissions_results_quantile.part288.csv\n",
      "  - logs/marginal_emissions_results_quantile.part289.csv\n",
      "  - logs/marginal_emissions_results_quantile.part290.csv\n",
      "  - logs/marginal_emissions_results_quantile.part291.csv\n",
      "  - logs/marginal_emissions_results_quantile.part292.csv\n",
      "  - logs/marginal_emissions_results_quantile.part293.csv\n",
      "  - logs/marginal_emissions_results_quantile.part294.csv\n",
      "  - logs/marginal_emissions_results_quantile.part295.csv\n",
      "  - logs/marginal_emissions_results_quantile.part296.csv\n",
      "  - logs/marginal_emissions_results_quantile.part297.csv\n",
      "  - logs/marginal_emissions_results_quantile.part298.csv\n",
      "  - logs/marginal_emissions_results_quantile.part299.csv\n",
      "  - logs/marginal_emissions_results_quantile.part300.csv\n",
      "  - logs/marginal_emissions_results_quantile.part301.csv\n",
      "  - logs/marginal_emissions_results_quantile.part302.csv\n",
      "  - logs/marginal_emissions_results_quantile.part303.csv\n",
      "  - logs/marginal_emissions_results_quantile.part304.csv\n",
      "  - logs/marginal_emissions_results_quantile.part305.csv\n",
      "  - logs/marginal_emissions_results_quantile.part306.csv\n",
      "  - logs/marginal_emissions_results_quantile.part307.csv\n",
      "  - logs/marginal_emissions_results_quantile.part308.csv\n",
      "  - logs/marginal_emissions_results_quantile.part309.csv\n",
      "  - logs/marginal_emissions_results_quantile.part310.csv\n",
      "  - logs/marginal_emissions_results_quantile.part311.csv\n",
      "  - logs/marginal_emissions_results_quantile.part312.csv\n",
      "  - logs/marginal_emissions_results_quantile.part313.csv\n",
      "  - logs/marginal_emissions_results_quantile.part314.csv\n",
      "  - logs/marginal_emissions_results_quantile.part315.csv\n",
      "  - logs/marginal_emissions_results_quantile.part316.csv\n",
      "  - logs/marginal_emissions_results_quantile.part317.csv\n",
      "  - logs/marginal_emissions_results_quantile.part318.csv\n",
      "  - logs/marginal_emissions_results_quantile.part319.csv\n",
      "  - logs/marginal_emissions_results_quantile.part320.csv\n",
      "  - logs/marginal_emissions_results_quantile.part321.csv\n",
      "  - logs/marginal_emissions_results_quantile.part322.csv\n",
      "  - logs/marginal_emissions_results_quantile.part323.csv\n",
      "  - logs/marginal_emissions_results_quantile.part324.csv\n",
      "  - logs/marginal_emissions_results_quantile.part325.csv\n",
      "  - logs/marginal_emissions_results_quantile.part326.csv\n",
      "  - logs/marginal_emissions_results_quantile.part327.csv\n",
      "  - logs/marginal_emissions_results_quantile.part328.csv\n",
      "  - logs/marginal_emissions_results_quantile.part329.csv\n",
      "  - logs/marginal_emissions_results_quantile.part330.csv\n",
      "  - logs/marginal_emissions_results_quantile.part331.csv\n",
      "  - logs/marginal_emissions_results_quantile.part332.csv\n",
      "  - logs/marginal_emissions_results_quantile.part333.csv\n",
      "  - logs/marginal_emissions_results_quantile.part334.csv\n",
      "  - logs/marginal_emissions_results_quantile.part335.csv\n",
      "  - logs/marginal_emissions_results_quantile.part336.csv\n",
      "  - logs/marginal_emissions_results_quantile.part337.csv\n",
      "  - logs/marginal_emissions_results_quantile.part338.csv\n",
      "  - logs/marginal_emissions_results_quantile.part339.csv\n",
      "  - logs/marginal_emissions_results_quantile.part340.csv\n",
      "  - logs/marginal_emissions_results_quantile.part341.csv\n",
      "  - logs/marginal_emissions_results_quantile.part342.csv\n",
      "  - logs/marginal_emissions_results_quantile.part343.csv\n",
      "  - logs/marginal_emissions_results_quantile.part344.csv\n",
      "  - logs/marginal_emissions_results_quantile.part345.csv\n",
      "  - logs/marginal_emissions_results_quantile.part346.csv\n",
      "  - logs/marginal_emissions_results_quantile.part347.csv\n",
      "  - logs/marginal_emissions_results_quantile.part348.csv\n",
      "  - logs/marginal_emissions_results_quantile.part349.csv\n",
      "  - logs/marginal_emissions_results_quantile.part350.csv\n",
      "  - logs/marginal_emissions_results_quantile.part351.csv\n",
      "  - logs/marginal_emissions_results_quantile.part352.csv\n",
      "  - logs/marginal_emissions_results_quantile.part353.csv\n",
      "  - logs/marginal_emissions_results_quantile.part354.csv\n",
      "  - logs/marginal_emissions_results_quantile.part355.csv\n",
      "  - logs/marginal_emissions_results_quantile.part356.csv\n",
      "  - logs/marginal_emissions_results_quantile.part357.csv\n",
      "  - logs/marginal_emissions_results_quantile.part358.csv\n",
      "  - logs/marginal_emissions_results_quantile.part359.csv\n",
      "  - logs/marginal_emissions_results_quantile.part360.csv\n",
      "  - logs/marginal_emissions_results_quantile.part361.csv\n",
      "  - logs/marginal_emissions_results_quantile.part362.csv\n",
      "  - logs/marginal_emissions_results_quantile.part363.csv\n",
      "  - logs/marginal_emissions_results_quantile.part364.csv\n",
      "  - logs/marginal_emissions_results_quantile.part365.csv\n",
      "  - logs/marginal_emissions_results_quantile.part366.csv\n",
      "  - logs/marginal_emissions_results_quantile.part367.csv\n",
      "  - logs/marginal_emissions_results_quantile.part368.csv\n",
      "  - logs/marginal_emissions_results_quantile.part369.csv\n",
      "  - logs/marginal_emissions_results_quantile.part370.csv\n",
      "  - logs/marginal_emissions_results_quantile.part371.csv\n",
      "  - logs/marginal_emissions_results_quantile.part372.csv\n",
      "  - logs/marginal_emissions_results_quantile.part373.csv\n",
      "  - logs/marginal_emissions_results_quantile.part374.csv\n",
      "  - logs/marginal_emissions_results_quantile.part375.csv\n",
      "  - logs/marginal_emissions_results_quantile.part376.csv\n",
      "  - logs/marginal_emissions_results_quantile.part377.csv\n",
      "  - logs/marginal_emissions_results_quantile.part378.csv\n",
      "  - logs/marginal_emissions_results_quantile.part379.csv\n",
      "  - logs/marginal_emissions_results_quantile.part380.csv\n",
      "  - logs/marginal_emissions_results_quantile.part381.csv\n",
      "  - logs/marginal_emissions_results_quantile.part382.csv\n",
      "  - logs/marginal_emissions_results_quantile.part383.csv\n",
      "  - logs/marginal_emissions_results_quantile.part384.csv\n",
      "  - logs/marginal_emissions_results_quantile.part385.csv\n",
      "  - logs/marginal_emissions_results_quantile.part386.csv\n",
      "  - logs/marginal_emissions_results_quantile.part387.csv\n",
      "  - logs/marginal_emissions_results_quantile.part388.csv\n",
      "  - logs/marginal_emissions_results_quantile.part389.csv\n",
      "  - logs/marginal_emissions_results_quantile.part390.csv\n",
      "  - logs/marginal_emissions_results_quantile.part391.csv\n",
      "  - logs/marginal_emissions_results_quantile.part392.csv\n",
      "  - logs/marginal_emissions_results_quantile.part393.csv\n",
      "  - logs/marginal_emissions_results_quantile.part394.csv\n",
      "  - logs/marginal_emissions_results_quantile.part395.csv\n",
      "  - logs/marginal_emissions_results_quantile.part396.csv\n",
      "  - logs/marginal_emissions_results_quantile.part397.csv\n",
      "  - logs/marginal_emissions_results_quantile.part398.csv\n",
      "  - logs/marginal_emissions_results_quantile.part399.csv\n",
      "  - logs/marginal_emissions_results_quantile.part400.csv\n",
      "  - logs/marginal_emissions_results_quantile.part401.csv\n",
      "  - logs/marginal_emissions_results_quantile.part402.csv\n",
      "  - logs/marginal_emissions_results_quantile.part403.csv\n",
      "  - logs/marginal_emissions_results_quantile.part404.csv\n",
      "  - logs/marginal_emissions_results_quantile.part405.csv\n",
      "  - logs/marginal_emissions_results_quantile_index.csv\n",
      "  - logs/original_model_results_summary.parquet\n",
      "  - logs/qgam_smooth_weather_tuning_results.csv\n",
      "  - logs/qgam_smooth_weather_tuning_results2.csv\n"
     ]
    }
   ],
   "source": [
    "print(\"\\n\" + \"-\" * 120)\n",
    "print(f\"Contents of '{marginal_emissions_development_directory}' and subdirectories:\\n\" + \"-\" * 120)\n",
    "for root, dirs, files in os.walk(marginal_emissions_development_directory):\n",
    "    for f in sorted(files):\n",
    "        rel_dir = os.path.relpath(root, marginal_emissions_development_directory)\n",
    "        rel_file = os.path.join(rel_dir, f) if rel_dir != \".\" else f\n",
    "        print(f\"  - {rel_file}\")"
   ]
  },
  {
   "cell_type": "markdown",
   "id": "a272b1f2",
   "metadata": {},
   "source": [
    "### File Paths"
   ]
  },
  {
   "cell_type": "code",
   "execution_count": 6,
   "id": "cae2d8d0",
   "metadata": {},
   "outputs": [],
   "source": [
    "# Defining Full files\n",
    "full_customers_filename = \"customers_20250714_1401\"\n",
    "full_meter_readings_filename = \"meter_readings_all_years_20250714_formatted\"\n",
    "full_marginal_emissions_filename = \"original_quantile_bins_marginal_emissions_timeseries\"\n",
    "full_average_emissions_filename = \"grid_readings_20250714_1401_processed_half_hourly\"\n",
    "\n",
    "pygam_marginal_emissions_filename = \"pyGAM_marginal_emissions_timeseries\""
   ]
  },
  {
   "cell_type": "code",
   "execution_count": 7,
   "id": "337fead6",
   "metadata": {},
   "outputs": [],
   "source": [
    "# Defining Full Filepaths\n",
    "full_customers_filepath = os.path.join(hitachi_data_directory, full_customers_filename + \".parquet\")\n",
    "full_meter_readings_filepath = os.path.join(meter_save_directory, full_meter_readings_filename + \".parquet\")\n",
    "full_marginal_emissions_filepath = os.path.join(marginal_emissions_results_directory, full_marginal_emissions_filename + \".parquet\")\n",
    "full_average_emissions_filepath = os.path.join(hitachi_data_directory, full_average_emissions_filename + \".parquet\")\n",
    "\n",
    "pygam_marginal_emissions_filepath = os.path.join(marginal_emissions_results_directory, pygam_marginal_emissions_filename + \".parquet\")"
   ]
  },
  {
   "cell_type": "markdown",
   "id": "c702e01a",
   "metadata": {},
   "source": [
    "### Getting Snippets of the Data"
   ]
  },
  {
   "cell_type": "code",
   "execution_count": 8,
   "id": "6596f3a5",
   "metadata": {},
   "outputs": [
    {
     "data": {
      "text/plain": [
       "'2022-05-18'"
      ]
     },
     "execution_count": 8,
     "metadata": {},
     "output_type": "execute_result"
    }
   ],
   "source": [
    "test_date_range_start = datetime(2022, 5, 4, tzinfo=ZoneInfo(\"Asia/Kolkata\"))\n",
    "test_date_range_end = datetime(2022, 5, 18, tzinfo=ZoneInfo(\"Asia/Kolkata\"))\n",
    "\n",
    "\n",
    "str(test_date_range_start)[:10]\n",
    "str(test_date_range_end)[:10]"
   ]
  },
  {
   "cell_type": "markdown",
   "id": "355391da",
   "metadata": {},
   "source": [
    "#### Average Emissions"
   ]
  },
  {
   "cell_type": "code",
   "execution_count": 9,
   "id": "cd0248b5",
   "metadata": {},
   "outputs": [],
   "source": [
    "average_emissions_pldf = pl.read_parquet(full_average_emissions_filepath)"
   ]
  },
  {
   "cell_type": "code",
   "execution_count": 10,
   "id": "0e3d6ac7",
   "metadata": {},
   "outputs": [
    {
     "data": {
      "text/html": [
       "<div><style>\n",
       ".dataframe > thead > tr,\n",
       ".dataframe > tbody > tr {\n",
       "  text-align: right;\n",
       "  white-space: pre-wrap;\n",
       "}\n",
       "</style>\n",
       "<small>shape: (9, 13)</small><table border=\"1\" class=\"dataframe\"><thead><tr><th>statistic</th><th>timestamp</th><th>thermal_generation</th><th>gas_generation</th><th>hydro_generation</th><th>nuclear_generation</th><th>renewable_generation</th><th>total_generation</th><th>demand_met</th><th>non_renewable_generation</th><th>tons_co2</th><th>g_co2_per_kwh</th><th>tons_co2_per_mwh</th></tr><tr><td>str</td><td>str</td><td>f64</td><td>f64</td><td>f64</td><td>f64</td><td>f64</td><td>f64</td><td>f64</td><td>f64</td><td>f64</td><td>f64</td><td>f64</td></tr></thead><tbody><tr><td>&quot;count&quot;</td><td>&quot;95088&quot;</td><td>95088.0</td><td>95088.0</td><td>95088.0</td><td>95088.0</td><td>95088.0</td><td>95088.0</td><td>95088.0</td><td>95088.0</td><td>95088.0</td><td>95088.0</td><td>95088.0</td></tr><tr><td>&quot;null_count&quot;</td><td>&quot;0&quot;</td><td>0.0</td><td>0.0</td><td>0.0</td><td>0.0</td><td>0.0</td><td>0.0</td><td>0.0</td><td>0.0</td><td>0.0</td><td>0.0</td><td>0.0</td></tr><tr><td>&quot;mean&quot;</td><td>&quot;2022-09-17 12:15:00&quot;</td><td>127346.99741</td><td>3880.785326</td><td>17808.916682</td><td>5098.942404</td><td>18015.883059</td><td>172146.160136</td><td>170937.702059</td><td>154135.641823</td><td>62916.633837</td><td>734.108622</td><td>0.734109</td></tr><tr><td>&quot;std&quot;</td><td>null</td><td>20916.196838</td><td>1619.355378</td><td>8617.821113</td><td>788.865947</td><td>14612.596141</td><td>26379.403551</td><td>26081.970354</td><td>22092.847367</td><td>10139.404973</td><td>76.549608</td><td>0.07655</td></tr><tr><td>&quot;min&quot;</td><td>&quot;2020-01-01 00:30:00&quot;</td><td>66097.833333</td><td>109.483135</td><td>2516.0</td><td>2281.083333</td><td>0.0</td><td>95950.333333</td><td>96848.5</td><td>86763.333333</td><td>33384.3019</td><td>483.357945</td><td>0.483358</td></tr><tr><td>&quot;25%&quot;</td><td>&quot;2021-05-10 06:30:00&quot;</td><td>111923.333333</td><td>2565.083333</td><td>10134.916667</td><td>4444.0</td><td>6740.833333</td><td>153551.166667</td><td>152501.5</td><td>138526.0</td><td>55405.58295</td><td>681.281762</td><td>0.681282</td></tr><tr><td>&quot;50%&quot;</td><td>&quot;2022-09-17 12:30:00&quot;</td><td>128648.583333</td><td>3457.833333</td><td>16946.166667</td><td>5126.666667</td><td>12830.5</td><td>172655.166667</td><td>171276.583333</td><td>154052.0</td><td>63403.42905</td><td>734.684328</td><td>0.734684</td></tr><tr><td>&quot;75%&quot;</td><td>&quot;2024-01-25 18:00:00&quot;</td><td>143295.5</td><td>4922.083333</td><td>24823.166667</td><td>5580.25</td><td>25190.333333</td><td>192577.333333</td><td>191039.902778</td><td>169530.333333</td><td>70569.09085</td><td>797.078569</td><td>0.797079</td></tr><tr><td>&quot;max&quot;</td><td>&quot;2025-06-04 00:00:00&quot;</td><td>177508.083333</td><td>12915.75</td><td>43162.083333</td><td>7070.0</td><td>81927.666667</td><td>251763.666667</td><td>249591.916667</td><td>217778.833333</td><td>88742.75695</td><td>905.09159</td><td>0.905092</td></tr></tbody></table></div>"
      ],
      "text/plain": [
       "shape: (9, 13)\n",
       "┌───────────┬───────────┬───────────┬───────────┬───┬───────────┬───────────┬───────────┬──────────┐\n",
       "│ statistic ┆ timestamp ┆ thermal_g ┆ gas_gener ┆ … ┆ non_renew ┆ tons_co2  ┆ g_co2_per ┆ tons_co2 │\n",
       "│ ---       ┆ ---       ┆ eneration ┆ ation     ┆   ┆ able_gene ┆ ---       ┆ _kwh      ┆ _per_mwh │\n",
       "│ str       ┆ str       ┆ ---       ┆ ---       ┆   ┆ ration    ┆ f64       ┆ ---       ┆ ---      │\n",
       "│           ┆           ┆ f64       ┆ f64       ┆   ┆ ---       ┆           ┆ f64       ┆ f64      │\n",
       "│           ┆           ┆           ┆           ┆   ┆ f64       ┆           ┆           ┆          │\n",
       "╞═══════════╪═══════════╪═══════════╪═══════════╪═══╪═══════════╪═══════════╪═══════════╪══════════╡\n",
       "│ count     ┆ 95088     ┆ 95088.0   ┆ 95088.0   ┆ … ┆ 95088.0   ┆ 95088.0   ┆ 95088.0   ┆ 95088.0  │\n",
       "│ null_coun ┆ 0         ┆ 0.0       ┆ 0.0       ┆ … ┆ 0.0       ┆ 0.0       ┆ 0.0       ┆ 0.0      │\n",
       "│ t         ┆           ┆           ┆           ┆   ┆           ┆           ┆           ┆          │\n",
       "│ mean      ┆ 2022-09-1 ┆ 127346.99 ┆ 3880.7853 ┆ … ┆ 154135.64 ┆ 62916.633 ┆ 734.10862 ┆ 0.734109 │\n",
       "│           ┆ 7         ┆ 741       ┆ 26        ┆   ┆ 1823      ┆ 837       ┆ 2         ┆          │\n",
       "│           ┆ 12:15:00  ┆           ┆           ┆   ┆           ┆           ┆           ┆          │\n",
       "│ std       ┆ null      ┆ 20916.196 ┆ 1619.3553 ┆ … ┆ 22092.847 ┆ 10139.404 ┆ 76.549608 ┆ 0.07655  │\n",
       "│           ┆           ┆ 838       ┆ 78        ┆   ┆ 367       ┆ 973       ┆           ┆          │\n",
       "│ min       ┆ 2020-01-0 ┆ 66097.833 ┆ 109.48313 ┆ … ┆ 86763.333 ┆ 33384.301 ┆ 483.35794 ┆ 0.483358 │\n",
       "│           ┆ 1         ┆ 333       ┆ 5         ┆   ┆ 333       ┆ 9         ┆ 5         ┆          │\n",
       "│           ┆ 00:30:00  ┆           ┆           ┆   ┆           ┆           ┆           ┆          │\n",
       "│ 25%       ┆ 2021-05-1 ┆ 111923.33 ┆ 2565.0833 ┆ … ┆ 138526.0  ┆ 55405.582 ┆ 681.28176 ┆ 0.681282 │\n",
       "│           ┆ 0         ┆ 3333      ┆ 33        ┆   ┆           ┆ 95        ┆ 2         ┆          │\n",
       "│           ┆ 06:30:00  ┆           ┆           ┆   ┆           ┆           ┆           ┆          │\n",
       "│ 50%       ┆ 2022-09-1 ┆ 128648.58 ┆ 3457.8333 ┆ … ┆ 154052.0  ┆ 63403.429 ┆ 734.68432 ┆ 0.734684 │\n",
       "│           ┆ 7         ┆ 3333      ┆ 33        ┆   ┆           ┆ 05        ┆ 8         ┆          │\n",
       "│           ┆ 12:30:00  ┆           ┆           ┆   ┆           ┆           ┆           ┆          │\n",
       "│ 75%       ┆ 2024-01-2 ┆ 143295.5  ┆ 4922.0833 ┆ … ┆ 169530.33 ┆ 70569.090 ┆ 797.07856 ┆ 0.797079 │\n",
       "│           ┆ 5         ┆           ┆ 33        ┆   ┆ 3333      ┆ 85        ┆ 9         ┆          │\n",
       "│           ┆ 18:00:00  ┆           ┆           ┆   ┆           ┆           ┆           ┆          │\n",
       "│ max       ┆ 2025-06-0 ┆ 177508.08 ┆ 12915.75  ┆ … ┆ 217778.83 ┆ 88742.756 ┆ 905.09159 ┆ 0.905092 │\n",
       "│           ┆ 4         ┆ 3333      ┆           ┆   ┆ 3333      ┆ 95        ┆           ┆          │\n",
       "│           ┆ 00:00:00  ┆           ┆           ┆   ┆           ┆           ┆           ┆          │\n",
       "└───────────┴───────────┴───────────┴───────────┴───┴───────────┴───────────┴───────────┴──────────┘"
      ]
     },
     "execution_count": 10,
     "metadata": {},
     "output_type": "execute_result"
    }
   ],
   "source": [
    "# inspect data\n",
    "average_emissions_pldf.describe()"
   ]
  },
  {
   "cell_type": "code",
   "execution_count": 11,
   "id": "2e56050d",
   "metadata": {},
   "outputs": [],
   "source": [
    "# Extract start and end dates\n",
    "start_date_boundary = str(average_emissions_pldf[\"timestamp\"].min())[:10]\n",
    "end_date_boundary = str(average_emissions_pldf[\"timestamp\"].max())[:10]\n"
   ]
  },
  {
   "cell_type": "code",
   "execution_count": 12,
   "id": "8c7d8e62",
   "metadata": {},
   "outputs": [
    {
     "name": "stdout",
     "output_type": "stream",
     "text": [
      "2020-01-01\n",
      "2025-06-04\n"
     ]
    }
   ],
   "source": [
    "print(start_date_boundary)\n",
    "print(end_date_boundary)"
   ]
  },
  {
   "cell_type": "code",
   "execution_count": 13,
   "id": "8bac45c4",
   "metadata": {},
   "outputs": [
    {
     "data": {
      "text/plain": [
       "Schema([('timestamp', Datetime(time_unit='us', time_zone=None)),\n",
       "        ('g_co2_per_kwh', Float64)])"
      ]
     },
     "metadata": {},
     "output_type": "display_data"
    }
   ],
   "source": [
    "# drop everything but emission factor and timestamp\n",
    "reduced_average_emissions_pldf = average_emissions_pldf.drop([\"thermal_generation\", \"gas_generation\",\"hydro_generation\",\n",
    "                                                      \"nuclear_generation\",\"renewable_generation\", \"total_generation\",\n",
    "                                                      \"demand_met\", \"non_renewable_generation\", \"tons_co2\",\n",
    "                                                      \"tons_co2_per_mwh\"])\n",
    "# check results:\n",
    "display(reduced_average_emissions_pldf.schema)"
   ]
  },
  {
   "cell_type": "code",
   "execution_count": 14,
   "id": "34676b59",
   "metadata": {},
   "outputs": [
    {
     "data": {
      "text/plain": [
       "Schema([('timestamp', Datetime(time_unit='us', time_zone=None)),\n",
       "        ('average_emissions_grams_co2_per_kWh', Float64)])"
      ]
     },
     "metadata": {},
     "output_type": "display_data"
    }
   ],
   "source": [
    "reduced_average_emissions_pldf = reduced_average_emissions_pldf.rename({\"g_co2_per_kwh\": \"average_emissions_grams_co2_per_kWh\"})\n",
    "\n",
    "# check results:\n",
    "display(reduced_average_emissions_pldf.schema)"
   ]
  },
  {
   "cell_type": "code",
   "execution_count": 15,
   "id": "f6ef59c3",
   "metadata": {},
   "outputs": [
    {
     "data": {
      "text/plain": [
       "Schema([('timestamp', Datetime(time_unit='us', time_zone='Asia/Kolkata')),\n",
       "        ('average_emissions_grams_co2_per_kWh', Float64)])"
      ]
     },
     "metadata": {},
     "output_type": "display_data"
    },
    {
     "data": {
      "text/html": [
       "<div><style>\n",
       ".dataframe > thead > tr,\n",
       ".dataframe > tbody > tr {\n",
       "  text-align: right;\n",
       "  white-space: pre-wrap;\n",
       "}\n",
       "</style>\n",
       "<small>shape: (9, 3)</small><table border=\"1\" class=\"dataframe\"><thead><tr><th>statistic</th><th>timestamp</th><th>average_emissions_grams_co2_per_kWh</th></tr><tr><td>str</td><td>str</td><td>f64</td></tr></thead><tbody><tr><td>&quot;count&quot;</td><td>&quot;95088&quot;</td><td>95088.0</td></tr><tr><td>&quot;null_count&quot;</td><td>&quot;0&quot;</td><td>0.0</td></tr><tr><td>&quot;mean&quot;</td><td>&quot;2022-09-17 12:15:00+05:30&quot;</td><td>734.108622</td></tr><tr><td>&quot;std&quot;</td><td>null</td><td>76.549608</td></tr><tr><td>&quot;min&quot;</td><td>&quot;2020-01-01 00:30:00+05:30&quot;</td><td>483.357945</td></tr><tr><td>&quot;25%&quot;</td><td>&quot;2021-05-10 06:30:00+05:30&quot;</td><td>681.281762</td></tr><tr><td>&quot;50%&quot;</td><td>&quot;2022-09-17 12:30:00+05:30&quot;</td><td>734.684328</td></tr><tr><td>&quot;75%&quot;</td><td>&quot;2024-01-25 18:00:00+05:30&quot;</td><td>797.078569</td></tr><tr><td>&quot;max&quot;</td><td>&quot;2025-06-04 00:00:00+05:30&quot;</td><td>905.09159</td></tr></tbody></table></div>"
      ],
      "text/plain": [
       "shape: (9, 3)\n",
       "┌────────────┬───────────────────────────┬─────────────────────────────────┐\n",
       "│ statistic  ┆ timestamp                 ┆ average_emissions_grams_co2_pe… │\n",
       "│ ---        ┆ ---                       ┆ ---                             │\n",
       "│ str        ┆ str                       ┆ f64                             │\n",
       "╞════════════╪═══════════════════════════╪═════════════════════════════════╡\n",
       "│ count      ┆ 95088                     ┆ 95088.0                         │\n",
       "│ null_count ┆ 0                         ┆ 0.0                             │\n",
       "│ mean       ┆ 2022-09-17 12:15:00+05:30 ┆ 734.108622                      │\n",
       "│ std        ┆ null                      ┆ 76.549608                       │\n",
       "│ min        ┆ 2020-01-01 00:30:00+05:30 ┆ 483.357945                      │\n",
       "│ 25%        ┆ 2021-05-10 06:30:00+05:30 ┆ 681.281762                      │\n",
       "│ 50%        ┆ 2022-09-17 12:30:00+05:30 ┆ 734.684328                      │\n",
       "│ 75%        ┆ 2024-01-25 18:00:00+05:30 ┆ 797.078569                      │\n",
       "│ max        ┆ 2025-06-04 00:00:00+05:30 ┆ 905.09159                       │\n",
       "└────────────┴───────────────────────────┴─────────────────────────────────┘"
      ]
     },
     "metadata": {},
     "output_type": "display_data"
    }
   ],
   "source": [
    "# Change the timestamp to be the local timezone\n",
    "# note we do replace not convert\n",
    "reduced_average_emissions_pldf = reduced_average_emissions_pldf.with_columns(\n",
    "    pl.col(\"timestamp\").dt.replace_time_zone(\"Asia/Kolkata\")\n",
    ")\n",
    "# check results:\n",
    "display(reduced_average_emissions_pldf.schema)\n",
    "display(reduced_average_emissions_pldf.describe())"
   ]
  },
  {
   "cell_type": "code",
   "execution_count": 16,
   "id": "22c64cf3",
   "metadata": {},
   "outputs": [
    {
     "name": "stdout",
     "output_type": "stream",
     "text": [
      "Time Boundaries before reduction\n",
      "Minimum: shape: (1, 1)\n",
      "┌────────────────────────────┐\n",
      "│ timestamp                  │\n",
      "│ ---                        │\n",
      "│ datetime[μs, Asia/Kolkata] │\n",
      "╞════════════════════════════╡\n",
      "│ 2020-01-01 00:30:00 IST    │\n",
      "└────────────────────────────┘, Maximum: shape: (1, 1)\n",
      "┌────────────────────────────┐\n",
      "│ timestamp                  │\n",
      "│ ---                        │\n",
      "│ datetime[μs, Asia/Kolkata] │\n",
      "╞════════════════════════════╡\n",
      "│ 2025-06-04 00:00:00 IST    │\n",
      "└────────────────────────────┘\n",
      "Time Boundaries after reduction\n",
      "Minimum: shape: (1, 1)\n",
      "┌────────────────────────────┐\n",
      "│ timestamp                  │\n",
      "│ ---                        │\n",
      "│ datetime[μs, Asia/Kolkata] │\n",
      "╞════════════════════════════╡\n",
      "│ 2022-05-04 00:00:00 IST    │\n",
      "└────────────────────────────┘, Maximum: shape: (1, 1)\n",
      "┌────────────────────────────┐\n",
      "│ timestamp                  │\n",
      "│ ---                        │\n",
      "│ datetime[μs, Asia/Kolkata] │\n",
      "╞════════════════════════════╡\n",
      "│ 2022-05-18 00:00:00 IST    │\n",
      "└────────────────────────────┘\n"
     ]
    }
   ],
   "source": [
    "print(\"Time Boundaries before reduction\")\n",
    "print(f\"Minimum: {((reduced_average_emissions_pldf.select('timestamp')).min())}, Maximum: {(reduced_average_emissions_pldf.select('timestamp')).max()}\")\n",
    "\n",
    "# Trim the timeframe to fit the analysis that we are doing:\n",
    "trimmed_average_emissions_pldf = reduced_average_emissions_pldf.filter(\n",
    "        (pl.col(\"timestamp\") >= test_date_range_start) & (pl.col(\"timestamp\") <= test_date_range_end)\n",
    ")\n",
    "# check results:\n",
    "print(\"Time Boundaries after reduction\")\n",
    "print(f\"Minimum: {trimmed_average_emissions_pldf.select('timestamp').min()}, Maximum: {trimmed_average_emissions_pldf.select('timestamp').max()}\")\n"
   ]
  },
  {
   "cell_type": "code",
   "execution_count": 17,
   "id": "c5d41435",
   "metadata": {},
   "outputs": [],
   "source": [
    "trimmed_average_emissions_filename = f\"average_emissions_{str(test_date_range_start)[:10]}_to_{str(test_date_range_end)[:10]}\"\n",
    "trimmed_average_emissions_filepath = os.path.join(optimisation_development_directory, trimmed_average_emissions_filename + \".parquet\")"
   ]
  },
  {
   "cell_type": "code",
   "execution_count": 18,
   "id": "24932ee0",
   "metadata": {},
   "outputs": [
    {
     "name": "stdout",
     "output_type": "stream",
     "text": [
      "Successfully saved trimmed average emissions data to data/optimisation_development/average_emissions_2022-05-04_to_2022-05-18.parquet\n"
     ]
    }
   ],
   "source": [
    "try:\n",
    "    trimmed_average_emissions_pldf.write_parquet(file=trimmed_average_emissions_filepath,\n",
    "                                                  compression=\"snappy\",\n",
    "                                                  statistics=True)\n",
    "    print(f\"Successfully saved trimmed average emissions data to {trimmed_average_emissions_filepath}\")\n",
    "\n",
    "except Exception as e:\n",
    "    print(f\"Error occurred while saving trimmed average emissions data: {e}\")"
   ]
  },
  {
   "cell_type": "markdown",
   "id": "a9bb5cdd",
   "metadata": {},
   "source": [
    "#### Marginal Emissions"
   ]
  },
  {
   "cell_type": "code",
   "execution_count": 19,
   "id": "b0e0ed02",
   "metadata": {},
   "outputs": [],
   "source": [
    "marginal_emissions_pldf = pl.read_parquet(full_marginal_emissions_filepath)\n",
    "pygam_marginal_emissions = pl.read_parquet(pygam_marginal_emissions_filepath)"
   ]
  },
  {
   "cell_type": "code",
   "execution_count": 20,
   "id": "4f2c095e",
   "metadata": {},
   "outputs": [
    {
     "data": {
      "text/html": [
       "<div><style>\n",
       ".dataframe > thead > tr,\n",
       ".dataframe > tbody > tr {\n",
       "  text-align: right;\n",
       "  white-space: pre-wrap;\n",
       "}\n",
       "</style>\n",
       "<small>shape: (9, 10)</small><table border=\"1\" class=\"dataframe\"><thead><tr><th>statistic</th><th>timestamp</th><th>city</th><th>land_longitude</th><th>land_latitude</th><th>ME</th><th>alpha1</th><th>alpha2</th><th>original_quantile_group_id</th><th>demand_met</th></tr><tr><td>str</td><td>str</td><td>str</td><td>f64</td><td>f64</td><td>f64</td><td>f64</td><td>f64</td><td>f64</td><td>f64</td></tr></thead><tbody><tr><td>&quot;count&quot;</td><td>&quot;3481920&quot;</td><td>&quot;3481920&quot;</td><td>3.48192e6</td><td>3.48192e6</td><td>3.48192e6</td><td>3.48192e6</td><td>3.48192e6</td><td>3.48192e6</td><td>3.48192e6</td></tr><tr><td>&quot;null_count&quot;</td><td>&quot;0&quot;</td><td>&quot;0&quot;</td><td>0.0</td><td>0.0</td><td>0.0</td><td>0.0</td><td>0.0</td><td>0.0</td><td>0.0</td></tr><tr><td>&quot;mean&quot;</td><td>&quot;2023-03-17 23:45:00+05:30&quot;</td><td>null</td><td>75.701111</td><td>25.393333</td><td>0.373358</td><td>0.887762</td><td>-0.000001</td><td>16.530667</td><td>177287.744297</td></tr><tr><td>&quot;std&quot;</td><td>null</td><td>null</td><td>1.969453</td><td>4.538596</td><td>0.073292</td><td>0.112286</td><td>3.4511e-7</td><td>11.399828</td><td>23535.203493</td></tr><tr><td>&quot;min&quot;</td><td>&quot;2021-01-01 00:00:00+05:30&quot;</td><td>null</td><td>72.77</td><td>18.5</td><td>0.101938</td><td>0.682504</td><td>-0.000002</td><td>2.0</td><td>105140.916667</td></tr><tr><td>&quot;25%&quot;</td><td>&quot;2022-02-08 00:00:00+05:30&quot;</td><td>null</td><td>72.97</td><td>19.2</td><td>0.326648</td><td>0.798551</td><td>-0.000002</td><td>4.0</td><td>160999.75</td></tr><tr><td>&quot;50%&quot;</td><td>&quot;2023-03-18 00:00:00+05:30&quot;</td><td>null</td><td>76.94</td><td>28.5</td><td>0.373625</td><td>0.869218</td><td>-0.000001</td><td>17.0</td><td>178227.333325</td></tr><tr><td>&quot;75%&quot;</td><td>&quot;2024-04-23 23:30:00+05:30&quot;</td><td>null</td><td>77.14</td><td>28.7</td><td>0.423545</td><td>1.009042</td><td>-0.000001</td><td>26.0</td><td>194806.833333</td></tr><tr><td>&quot;max&quot;</td><td>&quot;2025-05-31 23:30:00+05:30&quot;</td><td>null</td><td>77.34</td><td>28.8</td><td>0.635273</td><td>1.06163</td><td>-8.1658e-7</td><td>34.0</td><td>249591.916667</td></tr></tbody></table></div>"
      ],
      "text/plain": [
       "shape: (9, 10)\n",
       "┌────────────┬───────────┬─────────┬───────────┬───┬───────────┬───────────┬───────────┬───────────┐\n",
       "│ statistic  ┆ timestamp ┆ city    ┆ land_long ┆ … ┆ alpha1    ┆ alpha2    ┆ original_ ┆ demand_me │\n",
       "│ ---        ┆ ---       ┆ ---     ┆ itude     ┆   ┆ ---       ┆ ---       ┆ quantile_ ┆ t         │\n",
       "│ str        ┆ str       ┆ str     ┆ ---       ┆   ┆ f64       ┆ f64       ┆ group_id  ┆ ---       │\n",
       "│            ┆           ┆         ┆ f64       ┆   ┆           ┆           ┆ ---       ┆ f64       │\n",
       "│            ┆           ┆         ┆           ┆   ┆           ┆           ┆ f64       ┆           │\n",
       "╞════════════╪═══════════╪═════════╪═══════════╪═══╪═══════════╪═══════════╪═══════════╪═══════════╡\n",
       "│ count      ┆ 3481920   ┆ 3481920 ┆ 3.48192e6 ┆ … ┆ 3.48192e6 ┆ 3.48192e6 ┆ 3.48192e6 ┆ 3.48192e6 │\n",
       "│ null_count ┆ 0         ┆ 0       ┆ 0.0       ┆ … ┆ 0.0       ┆ 0.0       ┆ 0.0       ┆ 0.0       │\n",
       "│ mean       ┆ 2023-03-1 ┆ null    ┆ 75.701111 ┆ … ┆ 0.887762  ┆ -0.000001 ┆ 16.530667 ┆ 177287.74 │\n",
       "│            ┆ 7 23:45:0 ┆         ┆           ┆   ┆           ┆           ┆           ┆ 4297      │\n",
       "│            ┆ 0+05:30   ┆         ┆           ┆   ┆           ┆           ┆           ┆           │\n",
       "│ std        ┆ null      ┆ null    ┆ 1.969453  ┆ … ┆ 0.112286  ┆ 3.4511e-7 ┆ 11.399828 ┆ 23535.203 │\n",
       "│            ┆           ┆         ┆           ┆   ┆           ┆           ┆           ┆ 493       │\n",
       "│ min        ┆ 2021-01-0 ┆ null    ┆ 72.77     ┆ … ┆ 0.682504  ┆ -0.000002 ┆ 2.0       ┆ 105140.91 │\n",
       "│            ┆ 1 00:00:0 ┆         ┆           ┆   ┆           ┆           ┆           ┆ 6667      │\n",
       "│            ┆ 0+05:30   ┆         ┆           ┆   ┆           ┆           ┆           ┆           │\n",
       "│ 25%        ┆ 2022-02-0 ┆ null    ┆ 72.97     ┆ … ┆ 0.798551  ┆ -0.000002 ┆ 4.0       ┆ 160999.75 │\n",
       "│            ┆ 8 00:00:0 ┆         ┆           ┆   ┆           ┆           ┆           ┆           │\n",
       "│            ┆ 0+05:30   ┆         ┆           ┆   ┆           ┆           ┆           ┆           │\n",
       "│ 50%        ┆ 2023-03-1 ┆ null    ┆ 76.94     ┆ … ┆ 0.869218  ┆ -0.000001 ┆ 17.0      ┆ 178227.33 │\n",
       "│            ┆ 8 00:00:0 ┆         ┆           ┆   ┆           ┆           ┆           ┆ 3325      │\n",
       "│            ┆ 0+05:30   ┆         ┆           ┆   ┆           ┆           ┆           ┆           │\n",
       "│ 75%        ┆ 2024-04-2 ┆ null    ┆ 77.14     ┆ … ┆ 1.009042  ┆ -0.000001 ┆ 26.0      ┆ 194806.83 │\n",
       "│            ┆ 3 23:30:0 ┆         ┆           ┆   ┆           ┆           ┆           ┆ 3333      │\n",
       "│            ┆ 0+05:30   ┆         ┆           ┆   ┆           ┆           ┆           ┆           │\n",
       "│ max        ┆ 2025-05-3 ┆ null    ┆ 77.34     ┆ … ┆ 1.06163   ┆ -8.1658e- ┆ 34.0      ┆ 249591.91 │\n",
       "│            ┆ 1 23:30:0 ┆         ┆           ┆   ┆           ┆ 7         ┆           ┆ 6667      │\n",
       "│            ┆ 0+05:30   ┆         ┆           ┆   ┆           ┆           ┆           ┆           │\n",
       "└────────────┴───────────┴─────────┴───────────┴───┴───────────┴───────────┴───────────┴───────────┘"
      ]
     },
     "execution_count": 20,
     "metadata": {},
     "output_type": "execute_result"
    }
   ],
   "source": [
    "marginal_emissions_pldf.describe()"
   ]
  },
  {
   "cell_type": "code",
   "execution_count": 21,
   "id": "d59d2f06",
   "metadata": {},
   "outputs": [
    {
     "data": {
      "text/html": [
       "<div><style>\n",
       ".dataframe > thead > tr,\n",
       ".dataframe > tbody > tr {\n",
       "  text-align: right;\n",
       "  white-space: pre-wrap;\n",
       "}\n",
       "</style>\n",
       "<small>shape: (9, 14)</small><table border=\"1\" class=\"dataframe\"><thead><tr><th>statistic</th><th>timestamp</th><th>city</th><th>land_longitude</th><th>land_latitude</th><th>ME</th><th>alpha1</th><th>alpha2</th><th>original_quantile_group_id</th><th>demand_met</th><th>quantile_marginal_emissions_tons_co2_per_MW</th><th>quantile_marginal_emissions_grams_co2_per_kWh</th><th>demand_met_MW</th><th>demand_met_kWh</th></tr><tr><td>str</td><td>str</td><td>str</td><td>f64</td><td>f64</td><td>f64</td><td>f64</td><td>f64</td><td>f64</td><td>f64</td><td>f64</td><td>f64</td><td>f64</td><td>f64</td></tr></thead><tbody><tr><td>&quot;count&quot;</td><td>&quot;3481920&quot;</td><td>&quot;3481920&quot;</td><td>3.48192e6</td><td>3.48192e6</td><td>3.48192e6</td><td>3.48192e6</td><td>3.48192e6</td><td>3.48192e6</td><td>3.48192e6</td><td>3.48192e6</td><td>3.48192e6</td><td>3.48192e6</td><td>3.48192e6</td></tr><tr><td>&quot;null_count&quot;</td><td>&quot;0&quot;</td><td>&quot;0&quot;</td><td>0.0</td><td>0.0</td><td>0.0</td><td>0.0</td><td>0.0</td><td>0.0</td><td>0.0</td><td>0.0</td><td>0.0</td><td>0.0</td><td>0.0</td></tr><tr><td>&quot;mean&quot;</td><td>&quot;2023-03-17 23:45:00+05:30&quot;</td><td>null</td><td>75.701111</td><td>25.393333</td><td>0.373358</td><td>0.887762</td><td>-0.000001</td><td>16.530667</td><td>177287.744297</td><td>0.373358</td><td>746.715198</td><td>177287.744297</td><td>8.8644e7</td></tr><tr><td>&quot;std&quot;</td><td>null</td><td>null</td><td>1.969453</td><td>4.538596</td><td>0.073292</td><td>0.112286</td><td>3.4511e-7</td><td>11.399828</td><td>23535.203493</td><td>0.073292</td><td>146.583329</td><td>23535.203493</td><td>1.1768e7</td></tr><tr><td>&quot;min&quot;</td><td>&quot;2021-01-01 00:00:00+05:30&quot;</td><td>null</td><td>72.77</td><td>18.5</td><td>0.101938</td><td>0.682504</td><td>-0.000002</td><td>2.0</td><td>105140.916667</td><td>0.101938</td><td>203.876737</td><td>105140.916667</td><td>5.2570e7</td></tr><tr><td>&quot;25%&quot;</td><td>&quot;2022-02-08 00:00:00+05:30&quot;</td><td>null</td><td>72.97</td><td>19.2</td><td>0.326648</td><td>0.798551</td><td>-0.000002</td><td>4.0</td><td>160999.75</td><td>0.326648</td><td>653.296841</td><td>160999.75</td><td>8.0499875e7</td></tr><tr><td>&quot;50%&quot;</td><td>&quot;2023-03-18 00:00:00+05:30&quot;</td><td>null</td><td>76.94</td><td>28.5</td><td>0.373625</td><td>0.869218</td><td>-0.000001</td><td>17.0</td><td>178227.333325</td><td>0.373625</td><td>747.250521</td><td>178227.333325</td><td>8.9114e7</td></tr><tr><td>&quot;75%&quot;</td><td>&quot;2024-04-23 23:30:00+05:30&quot;</td><td>null</td><td>77.14</td><td>28.7</td><td>0.423545</td><td>1.009042</td><td>-0.000001</td><td>26.0</td><td>194806.833333</td><td>0.423545</td><td>847.089125</td><td>194806.833333</td><td>9.7403e7</td></tr><tr><td>&quot;max&quot;</td><td>&quot;2025-05-31 23:30:00+05:30&quot;</td><td>null</td><td>77.34</td><td>28.8</td><td>0.635273</td><td>1.06163</td><td>-8.1658e-7</td><td>34.0</td><td>249591.916667</td><td>0.635273</td><td>1270.545447</td><td>249591.916667</td><td>1.2480e8</td></tr></tbody></table></div>"
      ],
      "text/plain": [
       "shape: (9, 14)\n",
       "┌────────────┬───────────┬─────────┬───────────┬───┬───────────┬───────────┬───────────┬───────────┐\n",
       "│ statistic  ┆ timestamp ┆ city    ┆ land_long ┆ … ┆ quantile_ ┆ quantile_ ┆ demand_me ┆ demand_me │\n",
       "│ ---        ┆ ---       ┆ ---     ┆ itude     ┆   ┆ marginal_ ┆ marginal_ ┆ t_MW      ┆ t_kWh     │\n",
       "│ str        ┆ str       ┆ str     ┆ ---       ┆   ┆ emissions ┆ emissions ┆ ---       ┆ ---       │\n",
       "│            ┆           ┆         ┆ f64       ┆   ┆ _to…      ┆ _gr…      ┆ f64       ┆ f64       │\n",
       "│            ┆           ┆         ┆           ┆   ┆ ---       ┆ ---       ┆           ┆           │\n",
       "│            ┆           ┆         ┆           ┆   ┆ f64       ┆ f64       ┆           ┆           │\n",
       "╞════════════╪═══════════╪═════════╪═══════════╪═══╪═══════════╪═══════════╪═══════════╪═══════════╡\n",
       "│ count      ┆ 3481920   ┆ 3481920 ┆ 3.48192e6 ┆ … ┆ 3.48192e6 ┆ 3.48192e6 ┆ 3.48192e6 ┆ 3.48192e6 │\n",
       "│ null_count ┆ 0         ┆ 0       ┆ 0.0       ┆ … ┆ 0.0       ┆ 0.0       ┆ 0.0       ┆ 0.0       │\n",
       "│ mean       ┆ 2023-03-1 ┆ null    ┆ 75.701111 ┆ … ┆ 0.373358  ┆ 746.71519 ┆ 177287.74 ┆ 8.8644e7  │\n",
       "│            ┆ 7 23:45:0 ┆         ┆           ┆   ┆           ┆ 8         ┆ 4297      ┆           │\n",
       "│            ┆ 0+05:30   ┆         ┆           ┆   ┆           ┆           ┆           ┆           │\n",
       "│ std        ┆ null      ┆ null    ┆ 1.969453  ┆ … ┆ 0.073292  ┆ 146.58332 ┆ 23535.203 ┆ 1.1768e7  │\n",
       "│            ┆           ┆         ┆           ┆   ┆           ┆ 9         ┆ 493       ┆           │\n",
       "│ min        ┆ 2021-01-0 ┆ null    ┆ 72.77     ┆ … ┆ 0.101938  ┆ 203.87673 ┆ 105140.91 ┆ 5.2570e7  │\n",
       "│            ┆ 1 00:00:0 ┆         ┆           ┆   ┆           ┆ 7         ┆ 6667      ┆           │\n",
       "│            ┆ 0+05:30   ┆         ┆           ┆   ┆           ┆           ┆           ┆           │\n",
       "│ 25%        ┆ 2022-02-0 ┆ null    ┆ 72.97     ┆ … ┆ 0.326648  ┆ 653.29684 ┆ 160999.75 ┆ 8.0499875 │\n",
       "│            ┆ 8 00:00:0 ┆         ┆           ┆   ┆           ┆ 1         ┆           ┆ e7        │\n",
       "│            ┆ 0+05:30   ┆         ┆           ┆   ┆           ┆           ┆           ┆           │\n",
       "│ 50%        ┆ 2023-03-1 ┆ null    ┆ 76.94     ┆ … ┆ 0.373625  ┆ 747.25052 ┆ 178227.33 ┆ 8.9114e7  │\n",
       "│            ┆ 8 00:00:0 ┆         ┆           ┆   ┆           ┆ 1         ┆ 3325      ┆           │\n",
       "│            ┆ 0+05:30   ┆         ┆           ┆   ┆           ┆           ┆           ┆           │\n",
       "│ 75%        ┆ 2024-04-2 ┆ null    ┆ 77.14     ┆ … ┆ 0.423545  ┆ 847.08912 ┆ 194806.83 ┆ 9.7403e7  │\n",
       "│            ┆ 3 23:30:0 ┆         ┆           ┆   ┆           ┆ 5         ┆ 3333      ┆           │\n",
       "│            ┆ 0+05:30   ┆         ┆           ┆   ┆           ┆           ┆           ┆           │\n",
       "│ max        ┆ 2025-05-3 ┆ null    ┆ 77.34     ┆ … ┆ 0.635273  ┆ 1270.5454 ┆ 249591.91 ┆ 1.2480e8  │\n",
       "│            ┆ 1 23:30:0 ┆         ┆           ┆   ┆           ┆ 47        ┆ 6667      ┆           │\n",
       "│            ┆ 0+05:30   ┆         ┆           ┆   ┆           ┆           ┆           ┆           │\n",
       "└────────────┴───────────┴─────────┴───────────┴───┴───────────┴───────────┴───────────┴───────────┘"
      ]
     },
     "execution_count": 21,
     "metadata": {},
     "output_type": "execute_result"
    }
   ],
   "source": [
    "marginal_emissions_pldf = marginal_emissions_pldf.with_columns(\n",
    "    # clarifying units - ME currently: tons CO2 per MW per interval\n",
    "    pl.col(\"ME\").alias(\"quantile_marginal_emissions_tons_co2_per_MW\"),\n",
    "     # Convert to g CO2 per MWh: divide by interval_hours\n",
    "    ((pl.col(\"ME\")/0.5)*1000).alias(\"quantile_marginal_emissions_grams_co2_per_kWh\"),\n",
    "    # clarify units of demand_met\n",
    "    pl.col(\"demand_met\").alias(\"demand_met_MW\"),\n",
    "    # convert to kWh\n",
    "    ((pl.col(\"demand_met\") * 0.5 * 1000).alias(\"demand_met_kWh\"))\n",
    ")\n",
    "marginal_emissions_pldf.describe()"
   ]
  },
  {
   "cell_type": "code",
   "execution_count": 22,
   "id": "1e79bf95",
   "metadata": {},
   "outputs": [
    {
     "data": {
      "text/html": [
       "<div><style>\n",
       ".dataframe > thead > tr,\n",
       ".dataframe > tbody > tr {\n",
       "  text-align: right;\n",
       "  white-space: pre-wrap;\n",
       "}\n",
       "</style>\n",
       "<small>shape: (9, 18)</small><table border=\"1\" class=\"dataframe\"><thead><tr><th>statistic</th><th>timestamp</th><th>land_latitude</th><th>land_longitude</th><th>ME</th><th>city</th><th>demand_minus_renewables</th><th>National MW Shift</th><th>Pearson R Score</th><th>Spearman Score</th><th>Confidence Level</th><th>ME_cal</th><th>pg_marginal_emissions_tons_co2_per_MW</th><th>pg_marginal_emissions_grams_co2_per_kWh</th><th>demand_met_MW</th><th>demand_met_kWh</th><th>pg_marginal_emissions_tons_co2_per_MW_calibrated</th><th>pg_marginal_emissions_grams_co2_per_kWh_calibrated</th></tr><tr><td>str</td><td>str</td><td>f64</td><td>f64</td><td>f64</td><td>str</td><td>f64</td><td>f64</td><td>f64</td><td>f64</td><td>str</td><td>f64</td><td>f64</td><td>f64</td><td>f64</td><td>f64</td><td>f64</td><td>f64</td></tr></thead><tbody><tr><td>&quot;count&quot;</td><td>&quot;3481920&quot;</td><td>3.48192e6</td><td>3.48192e6</td><td>3.48192e6</td><td>&quot;3481920&quot;</td><td>3.48192e6</td><td>3.48192e6</td><td>3.48192e6</td><td>3.48192e6</td><td>&quot;3481920&quot;</td><td>3.48192e6</td><td>3.48192e6</td><td>3.48192e6</td><td>3.48192e6</td><td>3.48192e6</td><td>3.48192e6</td><td>3.48192e6</td></tr><tr><td>&quot;null_count&quot;</td><td>&quot;0&quot;</td><td>0.0</td><td>0.0</td><td>0.0</td><td>&quot;0&quot;</td><td>0.0</td><td>0.0</td><td>0.0</td><td>0.0</td><td>&quot;0&quot;</td><td>0.0</td><td>0.0</td><td>0.0</td><td>0.0</td><td>0.0</td><td>0.0</td><td>0.0</td></tr><tr><td>&quot;mean&quot;</td><td>&quot;2023-03-17 23:45:00+05:30&quot;</td><td>25.393333</td><td>75.701111</td><td>0.42054</td><td>null</td><td>157950.088079</td><td>2377.697555</td><td>0.490469</td><td>0.550644</td><td>null</td><td>0.353163</td><td>0.42054</td><td>841.079038</td><td>177287.744297</td><td>8.8644e7</td><td>0.353163</td><td>706.326047</td></tr><tr><td>&quot;std&quot;</td><td>null</td><td>4.538596</td><td>1.969453</td><td>0.032109</td><td>null</td><td>19898.648364</td><td>1890.42524</td><td>0.08124</td><td>0.049947</td><td>null</td><td>0.071478</td><td>0.032109</td><td>64.218552</td><td>23535.203493</td><td>1.1768e7</td><td>0.071478</td><td>142.956919</td></tr><tr><td>&quot;min&quot;</td><td>&quot;2021-01-01 00:00:00+05:30&quot;</td><td>18.5</td><td>72.77</td><td>0.331015</td><td>null</td><td>95019.083333</td><td>0.0</td><td>0.283472</td><td>0.448289</td><td>&quot;low&quot;</td><td>0.153872</td><td>0.331015</td><td>662.029915</td><td>105140.916667</td><td>5.2570e7</td><td>0.153872</td><td>307.744795</td></tr><tr><td>&quot;25%&quot;</td><td>&quot;2022-02-08 00:00:00+05:30&quot;</td><td>19.2</td><td>72.97</td><td>0.417772</td><td>null</td><td>144209.5</td><td>1028.708333</td><td>0.444393</td><td>0.513728</td><td>null</td><td>0.347003</td><td>0.417772</td><td>835.544513</td><td>160999.75</td><td>8.0499875e7</td><td>0.347003</td><td>694.00564</td></tr><tr><td>&quot;50%&quot;</td><td>&quot;2023-03-18 00:00:00+05:30&quot;</td><td>28.5</td><td>76.94</td><td>0.428741</td><td>null</td><td>157871.083333</td><td>1872.666667</td><td>0.519724</td><td>0.560167</td><td>null</td><td>0.371421</td><td>0.428741</td><td>857.482495</td><td>178227.333325</td><td>8.9114e7</td><td>0.371421</td><td>742.841782</td></tr><tr><td>&quot;75%&quot;</td><td>&quot;2024-04-23 23:30:00+05:30&quot;</td><td>28.7</td><td>77.14</td><td>0.438581</td><td>null</td><td>171602.083333</td><td>3205.083333</td><td>0.557195</td><td>0.588823</td><td>null</td><td>0.393326</td><td>0.438581</td><td>877.162443</td><td>194806.833333</td><td>9.7403e7</td><td>0.393326</td><td>786.651314</td></tr><tr><td>&quot;max&quot;</td><td>&quot;2025-05-31 23:30:00+05:30&quot;</td><td>28.8</td><td>77.34</td><td>0.498383</td><td>null</td><td>216498.5</td><td>34155.833333</td><td>0.581367</td><td>0.630714</td><td>&quot;medium&quot;</td><td>0.526451</td><td>0.498383</td><td>996.766449</td><td>249591.916667</td><td>1.2480e8</td><td>0.526451</td><td>1052.901792</td></tr></tbody></table></div>"
      ],
      "text/plain": [
       "shape: (9, 18)\n",
       "┌───────────┬───────────┬───────────┬───────────┬───┬───────────┬───────────┬───────────┬──────────┐\n",
       "│ statistic ┆ timestamp ┆ land_lati ┆ land_long ┆ … ┆ demand_me ┆ demand_me ┆ pg_margin ┆ pg_margi │\n",
       "│ ---       ┆ ---       ┆ tude      ┆ itude     ┆   ┆ t_MW      ┆ t_kWh     ┆ al_emissi ┆ nal_emis │\n",
       "│ str       ┆ str       ┆ ---       ┆ ---       ┆   ┆ ---       ┆ ---       ┆ ons_tons_ ┆ sions_gr │\n",
       "│           ┆           ┆ f64       ┆ f64       ┆   ┆ f64       ┆ f64       ┆ co2…      ┆ ams_co…  │\n",
       "│           ┆           ┆           ┆           ┆   ┆           ┆           ┆ ---       ┆ ---      │\n",
       "│           ┆           ┆           ┆           ┆   ┆           ┆           ┆ f64       ┆ f64      │\n",
       "╞═══════════╪═══════════╪═══════════╪═══════════╪═══╪═══════════╪═══════════╪═══════════╪══════════╡\n",
       "│ count     ┆ 3481920   ┆ 3.48192e6 ┆ 3.48192e6 ┆ … ┆ 3.48192e6 ┆ 3.48192e6 ┆ 3.48192e6 ┆ 3.48192e │\n",
       "│           ┆           ┆           ┆           ┆   ┆           ┆           ┆           ┆ 6        │\n",
       "│ null_coun ┆ 0         ┆ 0.0       ┆ 0.0       ┆ … ┆ 0.0       ┆ 0.0       ┆ 0.0       ┆ 0.0      │\n",
       "│ t         ┆           ┆           ┆           ┆   ┆           ┆           ┆           ┆          │\n",
       "│ mean      ┆ 2023-03-1 ┆ 25.393333 ┆ 75.701111 ┆ … ┆ 177287.74 ┆ 8.8644e7  ┆ 0.353163  ┆ 706.3260 │\n",
       "│           ┆ 7 23:45:0 ┆           ┆           ┆   ┆ 4297      ┆           ┆           ┆ 47       │\n",
       "│           ┆ 0+05:30   ┆           ┆           ┆   ┆           ┆           ┆           ┆          │\n",
       "│ std       ┆ null      ┆ 4.538596  ┆ 1.969453  ┆ … ┆ 23535.203 ┆ 1.1768e7  ┆ 0.071478  ┆ 142.9569 │\n",
       "│           ┆           ┆           ┆           ┆   ┆ 493       ┆           ┆           ┆ 19       │\n",
       "│ min       ┆ 2021-01-0 ┆ 18.5      ┆ 72.77     ┆ … ┆ 105140.91 ┆ 5.2570e7  ┆ 0.153872  ┆ 307.7447 │\n",
       "│           ┆ 1 00:00:0 ┆           ┆           ┆   ┆ 6667      ┆           ┆           ┆ 95       │\n",
       "│           ┆ 0+05:30   ┆           ┆           ┆   ┆           ┆           ┆           ┆          │\n",
       "│ 25%       ┆ 2022-02-0 ┆ 19.2      ┆ 72.97     ┆ … ┆ 160999.75 ┆ 8.0499875 ┆ 0.347003  ┆ 694.0056 │\n",
       "│           ┆ 8 00:00:0 ┆           ┆           ┆   ┆           ┆ e7        ┆           ┆ 4        │\n",
       "│           ┆ 0+05:30   ┆           ┆           ┆   ┆           ┆           ┆           ┆          │\n",
       "│ 50%       ┆ 2023-03-1 ┆ 28.5      ┆ 76.94     ┆ … ┆ 178227.33 ┆ 8.9114e7  ┆ 0.371421  ┆ 742.8417 │\n",
       "│           ┆ 8 00:00:0 ┆           ┆           ┆   ┆ 3325      ┆           ┆           ┆ 82       │\n",
       "│           ┆ 0+05:30   ┆           ┆           ┆   ┆           ┆           ┆           ┆          │\n",
       "│ 75%       ┆ 2024-04-2 ┆ 28.7      ┆ 77.14     ┆ … ┆ 194806.83 ┆ 9.7403e7  ┆ 0.393326  ┆ 786.6513 │\n",
       "│           ┆ 3 23:30:0 ┆           ┆           ┆   ┆ 3333      ┆           ┆           ┆ 14       │\n",
       "│           ┆ 0+05:30   ┆           ┆           ┆   ┆           ┆           ┆           ┆          │\n",
       "│ max       ┆ 2025-05-3 ┆ 28.8      ┆ 77.34     ┆ … ┆ 249591.91 ┆ 1.2480e8  ┆ 0.526451  ┆ 1052.901 │\n",
       "│           ┆ 1 23:30:0 ┆           ┆           ┆   ┆ 6667      ┆           ┆           ┆ 792      │\n",
       "│           ┆ 0+05:30   ┆           ┆           ┆   ┆           ┆           ┆           ┆          │\n",
       "└───────────┴───────────┴───────────┴───────────┴───┴───────────┴───────────┴───────────┴──────────┘"
      ]
     },
     "execution_count": 22,
     "metadata": {},
     "output_type": "execute_result"
    }
   ],
   "source": [
    "pygam_marginal_emissions = pygam_marginal_emissions.with_columns(\n",
    "    # clarifying units - ME currently: tons CO2 per MW per interval\n",
    "    pl.col(\"ME\").alias(\"pg_marginal_emissions_tons_co2_per_MW\"),\n",
    "     # Convert to g CO2 per MWh: divide by interval_hours\n",
    "    ((pl.col(\"ME\")/0.5)*1000).alias(\"pg_marginal_emissions_grams_co2_per_kWh\"),\n",
    "    # clarify units of demand_met\n",
    "    pl.col(\"demand_met\").alias(\"demand_met_MW\"),\n",
    "    # convert to kWh\n",
    "    ((pl.col(\"demand_met\") * 0.5 * 1000).alias(\"demand_met_kWh\")),\n",
    "    pl.col(\"ME_cal\").alias(\"pg_marginal_emissions_tons_co2_per_MW_calibrated\"),\n",
    "    (pl.col(\"ME_cal\")/0.5*1000).alias(\"pg_marginal_emissions_grams_co2_per_kWh_calibrated\")\n",
    ").drop([\"y_true\", \"y_pred\",\"demand_met\"])\n",
    "pygam_marginal_emissions.describe()"
   ]
  },
  {
   "cell_type": "code",
   "execution_count": 23,
   "id": "1a60829a",
   "metadata": {},
   "outputs": [],
   "source": [
    "# join the two marginal emissions dataframes\n",
    "marginal_emissions_pldf = marginal_emissions_pldf.join(\n",
    "    pygam_marginal_emissions,\n",
    "    on=[\"city\", \"timestamp\"],\n",
    "    how=\"left\",\n",
    "    suffix=(\"pygam\")\n",
    ")"
   ]
  },
  {
   "cell_type": "code",
   "execution_count": 24,
   "id": "5ba8c29e",
   "metadata": {},
   "outputs": [
    {
     "data": {
      "text/html": [
       "<div><style>\n",
       ".dataframe > thead > tr,\n",
       ".dataframe > tbody > tr {\n",
       "  text-align: right;\n",
       "  white-space: pre-wrap;\n",
       "}\n",
       "</style>\n",
       "<small>shape: (87_048_000, 28)</small><table border=\"1\" class=\"dataframe\"><thead><tr><th>timestamp</th><th>city</th><th>land_longitude</th><th>land_latitude</th><th>ME</th><th>alpha1</th><th>alpha2</th><th>original_quantile_group_id</th><th>demand_met</th><th>quantile_marginal_emissions_tons_co2_per_MW</th><th>quantile_marginal_emissions_grams_co2_per_kWh</th><th>demand_met_MW</th><th>demand_met_kWh</th><th>land_latitudepygam</th><th>land_longitudepygam</th><th>MEpygam</th><th>demand_minus_renewables</th><th>National MW Shift</th><th>Pearson R Score</th><th>Spearman Score</th><th>Confidence Level</th><th>ME_cal</th><th>pg_marginal_emissions_tons_co2_per_MW</th><th>pg_marginal_emissions_grams_co2_per_kWh</th><th>demand_met_MWpygam</th><th>demand_met_kWhpygam</th><th>pg_marginal_emissions_tons_co2_per_MW_calibrated</th><th>pg_marginal_emissions_grams_co2_per_kWh_calibrated</th></tr><tr><td>datetime[μs, Asia/Kolkata]</td><td>cat</td><td>f64</td><td>f64</td><td>f64</td><td>f64</td><td>f64</td><td>i64</td><td>f64</td><td>f64</td><td>f64</td><td>f64</td><td>f64</td><td>f64</td><td>f64</td><td>f64</td><td>f64</td><td>f64</td><td>f64</td><td>f64</td><td>str</td><td>f64</td><td>f64</td><td>f64</td><td>f64</td><td>f64</td><td>f64</td><td>f64</td></tr></thead><tbody><tr><td>2021-01-01 00:00:00 IST</td><td>&quot;mumbai&quot;</td><td>72.77</td><td>19.2</td><td>0.509737</td><td>0.805138</td><td>-0.000001</td><td>3</td><td>129481.666667</td><td>0.509737</td><td>1019.474915</td><td>129481.666667</td><td>6.4741e7</td><td>18.5</td><td>72.97</td><td>0.487644</td><td>120024.25</td><td>3102.666667</td><td>0.55606</td><td>0.587619</td><td>&quot;medium&quot;</td><td>0.502544</td><td>0.487644</td><td>975.287688</td><td>129481.666667</td><td>6.4741e7</td><td>0.502544</td><td>1005.087922</td></tr><tr><td>2021-01-01 00:00:00 IST</td><td>&quot;mumbai&quot;</td><td>72.77</td><td>19.2</td><td>0.509737</td><td>0.805138</td><td>-0.000001</td><td>3</td><td>129481.666667</td><td>0.509737</td><td>1019.474915</td><td>129481.666667</td><td>6.4741e7</td><td>18.6</td><td>72.97</td><td>0.487644</td><td>120024.25</td><td>3102.666667</td><td>0.55606</td><td>0.587619</td><td>&quot;medium&quot;</td><td>0.502544</td><td>0.487644</td><td>975.287688</td><td>129481.666667</td><td>6.4741e7</td><td>0.502544</td><td>1005.087922</td></tr><tr><td>2021-01-01 00:00:00 IST</td><td>&quot;mumbai&quot;</td><td>72.77</td><td>19.2</td><td>0.509737</td><td>0.805138</td><td>-0.000001</td><td>3</td><td>129481.666667</td><td>0.509737</td><td>1019.474915</td><td>129481.666667</td><td>6.4741e7</td><td>19.3</td><td>72.97</td><td>0.487644</td><td>120024.25</td><td>3102.666667</td><td>0.55606</td><td>0.587619</td><td>&quot;medium&quot;</td><td>0.502544</td><td>0.487644</td><td>975.287688</td><td>129481.666667</td><td>6.4741e7</td><td>0.502544</td><td>1005.087922</td></tr><tr><td>2021-01-01 00:00:00 IST</td><td>&quot;mumbai&quot;</td><td>72.77</td><td>19.2</td><td>0.509737</td><td>0.805138</td><td>-0.000001</td><td>3</td><td>129481.666667</td><td>0.509737</td><td>1019.474915</td><td>129481.666667</td><td>6.4741e7</td><td>19.1</td><td>72.87</td><td>0.487644</td><td>120024.25</td><td>3102.666667</td><td>0.55606</td><td>0.587619</td><td>&quot;medium&quot;</td><td>0.502544</td><td>0.487644</td><td>975.287688</td><td>129481.666667</td><td>6.4741e7</td><td>0.502544</td><td>1005.087922</td></tr><tr><td>2021-01-01 00:00:00 IST</td><td>&quot;mumbai&quot;</td><td>72.77</td><td>19.2</td><td>0.509737</td><td>0.805138</td><td>-0.000001</td><td>3</td><td>129481.666667</td><td>0.509737</td><td>1019.474915</td><td>129481.666667</td><td>6.4741e7</td><td>18.8</td><td>72.97</td><td>0.487644</td><td>120024.25</td><td>3102.666667</td><td>0.55606</td><td>0.587619</td><td>&quot;medium&quot;</td><td>0.502544</td><td>0.487644</td><td>975.287688</td><td>129481.666667</td><td>6.4741e7</td><td>0.502544</td><td>1005.087922</td></tr><tr><td>&hellip;</td><td>&hellip;</td><td>&hellip;</td><td>&hellip;</td><td>&hellip;</td><td>&hellip;</td><td>&hellip;</td><td>&hellip;</td><td>&hellip;</td><td>&hellip;</td><td>&hellip;</td><td>&hellip;</td><td>&hellip;</td><td>&hellip;</td><td>&hellip;</td><td>&hellip;</td><td>&hellip;</td><td>&hellip;</td><td>&hellip;</td><td>&hellip;</td><td>&hellip;</td><td>&hellip;</td><td>&hellip;</td><td>&hellip;</td><td>&hellip;</td><td>&hellip;</td><td>&hellip;</td><td>&hellip;</td></tr><tr><td>2025-05-31 23:30:00 IST</td><td>&quot;delhi&quot;</td><td>77.34</td><td>28.8</td><td>0.295353</td><td>0.869218</td><td>-0.000001</td><td>4</td><td>212822.75</td><td>0.295353</td><td>590.706153</td><td>212822.75</td><td>1.06411375e8</td><td>28.8</td><td>76.94</td><td>0.359818</td><td>187549.25</td><td>716.5</td><td>0.407424</td><td>0.490606</td><td>&quot;medium&quot;</td><td>0.217991</td><td>0.359818</td><td>719.636212</td><td>212822.75</td><td>1.06411375e8</td><td>0.217991</td><td>435.982172</td></tr><tr><td>2025-05-31 23:30:00 IST</td><td>&quot;delhi&quot;</td><td>77.34</td><td>28.8</td><td>0.295353</td><td>0.869218</td><td>-0.000001</td><td>4</td><td>212822.75</td><td>0.295353</td><td>590.706153</td><td>212822.75</td><td>1.06411375e8</td><td>28.8</td><td>77.04</td><td>0.359818</td><td>187549.25</td><td>716.5</td><td>0.407424</td><td>0.490606</td><td>&quot;medium&quot;</td><td>0.217991</td><td>0.359818</td><td>719.636212</td><td>212822.75</td><td>1.06411375e8</td><td>0.217991</td><td>435.982172</td></tr><tr><td>2025-05-31 23:30:00 IST</td><td>&quot;delhi&quot;</td><td>77.34</td><td>28.8</td><td>0.295353</td><td>0.869218</td><td>-0.000001</td><td>4</td><td>212822.75</td><td>0.295353</td><td>590.706153</td><td>212822.75</td><td>1.06411375e8</td><td>28.8</td><td>77.14</td><td>0.359818</td><td>187549.25</td><td>716.5</td><td>0.407424</td><td>0.490606</td><td>&quot;medium&quot;</td><td>0.217991</td><td>0.359818</td><td>719.636212</td><td>212822.75</td><td>1.06411375e8</td><td>0.217991</td><td>435.982172</td></tr><tr><td>2025-05-31 23:30:00 IST</td><td>&quot;delhi&quot;</td><td>77.34</td><td>28.8</td><td>0.295353</td><td>0.869218</td><td>-0.000001</td><td>4</td><td>212822.75</td><td>0.295353</td><td>590.706153</td><td>212822.75</td><td>1.06411375e8</td><td>28.8</td><td>77.24</td><td>0.359818</td><td>187549.25</td><td>716.5</td><td>0.407424</td><td>0.490606</td><td>&quot;medium&quot;</td><td>0.217991</td><td>0.359818</td><td>719.636212</td><td>212822.75</td><td>1.06411375e8</td><td>0.217991</td><td>435.982172</td></tr><tr><td>2025-05-31 23:30:00 IST</td><td>&quot;delhi&quot;</td><td>77.34</td><td>28.8</td><td>0.295353</td><td>0.869218</td><td>-0.000001</td><td>4</td><td>212822.75</td><td>0.295353</td><td>590.706153</td><td>212822.75</td><td>1.06411375e8</td><td>28.8</td><td>77.34</td><td>0.359818</td><td>187549.25</td><td>716.5</td><td>0.407424</td><td>0.490606</td><td>&quot;medium&quot;</td><td>0.217991</td><td>0.359818</td><td>719.636212</td><td>212822.75</td><td>1.06411375e8</td><td>0.217991</td><td>435.982172</td></tr></tbody></table></div>"
      ],
      "text/plain": [
       "shape: (87_048_000, 28)\n",
       "┌────────────┬────────┬────────────┬───────────┬───┬───────────┬───────────┬───────────┬───────────┐\n",
       "│ timestamp  ┆ city   ┆ land_longi ┆ land_lati ┆ … ┆ demand_me ┆ demand_me ┆ pg_margin ┆ pg_margin │\n",
       "│ ---        ┆ ---    ┆ tude       ┆ tude      ┆   ┆ t_MWpygam ┆ t_kWhpyga ┆ al_emissi ┆ al_emissi │\n",
       "│ datetime[μ ┆ cat    ┆ ---        ┆ ---       ┆   ┆ ---       ┆ m         ┆ ons_tons_ ┆ ons_grams │\n",
       "│ s, Asia/Ko ┆        ┆ f64        ┆ f64       ┆   ┆ f64       ┆ ---       ┆ co2…      ┆ _co…      │\n",
       "│ lkata]     ┆        ┆            ┆           ┆   ┆           ┆ f64       ┆ ---       ┆ ---       │\n",
       "│            ┆        ┆            ┆           ┆   ┆           ┆           ┆ f64       ┆ f64       │\n",
       "╞════════════╪════════╪════════════╪═══════════╪═══╪═══════════╪═══════════╪═══════════╪═══════════╡\n",
       "│ 2021-01-01 ┆ mumbai ┆ 72.77      ┆ 19.2      ┆ … ┆ 129481.66 ┆ 6.4741e7  ┆ 0.502544  ┆ 1005.0879 │\n",
       "│ 00:00:00   ┆        ┆            ┆           ┆   ┆ 6667      ┆           ┆           ┆ 22        │\n",
       "│ IST        ┆        ┆            ┆           ┆   ┆           ┆           ┆           ┆           │\n",
       "│ 2021-01-01 ┆ mumbai ┆ 72.77      ┆ 19.2      ┆ … ┆ 129481.66 ┆ 6.4741e7  ┆ 0.502544  ┆ 1005.0879 │\n",
       "│ 00:00:00   ┆        ┆            ┆           ┆   ┆ 6667      ┆           ┆           ┆ 22        │\n",
       "│ IST        ┆        ┆            ┆           ┆   ┆           ┆           ┆           ┆           │\n",
       "│ 2021-01-01 ┆ mumbai ┆ 72.77      ┆ 19.2      ┆ … ┆ 129481.66 ┆ 6.4741e7  ┆ 0.502544  ┆ 1005.0879 │\n",
       "│ 00:00:00   ┆        ┆            ┆           ┆   ┆ 6667      ┆           ┆           ┆ 22        │\n",
       "│ IST        ┆        ┆            ┆           ┆   ┆           ┆           ┆           ┆           │\n",
       "│ 2021-01-01 ┆ mumbai ┆ 72.77      ┆ 19.2      ┆ … ┆ 129481.66 ┆ 6.4741e7  ┆ 0.502544  ┆ 1005.0879 │\n",
       "│ 00:00:00   ┆        ┆            ┆           ┆   ┆ 6667      ┆           ┆           ┆ 22        │\n",
       "│ IST        ┆        ┆            ┆           ┆   ┆           ┆           ┆           ┆           │\n",
       "│ 2021-01-01 ┆ mumbai ┆ 72.77      ┆ 19.2      ┆ … ┆ 129481.66 ┆ 6.4741e7  ┆ 0.502544  ┆ 1005.0879 │\n",
       "│ 00:00:00   ┆        ┆            ┆           ┆   ┆ 6667      ┆           ┆           ┆ 22        │\n",
       "│ IST        ┆        ┆            ┆           ┆   ┆           ┆           ┆           ┆           │\n",
       "│ …          ┆ …      ┆ …          ┆ …         ┆ … ┆ …         ┆ …         ┆ …         ┆ …         │\n",
       "│ 2025-05-31 ┆ delhi  ┆ 77.34      ┆ 28.8      ┆ … ┆ 212822.75 ┆ 1.0641137 ┆ 0.217991  ┆ 435.98217 │\n",
       "│ 23:30:00   ┆        ┆            ┆           ┆   ┆           ┆ 5e8       ┆           ┆ 2         │\n",
       "│ IST        ┆        ┆            ┆           ┆   ┆           ┆           ┆           ┆           │\n",
       "│ 2025-05-31 ┆ delhi  ┆ 77.34      ┆ 28.8      ┆ … ┆ 212822.75 ┆ 1.0641137 ┆ 0.217991  ┆ 435.98217 │\n",
       "│ 23:30:00   ┆        ┆            ┆           ┆   ┆           ┆ 5e8       ┆           ┆ 2         │\n",
       "│ IST        ┆        ┆            ┆           ┆   ┆           ┆           ┆           ┆           │\n",
       "│ 2025-05-31 ┆ delhi  ┆ 77.34      ┆ 28.8      ┆ … ┆ 212822.75 ┆ 1.0641137 ┆ 0.217991  ┆ 435.98217 │\n",
       "│ 23:30:00   ┆        ┆            ┆           ┆   ┆           ┆ 5e8       ┆           ┆ 2         │\n",
       "│ IST        ┆        ┆            ┆           ┆   ┆           ┆           ┆           ┆           │\n",
       "│ 2025-05-31 ┆ delhi  ┆ 77.34      ┆ 28.8      ┆ … ┆ 212822.75 ┆ 1.0641137 ┆ 0.217991  ┆ 435.98217 │\n",
       "│ 23:30:00   ┆        ┆            ┆           ┆   ┆           ┆ 5e8       ┆           ┆ 2         │\n",
       "│ IST        ┆        ┆            ┆           ┆   ┆           ┆           ┆           ┆           │\n",
       "│ 2025-05-31 ┆ delhi  ┆ 77.34      ┆ 28.8      ┆ … ┆ 212822.75 ┆ 1.0641137 ┆ 0.217991  ┆ 435.98217 │\n",
       "│ 23:30:00   ┆        ┆            ┆           ┆   ┆           ┆ 5e8       ┆           ┆ 2         │\n",
       "│ IST        ┆        ┆            ┆           ┆   ┆           ┆           ┆           ┆           │\n",
       "└────────────┴────────┴────────────┴───────────┴───┴───────────┴───────────┴───────────┴───────────┘"
      ]
     },
     "execution_count": 24,
     "metadata": {},
     "output_type": "execute_result"
    }
   ],
   "source": [
    "marginal_emissions_pldf"
   ]
  },
  {
   "cell_type": "code",
   "execution_count": 26,
   "id": "de08d6b0",
   "metadata": {},
   "outputs": [
    {
     "data": {
      "text/html": [
       "<div><style>\n",
       ".dataframe > thead > tr,\n",
       ".dataframe > tbody > tr {\n",
       "  text-align: right;\n",
       "  white-space: pre-wrap;\n",
       "}\n",
       "</style>\n",
       "<small>shape: (154_752, 6)</small><table border=\"1\" class=\"dataframe\"><thead><tr><th>city</th><th>timestamp</th><th>demand_met_kWh</th><th>quantile_marginal_emissions_grams_co2_per_kWh</th><th>pg_marginal_emissions_grams_co2_per_kWh</th><th>pg_marginal_emissions_grams_co2_per_kWh_calibrated</th></tr><tr><td>cat</td><td>datetime[μs, Asia/Kolkata]</td><td>f64</td><td>f64</td><td>f64</td><td>f64</td></tr></thead><tbody><tr><td>&quot;delhi&quot;</td><td>2021-01-01 00:00:00 IST</td><td>6.4741e7</td><td>1026.368432</td><td>975.287688</td><td>1005.087922</td></tr><tr><td>&quot;delhi&quot;</td><td>2021-01-01 00:30:00 IST</td><td>6.3078e7</td><td>1017.348058</td><td>990.645477</td><td>1039.275896</td></tr><tr><td>&quot;delhi&quot;</td><td>2021-01-01 01:00:00 IST</td><td>6.2424875e7</td><td>1020.337728</td><td>972.448151</td><td>998.76683</td></tr><tr><td>&quot;delhi&quot;</td><td>2021-01-01 01:30:00 IST</td><td>6.1435e7</td><td>1039.577621</td><td>917.840625</td><td>877.205015</td></tr><tr><td>&quot;delhi&quot;</td><td>2021-01-01 02:00:00 IST</td><td>6.0568e7</td><td>1047.066406</td><td>868.783074</td><td>767.998002</td></tr><tr><td>&hellip;</td><td>&hellip;</td><td>&hellip;</td><td>&hellip;</td><td>&hellip;</td><td>&hellip;</td></tr><tr><td>&quot;mumbai&quot;</td><td>2025-05-31 21:30:00 IST</td><td>1.0404e8</td><td>685.357381</td><td>730.640632</td><td>460.479111</td></tr><tr><td>&quot;mumbai&quot;</td><td>2025-05-31 22:00:00 IST</td><td>1.0475e8</td><td>680.709674</td><td>726.951792</td><td>452.267384</td></tr><tr><td>&quot;mumbai&quot;</td><td>2025-05-31 22:30:00 IST</td><td>1.0612e8</td><td>671.795602</td><td>721.221054</td><td>439.510189</td></tr><tr><td>&quot;mumbai&quot;</td><td>2025-05-31 23:00:00 IST</td><td>1.0679e8</td><td>667.368915</td><td>718.150891</td><td>432.675699</td></tr><tr><td>&quot;mumbai&quot;</td><td>2025-05-31 23:30:00 IST</td><td>1.06411375e8</td><td>669.860032</td><td>719.636212</td><td>435.982172</td></tr></tbody></table></div>"
      ],
      "text/plain": [
       "shape: (154_752, 6)\n",
       "┌────────┬──────────────────┬────────────────┬─────────────────┬─────────────────┬─────────────────┐\n",
       "│ city   ┆ timestamp        ┆ demand_met_kWh ┆ quantile_margin ┆ pg_marginal_emi ┆ pg_marginal_emi │\n",
       "│ ---    ┆ ---              ┆ ---            ┆ al_emissions_gr ┆ ssions_grams_co ┆ ssions_grams_co │\n",
       "│ cat    ┆ datetime[μs,     ┆ f64            ┆ …               ┆ …               ┆ …               │\n",
       "│        ┆ Asia/Kolkata]    ┆                ┆ ---             ┆ ---             ┆ ---             │\n",
       "│        ┆                  ┆                ┆ f64             ┆ f64             ┆ f64             │\n",
       "╞════════╪══════════════════╪════════════════╪═════════════════╪═════════════════╪═════════════════╡\n",
       "│ delhi  ┆ 2021-01-01       ┆ 6.4741e7       ┆ 1026.368432     ┆ 975.287688      ┆ 1005.087922     │\n",
       "│        ┆ 00:00:00 IST     ┆                ┆                 ┆                 ┆                 │\n",
       "│ delhi  ┆ 2021-01-01       ┆ 6.3078e7       ┆ 1017.348058     ┆ 990.645477      ┆ 1039.275896     │\n",
       "│        ┆ 00:30:00 IST     ┆                ┆                 ┆                 ┆                 │\n",
       "│ delhi  ┆ 2021-01-01       ┆ 6.2424875e7    ┆ 1020.337728     ┆ 972.448151      ┆ 998.76683       │\n",
       "│        ┆ 01:00:00 IST     ┆                ┆                 ┆                 ┆                 │\n",
       "│ delhi  ┆ 2021-01-01       ┆ 6.1435e7       ┆ 1039.577621     ┆ 917.840625      ┆ 877.205015      │\n",
       "│        ┆ 01:30:00 IST     ┆                ┆                 ┆                 ┆                 │\n",
       "│ delhi  ┆ 2021-01-01       ┆ 6.0568e7       ┆ 1047.066406     ┆ 868.783074      ┆ 767.998002      │\n",
       "│        ┆ 02:00:00 IST     ┆                ┆                 ┆                 ┆                 │\n",
       "│ …      ┆ …                ┆ …              ┆ …               ┆ …               ┆ …               │\n",
       "│ mumbai ┆ 2025-05-31       ┆ 1.0404e8       ┆ 685.357381      ┆ 730.640632      ┆ 460.479111      │\n",
       "│        ┆ 21:30:00 IST     ┆                ┆                 ┆                 ┆                 │\n",
       "│ mumbai ┆ 2025-05-31       ┆ 1.0475e8       ┆ 680.709674      ┆ 726.951792      ┆ 452.267384      │\n",
       "│        ┆ 22:00:00 IST     ┆                ┆                 ┆                 ┆                 │\n",
       "│ mumbai ┆ 2025-05-31       ┆ 1.0612e8       ┆ 671.795602      ┆ 721.221054      ┆ 439.510189      │\n",
       "│        ┆ 22:30:00 IST     ┆                ┆                 ┆                 ┆                 │\n",
       "│ mumbai ┆ 2025-05-31       ┆ 1.0679e8       ┆ 667.368915      ┆ 718.150891      ┆ 432.675699      │\n",
       "│        ┆ 23:00:00 IST     ┆                ┆                 ┆                 ┆                 │\n",
       "│ mumbai ┆ 2025-05-31       ┆ 1.06411375e8   ┆ 669.860032      ┆ 719.636212      ┆ 435.982172      │\n",
       "│        ┆ 23:30:00 IST     ┆                ┆                 ┆                 ┆                 │\n",
       "└────────┴──────────────────┴────────────────┴─────────────────┴─────────────────┴─────────────────┘"
      ]
     },
     "execution_count": 26,
     "metadata": {},
     "output_type": "execute_result"
    }
   ],
   "source": [
    "# columns we want to average\n",
    "avg_cols = [\"demand_met_kWh\", \"quantile_marginal_emissions_grams_co2_per_kWh\", \"pg_marginal_emissions_grams_co2_per_kWh\", \"pg_marginal_emissions_grams_co2_per_kWh_calibrated\"]\n",
    "\n",
    "# Per-city, per-timestamp averages (ignores rows where city is null)\n",
    "gapfill_marginal_emissions_pldf = (\n",
    "    marginal_emissions_pldf\n",
    "    .filter(pl.col(\"city\").is_not_null())\n",
    "    .group_by([\"city\", \"timestamp\"])\n",
    "    .agg([pl.col(c).mean().alias(c) for c in avg_cols])\n",
    "    .sort([\"city\", \"timestamp\"])\n",
    ")\n",
    "# `gapfill_marginal_emissions_pldf`\n",
    "gapfill_marginal_emissions_pldf\n"
   ]
  },
  {
   "cell_type": "code",
   "execution_count": 27,
   "id": "54e54978",
   "metadata": {},
   "outputs": [
    {
     "data": {
      "text/plain": [
       "Schema([('timestamp', Datetime(time_unit='us', time_zone='Asia/Kolkata')),\n",
       "        ('average_emissions_grams_co2_per_kWh', Float64)])"
      ]
     },
     "execution_count": 27,
     "metadata": {},
     "output_type": "execute_result"
    }
   ],
   "source": [
    "reduced_average_emissions_pldf = reduced_average_emissions_pldf.with_columns(\n",
    "    pl.col(\"timestamp\").dt.replace_time_zone(\"Asia/Kolkata\")\n",
    "    )\n",
    "reduced_average_emissions_pldf.schema"
   ]
  },
  {
   "cell_type": "code",
   "execution_count": 28,
   "id": "b2155855",
   "metadata": {},
   "outputs": [],
   "source": [
    "# Perform a left join to keep all rows from gapfill_marginal_emissions_pldf\n",
    "city_emissions_df_complete = gapfill_marginal_emissions_pldf.join(\n",
    "    reduced_average_emissions_pldf,\n",
    "    on=\"timestamp\",\n",
    "    how=\"left\"\n",
    ")\n"
   ]
  },
  {
   "cell_type": "code",
   "execution_count": 29,
   "id": "882eb114",
   "metadata": {},
   "outputs": [
    {
     "data": {
      "text/html": [
       "<div><style>\n",
       ".dataframe > thead > tr,\n",
       ".dataframe > tbody > tr {\n",
       "  text-align: right;\n",
       "  white-space: pre-wrap;\n",
       "}\n",
       "</style>\n",
       "<small>shape: (9, 8)</small><table border=\"1\" class=\"dataframe\"><thead><tr><th>statistic</th><th>city</th><th>timestamp</th><th>demand_met_kWh</th><th>quantile_marginal_emissions_grams_co2_per_kWh</th><th>pg_marginal_emissions_grams_co2_per_kWh</th><th>pg_marginal_emissions_grams_co2_per_kWh_calibrated</th><th>average_emissions_grams_co2_per_kWh</th></tr><tr><td>str</td><td>str</td><td>str</td><td>f64</td><td>f64</td><td>f64</td><td>f64</td><td>f64</td></tr></thead><tbody><tr><td>&quot;count&quot;</td><td>&quot;154752&quot;</td><td>&quot;154752&quot;</td><td>154752.0</td><td>154752.0</td><td>154752.0</td><td>154752.0</td><td>154752.0</td></tr><tr><td>&quot;null_count&quot;</td><td>&quot;0&quot;</td><td>&quot;0&quot;</td><td>0.0</td><td>0.0</td><td>0.0</td><td>0.0</td><td>0.0</td></tr><tr><td>&quot;mean&quot;</td><td>null</td><td>&quot;2023-03-17 23:45:00+05:30&quot;</td><td>8.8644e7</td><td>746.193136</td><td>841.079038</td><td>706.326047</td><td>738.359913</td></tr><tr><td>&quot;std&quot;</td><td>null</td><td>null</td><td>1.1768e7</td><td>146.336679</td><td>64.218751</td><td>142.957361</td><td>78.293185</td></tr><tr><td>&quot;min&quot;</td><td>null</td><td>&quot;2021-01-01 00:00:00+05:30&quot;</td><td>5.2570e7</td><td>207.259574</td><td>662.029915</td><td>307.744795</td><td>483.357945</td></tr><tr><td>&quot;25%&quot;</td><td>null</td><td>&quot;2022-02-08 00:00:00+05:30&quot;</td><td>8.0499875e7</td><td>653.177662</td><td>835.544513</td><td>694.00564</td><td>685.649915</td></tr><tr><td>&quot;50%&quot;</td><td>null</td><td>&quot;2023-03-18 00:00:00+05:30&quot;</td><td>8.9114e7</td><td>746.753796</td><td>857.482495</td><td>742.841782</td><td>740.288715</td></tr><tr><td>&quot;75%&quot;</td><td>null</td><td>&quot;2024-04-23 23:30:00+05:30&quot;</td><td>9.7403e7</td><td>846.129494</td><td>877.162443</td><td>786.651314</td><td>802.991573</td></tr><tr><td>&quot;max&quot;</td><td>null</td><td>&quot;2025-05-31 23:30:00+05:30&quot;</td><td>1.2480e8</td><td>1261.457496</td><td>996.766449</td><td>1052.901792</td><td>905.09159</td></tr></tbody></table></div>"
      ],
      "text/plain": [
       "shape: (9, 8)\n",
       "┌────────────┬────────┬────────────┬────────────┬────────────┬────────────┬────────────┬───────────┐\n",
       "│ statistic  ┆ city   ┆ timestamp  ┆ demand_met ┆ quantile_m ┆ pg_margina ┆ pg_margina ┆ average_e │\n",
       "│ ---        ┆ ---    ┆ ---        ┆ _kWh       ┆ arginal_em ┆ l_emission ┆ l_emission ┆ missions_ │\n",
       "│ str        ┆ str    ┆ str        ┆ ---        ┆ issions_gr ┆ s_grams_co ┆ s_grams_co ┆ grams_co2 │\n",
       "│            ┆        ┆            ┆ f64        ┆ …          ┆ …          ┆ …          ┆ _pe…      │\n",
       "│            ┆        ┆            ┆            ┆ ---        ┆ ---        ┆ ---        ┆ ---       │\n",
       "│            ┆        ┆            ┆            ┆ f64        ┆ f64        ┆ f64        ┆ f64       │\n",
       "╞════════════╪════════╪════════════╪════════════╪════════════╪════════════╪════════════╪═══════════╡\n",
       "│ count      ┆ 154752 ┆ 154752     ┆ 154752.0   ┆ 154752.0   ┆ 154752.0   ┆ 154752.0   ┆ 154752.0  │\n",
       "│ null_count ┆ 0      ┆ 0          ┆ 0.0        ┆ 0.0        ┆ 0.0        ┆ 0.0        ┆ 0.0       │\n",
       "│ mean       ┆ null   ┆ 2023-03-17 ┆ 8.8644e7   ┆ 746.193136 ┆ 841.079038 ┆ 706.326047 ┆ 738.35991 │\n",
       "│            ┆        ┆ 23:45:00+0 ┆            ┆            ┆            ┆            ┆ 3         │\n",
       "│            ┆        ┆ 5:30       ┆            ┆            ┆            ┆            ┆           │\n",
       "│ std        ┆ null   ┆ null       ┆ 1.1768e7   ┆ 146.336679 ┆ 64.218751  ┆ 142.957361 ┆ 78.293185 │\n",
       "│ min        ┆ null   ┆ 2021-01-01 ┆ 5.2570e7   ┆ 207.259574 ┆ 662.029915 ┆ 307.744795 ┆ 483.35794 │\n",
       "│            ┆        ┆ 00:00:00+0 ┆            ┆            ┆            ┆            ┆ 5         │\n",
       "│            ┆        ┆ 5:30       ┆            ┆            ┆            ┆            ┆           │\n",
       "│ 25%        ┆ null   ┆ 2022-02-08 ┆ 8.0499875e ┆ 653.177662 ┆ 835.544513 ┆ 694.00564  ┆ 685.64991 │\n",
       "│            ┆        ┆ 00:00:00+0 ┆ 7          ┆            ┆            ┆            ┆ 5         │\n",
       "│            ┆        ┆ 5:30       ┆            ┆            ┆            ┆            ┆           │\n",
       "│ 50%        ┆ null   ┆ 2023-03-18 ┆ 8.9114e7   ┆ 746.753796 ┆ 857.482495 ┆ 742.841782 ┆ 740.28871 │\n",
       "│            ┆        ┆ 00:00:00+0 ┆            ┆            ┆            ┆            ┆ 5         │\n",
       "│            ┆        ┆ 5:30       ┆            ┆            ┆            ┆            ┆           │\n",
       "│ 75%        ┆ null   ┆ 2024-04-23 ┆ 9.7403e7   ┆ 846.129494 ┆ 877.162443 ┆ 786.651314 ┆ 802.99157 │\n",
       "│            ┆        ┆ 23:30:00+0 ┆            ┆            ┆            ┆            ┆ 3         │\n",
       "│            ┆        ┆ 5:30       ┆            ┆            ┆            ┆            ┆           │\n",
       "│ max        ┆ null   ┆ 2025-05-31 ┆ 1.2480e8   ┆ 1261.45749 ┆ 996.766449 ┆ 1052.90179 ┆ 905.09159 │\n",
       "│            ┆        ┆ 23:30:00+0 ┆            ┆ 6          ┆            ┆ 2          ┆           │\n",
       "│            ┆        ┆ 5:30       ┆            ┆            ┆            ┆            ┆           │\n",
       "└────────────┴────────┴────────────┴────────────┴────────────┴────────────┴────────────┴───────────┘"
      ]
     },
     "execution_count": 29,
     "metadata": {},
     "output_type": "execute_result"
    }
   ],
   "source": [
    "city_emissions_df_complete.describe()"
   ]
  },
  {
   "cell_type": "code",
   "execution_count": 30,
   "id": "8f98bd5d",
   "metadata": {},
   "outputs": [
    {
     "data": {
      "text/html": [
       "<div><style>\n",
       ".dataframe > thead > tr,\n",
       ".dataframe > tbody > tr {\n",
       "  text-align: right;\n",
       "  white-space: pre-wrap;\n",
       "}\n",
       "</style>\n",
       "<small>shape: (2, 7)</small><table border=\"1\" class=\"dataframe\"><thead><tr><th>city</th><th>timestamp</th><th>demand_met_kWh</th><th>quantile_marginal_emissions_grams_co2_per_kWh</th><th>pg_marginal_emissions_grams_co2_per_kWh</th><th>pg_marginal_emissions_grams_co2_per_kWh_calibrated</th><th>average_emissions_grams_co2_per_kWh</th></tr><tr><td>cat</td><td>datetime[μs, Asia/Kolkata]</td><td>f64</td><td>f64</td><td>f64</td><td>f64</td><td>f64</td></tr></thead><tbody><tr><td>&quot;delhi&quot;</td><td>2021-01-01 00:00:00 IST</td><td>6.4741e7</td><td>1026.368432</td><td>975.287688</td><td>1005.087922</td><td>802.033059</td></tr><tr><td>&quot;mumbai&quot;</td><td>2021-01-01 00:00:00 IST</td><td>6.4741e7</td><td>1017.787187</td><td>975.287688</td><td>1005.087922</td><td>802.033059</td></tr></tbody></table></div>"
      ],
      "text/plain": [
       "shape: (2, 7)\n",
       "┌────────┬──────────────┬──────────────┬──────────────┬──────────────┬──────────────┬──────────────┐\n",
       "│ city   ┆ timestamp    ┆ demand_met_k ┆ quantile_mar ┆ pg_marginal_ ┆ pg_marginal_ ┆ average_emis │\n",
       "│ ---    ┆ ---          ┆ Wh           ┆ ginal_emissi ┆ emissions_gr ┆ emissions_gr ┆ sions_grams_ │\n",
       "│ cat    ┆ datetime[μs, ┆ ---          ┆ ons_gr…      ┆ ams_co…      ┆ ams_co…      ┆ co2_pe…      │\n",
       "│        ┆ Asia/Kolkata ┆ f64          ┆ ---          ┆ ---          ┆ ---          ┆ ---          │\n",
       "│        ┆ ]            ┆              ┆ f64          ┆ f64          ┆ f64          ┆ f64          │\n",
       "╞════════╪══════════════╪══════════════╪══════════════╪══════════════╪══════════════╪══════════════╡\n",
       "│ delhi  ┆ 2021-01-01   ┆ 6.4741e7     ┆ 1026.368432  ┆ 975.287688   ┆ 1005.087922  ┆ 802.033059   │\n",
       "│        ┆ 00:00:00 IST ┆              ┆              ┆              ┆              ┆              │\n",
       "│ mumbai ┆ 2021-01-01   ┆ 6.4741e7     ┆ 1017.787187  ┆ 975.287688   ┆ 1005.087922  ┆ 802.033059   │\n",
       "│        ┆ 00:00:00 IST ┆              ┆              ┆              ┆              ┆              │\n",
       "└────────┴──────────────┴──────────────┴──────────────┴──────────────┴──────────────┴──────────────┘"
      ]
     },
     "execution_count": 30,
     "metadata": {},
     "output_type": "execute_result"
    }
   ],
   "source": [
    "city_emissions_df_complete.unique(\n",
    "    subset=[\"city\"],\n",
    "    maintain_order=True\n",
    ").sort([\"city\"]).head(5)"
   ]
  },
  {
   "cell_type": "code",
   "execution_count": 31,
   "id": "7f7371bf",
   "metadata": {},
   "outputs": [],
   "source": [
    "trimmed_marginal_emissions_pldf = marginal_emissions_pldf.filter(\n",
    "    (pl.col(\"timestamp\") >= test_date_range_start) & (pl.col(\"timestamp\") <= test_date_range_end)\n",
    ")"
   ]
  },
  {
   "cell_type": "code",
   "execution_count": 32,
   "id": "557317b8",
   "metadata": {},
   "outputs": [
    {
     "data": {
      "text/html": [
       "<div><style>\n",
       ".dataframe > thead > tr,\n",
       ".dataframe > tbody > tr {\n",
       "  text-align: right;\n",
       "  white-space: pre-wrap;\n",
       "}\n",
       "</style>\n",
       "<small>shape: (9, 29)</small><table border=\"1\" class=\"dataframe\"><thead><tr><th>statistic</th><th>timestamp</th><th>city</th><th>land_longitude</th><th>land_latitude</th><th>ME</th><th>alpha1</th><th>alpha2</th><th>original_quantile_group_id</th><th>demand_met</th><th>quantile_marginal_emissions_tons_co2_per_MW</th><th>quantile_marginal_emissions_grams_co2_per_kWh</th><th>demand_met_MW</th><th>demand_met_kWh</th><th>land_latitudepygam</th><th>land_longitudepygam</th><th>MEpygam</th><th>demand_minus_renewables</th><th>National MW Shift</th><th>Pearson R Score</th><th>Spearman Score</th><th>Confidence Level</th><th>ME_cal</th><th>pg_marginal_emissions_tons_co2_per_MW</th><th>pg_marginal_emissions_grams_co2_per_kWh</th><th>demand_met_MWpygam</th><th>demand_met_kWhpygam</th><th>pg_marginal_emissions_tons_co2_per_MW_calibrated</th><th>pg_marginal_emissions_grams_co2_per_kWh_calibrated</th></tr><tr><td>str</td><td>str</td><td>str</td><td>f64</td><td>f64</td><td>f64</td><td>f64</td><td>f64</td><td>f64</td><td>f64</td><td>f64</td><td>f64</td><td>f64</td><td>f64</td><td>f64</td><td>f64</td><td>f64</td><td>f64</td><td>f64</td><td>f64</td><td>f64</td><td>str</td><td>f64</td><td>f64</td><td>f64</td><td>f64</td><td>f64</td><td>f64</td><td>f64</td></tr></thead><tbody><tr><td>&quot;count&quot;</td><td>&quot;757125&quot;</td><td>&quot;757125&quot;</td><td>757125.0</td><td>757125.0</td><td>757125.0</td><td>757125.0</td><td>757125.0</td><td>757125.0</td><td>757125.0</td><td>757125.0</td><td>757125.0</td><td>757125.0</td><td>757125.0</td><td>757125.0</td><td>757125.0</td><td>757125.0</td><td>757125.0</td><td>757125.0</td><td>757125.0</td><td>757125.0</td><td>&quot;757125&quot;</td><td>757125.0</td><td>757125.0</td><td>757125.0</td><td>757125.0</td><td>757125.0</td><td>757125.0</td><td>757125.0</td></tr><tr><td>&quot;null_count&quot;</td><td>&quot;0&quot;</td><td>&quot;0&quot;</td><td>0.0</td><td>0.0</td><td>0.0</td><td>0.0</td><td>0.0</td><td>0.0</td><td>0.0</td><td>0.0</td><td>0.0</td><td>0.0</td><td>0.0</td><td>0.0</td><td>0.0</td><td>0.0</td><td>0.0</td><td>0.0</td><td>0.0</td><td>0.0</td><td>&quot;0&quot;</td><td>0.0</td><td>0.0</td><td>0.0</td><td>0.0</td><td>0.0</td><td>0.0</td><td>0.0</td></tr><tr><td>&quot;mean&quot;</td><td>&quot;2022-05-11 00:00:00+05:30&quot;</td><td>null</td><td>76.256667</td><td>26.676</td><td>0.353297</td><td>0.907774</td><td>-0.000002</td><td>18.393819</td><td>184546.257053</td><td>0.353297</td><td>706.593166</td><td>184546.257053</td><td>9.2273e7</td><td>26.676</td><td>76.256667</td><td>0.421628</td><td>162436.800143</td><td>1464.805335</td><td>0.448949</td><td>0.524188</td><td>null</td><td>0.355587</td><td>0.421628</td><td>843.256776</td><td>184546.257053</td><td>9.2273e7</td><td>0.355587</td><td>711.173908</td></tr><tr><td>&quot;std&quot;</td><td>null</td><td>null</td><td>1.673881</td><td>3.851646</td><td>0.03349</td><td>0.115546</td><td>3.5255e-7</td><td>12.135526</td><td>8316.183893</td><td>0.03349</td><td>66.979681</td><td>8316.183893</td><td>4.1581e6</td><td>3.851646</td><td>1.673881</td><td>0.016072</td><td>9148.614577</td><td>1199.305723</td><td>0.085236</td><td>0.047068</td><td>null</td><td>0.035777</td><td>0.016072</td><td>32.143462</td><td>8316.183893</td><td>4.1581e6</td><td>0.035777</td><td>71.55456</td></tr><tr><td>&quot;min&quot;</td><td>&quot;2022-05-04 00:00:00+05:30&quot;</td><td>null</td><td>72.77</td><td>18.5</td><td>0.268067</td><td>0.682504</td><td>-0.000002</td><td>2.0</td><td>166068.708333</td><td>0.268067</td><td>536.134053</td><td>166068.708333</td><td>8.3034e7</td><td>18.5</td><td>72.77</td><td>0.368409</td><td>140285.75</td><td>0.0</td><td>0.283472</td><td>0.448289</td><td>&quot;low&quot;</td><td>0.237115</td><td>0.368409</td><td>736.817836</td><td>166068.708333</td><td>8.3034e7</td><td>0.237115</td><td>474.230186</td></tr><tr><td>&quot;25%&quot;</td><td>&quot;2022-05-07 12:00:00+05:30&quot;</td><td>null</td><td>76.84</td><td>28.4</td><td>0.334347</td><td>0.805138</td><td>-0.000002</td><td>5.0</td><td>177457.416667</td><td>0.334347</td><td>668.693856</td><td>177457.416667</td><td>8.8729e7</td><td>28.4</td><td>76.84</td><td>0.418189</td><td>154453.666667</td><td>686.75</td><td>0.400718</td><td>0.487644</td><td>null</td><td>0.347931</td><td>0.418189</td><td>836.378115</td><td>177457.416667</td><td>8.8729e7</td><td>0.347931</td><td>695.861321</td></tr><tr><td>&quot;50%&quot;</td><td>&quot;2022-05-11 00:00:00+05:30&quot;</td><td>null</td><td>77.04</td><td>28.5</td><td>0.359575</td><td>0.903393</td><td>-0.000002</td><td>20.0</td><td>185102.75</td><td>0.359575</td><td>719.149313</td><td>185102.75</td><td>9.2551375e7</td><td>28.5</td><td>77.04</td><td>0.424894</td><td>162361.916667</td><td>1205.958333</td><td>0.465703</td><td>0.529755</td><td>null</td><td>0.362858</td><td>0.424894</td><td>849.788949</td><td>185102.75</td><td>9.2551375e7</td><td>0.362858</td><td>725.71518</td></tr><tr><td>&quot;75%&quot;</td><td>&quot;2022-05-14 12:00:00+05:30&quot;</td><td>null</td><td>77.24</td><td>28.7</td><td>0.377864</td><td>1.017534</td><td>-0.000001</td><td>30.0</td><td>191541.416667</td><td>0.377864</td><td>755.727509</td><td>191541.416667</td><td>9.5771e7</td><td>28.7</td><td>77.24</td><td>0.431823</td><td>169287.416667</td><td>1854.958333</td><td>0.518097</td><td>0.559381</td><td>null</td><td>0.37828</td><td>0.431823</td><td>863.645309</td><td>191541.416667</td><td>9.5771e7</td><td>0.37828</td><td>756.560822</td></tr><tr><td>&quot;max&quot;</td><td>&quot;2022-05-18 00:00:00+05:30&quot;</td><td>null</td><td>77.34</td><td>28.8</td><td>0.426086</td><td>1.06163</td><td>-8.1658e-7</td><td>34.0</td><td>201423.666667</td><td>0.426086</td><td>852.171294</td><td>201423.666667</td><td>1.0071e8</td><td>28.8</td><td>77.34</td><td>0.443714</td><td>181606.416667</td><td>6600.5</td><td>0.579786</td><td>0.627975</td><td>&quot;medium&quot;</td><td>0.404751</td><td>0.443714</td><td>887.427232</td><td>201423.666667</td><td>1.0071e8</td><td>0.404751</td><td>809.501761</td></tr></tbody></table></div>"
      ],
      "text/plain": [
       "shape: (9, 29)\n",
       "┌────────────┬────────────┬────────┬───────────┬───┬───────────┬───────────┬───────────┬───────────┐\n",
       "│ statistic  ┆ timestamp  ┆ city   ┆ land_long ┆ … ┆ demand_me ┆ demand_me ┆ pg_margin ┆ pg_margin │\n",
       "│ ---        ┆ ---        ┆ ---    ┆ itude     ┆   ┆ t_MWpygam ┆ t_kWhpyga ┆ al_emissi ┆ al_emissi │\n",
       "│ str        ┆ str        ┆ str    ┆ ---       ┆   ┆ ---       ┆ m         ┆ ons_tons_ ┆ ons_grams │\n",
       "│            ┆            ┆        ┆ f64       ┆   ┆ f64       ┆ ---       ┆ co2…      ┆ _co…      │\n",
       "│            ┆            ┆        ┆           ┆   ┆           ┆ f64       ┆ ---       ┆ ---       │\n",
       "│            ┆            ┆        ┆           ┆   ┆           ┆           ┆ f64       ┆ f64       │\n",
       "╞════════════╪════════════╪════════╪═══════════╪═══╪═══════════╪═══════════╪═══════════╪═══════════╡\n",
       "│ count      ┆ 757125     ┆ 757125 ┆ 757125.0  ┆ … ┆ 757125.0  ┆ 757125.0  ┆ 757125.0  ┆ 757125.0  │\n",
       "│ null_count ┆ 0          ┆ 0      ┆ 0.0       ┆ … ┆ 0.0       ┆ 0.0       ┆ 0.0       ┆ 0.0       │\n",
       "│ mean       ┆ 2022-05-11 ┆ null   ┆ 76.256667 ┆ … ┆ 184546.25 ┆ 9.2273e7  ┆ 0.355587  ┆ 711.17390 │\n",
       "│            ┆ 00:00:00+0 ┆        ┆           ┆   ┆ 7053      ┆           ┆           ┆ 8         │\n",
       "│            ┆ 5:30       ┆        ┆           ┆   ┆           ┆           ┆           ┆           │\n",
       "│ std        ┆ null       ┆ null   ┆ 1.673881  ┆ … ┆ 8316.1838 ┆ 4.1581e6  ┆ 0.035777  ┆ 71.55456  │\n",
       "│            ┆            ┆        ┆           ┆   ┆ 93        ┆           ┆           ┆           │\n",
       "│ min        ┆ 2022-05-04 ┆ null   ┆ 72.77     ┆ … ┆ 166068.70 ┆ 8.3034e7  ┆ 0.237115  ┆ 474.23018 │\n",
       "│            ┆ 00:00:00+0 ┆        ┆           ┆   ┆ 8333      ┆           ┆           ┆ 6         │\n",
       "│            ┆ 5:30       ┆        ┆           ┆   ┆           ┆           ┆           ┆           │\n",
       "│ 25%        ┆ 2022-05-07 ┆ null   ┆ 76.84     ┆ … ┆ 177457.41 ┆ 8.8729e7  ┆ 0.347931  ┆ 695.86132 │\n",
       "│            ┆ 12:00:00+0 ┆        ┆           ┆   ┆ 6667      ┆           ┆           ┆ 1         │\n",
       "│            ┆ 5:30       ┆        ┆           ┆   ┆           ┆           ┆           ┆           │\n",
       "│ 50%        ┆ 2022-05-11 ┆ null   ┆ 77.04     ┆ … ┆ 185102.75 ┆ 9.2551375 ┆ 0.362858  ┆ 725.71518 │\n",
       "│            ┆ 00:00:00+0 ┆        ┆           ┆   ┆           ┆ e7        ┆           ┆           │\n",
       "│            ┆ 5:30       ┆        ┆           ┆   ┆           ┆           ┆           ┆           │\n",
       "│ 75%        ┆ 2022-05-14 ┆ null   ┆ 77.24     ┆ … ┆ 191541.41 ┆ 9.5771e7  ┆ 0.37828   ┆ 756.56082 │\n",
       "│            ┆ 12:00:00+0 ┆        ┆           ┆   ┆ 6667      ┆           ┆           ┆ 2         │\n",
       "│            ┆ 5:30       ┆        ┆           ┆   ┆           ┆           ┆           ┆           │\n",
       "│ max        ┆ 2022-05-18 ┆ null   ┆ 77.34     ┆ … ┆ 201423.66 ┆ 1.0071e8  ┆ 0.404751  ┆ 809.50176 │\n",
       "│            ┆ 00:00:00+0 ┆        ┆           ┆   ┆ 6667      ┆           ┆           ┆ 1         │\n",
       "│            ┆ 5:30       ┆        ┆           ┆   ┆           ┆           ┆           ┆           │\n",
       "└────────────┴────────────┴────────┴───────────┴───┴───────────┴───────────┴───────────┴───────────┘"
      ]
     },
     "execution_count": 32,
     "metadata": {},
     "output_type": "execute_result"
    }
   ],
   "source": [
    "trimmed_marginal_emissions_pldf.describe()"
   ]
  },
  {
   "cell_type": "code",
   "execution_count": 33,
   "id": "7578f148",
   "metadata": {},
   "outputs": [],
   "source": [
    "reduced_marginal_emissions_filename = f\"marginal_emissions_{str(test_date_range_start)[:10]}_to_{str(test_date_range_end)[:10]}\"\n",
    "reduced_marginal_emissions_filepath = os.path.join(optimisation_development_directory, reduced_marginal_emissions_filename + \".parquet\")"
   ]
  },
  {
   "cell_type": "code",
   "execution_count": 34,
   "id": "5ddd1c1e",
   "metadata": {},
   "outputs": [
    {
     "name": "stdout",
     "output_type": "stream",
     "text": [
      "Successfully saved trimmed marginal emissions data to data/optimisation_development/marginal_emissions_2022-05-04_to_2022-05-18.parquet\n"
     ]
    }
   ],
   "source": [
    "try:\n",
    "    trimmed_marginal_emissions_pldf.write_parquet(reduced_marginal_emissions_filepath,\n",
    "                                                  compression=\"snappy\",\n",
    "                                                  statistics=True)\n",
    "    print(f\"Successfully saved trimmed marginal emissions data to {reduced_marginal_emissions_filepath}\")\n",
    "\n",
    "except Exception as e:\n",
    "    print(f\"Error occurred while saving trimmed marginal emissions data: {e}\")"
   ]
  },
  {
   "cell_type": "markdown",
   "id": "00e5a5eb",
   "metadata": {},
   "source": [
    "#### Meter Data "
   ]
  },
  {
   "cell_type": "code",
   "execution_count": 35,
   "id": "43d58532",
   "metadata": {},
   "outputs": [
    {
     "name": "stdout",
     "output_type": "stream",
     "text": [
      "------------------------------------------------------------------------------------------------------------------------\n",
      "Meter Readings 2022 Q2\n",
      "------------------------------------------------------------------------------------------------------------------------\n",
      "Schema:\n",
      "--------------------------------------------------------------------------------\n"
     ]
    },
    {
     "name": "stderr",
     "output_type": "stream",
     "text": [
      "sys:1: CategoricalRemappingWarning: Local categoricals have different encodings, expensive re-encoding is done to perform this merge operation. Consider using a StringCache or an Enum type if the categories are known in advance\n"
     ]
    },
    {
     "data": {
      "text/plain": [
       "Schema([('ca_id', String),\n",
       "        ('date', Datetime(time_unit='us', time_zone=None)),\n",
       "        ('value', Float64),\n",
       "        ('city', Categorical(ordering='physical'))])"
      ]
     },
     "metadata": {},
     "output_type": "display_data"
    },
    {
     "name": "stdout",
     "output_type": "stream",
     "text": [
      "\n",
      "Descriptive Statistics:\n",
      "--------------------------------------------------------------------------------\n"
     ]
    },
    {
     "data": {
      "text/html": [
       "<div><style>\n",
       ".dataframe > thead > tr,\n",
       ".dataframe > tbody > tr {\n",
       "  text-align: right;\n",
       "  white-space: pre-wrap;\n",
       "}\n",
       "</style>\n",
       "<small>shape: (9, 5)</small><table border=\"1\" class=\"dataframe\"><thead><tr><th>statistic</th><th>ca_id</th><th>date</th><th>value</th><th>city</th></tr><tr><td>str</td><td>str</td><td>str</td><td>f64</td><td>str</td></tr></thead><tbody><tr><td>&quot;count&quot;</td><td>&quot;346180042&quot;</td><td>&quot;346180042&quot;</td><td>3.46180042e8</td><td>&quot;346180042&quot;</td></tr><tr><td>&quot;null_count&quot;</td><td>&quot;0&quot;</td><td>&quot;0&quot;</td><td>0.0</td><td>&quot;0&quot;</td></tr><tr><td>&quot;mean&quot;</td><td>null</td><td>&quot;2022-05-05 13:56:40.121286&quot;</td><td>0.328427</td><td>null</td></tr><tr><td>&quot;std&quot;</td><td>null</td><td>null</td><td>0.52113</td><td>null</td></tr><tr><td>&quot;min&quot;</td><td>&quot;60000005516&quot;</td><td>&quot;2022-04-01 00:00:00&quot;</td><td>0.0</td><td>null</td></tr><tr><td>&quot;25%&quot;</td><td>null</td><td>&quot;2022-04-25 08:30:00&quot;</td><td>0.065</td><td>null</td></tr><tr><td>&quot;50%&quot;</td><td>null</td><td>&quot;2022-05-05 15:00:00&quot;</td><td>0.157</td><td>null</td></tr><tr><td>&quot;75%&quot;</td><td>null</td><td>&quot;2022-05-15 21:30:00&quot;</td><td>0.376</td><td>null</td></tr><tr><td>&quot;max&quot;</td><td>&quot;60029920067&quot;</td><td>&quot;2022-06-19 04:30:00&quot;</td><td>94.471</td><td>null</td></tr></tbody></table></div>"
      ],
      "text/plain": [
       "shape: (9, 5)\n",
       "┌────────────┬─────────────┬────────────────────────────┬──────────────┬───────────┐\n",
       "│ statistic  ┆ ca_id       ┆ date                       ┆ value        ┆ city      │\n",
       "│ ---        ┆ ---         ┆ ---                        ┆ ---          ┆ ---       │\n",
       "│ str        ┆ str         ┆ str                        ┆ f64          ┆ str       │\n",
       "╞════════════╪═════════════╪════════════════════════════╪══════════════╪═══════════╡\n",
       "│ count      ┆ 346180042   ┆ 346180042                  ┆ 3.46180042e8 ┆ 346180042 │\n",
       "│ null_count ┆ 0           ┆ 0                          ┆ 0.0          ┆ 0         │\n",
       "│ mean       ┆ null        ┆ 2022-05-05 13:56:40.121286 ┆ 0.328427     ┆ null      │\n",
       "│ std        ┆ null        ┆ null                       ┆ 0.52113      ┆ null      │\n",
       "│ min        ┆ 60000005516 ┆ 2022-04-01 00:00:00        ┆ 0.0          ┆ null      │\n",
       "│ 25%        ┆ null        ┆ 2022-04-25 08:30:00        ┆ 0.065        ┆ null      │\n",
       "│ 50%        ┆ null        ┆ 2022-05-05 15:00:00        ┆ 0.157        ┆ null      │\n",
       "│ 75%        ┆ null        ┆ 2022-05-15 21:30:00        ┆ 0.376        ┆ null      │\n",
       "│ max        ┆ 60029920067 ┆ 2022-06-19 04:30:00        ┆ 94.471       ┆ null      │\n",
       "└────────────┴─────────────┴────────────────────────────┴──────────────┴───────────┘"
      ]
     },
     "metadata": {},
     "output_type": "display_data"
    }
   ],
   "source": [
    "meter_readings_2022_Q2_filename = \"meter_readings_2022_Q2_20250714_2324_formatted\"\n",
    "meter_readings_2022_Q2_filepath = os.path.join(meter_save_directory, meter_readings_2022_Q2_filename + \".parquet\")\n",
    "\n",
    "meter_readings_2022_Q2_pldf = pl.read_parquet(meter_readings_2022_Q2_filepath)\n",
    "\n",
    "print(\"-\"*120)\n",
    "print(\"Meter Readings 2022 Q2\\n\" + \"-\"*120)\n",
    "print(\"Schema:\\n\" + \"-\"*80)\n",
    "display(meter_readings_2022_Q2_pldf.schema)\n",
    "print(\"\\nDescriptive Statistics:\\n\" + \"-\"*80)\n",
    "display(meter_readings_2022_Q2_pldf.describe())"
   ]
  },
  {
   "cell_type": "code",
   "execution_count": 36,
   "id": "38b8c736",
   "metadata": {},
   "outputs": [
    {
     "name": "stdout",
     "output_type": "stream",
     "text": [
      "Updated Schema:\n",
      "--------------------------------------------------------------------------------\n"
     ]
    },
    {
     "data": {
      "text/plain": [
       "Schema([('ca_id', String),\n",
       "        ('date', Datetime(time_unit='us', time_zone='Asia/Kolkata')),\n",
       "        ('value', Float64),\n",
       "        ('city', Categorical(ordering='physical'))])"
      ]
     },
     "metadata": {},
     "output_type": "display_data"
    }
   ],
   "source": [
    "# Assign time Zone\n",
    "meter_readings_2022_Q2_pldf = meter_readings_2022_Q2_pldf.with_columns(\n",
    "    pl.col(\"date\").dt.replace_time_zone(\"Asia/Kolkata\")\n",
    ")\n",
    "print(\"Updated Schema:\\n\" + \"-\"*80)\n",
    "display(meter_readings_2022_Q2_pldf.schema)"
   ]
  },
  {
   "cell_type": "code",
   "execution_count": 37,
   "id": "07bd5c48",
   "metadata": {},
   "outputs": [],
   "source": [
    "trimmed_meter_readings_pldf = meter_readings_2022_Q2_pldf.filter(\n",
    "    (pl.col(\"date\") >= test_date_range_start) & (pl.col(\"date\") <= test_date_range_end)\n",
    ")"
   ]
  },
  {
   "cell_type": "code",
   "execution_count": 38,
   "id": "83f4fcd8",
   "metadata": {},
   "outputs": [],
   "source": [
    "reduced_meter_readings_filename = f\"meter_readings_{str(test_date_range_start)[:10]}_to_{str(test_date_range_end)[:10]}\"\n",
    "reduced_meter_readings_filepath = os.path.join(optimisation_development_directory, reduced_meter_readings_filename + \".parquet\")"
   ]
  },
  {
   "cell_type": "code",
   "execution_count": 39,
   "id": "f98a1582",
   "metadata": {},
   "outputs": [
    {
     "name": "stdout",
     "output_type": "stream",
     "text": [
      "Successfully saved trimmed meter readings data to data/optimisation_development/meter_readings_2022-05-04_to_2022-05-18.parquet\n"
     ]
    }
   ],
   "source": [
    "try:\n",
    "    trimmed_meter_readings_pldf.write_parquet(reduced_meter_readings_filepath,\n",
    "                                                  compression=\"snappy\",\n",
    "                                                  statistics=True)\n",
    "    print(f\"Successfully saved trimmed meter readings data to {reduced_meter_readings_filepath}\")\n",
    "\n",
    "except Exception as e:\n",
    "    print(f\"Error occurred while saving trimmed meter readings data: {e}\")"
   ]
  },
  {
   "cell_type": "code",
   "execution_count": 40,
   "id": "1492cc66",
   "metadata": {},
   "outputs": [
    {
     "name": "stdout",
     "output_type": "stream",
     "text": [
      "Unique customer IDs in [trimmed_meter_readings_pldf]: shape: (179_434,)\n",
      "Series: 'ca_id' [str]\n",
      "[\n",
      "\t\"60027007511\"\n",
      "\t\"60020821298\"\n",
      "\t\"60020932277\"\n",
      "\t\"60010179558\"\n",
      "\t\"60025627849\"\n",
      "\t…\n",
      "\t\"60026324727\"\n",
      "\t\"60020449835\"\n",
      "\t\"60000153852\"\n",
      "\t\"60018710966\"\n",
      "\t\"60025935341\"\n",
      "]\n"
     ]
    }
   ],
   "source": [
    "# Unique customer IDs\n",
    "unique_customer_ids = trimmed_meter_readings_pldf[\"ca_id\"].unique()\n",
    "print(f\"Unique customer IDs in [trimmed_meter_readings_pldf]: {unique_customer_ids}\")"
   ]
  },
  {
   "cell_type": "markdown",
   "id": "a02744d6",
   "metadata": {},
   "source": [
    "### Loading and Inspecting Data"
   ]
  },
  {
   "cell_type": "code",
   "execution_count": 41,
   "id": "a23821b5",
   "metadata": {},
   "outputs": [],
   "source": [
    "customers_pldf = pl.read_parquet(full_customers_filepath)"
   ]
  },
  {
   "cell_type": "code",
   "execution_count": 42,
   "id": "52515e4c",
   "metadata": {},
   "outputs": [
    {
     "name": "stdout",
     "output_type": "stream",
     "text": [
      "------------------------------------------------------------------------------------------------------------------------\n",
      "Schema of Customers DataFrame\n",
      "------------------------------------------------------------------------------------------------------------------------\n"
     ]
    },
    {
     "data": {
      "text/plain": [
       "Schema([('id', String), ('location', String), ('city', String)])"
      ]
     },
     "metadata": {},
     "output_type": "display_data"
    },
    {
     "name": "stdout",
     "output_type": "stream",
     "text": [
      "\n",
      "Schema of Meter Readings DataFrame\n",
      "------------------------------------------------------------------------------------------------------------------------\n"
     ]
    },
    {
     "data": {
      "text/plain": [
       "Schema([('ca_id', String),\n",
       "        ('date', Datetime(time_unit='us', time_zone='Asia/Kolkata')),\n",
       "        ('value', Float64),\n",
       "        ('city', Categorical(ordering='physical'))])"
      ]
     },
     "metadata": {},
     "output_type": "display_data"
    },
    {
     "name": "stdout",
     "output_type": "stream",
     "text": [
      "\n",
      "Schema of Marginal Emissions DataFrame\n",
      "------------------------------------------------------------------------------------------------------------------------\n"
     ]
    },
    {
     "data": {
      "text/plain": [
       "Schema([('timestamp', Datetime(time_unit='us', time_zone='Asia/Kolkata')),\n",
       "        ('city', Categorical(ordering='physical')),\n",
       "        ('land_longitude', Float64),\n",
       "        ('land_latitude', Float64),\n",
       "        ('ME', Float64),\n",
       "        ('alpha1', Float64),\n",
       "        ('alpha2', Float64),\n",
       "        ('original_quantile_group_id', Int64),\n",
       "        ('demand_met', Float64),\n",
       "        ('quantile_marginal_emissions_tons_co2_per_MW', Float64),\n",
       "        ('quantile_marginal_emissions_grams_co2_per_kWh', Float64),\n",
       "        ('demand_met_MW', Float64),\n",
       "        ('demand_met_kWh', Float64),\n",
       "        ('land_latitudepygam', Float64),\n",
       "        ('land_longitudepygam', Float64),\n",
       "        ('MEpygam', Float64),\n",
       "        ('demand_minus_renewables', Float64),\n",
       "        ('National MW Shift', Float64),\n",
       "        ('Pearson R Score', Float64),\n",
       "        ('Spearman Score', Float64),\n",
       "        ('Confidence Level', String),\n",
       "        ('ME_cal', Float64),\n",
       "        ('pg_marginal_emissions_tons_co2_per_MW', Float64),\n",
       "        ('pg_marginal_emissions_grams_co2_per_kWh', Float64),\n",
       "        ('demand_met_MWpygam', Float64),\n",
       "        ('demand_met_kWhpygam', Float64),\n",
       "        ('pg_marginal_emissions_tons_co2_per_MW_calibrated', Float64),\n",
       "        ('pg_marginal_emissions_grams_co2_per_kWh_calibrated', Float64)])"
      ]
     },
     "metadata": {},
     "output_type": "display_data"
    },
    {
     "name": "stdout",
     "output_type": "stream",
     "text": [
      "\n",
      "Schema of Average Emissions DataFrame\n",
      "------------------------------------------------------------------------------------------------------------------------\n"
     ]
    },
    {
     "data": {
      "text/plain": [
       "Schema([('timestamp', Datetime(time_unit='us', time_zone='Asia/Kolkata')),\n",
       "        ('average_emissions_grams_co2_per_kWh', Float64)])"
      ]
     },
     "metadata": {},
     "output_type": "display_data"
    }
   ],
   "source": [
    "print(\"-\"  *120)\n",
    "print(\"Schema of Customers DataFrame\\n\"+ \"-\"  *120)\n",
    "display(customers_pldf.schema)\n",
    "print(\"\\nSchema of Meter Readings DataFrame\\n\"+ \"-\"  *120)\n",
    "display(trimmed_meter_readings_pldf.schema)\n",
    "print(\"\\nSchema of Marginal Emissions DataFrame\\n\"+ \"-\"  *120)\n",
    "display(trimmed_marginal_emissions_pldf.schema)\n",
    "print(\"\\nSchema of Average Emissions DataFrame\\n\"+ \"-\"  *120)\n",
    "display(trimmed_average_emissions_pldf.schema)"
   ]
  },
  {
   "cell_type": "markdown",
   "id": "23088b79",
   "metadata": {},
   "source": [
    "## Joining Data"
   ]
  },
  {
   "cell_type": "markdown",
   "id": "84b6f1d4",
   "metadata": {},
   "source": [
    "#### Average <-> Marginal Emissions"
   ]
  },
  {
   "cell_type": "code",
   "execution_count": 43,
   "id": "f44c6660",
   "metadata": {},
   "outputs": [],
   "source": [
    "joined_marginal_emissions_filename = f\"marginal_and_average_emissions_{str(test_date_range_start)[:10]}_to_{str(test_date_range_end)[:10]}\"\n",
    "joined_marginal_emissions_filepath = os.path.join(optimisation_development_directory, joined_marginal_emissions_filename + \".parquet\")"
   ]
  },
  {
   "cell_type": "code",
   "execution_count": 45,
   "id": "4bc2159b",
   "metadata": {},
   "outputs": [
    {
     "name": "stdout",
     "output_type": "stream",
     "text": [
      "Successfully saved [joined_data] to data/optimisation_development/marginal_and_average_emissions_2022-05-04_to_2022-05-18.parquet\n"
     ]
    }
   ],
   "source": [
    "trimmed_avg_emissions_lazy = pl.scan_parquet(trimmed_average_emissions_filepath)\n",
    "trimmed_me_lazy = pl.scan_parquet(reduced_marginal_emissions_filepath)\n",
    "\n",
    "joined_data = (\n",
    "    trimmed_me_lazy\n",
    "    .join(\n",
    "        trimmed_avg_emissions_lazy,\n",
    "        left_on=[\"timestamp\"],\n",
    "        right_on=[\"timestamp\"],\n",
    "        how=\"left\"  # Keep all marginal emissions\n",
    "    )\n",
    "    # Optional: Select only the columns you need\n",
    "    .select([\n",
    "        # Columns from avg_emissions\n",
    "        \"average_emissions_grams_co2_per_kWh\",\n",
    "        # Columns from marginal emissions data\n",
    "        \"timestamp\", \"city\", \"land_longitude\",\n",
    "        \"land_latitude\", \"demand_met_kWh\",\n",
    "        \"quantile_marginal_emissions_grams_co2_per_kWh\",\n",
    "        \"pg_marginal_emissions_grams_co2_per_kWh\",\n",
    "        \"pg_marginal_emissions_grams_co2_per_kWh_calibrated\",\n",
    "        \"National MW Shift\",\n",
    "        \"Confidence Level\",\n",
    "        \"Spearman Score\",\n",
    "        \"Pearson R Score\",\n",
    "    ])\n",
    ")\n",
    "\n",
    "# Write the result to a new Parquet file\n",
    "try:\n",
    "    (\n",
    "        joined_data\n",
    "        .sink_parquet(\n",
    "            joined_marginal_emissions_filepath,\n",
    "            # Optional optimization parameters:\n",
    "            compression=\"snappy\",  # Good balance of speed and compression\n",
    "            statistics=True,    # Write statistics for better query performance\n",
    "            row_group_size=100_000  # Adjust based on your data size\n",
    "        )\n",
    "    )\n",
    "    print(f\"Successfully saved [joined_data] to {joined_marginal_emissions_filepath}\")\n",
    "except Exception as e:\n",
    "    print(f\"Error saving [joined_data] to {joined_marginal_emissions_filepath}: {e}\")\n"
   ]
  },
  {
   "cell_type": "markdown",
   "id": "d3ab0bea",
   "metadata": {},
   "source": [
    "#### Customers <-> Emissions"
   ]
  },
  {
   "cell_type": "code",
   "execution_count": 46,
   "id": "0fd56099",
   "metadata": {},
   "outputs": [],
   "source": [
    "customers_coords_lzdf = (\n",
    "    pl.scan_parquet(full_customers_filepath)\n",
    "        .with_columns(\n",
    "            # convert location fields to latitude and longitude\n",
    "            pl.col(\"location\").map_elements(wkb_to_coords,\n",
    "                                                 return_dtype=pl.List(pl.Float64))\n",
    "                                   .alias(\"location_coords\"))\n",
    "        .drop([\n",
    "                \"location\"\n",
    "        ])\n",
    "        .with_columns([\n",
    "                pl.col(\"location_coords\").list.get(0).alias(\"customer_longitude\"),\n",
    "                pl.col(\"location_coords\").list.get(1).alias(\"customer_latitude\"),\n",
    "            ])\n",
    "        .drop([\"location_coords\"])\n",
    ")\n",
    "customers_coords_pldf = customers_coords_lzdf.collect()"
   ]
  },
  {
   "cell_type": "code",
   "execution_count": 47,
   "id": "0ea7019a",
   "metadata": {},
   "outputs": [
    {
     "name": "stderr",
     "output_type": "stream",
     "text": [
      "/var/folders/lg/rt7jvg4x71vd57p0zm_718200000gn/T/ipykernel_57282/1594750012.py:1: DeprecationWarning: `is_in` with a collection of the same datatype is ambiguous and deprecated.\n",
      "Please use `implode` to return to previous behavior.\n",
      "\n",
      "See https://github.com/pola-rs/polars/issues/22149 for more information.\n",
      "  customers_coords_trimmed_pldf = customers_coords_pldf.filter(\n"
     ]
    }
   ],
   "source": [
    "customers_coords_trimmed_pldf = customers_coords_pldf.filter(\n",
    "    pl.col(\"id\").is_in(unique_customer_ids)\n",
    ")"
   ]
  },
  {
   "cell_type": "code",
   "execution_count": 41,
   "id": "a0876acf",
   "metadata": {},
   "outputs": [
    {
     "data": {
      "text/html": [
       "<div><style>\n",
       ".dataframe > thead > tr,\n",
       ".dataframe > tbody > tr {\n",
       "  text-align: right;\n",
       "  white-space: pre-wrap;\n",
       "}\n",
       "</style>\n",
       "<small>shape: (9, 5)</small><table border=\"1\" class=\"dataframe\"><thead><tr><th>statistic</th><th>id</th><th>city</th><th>customer_longitude</th><th>customer_latitude</th></tr><tr><td>str</td><td>str</td><td>str</td><td>f64</td><td>f64</td></tr></thead><tbody><tr><td>&quot;count&quot;</td><td>&quot;178377&quot;</td><td>&quot;178377&quot;</td><td>178377.0</td><td>178377.0</td></tr><tr><td>&quot;null_count&quot;</td><td>&quot;0&quot;</td><td>&quot;0&quot;</td><td>0.0</td><td>0.0</td></tr><tr><td>&quot;mean&quot;</td><td>null</td><td>null</td><td>77.291167</td><td>28.759756</td></tr><tr><td>&quot;std&quot;</td><td>null</td><td>null</td><td>3.263387</td><td>1.216211</td></tr><tr><td>&quot;min&quot;</td><td>&quot;60000005516&quot;</td><td>&quot;delhi&quot;</td><td>76.954941</td><td>28.58</td></tr><tr><td>&quot;25%&quot;</td><td>null</td><td>null</td><td>77.12768</td><td>28.688152</td></tr><tr><td>&quot;50%&quot;</td><td>null</td><td>null</td><td>77.151595</td><td>28.703691</td></tr><tr><td>&quot;75%&quot;</td><td>null</td><td>null</td><td>77.193455</td><td>28.723992</td></tr><tr><td>&quot;max&quot;</td><td>&quot;60029920067&quot;</td><td>&quot;delhi&quot;</td><td>231.484813</td><td>86.320485</td></tr></tbody></table></div>"
      ],
      "text/plain": [
       "shape: (9, 5)\n",
       "┌────────────┬─────────────┬────────┬────────────────────┬───────────────────┐\n",
       "│ statistic  ┆ id          ┆ city   ┆ customer_longitude ┆ customer_latitude │\n",
       "│ ---        ┆ ---         ┆ ---    ┆ ---                ┆ ---               │\n",
       "│ str        ┆ str         ┆ str    ┆ f64                ┆ f64               │\n",
       "╞════════════╪═════════════╪════════╪════════════════════╪═══════════════════╡\n",
       "│ count      ┆ 178377      ┆ 178377 ┆ 178377.0           ┆ 178377.0          │\n",
       "│ null_count ┆ 0           ┆ 0      ┆ 0.0                ┆ 0.0               │\n",
       "│ mean       ┆ null        ┆ null   ┆ 77.291167          ┆ 28.759756         │\n",
       "│ std        ┆ null        ┆ null   ┆ 3.263387           ┆ 1.216211          │\n",
       "│ min        ┆ 60000005516 ┆ delhi  ┆ 76.954941          ┆ 28.58             │\n",
       "│ 25%        ┆ null        ┆ null   ┆ 77.12768           ┆ 28.688152         │\n",
       "│ 50%        ┆ null        ┆ null   ┆ 77.151595          ┆ 28.703691         │\n",
       "│ 75%        ┆ null        ┆ null   ┆ 77.193455          ┆ 28.723992         │\n",
       "│ max        ┆ 60029920067 ┆ delhi  ┆ 231.484813         ┆ 86.320485         │\n",
       "└────────────┴─────────────┴────────┴────────────────────┴───────────────────┘"
      ]
     },
     "execution_count": 41,
     "metadata": {},
     "output_type": "execute_result"
    }
   ],
   "source": [
    "customers_coords_trimmed_pldf.describe()"
   ]
  },
  {
   "cell_type": "code",
   "execution_count": 48,
   "id": "bcc5090e",
   "metadata": {},
   "outputs": [],
   "source": [
    "joined_marginal_emissions_pldf = pl.read_parquet(joined_marginal_emissions_filepath)"
   ]
  },
  {
   "cell_type": "code",
   "execution_count": 49,
   "id": "930ba86a",
   "metadata": {},
   "outputs": [],
   "source": [
    "# Convert to GeoDataFrames for spatial operations\n",
    "# And reproject to Web Mercator - Pseudo-Mercato EPSG:3857\n",
    "# Uses meters as the unit of measurement - good for distance calculations\n",
    "\n",
    "customers_data_gdf = gpd.GeoDataFrame(\n",
    "    customers_coords_trimmed_pldf.to_pandas(),\n",
    "    geometry=gpd.points_from_xy(\n",
    "        customers_coords_trimmed_pldf[\"customer_longitude\"],\n",
    "        customers_coords_trimmed_pldf[\"customer_latitude\"]\n",
    "    ),\n",
    "    crs=\"EPSG:3857\"\n",
    ")\n",
    "\n",
    "trimmed_joined_emissions_gdf = gpd.GeoDataFrame(\n",
    "    joined_marginal_emissions_pldf.to_pandas(),\n",
    "    geometry=gpd.points_from_xy(\n",
    "        joined_marginal_emissions_pldf[\"land_longitude\"],\n",
    "        joined_marginal_emissions_pldf[\"land_latitude\"]\n",
    "    ),\n",
    "    crs=\"EPSG:3857\"\n",
    ")"
   ]
  },
  {
   "cell_type": "code",
   "execution_count": null,
   "id": "eaecdaad",
   "metadata": {},
   "outputs": [],
   "source": [
    "# mapping the nearest points from the era5 dataset to the weather dataset\n",
    "customers_with_emissions_gdf = customers_data_gdf.sjoin_nearest(\n",
    "    trimmed_joined_emissions_gdf,\n",
    "    how=\"left\",\n",
    "    lsuffix=\"_customer\",\n",
    "    rsuffix=\"_me\",\n",
    "    distance_col=\"distance_between_locations_meters\",\n",
    "    max_distance=None,  # Set to None to find all nearest points\n",
    ")"
   ]
  },
  {
   "cell_type": "code",
   "execution_count": null,
   "id": "7b61dc91",
   "metadata": {},
   "outputs": [
    {
     "name": "stdout",
     "output_type": "stream",
     "text": [
      "\n",
      "------------------------------------------------------------------------------------------------------------------------\n",
      "Marginal Emissions data locations mapped to customer locations [customers_with_emissions_gdf]:\n",
      "------------------------------------------------------------------------------------------------------------------------\n",
      "\tShape : (120047721, 15)\n",
      "\tType : <class 'geopandas.geodataframe.GeoDataFrame'>\n",
      "\tColumns : ['id', 'city__customer', 'customer_longitude', 'customer_latitude', 'geometry', 'index__me', 'average_emissions_grams_co2_per_kWh', 'timestamp', 'city__me', 'land_longitude', 'land_latitude', 'demand_met_kWh', 'marginal_emissions_grams_co2_per_kWh', 'ME', 'distance_between_locations_meters']\n",
      "\n",
      "--------------------------------------------------------------------------------\n",
      "Sample rows of [customers_with_emissions_gdf]:\n",
      "--------------------------------------------------------------------------------\n"
     ]
    },
    {
     "data": {
      "text/html": [
       "<div>\n",
       "<style scoped>\n",
       "    .dataframe tbody tr th:only-of-type {\n",
       "        vertical-align: middle;\n",
       "    }\n",
       "\n",
       "    .dataframe tbody tr th {\n",
       "        vertical-align: top;\n",
       "    }\n",
       "\n",
       "    .dataframe thead th {\n",
       "        text-align: right;\n",
       "    }\n",
       "</style>\n",
       "<table border=\"1\" class=\"dataframe\">\n",
       "  <thead>\n",
       "    <tr style=\"text-align: right;\">\n",
       "      <th></th>\n",
       "      <th>id</th>\n",
       "      <th>city__customer</th>\n",
       "      <th>customer_longitude</th>\n",
       "      <th>customer_latitude</th>\n",
       "      <th>geometry</th>\n",
       "      <th>index__me</th>\n",
       "      <th>average_emissions_grams_co2_per_kWh</th>\n",
       "      <th>timestamp</th>\n",
       "      <th>city__me</th>\n",
       "      <th>land_longitude</th>\n",
       "      <th>land_latitude</th>\n",
       "      <th>demand_met_kWh</th>\n",
       "      <th>marginal_emissions_grams_co2_per_kWh</th>\n",
       "      <th>ME</th>\n",
       "      <th>distance_between_locations_meters</th>\n",
       "    </tr>\n",
       "  </thead>\n",
       "  <tbody>\n",
       "    <tr>\n",
       "      <th>96251</th>\n",
       "      <td>60018640908</td>\n",
       "      <td>delhi</td>\n",
       "      <td>77.228741</td>\n",
       "      <td>28.701926</td>\n",
       "      <td>POINT (77.229 28.702)</td>\n",
       "      <td>4093</td>\n",
       "      <td>737.513370</td>\n",
       "      <td>2022-05-16 01:30:00+05:30</td>\n",
       "      <td>delhi</td>\n",
       "      <td>77.24</td>\n",
       "      <td>28.7</td>\n",
       "      <td>9.135450e+07</td>\n",
       "      <td>672.002454</td>\n",
       "      <td>0.336001</td>\n",
       "      <td>0.011422</td>\n",
       "    </tr>\n",
       "    <tr>\n",
       "      <th>80074</th>\n",
       "      <td>60015603966</td>\n",
       "      <td>delhi</td>\n",
       "      <td>77.211600</td>\n",
       "      <td>28.713765</td>\n",
       "      <td>POINT (77.212 28.714)</td>\n",
       "      <td>2790</td>\n",
       "      <td>756.863086</td>\n",
       "      <td>2022-05-12 05:30:00+05:30</td>\n",
       "      <td>delhi</td>\n",
       "      <td>77.24</td>\n",
       "      <td>28.7</td>\n",
       "      <td>8.933808e+07</td>\n",
       "      <td>736.833677</td>\n",
       "      <td>0.368417</td>\n",
       "      <td>0.031560</td>\n",
       "    </tr>\n",
       "    <tr>\n",
       "      <th>160783</th>\n",
       "      <td>60028007957</td>\n",
       "      <td>delhi</td>\n",
       "      <td>77.157653</td>\n",
       "      <td>28.715079</td>\n",
       "      <td>POINT (77.158 28.715)</td>\n",
       "      <td>1239</td>\n",
       "      <td>787.927575</td>\n",
       "      <td>2022-05-09 01:30:00+05:30</td>\n",
       "      <td>delhi</td>\n",
       "      <td>77.14</td>\n",
       "      <td>28.7</td>\n",
       "      <td>9.081179e+07</td>\n",
       "      <td>677.008089</td>\n",
       "      <td>0.338504</td>\n",
       "      <td>0.023217</td>\n",
       "    </tr>\n",
       "    <tr>\n",
       "      <th>61323</th>\n",
       "      <td>60011137563</td>\n",
       "      <td>delhi</td>\n",
       "      <td>77.093028</td>\n",
       "      <td>28.718668</td>\n",
       "      <td>POINT (77.093 28.719)</td>\n",
       "      <td>1889</td>\n",
       "      <td>681.113146</td>\n",
       "      <td>2022-05-10 08:30:00+05:30</td>\n",
       "      <td>delhi</td>\n",
       "      <td>77.14</td>\n",
       "      <td>28.7</td>\n",
       "      <td>9.710500e+07</td>\n",
       "      <td>622.327007</td>\n",
       "      <td>0.311164</td>\n",
       "      <td>0.050546</td>\n",
       "    </tr>\n",
       "    <tr>\n",
       "      <th>84966</th>\n",
       "      <td>60016642740</td>\n",
       "      <td>delhi</td>\n",
       "      <td>77.196145</td>\n",
       "      <td>28.754519</td>\n",
       "      <td>POINT (77.196 28.755)</td>\n",
       "      <td>4733</td>\n",
       "      <td>681.113146</td>\n",
       "      <td>2022-05-10 00:00:00+05:30</td>\n",
       "      <td>delhi</td>\n",
       "      <td>77.24</td>\n",
       "      <td>28.8</td>\n",
       "      <td>9.710500e+07</td>\n",
       "      <td>680.015886</td>\n",
       "      <td>0.340008</td>\n",
       "      <td>0.063180</td>\n",
       "    </tr>\n",
       "    <tr>\n",
       "      <th>74698</th>\n",
       "      <td>60014286318</td>\n",
       "      <td>delhi</td>\n",
       "      <td>77.166533</td>\n",
       "      <td>28.645892</td>\n",
       "      <td>POINT (77.167 28.646)</td>\n",
       "      <td>2035</td>\n",
       "      <td>740.912573</td>\n",
       "      <td>2022-05-10 18:00:00+05:30</td>\n",
       "      <td>delhi</td>\n",
       "      <td>77.14</td>\n",
       "      <td>28.6</td>\n",
       "      <td>8.957938e+07</td>\n",
       "      <td>754.393283</td>\n",
       "      <td>0.377197</td>\n",
       "      <td>0.053010</td>\n",
       "    </tr>\n",
       "    <tr>\n",
       "      <th>46281</th>\n",
       "      <td>60008321402</td>\n",
       "      <td>delhi</td>\n",
       "      <td>77.100242</td>\n",
       "      <td>28.691846</td>\n",
       "      <td>POINT (77.1 28.692)</td>\n",
       "      <td>1000</td>\n",
       "      <td>681.113146</td>\n",
       "      <td>2022-05-09 19:30:00+05:30</td>\n",
       "      <td>delhi</td>\n",
       "      <td>77.14</td>\n",
       "      <td>28.7</td>\n",
       "      <td>9.710500e+07</td>\n",
       "      <td>730.655314</td>\n",
       "      <td>0.365328</td>\n",
       "      <td>0.040586</td>\n",
       "    </tr>\n",
       "    <tr>\n",
       "      <th>126666</th>\n",
       "      <td>60024295549</td>\n",
       "      <td>delhi</td>\n",
       "      <td>77.175390</td>\n",
       "      <td>28.730340</td>\n",
       "      <td>POINT (77.175 28.73)</td>\n",
       "      <td>1889</td>\n",
       "      <td>681.113146</td>\n",
       "      <td>2022-05-10 08:30:00+05:30</td>\n",
       "      <td>delhi</td>\n",
       "      <td>77.14</td>\n",
       "      <td>28.7</td>\n",
       "      <td>9.710500e+07</td>\n",
       "      <td>622.327007</td>\n",
       "      <td>0.311164</td>\n",
       "      <td>0.046615</td>\n",
       "    </tr>\n",
       "  </tbody>\n",
       "</table>\n",
       "</div>"
      ],
      "text/plain": [
       "                 id city__customer  customer_longitude  customer_latitude  \\\n",
       "96251   60018640908          delhi           77.228741          28.701926   \n",
       "80074   60015603966          delhi           77.211600          28.713765   \n",
       "160783  60028007957          delhi           77.157653          28.715079   \n",
       "61323   60011137563          delhi           77.093028          28.718668   \n",
       "84966   60016642740          delhi           77.196145          28.754519   \n",
       "74698   60014286318          delhi           77.166533          28.645892   \n",
       "46281   60008321402          delhi           77.100242          28.691846   \n",
       "126666  60024295549          delhi           77.175390          28.730340   \n",
       "\n",
       "                     geometry  index__me  average_emissions_grams_co2_per_kWh  \\\n",
       "96251   POINT (77.229 28.702)       4093                           737.513370   \n",
       "80074   POINT (77.212 28.714)       2790                           756.863086   \n",
       "160783  POINT (77.158 28.715)       1239                           787.927575   \n",
       "61323   POINT (77.093 28.719)       1889                           681.113146   \n",
       "84966   POINT (77.196 28.755)       4733                           681.113146   \n",
       "74698   POINT (77.167 28.646)       2035                           740.912573   \n",
       "46281     POINT (77.1 28.692)       1000                           681.113146   \n",
       "126666   POINT (77.175 28.73)       1889                           681.113146   \n",
       "\n",
       "                       timestamp city__me  land_longitude  land_latitude  \\\n",
       "96251  2022-05-16 01:30:00+05:30    delhi           77.24           28.7   \n",
       "80074  2022-05-12 05:30:00+05:30    delhi           77.24           28.7   \n",
       "160783 2022-05-09 01:30:00+05:30    delhi           77.14           28.7   \n",
       "61323  2022-05-10 08:30:00+05:30    delhi           77.14           28.7   \n",
       "84966  2022-05-10 00:00:00+05:30    delhi           77.24           28.8   \n",
       "74698  2022-05-10 18:00:00+05:30    delhi           77.14           28.6   \n",
       "46281  2022-05-09 19:30:00+05:30    delhi           77.14           28.7   \n",
       "126666 2022-05-10 08:30:00+05:30    delhi           77.14           28.7   \n",
       "\n",
       "        demand_met_kWh  marginal_emissions_grams_co2_per_kWh        ME  \\\n",
       "96251     9.135450e+07                            672.002454  0.336001   \n",
       "80074     8.933808e+07                            736.833677  0.368417   \n",
       "160783    9.081179e+07                            677.008089  0.338504   \n",
       "61323     9.710500e+07                            622.327007  0.311164   \n",
       "84966     9.710500e+07                            680.015886  0.340008   \n",
       "74698     8.957938e+07                            754.393283  0.377197   \n",
       "46281     9.710500e+07                            730.655314  0.365328   \n",
       "126666    9.710500e+07                            622.327007  0.311164   \n",
       "\n",
       "        distance_between_locations_meters  \n",
       "96251                            0.011422  \n",
       "80074                            0.031560  \n",
       "160783                           0.023217  \n",
       "61323                            0.050546  \n",
       "84966                            0.063180  \n",
       "74698                            0.053010  \n",
       "46281                            0.040586  \n",
       "126666                           0.046615  "
      ]
     },
     "metadata": {},
     "output_type": "display_data"
    },
    {
     "name": "stdout",
     "output_type": "stream",
     "text": [
      "\n",
      "--------------------------------------------------------------------------------\n"
     ]
    }
   ],
   "source": [
    "print(\"\\n\" + \"-\" * 120)\n",
    "print(\"Marginal Emissions data locations mapped to customer locations [customers_with_emissions_gdf]:\\n\" + \"-\" * 120)\n",
    "print(f\"\\tShape : {customers_with_emissions_gdf.shape}\")\n",
    "print(f\"\\tType : {type(customers_with_emissions_gdf)}\")\n",
    "print(f\"\\tColumns : {customers_with_emissions_gdf.columns.tolist()}\")\n",
    "print(\"\\n\" + \"-\" * 80)\n",
    "print(f\"Sample rows of [customers_with_emissions_gdf]:\\n\" + \"-\" * 80)\n",
    "display(customers_with_emissions_gdf.sample(8))\n",
    "print(\"\\n\" + \"-\" * 80)"
   ]
  },
  {
   "cell_type": "code",
   "execution_count": null,
   "id": "051fd3b7",
   "metadata": {},
   "outputs": [
    {
     "name": "stdout",
     "output_type": "stream",
     "text": [
      "Descriptive statistics of [customers_with_emissions_gdf]:\n",
      "--------------------------------------------------------------------------------\n"
     ]
    },
    {
     "data": {
      "text/html": [
       "<div>\n",
       "<style scoped>\n",
       "    .dataframe tbody tr th:only-of-type {\n",
       "        vertical-align: middle;\n",
       "    }\n",
       "\n",
       "    .dataframe tbody tr th {\n",
       "        vertical-align: top;\n",
       "    }\n",
       "\n",
       "    .dataframe thead th {\n",
       "        text-align: right;\n",
       "    }\n",
       "</style>\n",
       "<table border=\"1\" class=\"dataframe\">\n",
       "  <thead>\n",
       "    <tr style=\"text-align: right;\">\n",
       "      <th></th>\n",
       "      <th>customer_longitude</th>\n",
       "      <th>customer_latitude</th>\n",
       "      <th>index__me</th>\n",
       "      <th>average_emissions_grams_co2_per_kWh</th>\n",
       "      <th>land_longitude</th>\n",
       "      <th>land_latitude</th>\n",
       "      <th>demand_met_kWh</th>\n",
       "      <th>marginal_emissions_grams_co2_per_kWh</th>\n",
       "      <th>ME</th>\n",
       "      <th>distance_between_locations_meters</th>\n",
       "    </tr>\n",
       "  </thead>\n",
       "  <tbody>\n",
       "    <tr>\n",
       "      <th>count</th>\n",
       "      <td>1.200477e+08</td>\n",
       "      <td>1.200477e+08</td>\n",
       "      <td>1.200477e+08</td>\n",
       "      <td>1.200477e+08</td>\n",
       "      <td>1.200477e+08</td>\n",
       "      <td>1.200477e+08</td>\n",
       "      <td>1.200477e+08</td>\n",
       "      <td>1.200477e+08</td>\n",
       "      <td>1.200477e+08</td>\n",
       "      <td>1.200477e+08</td>\n",
       "    </tr>\n",
       "    <tr>\n",
       "      <th>mean</th>\n",
       "      <td>7.729117e+01</td>\n",
       "      <td>2.875976e+01</td>\n",
       "      <td>5.479488e+03</td>\n",
       "      <td>7.325968e+02</td>\n",
       "      <td>7.715854e+01</td>\n",
       "      <td>2.870859e+01</td>\n",
       "      <td>9.227313e+07</td>\n",
       "      <td>7.082528e+02</td>\n",
       "      <td>3.541264e-01</td>\n",
       "      <td>1.798079e-01</td>\n",
       "    </tr>\n",
       "    <tr>\n",
       "      <th>std</th>\n",
       "      <td>3.263378e+00</td>\n",
       "      <td>1.216207e+00</td>\n",
       "      <td>5.304981e+03</td>\n",
       "      <td>4.537175e+01</td>\n",
       "      <td>6.058001e-02</td>\n",
       "      <td>3.473260e-02</td>\n",
       "      <td>4.158089e+06</td>\n",
       "      <td>6.624358e+01</td>\n",
       "      <td>3.312179e-02</td>\n",
       "      <td>3.472135e+00</td>\n",
       "    </tr>\n",
       "    <tr>\n",
       "      <th>min</th>\n",
       "      <td>7.695494e+01</td>\n",
       "      <td>2.858000e+01</td>\n",
       "      <td>1.100000e+02</td>\n",
       "      <td>6.247115e+02</td>\n",
       "      <td>7.694000e+01</td>\n",
       "      <td>2.860000e+01</td>\n",
       "      <td>8.303435e+07</td>\n",
       "      <td>5.361341e+02</td>\n",
       "      <td>2.680670e-01</td>\n",
       "      <td>1.110477e-04</td>\n",
       "    </tr>\n",
       "    <tr>\n",
       "      <th>25%</th>\n",
       "      <td>7.712768e+01</td>\n",
       "      <td>2.868815e+01</td>\n",
       "      <td>1.620000e+03</td>\n",
       "      <td>6.957991e+02</td>\n",
       "      <td>7.714000e+01</td>\n",
       "      <td>2.870000e+01</td>\n",
       "      <td>8.872871e+07</td>\n",
       "      <td>6.730559e+02</td>\n",
       "      <td>3.365279e-01</td>\n",
       "      <td>1.837463e-02</td>\n",
       "    </tr>\n",
       "    <tr>\n",
       "      <th>50%</th>\n",
       "      <td>7.715159e+01</td>\n",
       "      <td>2.870369e+01</td>\n",
       "      <td>3.201000e+03</td>\n",
       "      <td>7.384685e+02</td>\n",
       "      <td>7.714000e+01</td>\n",
       "      <td>2.870000e+01</td>\n",
       "      <td>9.255138e+07</td>\n",
       "      <td>7.208703e+02</td>\n",
       "      <td>3.604351e-01</td>\n",
       "      <td>3.222427e-02</td>\n",
       "    </tr>\n",
       "    <tr>\n",
       "      <th>75%</th>\n",
       "      <td>7.719345e+01</td>\n",
       "      <td>2.872399e+01</td>\n",
       "      <td>1.050100e+04</td>\n",
       "      <td>7.648485e+02</td>\n",
       "      <td>7.724000e+01</td>\n",
       "      <td>2.870000e+01</td>\n",
       "      <td>9.577071e+07</td>\n",
       "      <td>7.566462e+02</td>\n",
       "      <td>3.783231e-01</td>\n",
       "      <td>4.682137e-02</td>\n",
       "    </tr>\n",
       "    <tr>\n",
       "      <th>max</th>\n",
       "      <td>2.314848e+02</td>\n",
       "      <td>8.632049e+01</td>\n",
       "      <td>3.021000e+04</td>\n",
       "      <td>8.270834e+02</td>\n",
       "      <td>7.734000e+01</td>\n",
       "      <td>2.880000e+01</td>\n",
       "      <td>1.007118e+08</td>\n",
       "      <td>8.359399e+02</td>\n",
       "      <td>4.179699e-01</td>\n",
       "      <td>1.645273e+02</td>\n",
       "    </tr>\n",
       "  </tbody>\n",
       "</table>\n",
       "</div>"
      ],
      "text/plain": [
       "       customer_longitude  customer_latitude     index__me  \\\n",
       "count        1.200477e+08       1.200477e+08  1.200477e+08   \n",
       "mean         7.729117e+01       2.875976e+01  5.479488e+03   \n",
       "std          3.263378e+00       1.216207e+00  5.304981e+03   \n",
       "min          7.695494e+01       2.858000e+01  1.100000e+02   \n",
       "25%          7.712768e+01       2.868815e+01  1.620000e+03   \n",
       "50%          7.715159e+01       2.870369e+01  3.201000e+03   \n",
       "75%          7.719345e+01       2.872399e+01  1.050100e+04   \n",
       "max          2.314848e+02       8.632049e+01  3.021000e+04   \n",
       "\n",
       "       average_emissions_grams_co2_per_kWh  land_longitude  land_latitude  \\\n",
       "count                         1.200477e+08    1.200477e+08   1.200477e+08   \n",
       "mean                          7.325968e+02    7.715854e+01   2.870859e+01   \n",
       "std                           4.537175e+01    6.058001e-02   3.473260e-02   \n",
       "min                           6.247115e+02    7.694000e+01   2.860000e+01   \n",
       "25%                           6.957991e+02    7.714000e+01   2.870000e+01   \n",
       "50%                           7.384685e+02    7.714000e+01   2.870000e+01   \n",
       "75%                           7.648485e+02    7.724000e+01   2.870000e+01   \n",
       "max                           8.270834e+02    7.734000e+01   2.880000e+01   \n",
       "\n",
       "       demand_met_kWh  marginal_emissions_grams_co2_per_kWh            ME  \\\n",
       "count    1.200477e+08                          1.200477e+08  1.200477e+08   \n",
       "mean     9.227313e+07                          7.082528e+02  3.541264e-01   \n",
       "std      4.158089e+06                          6.624358e+01  3.312179e-02   \n",
       "min      8.303435e+07                          5.361341e+02  2.680670e-01   \n",
       "25%      8.872871e+07                          6.730559e+02  3.365279e-01   \n",
       "50%      9.255138e+07                          7.208703e+02  3.604351e-01   \n",
       "75%      9.577071e+07                          7.566462e+02  3.783231e-01   \n",
       "max      1.007118e+08                          8.359399e+02  4.179699e-01   \n",
       "\n",
       "       distance_between_locations_meters  \n",
       "count                       1.200477e+08  \n",
       "mean                        1.798079e-01  \n",
       "std                         3.472135e+00  \n",
       "min                         1.110477e-04  \n",
       "25%                         1.837463e-02  \n",
       "50%                         3.222427e-02  \n",
       "75%                         4.682137e-02  \n",
       "max                         1.645273e+02  "
      ]
     },
     "metadata": {},
     "output_type": "display_data"
    }
   ],
   "source": [
    "print(f\"Descriptive statistics of [customers_with_emissions_gdf]:\\n\"+ \"-\" * 80)\n",
    "display(customers_with_emissions_gdf.describe())"
   ]
  },
  {
   "cell_type": "code",
   "execution_count": null,
   "id": "76edda73",
   "metadata": {},
   "outputs": [
    {
     "data": {
      "text/plain": [
       "['id',\n",
       " 'city__customer',\n",
       " 'customer_longitude',\n",
       " 'customer_latitude',\n",
       " 'geometry',\n",
       " 'index__me',\n",
       " 'average_emissions_grams_co2_per_kWh',\n",
       " 'timestamp',\n",
       " 'city__me',\n",
       " 'land_longitude',\n",
       " 'land_latitude',\n",
       " 'demand_met_kWh',\n",
       " 'marginal_emissions_grams_co2_per_kWh',\n",
       " 'ME',\n",
       " 'distance_between_locations_meters']"
      ]
     },
     "execution_count": 47,
     "metadata": {},
     "output_type": "execute_result"
    }
   ],
   "source": [
    "customers_with_emissions_gdf.columns.tolist()"
   ]
  },
  {
   "cell_type": "code",
   "execution_count": null,
   "id": "77a04c57",
   "metadata": {},
   "outputs": [
    {
     "name": "stdout",
     "output_type": "stream",
     "text": [
      "------------------------------------------------------------------------------------------------------------------------\n",
      "[customers_with_emissions_pd] after dropping columns:\n",
      "------------------------------------------------------------------------------------------------------------------------\n",
      "\tShape : (120047721, 9)\n",
      "\tType : <class 'pandas.core.frame.DataFrame'>\n",
      "\tColumns : ['id', 'city__customer', 'customer_longitude', 'customer_latitude', 'average_emissions_grams_co2_per_kWh', 'timestamp', 'demand_met_kWh', 'marginal_emissions_grams_co2_per_kWh', 'ME']\n"
     ]
    }
   ],
   "source": [
    "# Drop unnecessary columns\n",
    "customers_with_emissions_pd = customers_with_emissions_gdf.drop(\n",
    "    columns=[f\"index__me\", \"city__me\", \"geometry\", \"land_longitude\", \"land_latitude\",\n",
    "              \"distance_between_locations_meters\"])\n",
    "\n",
    "print(\"-\"*120)\n",
    "print(f\"[customers_with_emissions_pd] after dropping columns:\\n\" + \"-\"*120)\n",
    "print(f\"\\tShape : {customers_with_emissions_pd.shape}\")\n",
    "print(f\"\\tType : {type(customers_with_emissions_pd)}\")\n",
    "print(f\"\\tColumns : {customers_with_emissions_pd.columns.tolist()}\")\n"
   ]
  },
  {
   "cell_type": "code",
   "execution_count": 49,
   "id": "71a9c270",
   "metadata": {},
   "outputs": [
    {
     "name": "stdout",
     "output_type": "stream",
     "text": [
      "------------------------------------------------------------------------------------------------------------------------\n",
      "[customers_with_emissions_pldf] after conversion: \n",
      "------------------------------------------------------------------------------------------------------------------------\n",
      "Shape :\t(120047721, 9)\n",
      "Type :\t<class 'polars.dataframe.frame.DataFrame'>\n",
      "Columns :\t['id', 'city__customer', 'customer_longitude', 'customer_latitude', 'average_emissions_grams_co2_per_kWh', 'timestamp', 'demand_met_kWh', 'marginal_emissions_grams_co2_per_kWh', 'ME']\n",
      "\n",
      "--------------------------------------------------------------------------------\n",
      "Sample rows of [customers_with_emissions_pldf]:\n",
      "--------------------------------------------------------------------------------\n"
     ]
    },
    {
     "data": {
      "text/html": [
       "<div><style>\n",
       ".dataframe > thead > tr,\n",
       ".dataframe > tbody > tr {\n",
       "  text-align: right;\n",
       "  white-space: pre-wrap;\n",
       "}\n",
       "</style>\n",
       "<small>shape: (5, 9)</small><table border=\"1\" class=\"dataframe\"><thead><tr><th>id</th><th>city__customer</th><th>customer_longitude</th><th>customer_latitude</th><th>average_emissions_grams_co2_per_kWh</th><th>timestamp</th><th>demand_met_kWh</th><th>marginal_emissions_grams_co2_per_kWh</th><th>ME</th></tr><tr><td>str</td><td>str</td><td>f64</td><td>f64</td><td>f64</td><td>datetime[μs, Asia/Kolkata]</td><td>f64</td><td>f64</td><td>f64</td></tr></thead><tbody><tr><td>&quot;60000005516&quot;</td><td>&quot;delhi&quot;</td><td>77.124072</td><td>28.728825</td><td>727.45292</td><td>2022-05-12 18:30:00 IST</td><td>8.9997e7</td><td>750.267451</td><td>0.375134</td></tr><tr><td>&quot;60000005516&quot;</td><td>&quot;delhi&quot;</td><td>77.124072</td><td>28.728825</td><td>716.195122</td><td>2022-05-07 15:30:00 IST</td><td>9.9475e7</td><td>665.523966</td><td>0.332762</td></tr><tr><td>&quot;60000005516&quot;</td><td>&quot;delhi&quot;</td><td>77.124072</td><td>28.728825</td><td>712.229102</td><td>2022-05-17 16:30:00 IST</td><td>9.7496e7</td><td>676.149488</td><td>0.338075</td></tr><tr><td>&quot;60000005516&quot;</td><td>&quot;delhi&quot;</td><td>77.124072</td><td>28.728825</td><td>747.964818</td><td>2022-05-17 22:30:00 IST</td><td>9.5388e7</td><td>709.606799</td><td>0.354803</td></tr><tr><td>&quot;60000005516&quot;</td><td>&quot;delhi&quot;</td><td>77.124072</td><td>28.728825</td><td>709.32133</td><td>2022-05-05 10:30:00 IST</td><td>9.0700875e7</td><td>716.742212</td><td>0.358371</td></tr></tbody></table></div>"
      ],
      "text/plain": [
       "shape: (5, 9)\n",
       "┌───────────┬───────────┬───────────┬───────────┬───┬───────────┬───────────┬───────────┬──────────┐\n",
       "│ id        ┆ city__cus ┆ customer_ ┆ customer_ ┆ … ┆ timestamp ┆ demand_me ┆ marginal_ ┆ ME       │\n",
       "│ ---       ┆ tomer     ┆ longitude ┆ latitude  ┆   ┆ ---       ┆ t_kWh     ┆ emissions ┆ ---      │\n",
       "│ str       ┆ ---       ┆ ---       ┆ ---       ┆   ┆ datetime[ ┆ ---       ┆ _grams_co ┆ f64      │\n",
       "│           ┆ str       ┆ f64       ┆ f64       ┆   ┆ μs, Asia/ ┆ f64       ┆ 2_p…      ┆          │\n",
       "│           ┆           ┆           ┆           ┆   ┆ Kolkata]  ┆           ┆ ---       ┆          │\n",
       "│           ┆           ┆           ┆           ┆   ┆           ┆           ┆ f64       ┆          │\n",
       "╞═══════════╪═══════════╪═══════════╪═══════════╪═══╪═══════════╪═══════════╪═══════════╪══════════╡\n",
       "│ 600000055 ┆ delhi     ┆ 77.124072 ┆ 28.728825 ┆ … ┆ 2022-05-1 ┆ 8.9997e7  ┆ 750.26745 ┆ 0.375134 │\n",
       "│ 16        ┆           ┆           ┆           ┆   ┆ 2         ┆           ┆ 1         ┆          │\n",
       "│           ┆           ┆           ┆           ┆   ┆ 18:30:00  ┆           ┆           ┆          │\n",
       "│           ┆           ┆           ┆           ┆   ┆ IST       ┆           ┆           ┆          │\n",
       "│ 600000055 ┆ delhi     ┆ 77.124072 ┆ 28.728825 ┆ … ┆ 2022-05-0 ┆ 9.9475e7  ┆ 665.52396 ┆ 0.332762 │\n",
       "│ 16        ┆           ┆           ┆           ┆   ┆ 7         ┆           ┆ 6         ┆          │\n",
       "│           ┆           ┆           ┆           ┆   ┆ 15:30:00  ┆           ┆           ┆          │\n",
       "│           ┆           ┆           ┆           ┆   ┆ IST       ┆           ┆           ┆          │\n",
       "│ 600000055 ┆ delhi     ┆ 77.124072 ┆ 28.728825 ┆ … ┆ 2022-05-1 ┆ 9.7496e7  ┆ 676.14948 ┆ 0.338075 │\n",
       "│ 16        ┆           ┆           ┆           ┆   ┆ 7         ┆           ┆ 8         ┆          │\n",
       "│           ┆           ┆           ┆           ┆   ┆ 16:30:00  ┆           ┆           ┆          │\n",
       "│           ┆           ┆           ┆           ┆   ┆ IST       ┆           ┆           ┆          │\n",
       "│ 600000055 ┆ delhi     ┆ 77.124072 ┆ 28.728825 ┆ … ┆ 2022-05-1 ┆ 9.5388e7  ┆ 709.60679 ┆ 0.354803 │\n",
       "│ 16        ┆           ┆           ┆           ┆   ┆ 7         ┆           ┆ 9         ┆          │\n",
       "│           ┆           ┆           ┆           ┆   ┆ 22:30:00  ┆           ┆           ┆          │\n",
       "│           ┆           ┆           ┆           ┆   ┆ IST       ┆           ┆           ┆          │\n",
       "│ 600000055 ┆ delhi     ┆ 77.124072 ┆ 28.728825 ┆ … ┆ 2022-05-0 ┆ 9.0700875 ┆ 716.74221 ┆ 0.358371 │\n",
       "│ 16        ┆           ┆           ┆           ┆   ┆ 5         ┆ e7        ┆ 2         ┆          │\n",
       "│           ┆           ┆           ┆           ┆   ┆ 10:30:00  ┆           ┆           ┆          │\n",
       "│           ┆           ┆           ┆           ┆   ┆ IST       ┆           ┆           ┆          │\n",
       "└───────────┴───────────┴───────────┴───────────┴───┴───────────┴───────────┴───────────┴──────────┘"
      ]
     },
     "metadata": {},
     "output_type": "display_data"
    }
   ],
   "source": [
    "# Reset the index of the DataFrame to ensure it is clean\n",
    "customers_with_emissions_pd = customers_with_emissions_pd.reset_index(drop=True)\n",
    "\n",
    "# Convert the pandas DataFrame to a Polars DataFrame\n",
    "customers_with_emissions_pldf = pl.from_pandas(customers_with_emissions_pd)\n",
    "\n",
    "print(\"-\"*120)\n",
    "print(f\"[customers_with_emissions_pldf] after conversion: \\n\" + \"-\"*120)\n",
    "print(f\"Shape :\\t{customers_with_emissions_pldf.shape}\")\n",
    "print(f\"Type :\\t{type(customers_with_emissions_pldf)}\")\n",
    "print(f\"Columns :\\t{customers_with_emissions_pldf.columns}\")\n",
    "\n",
    "print(\"\\n\" + \"-\"*80)\n",
    "print(f\"Sample rows of [customers_with_emissions_pldf]:\\n\" + \"-\"*80)\n",
    "display(customers_with_emissions_pldf.head(5))"
   ]
  },
  {
   "cell_type": "code",
   "execution_count": 50,
   "id": "9e63824a",
   "metadata": {},
   "outputs": [
    {
     "data": {
      "text/html": [
       "<div><style>\n",
       ".dataframe > thead > tr,\n",
       ".dataframe > tbody > tr {\n",
       "  text-align: right;\n",
       "  white-space: pre-wrap;\n",
       "}\n",
       "</style>\n",
       "<small>shape: (9, 10)</small><table border=\"1\" class=\"dataframe\"><thead><tr><th>statistic</th><th>id</th><th>city__customer</th><th>customer_longitude</th><th>customer_latitude</th><th>average_emissions_grams_co2_per_kWh</th><th>timestamp</th><th>demand_met_kWh</th><th>marginal_emissions_grams_co2_per_kWh</th><th>ME</th></tr><tr><td>str</td><td>str</td><td>str</td><td>f64</td><td>f64</td><td>f64</td><td>str</td><td>f64</td><td>f64</td><td>f64</td></tr></thead><tbody><tr><td>&quot;count&quot;</td><td>&quot;120047721&quot;</td><td>&quot;120047721&quot;</td><td>1.20047721e8</td><td>1.20047721e8</td><td>1.20047721e8</td><td>&quot;120047721&quot;</td><td>1.20047721e8</td><td>1.20047721e8</td><td>1.20047721e8</td></tr><tr><td>&quot;null_count&quot;</td><td>&quot;0&quot;</td><td>&quot;0&quot;</td><td>0.0</td><td>0.0</td><td>0.0</td><td>&quot;0&quot;</td><td>0.0</td><td>0.0</td><td>0.0</td></tr><tr><td>&quot;mean&quot;</td><td>null</td><td>null</td><td>77.291167</td><td>28.759756</td><td>732.596824</td><td>&quot;2022-05-11 00:00:00+05:30&quot;</td><td>9.2273e7</td><td>708.252794</td><td>0.354126</td></tr><tr><td>&quot;std&quot;</td><td>null</td><td>null</td><td>3.263378</td><td>1.216207</td><td>45.371753</td><td>null</td><td>4.1581e6</td><td>66.243578</td><td>0.033122</td></tr><tr><td>&quot;min&quot;</td><td>&quot;60000005516&quot;</td><td>&quot;delhi&quot;</td><td>76.954941</td><td>28.58</td><td>624.711512</td><td>&quot;2022-05-04 00:00:00+05:30&quot;</td><td>8.3034e7</td><td>536.134053</td><td>0.268067</td></tr><tr><td>&quot;25%&quot;</td><td>null</td><td>null</td><td>77.12768</td><td>28.688152</td><td>695.799078</td><td>&quot;2022-05-07 12:00:00+05:30&quot;</td><td>8.8729e7</td><td>673.055855</td><td>0.336528</td></tr><tr><td>&quot;50%&quot;</td><td>null</td><td>null</td><td>77.151595</td><td>28.703691</td><td>738.468516</td><td>&quot;2022-05-11 00:00:00+05:30&quot;</td><td>9.2551375e7</td><td>720.870299</td><td>0.360435</td></tr><tr><td>&quot;75%&quot;</td><td>null</td><td>null</td><td>77.193455</td><td>28.723992</td><td>764.848519</td><td>&quot;2022-05-14 12:00:00+05:30&quot;</td><td>9.5771e7</td><td>756.646245</td><td>0.378323</td></tr><tr><td>&quot;max&quot;</td><td>&quot;60029920067&quot;</td><td>&quot;delhi&quot;</td><td>231.484813</td><td>86.320485</td><td>827.083443</td><td>&quot;2022-05-18 00:00:00+05:30&quot;</td><td>1.0071e8</td><td>835.939878</td><td>0.41797</td></tr></tbody></table></div>"
      ],
      "text/plain": [
       "shape: (9, 10)\n",
       "┌───────────┬───────────┬───────────┬───────────┬───┬───────────┬───────────┬───────────┬──────────┐\n",
       "│ statistic ┆ id        ┆ city__cus ┆ customer_ ┆ … ┆ timestamp ┆ demand_me ┆ marginal_ ┆ ME       │\n",
       "│ ---       ┆ ---       ┆ tomer     ┆ longitude ┆   ┆ ---       ┆ t_kWh     ┆ emissions ┆ ---      │\n",
       "│ str       ┆ str       ┆ ---       ┆ ---       ┆   ┆ str       ┆ ---       ┆ _grams_co ┆ f64      │\n",
       "│           ┆           ┆ str       ┆ f64       ┆   ┆           ┆ f64       ┆ 2_p…      ┆          │\n",
       "│           ┆           ┆           ┆           ┆   ┆           ┆           ┆ ---       ┆          │\n",
       "│           ┆           ┆           ┆           ┆   ┆           ┆           ┆ f64       ┆          │\n",
       "╞═══════════╪═══════════╪═══════════╪═══════════╪═══╪═══════════╪═══════════╪═══════════╪══════════╡\n",
       "│ count     ┆ 120047721 ┆ 120047721 ┆ 1.2004772 ┆ … ┆ 120047721 ┆ 1.2004772 ┆ 1.2004772 ┆ 1.200477 │\n",
       "│           ┆           ┆           ┆ 1e8       ┆   ┆           ┆ 1e8       ┆ 1e8       ┆ 21e8     │\n",
       "│ null_coun ┆ 0         ┆ 0         ┆ 0.0       ┆ … ┆ 0         ┆ 0.0       ┆ 0.0       ┆ 0.0      │\n",
       "│ t         ┆           ┆           ┆           ┆   ┆           ┆           ┆           ┆          │\n",
       "│ mean      ┆ null      ┆ null      ┆ 77.291167 ┆ … ┆ 2022-05-1 ┆ 9.2273e7  ┆ 708.25279 ┆ 0.354126 │\n",
       "│           ┆           ┆           ┆           ┆   ┆ 1 00:00:0 ┆           ┆ 4         ┆          │\n",
       "│           ┆           ┆           ┆           ┆   ┆ 0+05:30   ┆           ┆           ┆          │\n",
       "│ std       ┆ null      ┆ null      ┆ 3.263378  ┆ … ┆ null      ┆ 4.1581e6  ┆ 66.243578 ┆ 0.033122 │\n",
       "│ min       ┆ 600000055 ┆ delhi     ┆ 76.954941 ┆ … ┆ 2022-05-0 ┆ 8.3034e7  ┆ 536.13405 ┆ 0.268067 │\n",
       "│           ┆ 16        ┆           ┆           ┆   ┆ 4 00:00:0 ┆           ┆ 3         ┆          │\n",
       "│           ┆           ┆           ┆           ┆   ┆ 0+05:30   ┆           ┆           ┆          │\n",
       "│ 25%       ┆ null      ┆ null      ┆ 77.12768  ┆ … ┆ 2022-05-0 ┆ 8.8729e7  ┆ 673.05585 ┆ 0.336528 │\n",
       "│           ┆           ┆           ┆           ┆   ┆ 7 12:00:0 ┆           ┆ 5         ┆          │\n",
       "│           ┆           ┆           ┆           ┆   ┆ 0+05:30   ┆           ┆           ┆          │\n",
       "│ 50%       ┆ null      ┆ null      ┆ 77.151595 ┆ … ┆ 2022-05-1 ┆ 9.2551375 ┆ 720.87029 ┆ 0.360435 │\n",
       "│           ┆           ┆           ┆           ┆   ┆ 1 00:00:0 ┆ e7        ┆ 9         ┆          │\n",
       "│           ┆           ┆           ┆           ┆   ┆ 0+05:30   ┆           ┆           ┆          │\n",
       "│ 75%       ┆ null      ┆ null      ┆ 77.193455 ┆ … ┆ 2022-05-1 ┆ 9.5771e7  ┆ 756.64624 ┆ 0.378323 │\n",
       "│           ┆           ┆           ┆           ┆   ┆ 4 12:00:0 ┆           ┆ 5         ┆          │\n",
       "│           ┆           ┆           ┆           ┆   ┆ 0+05:30   ┆           ┆           ┆          │\n",
       "│ max       ┆ 600299200 ┆ delhi     ┆ 231.48481 ┆ … ┆ 2022-05-1 ┆ 1.0071e8  ┆ 835.93987 ┆ 0.41797  │\n",
       "│           ┆ 67        ┆           ┆ 3         ┆   ┆ 8 00:00:0 ┆           ┆ 8         ┆          │\n",
       "│           ┆           ┆           ┆           ┆   ┆ 0+05:30   ┆           ┆           ┆          │\n",
       "└───────────┴───────────┴───────────┴───────────┴───┴───────────┴───────────┴───────────┴──────────┘"
      ]
     },
     "metadata": {},
     "output_type": "display_data"
    }
   ],
   "source": [
    "display(customers_with_emissions_pldf.describe())"
   ]
  },
  {
   "cell_type": "code",
   "execution_count": 52,
   "id": "66c4d6d9",
   "metadata": {},
   "outputs": [
    {
     "name": "stdout",
     "output_type": "stream",
     "text": [
      "Columns:  ['id', 'city', 'customer_longitude', 'customer_latitude', 'average_emissions_grams_co2_per_kWh', 'timestamp', 'demand_met_kWh', 'marginal_emissions_grams_co2_per_kWh']\n"
     ]
    }
   ],
   "source": [
    "# Rename city column\n",
    "customers_with_emissions_pldf = customers_with_emissions_pldf.drop( \"ME\")\n",
    "customers_with_emissions_pldf = customers_with_emissions_pldf.rename({\"city__customer\": \"city\"})\n",
    "\n",
    "\n",
    "print(\"Columns: \", customers_with_emissions_pldf.columns)\n"
   ]
  },
  {
   "cell_type": "code",
   "execution_count": 53,
   "id": "6fad3575",
   "metadata": {},
   "outputs": [
    {
     "name": "stdout",
     "output_type": "stream",
     "text": [
      "Columns:  ['timestamp', 'id', 'city', 'customer_longitude', 'customer_latitude', 'demand_met_kWh', 'average_emissions_grams_co2_per_kWh', 'marginal_emissions_grams_co2_per_kWh']\n"
     ]
    }
   ],
   "source": [
    "# reorder columns\n",
    "customers_with_emissions_pldf = customers_with_emissions_pldf.select([\n",
    "   \"timestamp\", \"id\", \"city\", \"customer_longitude\",\n",
    "    \"customer_latitude\", \"demand_met_kWh\",\n",
    "    \"average_emissions_grams_co2_per_kWh\",\n",
    "    \"marginal_emissions_grams_co2_per_kWh\"\n",
    "])\n",
    "print(\"Columns: \", customers_with_emissions_pldf.columns)\n"
   ]
  },
  {
   "cell_type": "code",
   "execution_count": 55,
   "id": "23394cae",
   "metadata": {},
   "outputs": [],
   "source": [
    "customers_with_emissions_filename = \"customers_ids_with_emissions\"\n",
    "customers_with_emissions_filepath = os.path.join(optimisation_development_directory, customers_with_emissions_filename + \".parquet\")"
   ]
  },
  {
   "cell_type": "code",
   "execution_count": 56,
   "id": "1964e6cd",
   "metadata": {},
   "outputs": [
    {
     "name": "stdout",
     "output_type": "stream",
     "text": [
      "Successfully saved [customers_with_emissions_pldf] to data/optimisation_development/customers_ids_with_emissions.parquet\n"
     ]
    }
   ],
   "source": [
    "try:\n",
    "    customers_with_emissions_pldf.write_parquet(customers_with_emissions_filepath,\n",
    "                                                         compression=\"snappy\",\n",
    "                                                         statistics=True)\n",
    "    print(f\"Successfully saved [customers_with_emissions_pldf] to {customers_with_emissions_filepath}\")\n",
    "\n",
    "except Exception as e:\n",
    "    print(f\"Error saving [customers_with_emissions_pldf] to {customers_with_emissions_filepath}: {e}\")"
   ]
  },
  {
   "cell_type": "markdown",
   "id": "5caf022e",
   "metadata": {},
   "source": [
    "#### Meter Readings <-> Emissions"
   ]
  },
  {
   "cell_type": "code",
   "execution_count": 58,
   "id": "194f023d",
   "metadata": {},
   "outputs": [
    {
     "data": {
      "text/plain": [
       "Schema([('timestamp', Datetime(time_unit='us', time_zone='Asia/Kolkata')),\n",
       "        ('id', String),\n",
       "        ('city', String),\n",
       "        ('customer_longitude', Float64),\n",
       "        ('customer_latitude', Float64),\n",
       "        ('demand_met_kWh', Float64),\n",
       "        ('average_emissions_grams_co2_per_kWh', Float64),\n",
       "        ('marginal_emissions_grams_co2_per_kWh', Float64)])"
      ]
     },
     "execution_count": 58,
     "metadata": {},
     "output_type": "execute_result"
    }
   ],
   "source": [
    "customers_with_emissions_pldf.schema"
   ]
  },
  {
   "cell_type": "code",
   "execution_count": 59,
   "id": "e13a1876",
   "metadata": {},
   "outputs": [
    {
     "data": {
      "text/plain": [
       "Schema([('ca_id', String),\n",
       "        ('date', Datetime(time_unit='us', time_zone='Asia/Kolkata')),\n",
       "        ('value', Float64),\n",
       "        ('city', Categorical(ordering='physical'))])"
      ]
     },
     "execution_count": 59,
     "metadata": {},
     "output_type": "execute_result"
    }
   ],
   "source": [
    "trimmed_meter_readings_pldf.schema"
   ]
  },
  {
   "cell_type": "code",
   "execution_count": 60,
   "id": "9f2e9830",
   "metadata": {},
   "outputs": [
    {
     "data": {
      "text/html": [
       "<div><style>\n",
       ".dataframe > thead > tr,\n",
       ".dataframe > tbody > tr {\n",
       "  text-align: right;\n",
       "  white-space: pre-wrap;\n",
       "}\n",
       "</style>\n",
       "<small>shape: (9, 9)</small><table border=\"1\" class=\"dataframe\"><thead><tr><th>statistic</th><th>timestamp</th><th>id</th><th>city</th><th>customer_longitude</th><th>customer_latitude</th><th>demand_met_kWh</th><th>average_emissions_grams_co2_per_kWh</th><th>marginal_emissions_grams_co2_per_kWh</th></tr><tr><td>str</td><td>str</td><td>str</td><td>str</td><td>f64</td><td>f64</td><td>f64</td><td>f64</td><td>f64</td></tr></thead><tbody><tr><td>&quot;count&quot;</td><td>&quot;120047721&quot;</td><td>&quot;120047721&quot;</td><td>&quot;120047721&quot;</td><td>1.20047721e8</td><td>1.20047721e8</td><td>1.20047721e8</td><td>1.20047721e8</td><td>1.20047721e8</td></tr><tr><td>&quot;null_count&quot;</td><td>&quot;0&quot;</td><td>&quot;0&quot;</td><td>&quot;0&quot;</td><td>0.0</td><td>0.0</td><td>0.0</td><td>0.0</td><td>0.0</td></tr><tr><td>&quot;mean&quot;</td><td>&quot;2022-05-11 00:00:00+05:30&quot;</td><td>null</td><td>null</td><td>77.291167</td><td>28.759756</td><td>9.2273e7</td><td>732.596824</td><td>708.252794</td></tr><tr><td>&quot;std&quot;</td><td>null</td><td>null</td><td>null</td><td>3.263378</td><td>1.216207</td><td>4.1581e6</td><td>45.371753</td><td>66.243578</td></tr><tr><td>&quot;min&quot;</td><td>&quot;2022-05-04 00:00:00+05:30&quot;</td><td>&quot;60000005516&quot;</td><td>&quot;delhi&quot;</td><td>76.954941</td><td>28.58</td><td>8.3034e7</td><td>624.711512</td><td>536.134053</td></tr><tr><td>&quot;25%&quot;</td><td>&quot;2022-05-07 12:00:00+05:30&quot;</td><td>null</td><td>null</td><td>77.12768</td><td>28.688152</td><td>8.8729e7</td><td>695.799078</td><td>673.055855</td></tr><tr><td>&quot;50%&quot;</td><td>&quot;2022-05-11 00:00:00+05:30&quot;</td><td>null</td><td>null</td><td>77.151595</td><td>28.703691</td><td>9.2551375e7</td><td>738.468516</td><td>720.870299</td></tr><tr><td>&quot;75%&quot;</td><td>&quot;2022-05-14 12:00:00+05:30&quot;</td><td>null</td><td>null</td><td>77.193455</td><td>28.723992</td><td>9.5771e7</td><td>764.848519</td><td>756.646245</td></tr><tr><td>&quot;max&quot;</td><td>&quot;2022-05-18 00:00:00+05:30&quot;</td><td>&quot;60029920067&quot;</td><td>&quot;delhi&quot;</td><td>231.484813</td><td>86.320485</td><td>1.0071e8</td><td>827.083443</td><td>835.939878</td></tr></tbody></table></div>"
      ],
      "text/plain": [
       "shape: (9, 9)\n",
       "┌───────────┬───────────┬───────────┬───────────┬───┬───────────┬───────────┬───────────┬──────────┐\n",
       "│ statistic ┆ timestamp ┆ id        ┆ city      ┆ … ┆ customer_ ┆ demand_me ┆ average_e ┆ marginal │\n",
       "│ ---       ┆ ---       ┆ ---       ┆ ---       ┆   ┆ latitude  ┆ t_kWh     ┆ missions_ ┆ _emissio │\n",
       "│ str       ┆ str       ┆ str       ┆ str       ┆   ┆ ---       ┆ ---       ┆ grams_co2 ┆ ns_grams │\n",
       "│           ┆           ┆           ┆           ┆   ┆ f64       ┆ f64       ┆ _pe…      ┆ _co2_p…  │\n",
       "│           ┆           ┆           ┆           ┆   ┆           ┆           ┆ ---       ┆ ---      │\n",
       "│           ┆           ┆           ┆           ┆   ┆           ┆           ┆ f64       ┆ f64      │\n",
       "╞═══════════╪═══════════╪═══════════╪═══════════╪═══╪═══════════╪═══════════╪═══════════╪══════════╡\n",
       "│ count     ┆ 120047721 ┆ 120047721 ┆ 120047721 ┆ … ┆ 1.2004772 ┆ 1.2004772 ┆ 1.2004772 ┆ 1.200477 │\n",
       "│           ┆           ┆           ┆           ┆   ┆ 1e8       ┆ 1e8       ┆ 1e8       ┆ 21e8     │\n",
       "│ null_coun ┆ 0         ┆ 0         ┆ 0         ┆ … ┆ 0.0       ┆ 0.0       ┆ 0.0       ┆ 0.0      │\n",
       "│ t         ┆           ┆           ┆           ┆   ┆           ┆           ┆           ┆          │\n",
       "│ mean      ┆ 2022-05-1 ┆ null      ┆ null      ┆ … ┆ 28.759756 ┆ 9.2273e7  ┆ 732.59682 ┆ 708.2527 │\n",
       "│           ┆ 1 00:00:0 ┆           ┆           ┆   ┆           ┆           ┆ 4         ┆ 94       │\n",
       "│           ┆ 0+05:30   ┆           ┆           ┆   ┆           ┆           ┆           ┆          │\n",
       "│ std       ┆ null      ┆ null      ┆ null      ┆ … ┆ 1.216207  ┆ 4.1581e6  ┆ 45.371753 ┆ 66.24357 │\n",
       "│           ┆           ┆           ┆           ┆   ┆           ┆           ┆           ┆ 8        │\n",
       "│ min       ┆ 2022-05-0 ┆ 600000055 ┆ delhi     ┆ … ┆ 28.58     ┆ 8.3034e7  ┆ 624.71151 ┆ 536.1340 │\n",
       "│           ┆ 4 00:00:0 ┆ 16        ┆           ┆   ┆           ┆           ┆ 2         ┆ 53       │\n",
       "│           ┆ 0+05:30   ┆           ┆           ┆   ┆           ┆           ┆           ┆          │\n",
       "│ 25%       ┆ 2022-05-0 ┆ null      ┆ null      ┆ … ┆ 28.688152 ┆ 8.8729e7  ┆ 695.79907 ┆ 673.0558 │\n",
       "│           ┆ 7 12:00:0 ┆           ┆           ┆   ┆           ┆           ┆ 8         ┆ 55       │\n",
       "│           ┆ 0+05:30   ┆           ┆           ┆   ┆           ┆           ┆           ┆          │\n",
       "│ 50%       ┆ 2022-05-1 ┆ null      ┆ null      ┆ … ┆ 28.703691 ┆ 9.2551375 ┆ 738.46851 ┆ 720.8702 │\n",
       "│           ┆ 1 00:00:0 ┆           ┆           ┆   ┆           ┆ e7        ┆ 6         ┆ 99       │\n",
       "│           ┆ 0+05:30   ┆           ┆           ┆   ┆           ┆           ┆           ┆          │\n",
       "│ 75%       ┆ 2022-05-1 ┆ null      ┆ null      ┆ … ┆ 28.723992 ┆ 9.5771e7  ┆ 764.84851 ┆ 756.6462 │\n",
       "│           ┆ 4 12:00:0 ┆           ┆           ┆   ┆           ┆           ┆ 9         ┆ 45       │\n",
       "│           ┆ 0+05:30   ┆           ┆           ┆   ┆           ┆           ┆           ┆          │\n",
       "│ max       ┆ 2022-05-1 ┆ 600299200 ┆ delhi     ┆ … ┆ 86.320485 ┆ 1.0071e8  ┆ 827.08344 ┆ 835.9398 │\n",
       "│           ┆ 8 00:00:0 ┆ 67        ┆           ┆   ┆           ┆           ┆ 3         ┆ 78       │\n",
       "│           ┆ 0+05:30   ┆           ┆           ┆   ┆           ┆           ┆           ┆          │\n",
       "└───────────┴───────────┴───────────┴───────────┴───┴───────────┴───────────┴───────────┴──────────┘"
      ]
     },
     "execution_count": 60,
     "metadata": {},
     "output_type": "execute_result"
    }
   ],
   "source": [
    "customers_with_emissions_pldf.describe()"
   ]
  },
  {
   "cell_type": "code",
   "execution_count": 61,
   "id": "89ef0758",
   "metadata": {},
   "outputs": [
    {
     "data": {
      "text/html": [
       "<div><style>\n",
       ".dataframe > thead > tr,\n",
       ".dataframe > tbody > tr {\n",
       "  text-align: right;\n",
       "  white-space: pre-wrap;\n",
       "}\n",
       "</style>\n",
       "<small>shape: (9, 5)</small><table border=\"1\" class=\"dataframe\"><thead><tr><th>statistic</th><th>ca_id</th><th>date</th><th>value</th><th>city</th></tr><tr><td>str</td><td>str</td><td>str</td><td>f64</td><td>str</td></tr></thead><tbody><tr><td>&quot;count&quot;</td><td>&quot;118643003&quot;</td><td>&quot;118643003&quot;</td><td>1.18643003e8</td><td>&quot;118643003&quot;</td></tr><tr><td>&quot;null_count&quot;</td><td>&quot;0&quot;</td><td>&quot;0&quot;</td><td>0.0</td><td>&quot;0&quot;</td></tr><tr><td>&quot;mean&quot;</td><td>null</td><td>&quot;2022-05-10 23:31:16.797125+05:…</td><td>0.349623</td><td>null</td></tr><tr><td>&quot;std&quot;</td><td>null</td><td>null</td><td>0.541503</td><td>null</td></tr><tr><td>&quot;min&quot;</td><td>&quot;60000005516&quot;</td><td>&quot;2022-05-04 00:00:00+05:30&quot;</td><td>0.0</td><td>null</td></tr><tr><td>&quot;25%&quot;</td><td>null</td><td>&quot;2022-05-07 11:30:00+05:30&quot;</td><td>0.069</td><td>null</td></tr><tr><td>&quot;50%&quot;</td><td>null</td><td>&quot;2022-05-10 23:00:00+05:30&quot;</td><td>0.166</td><td>null</td></tr><tr><td>&quot;75%&quot;</td><td>null</td><td>&quot;2022-05-14 13:30:00+05:30&quot;</td><td>0.417</td><td>null</td></tr><tr><td>&quot;max&quot;</td><td>&quot;60029920067&quot;</td><td>&quot;2022-05-18 00:00:00+05:30&quot;</td><td>49.438</td><td>null</td></tr></tbody></table></div>"
      ],
      "text/plain": [
       "shape: (9, 5)\n",
       "┌────────────┬─────────────┬─────────────────────────────────┬──────────────┬───────────┐\n",
       "│ statistic  ┆ ca_id       ┆ date                            ┆ value        ┆ city      │\n",
       "│ ---        ┆ ---         ┆ ---                             ┆ ---          ┆ ---       │\n",
       "│ str        ┆ str         ┆ str                             ┆ f64          ┆ str       │\n",
       "╞════════════╪═════════════╪═════════════════════════════════╪══════════════╪═══════════╡\n",
       "│ count      ┆ 118643003   ┆ 118643003                       ┆ 1.18643003e8 ┆ 118643003 │\n",
       "│ null_count ┆ 0           ┆ 0                               ┆ 0.0          ┆ 0         │\n",
       "│ mean       ┆ null        ┆ 2022-05-10 23:31:16.797125+05:… ┆ 0.349623     ┆ null      │\n",
       "│ std        ┆ null        ┆ null                            ┆ 0.541503     ┆ null      │\n",
       "│ min        ┆ 60000005516 ┆ 2022-05-04 00:00:00+05:30       ┆ 0.0          ┆ null      │\n",
       "│ 25%        ┆ null        ┆ 2022-05-07 11:30:00+05:30       ┆ 0.069        ┆ null      │\n",
       "│ 50%        ┆ null        ┆ 2022-05-10 23:00:00+05:30       ┆ 0.166        ┆ null      │\n",
       "│ 75%        ┆ null        ┆ 2022-05-14 13:30:00+05:30       ┆ 0.417        ┆ null      │\n",
       "│ max        ┆ 60029920067 ┆ 2022-05-18 00:00:00+05:30       ┆ 49.438       ┆ null      │\n",
       "└────────────┴─────────────┴─────────────────────────────────┴──────────────┴───────────┘"
      ]
     },
     "execution_count": 61,
     "metadata": {},
     "output_type": "execute_result"
    }
   ],
   "source": [
    "trimmed_meter_readings_pldf.describe()"
   ]
  },
  {
   "cell_type": "code",
   "execution_count": 62,
   "id": "ba651568",
   "metadata": {},
   "outputs": [],
   "source": [
    "joined_meter_readings_marginal_emissions_filename = reduced_meter_readings_filename + \"_with_marginal_emissions\"\n",
    "joined_meter_readings_marginal_emissions_filepath = os.path.join(optimisation_development_directory, joined_meter_readings_marginal_emissions_filename + \".parquet\")"
   ]
  },
  {
   "cell_type": "code",
   "execution_count": 63,
   "id": "708d471f",
   "metadata": {},
   "outputs": [
    {
     "name": "stdout",
     "output_type": "stream",
     "text": [
      "Successfully saved [joined_data] to data/optimisation_development/meter_readings_2022-05-04_to_2022-05-18_with_marginal_emissions.parquet\n"
     ]
    }
   ],
   "source": [
    "trimmed_meter_lazy = pl.scan_parquet(reduced_meter_readings_filepath)\n",
    "trimmed_customers_me_lazy = pl.scan_parquet(customers_with_emissions_filepath)\n",
    "\n",
    "joined_data = (\n",
    "    trimmed_meter_lazy\n",
    "    .join(\n",
    "        trimmed_customers_me_lazy,\n",
    "        left_on=[\"ca_id\", \"date\"],\n",
    "        right_on=[\"id\" ,\"timestamp\"],\n",
    "        how=\"left\"  # Keep all meter readings\n",
    "    )\n",
    "    # Optional: Select only the columns you need\n",
    "    .select([\n",
    "        # Columns from meter readings\n",
    "        \"ca_id\", \"date\", \"value\", \"city\",\n",
    "        # Columns from customer data\n",
    "        \"customer_longitude\", \"customer_latitude\",\n",
    "        \"average_emissions_grams_co2_per_kWh\", \"demand_met_kWh\",\n",
    "        \"marginal_emissions_grams_co2_per_kWh\"\n",
    "    ])\n",
    ")\n",
    "\n",
    "# Write the result to a new Parquet file\n",
    "try:\n",
    "    (\n",
    "        joined_data\n",
    "        .sink_parquet(\n",
    "            joined_meter_readings_marginal_emissions_filepath,\n",
    "            # Optional optimization parameters:\n",
    "            compression=\"snappy\",  # Good balance of speed and compression\n",
    "            statistics=True,    # Write statistics for better query performance\n",
    "            row_group_size=100_000  # Adjust based on your data size\n",
    "        )\n",
    "    )\n",
    "    print(f\"Successfully saved [joined_data] to {joined_meter_readings_marginal_emissions_filepath}\")\n",
    "except Exception as e:\n",
    "    print(f\"Error saving [joined_data] to {joined_meter_readings_marginal_emissions_filepath}: {e}\")\n"
   ]
  },
  {
   "cell_type": "code",
   "execution_count": 64,
   "id": "90010651",
   "metadata": {},
   "outputs": [
    {
     "data": {
      "text/plain": [
       "Schema([('ca_id', String),\n",
       "        ('date', Datetime(time_unit='us', time_zone='Asia/Kolkata')),\n",
       "        ('value', Float64),\n",
       "        ('city', Categorical(ordering='physical')),\n",
       "        ('customer_longitude', Float64),\n",
       "        ('customer_latitude', Float64),\n",
       "        ('average_emissions_grams_co2_per_kWh', Float64),\n",
       "        ('demand_met_kWh', Float64),\n",
       "        ('marginal_emissions_grams_co2_per_kWh', Float64)])"
      ]
     },
     "execution_count": 64,
     "metadata": {},
     "output_type": "execute_result"
    }
   ],
   "source": [
    "test_df = pl.read_parquet(joined_meter_readings_marginal_emissions_filepath)\n",
    "test_df.schema"
   ]
  },
  {
   "cell_type": "code",
   "execution_count": 65,
   "id": "0772b730",
   "metadata": {},
   "outputs": [
    {
     "data": {
      "text/html": [
       "<div><style>\n",
       ".dataframe > thead > tr,\n",
       ".dataframe > tbody > tr {\n",
       "  text-align: right;\n",
       "  white-space: pre-wrap;\n",
       "}\n",
       "</style>\n",
       "<small>shape: (5, 9)</small><table border=\"1\" class=\"dataframe\"><thead><tr><th>ca_id</th><th>date</th><th>value</th><th>city</th><th>customer_longitude</th><th>customer_latitude</th><th>average_emissions_grams_co2_per_kWh</th><th>demand_met_kWh</th><th>marginal_emissions_grams_co2_per_kWh</th></tr><tr><td>str</td><td>datetime[μs, Asia/Kolkata]</td><td>f64</td><td>cat</td><td>f64</td><td>f64</td><td>f64</td><td>f64</td><td>f64</td></tr></thead><tbody><tr><td>&quot;60009582119&quot;</td><td>2022-05-04 01:30:00 IST</td><td>0.15</td><td>&quot;delhi&quot;</td><td>77.14938</td><td>28.68702</td><td>783.035512</td><td>9.0954e7</td><td>646.189219</td></tr><tr><td>&quot;60021047877&quot;</td><td>2022-05-04 01:30:00 IST</td><td>0.09</td><td>&quot;delhi&quot;</td><td>77.204947</td><td>28.676119</td><td>783.035512</td><td>9.0954e7</td><td>646.189219</td></tr><tr><td>&quot;60022368124&quot;</td><td>2022-05-04 01:30:00 IST</td><td>0.365</td><td>&quot;delhi&quot;</td><td>77.169541</td><td>28.728754</td><td>783.035512</td><td>9.0954e7</td><td>646.189219</td></tr><tr><td>&quot;60025808050&quot;</td><td>2022-05-04 01:30:00 IST</td><td>0.457</td><td>&quot;delhi&quot;</td><td>77.13155</td><td>28.699188</td><td>783.035512</td><td>9.0954e7</td><td>646.189219</td></tr><tr><td>&quot;60010122004&quot;</td><td>2022-05-04 01:30:00 IST</td><td>0.25</td><td>&quot;delhi&quot;</td><td>77.190182</td><td>28.76294</td><td>783.035512</td><td>9.0954e7</td><td>646.189219</td></tr></tbody></table></div>"
      ],
      "text/plain": [
       "shape: (5, 9)\n",
       "┌─────────────┬────────────┬───────┬───────┬───┬────────────┬────────────┬────────────┬────────────┐\n",
       "│ ca_id       ┆ date       ┆ value ┆ city  ┆ … ┆ customer_l ┆ average_em ┆ demand_met ┆ marginal_e │\n",
       "│ ---         ┆ ---        ┆ ---   ┆ ---   ┆   ┆ atitude    ┆ issions_gr ┆ _kWh       ┆ missions_g │\n",
       "│ str         ┆ datetime[μ ┆ f64   ┆ cat   ┆   ┆ ---        ┆ ams_co2_pe ┆ ---        ┆ rams_co2_p │\n",
       "│             ┆ s, Asia/Ko ┆       ┆       ┆   ┆ f64        ┆ …          ┆ f64        ┆ …          │\n",
       "│             ┆ lkata]     ┆       ┆       ┆   ┆            ┆ ---        ┆            ┆ ---        │\n",
       "│             ┆            ┆       ┆       ┆   ┆            ┆ f64        ┆            ┆ f64        │\n",
       "╞═════════════╪════════════╪═══════╪═══════╪═══╪════════════╪════════════╪════════════╪════════════╡\n",
       "│ 60009582119 ┆ 2022-05-04 ┆ 0.15  ┆ delhi ┆ … ┆ 28.68702   ┆ 783.035512 ┆ 9.0954e7   ┆ 646.189219 │\n",
       "│             ┆ 01:30:00   ┆       ┆       ┆   ┆            ┆            ┆            ┆            │\n",
       "│             ┆ IST        ┆       ┆       ┆   ┆            ┆            ┆            ┆            │\n",
       "│ 60021047877 ┆ 2022-05-04 ┆ 0.09  ┆ delhi ┆ … ┆ 28.676119  ┆ 783.035512 ┆ 9.0954e7   ┆ 646.189219 │\n",
       "│             ┆ 01:30:00   ┆       ┆       ┆   ┆            ┆            ┆            ┆            │\n",
       "│             ┆ IST        ┆       ┆       ┆   ┆            ┆            ┆            ┆            │\n",
       "│ 60022368124 ┆ 2022-05-04 ┆ 0.365 ┆ delhi ┆ … ┆ 28.728754  ┆ 783.035512 ┆ 9.0954e7   ┆ 646.189219 │\n",
       "│             ┆ 01:30:00   ┆       ┆       ┆   ┆            ┆            ┆            ┆            │\n",
       "│             ┆ IST        ┆       ┆       ┆   ┆            ┆            ┆            ┆            │\n",
       "│ 60025808050 ┆ 2022-05-04 ┆ 0.457 ┆ delhi ┆ … ┆ 28.699188  ┆ 783.035512 ┆ 9.0954e7   ┆ 646.189219 │\n",
       "│             ┆ 01:30:00   ┆       ┆       ┆   ┆            ┆            ┆            ┆            │\n",
       "│             ┆ IST        ┆       ┆       ┆   ┆            ┆            ┆            ┆            │\n",
       "│ 60010122004 ┆ 2022-05-04 ┆ 0.25  ┆ delhi ┆ … ┆ 28.76294   ┆ 783.035512 ┆ 9.0954e7   ┆ 646.189219 │\n",
       "│             ┆ 01:30:00   ┆       ┆       ┆   ┆            ┆            ┆            ┆            │\n",
       "│             ┆ IST        ┆       ┆       ┆   ┆            ┆            ┆            ┆            │\n",
       "└─────────────┴────────────┴───────┴───────┴───┴────────────┴────────────┴────────────┴────────────┘"
      ]
     },
     "metadata": {},
     "output_type": "display_data"
    }
   ],
   "source": [
    "display(test_df.head(5))"
   ]
  },
  {
   "cell_type": "code",
   "execution_count": 66,
   "id": "42b6aa51",
   "metadata": {},
   "outputs": [
    {
     "data": {
      "text/html": [
       "<div><style>\n",
       ".dataframe > thead > tr,\n",
       ".dataframe > tbody > tr {\n",
       "  text-align: right;\n",
       "  white-space: pre-wrap;\n",
       "}\n",
       "</style>\n",
       "<small>shape: (9, 10)</small><table border=\"1\" class=\"dataframe\"><thead><tr><th>statistic</th><th>ca_id</th><th>date</th><th>value</th><th>city</th><th>customer_longitude</th><th>customer_latitude</th><th>average_emissions_grams_co2_per_kWh</th><th>demand_met_kWh</th><th>marginal_emissions_grams_co2_per_kWh</th></tr><tr><td>str</td><td>str</td><td>str</td><td>f64</td><td>str</td><td>f64</td><td>f64</td><td>f64</td><td>f64</td><td>f64</td></tr></thead><tbody><tr><td>&quot;count&quot;</td><td>&quot;118643003&quot;</td><td>&quot;118643003&quot;</td><td>1.18643003e8</td><td>&quot;118643003&quot;</td><td>1.17974327e8</td><td>1.17974327e8</td><td>1.17974327e8</td><td>1.17974327e8</td><td>1.17974327e8</td></tr><tr><td>&quot;null_count&quot;</td><td>&quot;0&quot;</td><td>&quot;0&quot;</td><td>0.0</td><td>&quot;0&quot;</td><td>668676.0</td><td>668676.0</td><td>668676.0</td><td>668676.0</td><td>668676.0</td></tr><tr><td>&quot;mean&quot;</td><td>null</td><td>&quot;2022-05-10 23:31:16.797125+05:…</td><td>0.349623</td><td>null</td><td>77.291045</td><td>28.759742</td><td>733.243959</td><td>9.2286e7</td><td>708.512638</td></tr><tr><td>&quot;std&quot;</td><td>null</td><td>null</td><td>0.541503</td><td>null</td><td>3.262976</td><td>1.216057</td><td>44.958256</td><td>4.1689e6</td><td>66.360743</td></tr><tr><td>&quot;min&quot;</td><td>&quot;60000005516&quot;</td><td>&quot;2022-05-04 00:00:00+05:30&quot;</td><td>0.0</td><td>null</td><td>76.954941</td><td>28.58</td><td>624.711512</td><td>8.3034e7</td><td>536.134053</td></tr><tr><td>&quot;25%&quot;</td><td>null</td><td>&quot;2022-05-07 11:30:00+05:30&quot;</td><td>0.069</td><td>null</td><td>77.12764</td><td>28.688147</td><td>696.592516</td><td>8.8729e7</td><td>673.338588</td></tr><tr><td>&quot;50%&quot;</td><td>null</td><td>&quot;2022-05-10 23:00:00+05:30&quot;</td><td>0.166</td><td>null</td><td>77.15129</td><td>28.703647</td><td>738.809205</td><td>9.2563e7</td><td>720.94116</td></tr><tr><td>&quot;75%&quot;</td><td>null</td><td>&quot;2022-05-14 13:30:00+05:30&quot;</td><td>0.417</td><td>null</td><td>77.193402</td><td>28.723953</td><td>764.851089</td><td>9.5808e7</td><td>756.948061</td></tr><tr><td>&quot;max&quot;</td><td>&quot;60029920067&quot;</td><td>&quot;2022-05-18 00:00:00+05:30&quot;</td><td>49.438</td><td>null</td><td>231.484813</td><td>86.320485</td><td>827.083443</td><td>1.0071e8</td><td>835.939878</td></tr></tbody></table></div>"
      ],
      "text/plain": [
       "shape: (9, 10)\n",
       "┌───────────┬───────────┬───────────┬───────────┬───┬───────────┬───────────┬───────────┬──────────┐\n",
       "│ statistic ┆ ca_id     ┆ date      ┆ value     ┆ … ┆ customer_ ┆ average_e ┆ demand_me ┆ marginal │\n",
       "│ ---       ┆ ---       ┆ ---       ┆ ---       ┆   ┆ latitude  ┆ missions_ ┆ t_kWh     ┆ _emissio │\n",
       "│ str       ┆ str       ┆ str       ┆ f64       ┆   ┆ ---       ┆ grams_co2 ┆ ---       ┆ ns_grams │\n",
       "│           ┆           ┆           ┆           ┆   ┆ f64       ┆ _pe…      ┆ f64       ┆ _co2_p…  │\n",
       "│           ┆           ┆           ┆           ┆   ┆           ┆ ---       ┆           ┆ ---      │\n",
       "│           ┆           ┆           ┆           ┆   ┆           ┆ f64       ┆           ┆ f64      │\n",
       "╞═══════════╪═══════════╪═══════════╪═══════════╪═══╪═══════════╪═══════════╪═══════════╪══════════╡\n",
       "│ count     ┆ 118643003 ┆ 118643003 ┆ 1.1864300 ┆ … ┆ 1.1797432 ┆ 1.1797432 ┆ 1.1797432 ┆ 1.179743 │\n",
       "│           ┆           ┆           ┆ 3e8       ┆   ┆ 7e8       ┆ 7e8       ┆ 7e8       ┆ 27e8     │\n",
       "│ null_coun ┆ 0         ┆ 0         ┆ 0.0       ┆ … ┆ 668676.0  ┆ 668676.0  ┆ 668676.0  ┆ 668676.0 │\n",
       "│ t         ┆           ┆           ┆           ┆   ┆           ┆           ┆           ┆          │\n",
       "│ mean      ┆ null      ┆ 2022-05-1 ┆ 0.349623  ┆ … ┆ 28.759742 ┆ 733.24395 ┆ 9.2286e7  ┆ 708.5126 │\n",
       "│           ┆           ┆ 0 23:31:1 ┆           ┆   ┆           ┆ 9         ┆           ┆ 38       │\n",
       "│           ┆           ┆ 6.797125+ ┆           ┆   ┆           ┆           ┆           ┆          │\n",
       "│           ┆           ┆ 05:…      ┆           ┆   ┆           ┆           ┆           ┆          │\n",
       "│ std       ┆ null      ┆ null      ┆ 0.541503  ┆ … ┆ 1.216057  ┆ 44.958256 ┆ 4.1689e6  ┆ 66.36074 │\n",
       "│           ┆           ┆           ┆           ┆   ┆           ┆           ┆           ┆ 3        │\n",
       "│ min       ┆ 600000055 ┆ 2022-05-0 ┆ 0.0       ┆ … ┆ 28.58     ┆ 624.71151 ┆ 8.3034e7  ┆ 536.1340 │\n",
       "│           ┆ 16        ┆ 4 00:00:0 ┆           ┆   ┆           ┆ 2         ┆           ┆ 53       │\n",
       "│           ┆           ┆ 0+05:30   ┆           ┆   ┆           ┆           ┆           ┆          │\n",
       "│ 25%       ┆ null      ┆ 2022-05-0 ┆ 0.069     ┆ … ┆ 28.688147 ┆ 696.59251 ┆ 8.8729e7  ┆ 673.3385 │\n",
       "│           ┆           ┆ 7 11:30:0 ┆           ┆   ┆           ┆ 6         ┆           ┆ 88       │\n",
       "│           ┆           ┆ 0+05:30   ┆           ┆   ┆           ┆           ┆           ┆          │\n",
       "│ 50%       ┆ null      ┆ 2022-05-1 ┆ 0.166     ┆ … ┆ 28.703647 ┆ 738.80920 ┆ 9.2563e7  ┆ 720.9411 │\n",
       "│           ┆           ┆ 0 23:00:0 ┆           ┆   ┆           ┆ 5         ┆           ┆ 6        │\n",
       "│           ┆           ┆ 0+05:30   ┆           ┆   ┆           ┆           ┆           ┆          │\n",
       "│ 75%       ┆ null      ┆ 2022-05-1 ┆ 0.417     ┆ … ┆ 28.723953 ┆ 764.85108 ┆ 9.5808e7  ┆ 756.9480 │\n",
       "│           ┆           ┆ 4 13:30:0 ┆           ┆   ┆           ┆ 9         ┆           ┆ 61       │\n",
       "│           ┆           ┆ 0+05:30   ┆           ┆   ┆           ┆           ┆           ┆          │\n",
       "│ max       ┆ 600299200 ┆ 2022-05-1 ┆ 49.438    ┆ … ┆ 86.320485 ┆ 827.08344 ┆ 1.0071e8  ┆ 835.9398 │\n",
       "│           ┆ 67        ┆ 8 00:00:0 ┆           ┆   ┆           ┆ 3         ┆           ┆ 78       │\n",
       "│           ┆           ┆ 0+05:30   ┆           ┆   ┆           ┆           ┆           ┆          │\n",
       "└───────────┴───────────┴───────────┴───────────┴───┴───────────┴───────────┴───────────┴──────────┘"
      ]
     },
     "execution_count": 66,
     "metadata": {},
     "output_type": "execute_result"
    }
   ],
   "source": [
    "test_df.describe()"
   ]
  },
  {
   "cell_type": "code",
   "execution_count": null,
   "id": "a93078d0",
   "metadata": {},
   "outputs": [],
   "source": [
    "filled_df = (test_df.join(\n",
    "        city_emissions_df_complete,\n",
    "        left_on=[\"date\", \"city\"],\n",
    "        right_on=[\"timestamp\", \"city\"],\n",
    "        how=\"left\"\n",
    "  ).with_columns([\n",
    "        # Fill null demand_met_kWh with the averaged version\n",
    "        pl.when(pl.col(\"demand_met_kWh\").is_null())\n",
    "          .then(pl.col(\"demand_met_kWh_right\"))  # from joined table\n",
    "          .otherwise(pl.col(\"demand_met_kWh\"))\n",
    "          .alias(\"demand_met_kWh\"),\n",
    "\n",
    "        # Fill null marginal_emissions with the averaged version\n",
    "        pl.when(pl.col(\"marginal_emissions_grams_co2_per_kWh\").is_null())\n",
    "          .then(pl.col(\"marginal_emissions_grams_co2_per_kWh_right\"))\n",
    "          .otherwise(pl.col(\"marginal_emissions_grams_co2_per_kWh\"))\n",
    "          .alias(\"marginal_emissions_grams_co2_per_kWh\"),\n",
    "\n",
    "        # Similarly for average emissions if needed\n",
    "        pl.when(pl.col(\"average_emissions_grams_co2_per_kWh\").is_null())\n",
    "          .then(pl.col(\"average_emissions_grams_co2_per_kWh_right\"))\n",
    "          .otherwise(pl.col(\"average_emissions_grams_co2_per_kWh\"))\n",
    "          .alias(\"average_emissions_grams_co2_per_kWh\")\n",
    "    ])\n",
    "    # Drop the temporary columns from the join\n",
    "    .drop([\"demand_met_kWh_right\", \"marginal_emissions_grams_co2_per_kWh_right\", \"average_emissions_grams_co2_per_kWh_right\"])\n",
    ")"
   ]
  },
  {
   "cell_type": "code",
   "execution_count": 72,
   "id": "733bf953",
   "metadata": {},
   "outputs": [],
   "source": [
    "# reorder\n",
    "filled_df = filled_df.select([\n",
    "    \"ca_id\",\n",
    "    \"date\",\n",
    "    \"city\",\n",
    "    \"customer_longitude\",\n",
    "    \"customer_latitude\",\n",
    "    \"value\",\n",
    "    \"demand_met_kWh\",\n",
    "    \"marginal_emissions_grams_co2_per_kWh\",\n",
    "    \"average_emissions_grams_co2_per_kWh\"\n",
    "])"
   ]
  },
  {
   "cell_type": "code",
   "execution_count": 73,
   "id": "a9a40354",
   "metadata": {},
   "outputs": [
    {
     "data": {
      "text/html": [
       "<div><style>\n",
       ".dataframe > thead > tr,\n",
       ".dataframe > tbody > tr {\n",
       "  text-align: right;\n",
       "  white-space: pre-wrap;\n",
       "}\n",
       "</style>\n",
       "<small>shape: (6, 10)</small><table border=\"1\" class=\"dataframe\"><thead><tr><th>statistic</th><th>ca_id</th><th>date</th><th>city</th><th>customer_longitude</th><th>customer_latitude</th><th>value</th><th>demand_met_kWh</th><th>marginal_emissions_grams_co2_per_kWh</th><th>average_emissions_grams_co2_per_kWh</th></tr><tr><td>str</td><td>str</td><td>str</td><td>str</td><td>f64</td><td>f64</td><td>f64</td><td>f64</td><td>f64</td><td>f64</td></tr></thead><tbody><tr><td>&quot;count&quot;</td><td>&quot;118643003&quot;</td><td>&quot;118643003&quot;</td><td>&quot;118643003&quot;</td><td>1.17974327e8</td><td>1.17974327e8</td><td>1.18643003e8</td><td>1.18643003e8</td><td>1.18643003e8</td><td>1.18643003e8</td></tr><tr><td>&quot;null_count&quot;</td><td>&quot;0&quot;</td><td>&quot;0&quot;</td><td>&quot;0&quot;</td><td>668676.0</td><td>668676.0</td><td>0.0</td><td>0.0</td><td>0.0</td><td>0.0</td></tr><tr><td>&quot;mean&quot;</td><td>null</td><td>&quot;2022-05-10 23:31:16.797125+05:…</td><td>null</td><td>77.291045</td><td>28.759742</td><td>0.349623</td><td>9.2286e7</td><td>708.509083</td><td>733.241389</td></tr><tr><td>&quot;std&quot;</td><td>null</td><td>null</td><td>null</td><td>3.262976</td><td>1.216057</td><td>0.541503</td><td>4.1689e6</td><td>66.359649</td><td>44.958014</td></tr><tr><td>&quot;min&quot;</td><td>&quot;60000005516&quot;</td><td>&quot;2022-05-04 00:00:00+05:30&quot;</td><td>null</td><td>76.954941</td><td>28.58</td><td>0.0</td><td>8.3034e7</td><td>536.134053</td><td>624.711512</td></tr><tr><td>&quot;max&quot;</td><td>&quot;60029920067&quot;</td><td>&quot;2022-05-18 00:00:00+05:30&quot;</td><td>null</td><td>231.484813</td><td>86.320485</td><td>49.438</td><td>1.0071e8</td><td>835.939878</td><td>827.083443</td></tr></tbody></table></div>"
      ],
      "text/plain": [
       "shape: (6, 10)\n",
       "┌───────────┬───────────┬───────────┬───────────┬───┬───────────┬───────────┬───────────┬──────────┐\n",
       "│ statistic ┆ ca_id     ┆ date      ┆ city      ┆ … ┆ value     ┆ demand_me ┆ marginal_ ┆ average_ │\n",
       "│ ---       ┆ ---       ┆ ---       ┆ ---       ┆   ┆ ---       ┆ t_kWh     ┆ emissions ┆ emission │\n",
       "│ str       ┆ str       ┆ str       ┆ str       ┆   ┆ f64       ┆ ---       ┆ _grams_co ┆ s_grams_ │\n",
       "│           ┆           ┆           ┆           ┆   ┆           ┆ f64       ┆ 2_p…      ┆ co2_pe…  │\n",
       "│           ┆           ┆           ┆           ┆   ┆           ┆           ┆ ---       ┆ ---      │\n",
       "│           ┆           ┆           ┆           ┆   ┆           ┆           ┆ f64       ┆ f64      │\n",
       "╞═══════════╪═══════════╪═══════════╪═══════════╪═══╪═══════════╪═══════════╪═══════════╪══════════╡\n",
       "│ count     ┆ 118643003 ┆ 118643003 ┆ 118643003 ┆ … ┆ 1.1864300 ┆ 1.1864300 ┆ 1.1864300 ┆ 1.186430 │\n",
       "│           ┆           ┆           ┆           ┆   ┆ 3e8       ┆ 3e8       ┆ 3e8       ┆ 03e8     │\n",
       "│ null_coun ┆ 0         ┆ 0         ┆ 0         ┆ … ┆ 0.0       ┆ 0.0       ┆ 0.0       ┆ 0.0      │\n",
       "│ t         ┆           ┆           ┆           ┆   ┆           ┆           ┆           ┆          │\n",
       "│ mean      ┆ null      ┆ 2022-05-1 ┆ null      ┆ … ┆ 0.349623  ┆ 9.2286e7  ┆ 708.50908 ┆ 733.2413 │\n",
       "│           ┆           ┆ 0 23:31:1 ┆           ┆   ┆           ┆           ┆ 3         ┆ 89       │\n",
       "│           ┆           ┆ 6.797125+ ┆           ┆   ┆           ┆           ┆           ┆          │\n",
       "│           ┆           ┆ 05:…      ┆           ┆   ┆           ┆           ┆           ┆          │\n",
       "│ std       ┆ null      ┆ null      ┆ null      ┆ … ┆ 0.541503  ┆ 4.1689e6  ┆ 66.359649 ┆ 44.95801 │\n",
       "│           ┆           ┆           ┆           ┆   ┆           ┆           ┆           ┆ 4        │\n",
       "│ min       ┆ 600000055 ┆ 2022-05-0 ┆ null      ┆ … ┆ 0.0       ┆ 8.3034e7  ┆ 536.13405 ┆ 624.7115 │\n",
       "│           ┆ 16        ┆ 4 00:00:0 ┆           ┆   ┆           ┆           ┆ 3         ┆ 12       │\n",
       "│           ┆           ┆ 0+05:30   ┆           ┆   ┆           ┆           ┆           ┆          │\n",
       "│ max       ┆ 600299200 ┆ 2022-05-1 ┆ null      ┆ … ┆ 49.438    ┆ 1.0071e8  ┆ 835.93987 ┆ 827.0834 │\n",
       "│           ┆ 67        ┆ 8 00:00:0 ┆           ┆   ┆           ┆           ┆ 8         ┆ 43       │\n",
       "│           ┆           ┆ 0+05:30   ┆           ┆   ┆           ┆           ┆           ┆          │\n",
       "└───────────┴───────────┴───────────┴───────────┴───┴───────────┴───────────┴───────────┴──────────┘"
      ]
     },
     "execution_count": 73,
     "metadata": {},
     "output_type": "execute_result"
    }
   ],
   "source": [
    "filled_df.describe(())"
   ]
  },
  {
   "cell_type": "code",
   "execution_count": null,
   "id": "b976927d",
   "metadata": {},
   "outputs": [
    {
     "name": "stdout",
     "output_type": "stream",
     "text": [
      "Successfully saved [filled_df] to data/optimisation_development/meter_readings_2022-05-04_to_2022-05-18_with_marginal_emissions.parquet\n"
     ]
    },
    {
     "ename": "",
     "evalue": "",
     "output_type": "error",
     "traceback": [
      "\u001b[1;31mThe Kernel crashed while executing code in the current cell or a previous cell. \n",
      "\u001b[1;31mPlease review the code in the cell(s) to identify a possible cause of the failure. \n",
      "\u001b[1;31mClick <a href='https://aka.ms/vscodeJupyterKernelCrash'>here</a> for more info. \n",
      "\u001b[1;31mView Jupyter <a href='command:jupyter.viewOutput'>log</a> for further details."
     ]
    }
   ],
   "source": [
    "try:\n",
    "    filled_df.write_parquet(joined_meter_readings_marginal_emissions_filepath,\n",
    "                                                         compression=\"snappy\",\n",
    "                                                         statistics=True)\n",
    "    print(f\"Successfully saved [filled_df] to {joined_meter_readings_marginal_emissions_filepath}\")\n",
    "\n",
    "except Exception as e:\n",
    "    print(f\"Error saving [filled_df] to {joined_meter_readings_marginal_emissions_filepath}: {e}\")"
   ]
  },
  {
   "cell_type": "code",
   "execution_count": null,
   "id": "273656e8",
   "metadata": {},
   "outputs": [],
   "source": []
  }
 ],
 "metadata": {
  "kernelspec": {
   "display_name": "irpenv_4",
   "language": "python",
   "name": "python3"
  },
  "language_info": {
   "codemirror_mode": {
    "name": "ipython",
    "version": 3
   },
   "file_extension": ".py",
   "mimetype": "text/x-python",
   "name": "python",
   "nbconvert_exporter": "python",
   "pygments_lexer": "ipython3",
   "version": "3.10.18"
  }
 },
 "nbformat": 4,
 "nbformat_minor": 5
}
